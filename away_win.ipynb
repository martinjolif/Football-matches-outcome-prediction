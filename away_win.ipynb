{
 "cells": [
  {
   "cell_type": "markdown",
   "source": [
    "### Libraries"
   ],
   "metadata": {
    "collapsed": false
   },
   "id": "217755627b10c351"
  },
  {
   "cell_type": "code",
   "outputs": [],
   "source": [
    "import pandas as pd\n",
    "import numpy as np\n",
    "from sklearn import preprocessing\n",
    "from sklearn import model_selection\n",
    "from sklearn.linear_model import LogisticRegression\n",
    "import xgboost as xgb\n",
    "import matplotlib.pyplot as plt\n",
    "from sklearn.metrics import accuracy_score, classification_report, confusion_matrix\n",
    "from sklearn.ensemble import RandomForestClassifier, HistGradientBoostingClassifier, AdaBoostClassifier, \\\n",
    "    BaggingClassifier, StackingClassifier\n",
    "from sklearn.decomposition import PCA\n",
    "from sklearn.impute import KNNImputer\n",
    "from sklearn.neural_network import MLPClassifier"
   ],
   "metadata": {
    "collapsed": true,
    "ExecuteTime": {
     "end_time": "2024-02-23T18:16:23.559252Z",
     "start_time": "2024-02-23T18:16:23.485767Z"
    }
   },
   "id": "initial_id",
   "execution_count": 419
  },
  {
   "cell_type": "markdown",
   "source": [
    "### Import Data"
   ],
   "metadata": {
    "collapsed": false
   },
   "id": "39673bbad8e9559c"
  },
  {
   "cell_type": "code",
   "outputs": [],
   "source": [
    "train_away_player_statistics_df = pd.read_csv('Train_Data/train_away_player_statistics_df.csv', index_col=0)\n",
    "train_away_team_statistics_df = pd.read_csv('Train_Data/train_away_team_statistics_df.csv', index_col=0)\n",
    "train_home_player_statistics_df = pd.read_csv('Train_Data/train_home_player_statistics_df.csv', index_col=0)\n",
    "train_home_team_statistics_df = pd.read_csv('Train_Data/train_home_team_statistics_df.csv', index_col=0)\n",
    "\n",
    "Y_train = pd.read_csv('Y_train_1rknArQ.csv', index_col=0)\n",
    "\n",
    "test_away_player_statistics_df = pd.read_csv('Test_Data/test_away_player_statistics_df.csv', index_col=0)\n",
    "test_away_team_statistics_df = pd.read_csv('Test_Data/test_away_team_statistics_df.csv', index_col=0)\n",
    "test_home_player_statistics_df = pd.read_csv('Test_Data/test_home_player_statistics_df.csv', index_col=0)\n",
    "test_home_team_statistics_df = pd.read_csv('Test_Data/test_home_team_statistics_df.csv', index_col=0)"
   ],
   "metadata": {
    "collapsed": false,
    "ExecuteTime": {
     "end_time": "2024-02-23T18:16:36.827403Z",
     "start_time": "2024-02-23T18:16:23.561743Z"
    }
   },
   "id": "d7f002c37f3eddce",
   "execution_count": 420
  },
  {
   "cell_type": "markdown",
   "source": [
    "### Train Data processing"
   ],
   "metadata": {
    "collapsed": false
   },
   "id": "48685008ce16b4a1"
  },
  {
   "cell_type": "markdown",
   "source": [
    "##### Remove some useless features"
   ],
   "metadata": {
    "collapsed": false
   },
   "id": "9162e47ee33a0b38"
  },
  {
   "cell_type": "code",
   "outputs": [],
   "source": [
    "train_away_player_statistics_drop_df = train_away_player_statistics_df.drop(labels=['PLAYER_NAME', 'PLAYER_CAPTAIN_season_sum', 'PLAYER_LONG_BALLS_season_sum', 'PLAYER_LONG_BALLS_WON_season_sum', 'PLAYER_SHOTS_OFF_TARGET_season_sum', 'PLAYER_CAPTAIN_season_average', 'PLAYER_PUNCHES_season_average', 'PLAYER_LONG_BALLS_season_average', 'PLAYER_LONG_BALLS_WON_season_average', 'PLAYER_SHOTS_OFF_TARGET_season_average', 'PLAYER_CAPTAIN_season_std', 'PLAYER_PUNCHES_season_std', 'PLAYER_LONG_BALLS_season_std', 'PLAYER_LONG_BALLS_WON_season_std', 'PLAYER_SHOTS_OFF_TARGET_season_std', 'PLAYER_CAPTAIN_5_last_match_sum', 'PLAYER_PUNCHES_5_last_match_sum', 'PLAYER_LONG_BALLS_5_last_match_sum', 'PLAYER_LONG_BALLS_WON_5_last_match_sum', 'PLAYER_SHOTS_OFF_TARGET_5_last_match_sum', 'PLAYER_CAPTAIN_5_last_match_average', 'PLAYER_PUNCHES_5_last_match_average', 'PLAYER_LONG_BALLS_5_last_match_average', 'PLAYER_LONG_BALLS_WON_5_last_match_average', 'PLAYER_SHOTS_OFF_TARGET_5_last_match_average', 'PLAYER_CAPTAIN_5_last_match_std', 'PLAYER_PUNCHES_5_last_match_std', 'PLAYER_LONG_BALLS_5_last_match_std', 'PLAYER_LONG_BALLS_WON_5_last_match_std', 'PLAYER_SHOTS_OFF_TARGET_5_last_match_std'], axis=1)\n",
    "\n",
    "train_home_player_statistics_drop_df= train_home_player_statistics_df.drop(labels=['PLAYER_NAME', 'PLAYER_CAPTAIN_season_sum', 'PLAYER_LONG_BALLS_season_sum', 'PLAYER_LONG_BALLS_WON_season_sum', 'PLAYER_SHOTS_OFF_TARGET_season_sum', 'PLAYER_CAPTAIN_season_average', 'PLAYER_PUNCHES_season_average', 'PLAYER_LONG_BALLS_season_average', 'PLAYER_LONG_BALLS_WON_season_average', 'PLAYER_SHOTS_OFF_TARGET_season_average', 'PLAYER_CAPTAIN_season_std', 'PLAYER_PUNCHES_season_std', 'PLAYER_LONG_BALLS_season_std', 'PLAYER_LONG_BALLS_WON_season_std', 'PLAYER_SHOTS_OFF_TARGET_season_std', 'PLAYER_CAPTAIN_5_last_match_sum', 'PLAYER_PUNCHES_5_last_match_sum', 'PLAYER_LONG_BALLS_5_last_match_sum', 'PLAYER_LONG_BALLS_WON_5_last_match_sum', 'PLAYER_SHOTS_OFF_TARGET_5_last_match_sum', 'PLAYER_CAPTAIN_5_last_match_average', 'PLAYER_PUNCHES_5_last_match_average', 'PLAYER_LONG_BALLS_5_last_match_average', 'PLAYER_LONG_BALLS_WON_5_last_match_average', 'PLAYER_SHOTS_OFF_TARGET_5_last_match_average', 'PLAYER_CAPTAIN_5_last_match_std', 'PLAYER_PUNCHES_5_last_match_std', 'PLAYER_LONG_BALLS_5_last_match_std', 'PLAYER_LONG_BALLS_WON_5_last_match_std', 'PLAYER_SHOTS_OFF_TARGET_5_last_match_std'], axis=1)"
   ],
   "metadata": {
    "collapsed": false,
    "ExecuteTime": {
     "end_time": "2024-02-23T18:16:37.186746Z",
     "start_time": "2024-02-23T18:16:36.826859Z"
    }
   },
   "id": "abea3882c0b54541",
   "execution_count": 421
  },
  {
   "cell_type": "code",
   "outputs": [],
   "source": [
    "train_home_team_statistics_drop_df = train_home_team_statistics_df.iloc[:,2:]\n",
    "train_away_team_statistics_drop_df = train_away_team_statistics_df.iloc[:,2:]\n",
    "\n",
    "train_home_team_statistics_drop_df.columns = 'HOME_' + train_home_team_statistics_drop_df.columns\n",
    "train_away_team_statistics_drop_df.columns = 'AWAY_' + train_away_team_statistics_drop_df.columns"
   ],
   "metadata": {
    "collapsed": false,
    "ExecuteTime": {
     "end_time": "2024-02-23T18:16:37.196993Z",
     "start_time": "2024-02-23T18:16:37.187685Z"
    }
   },
   "id": "77b23164437d083c",
   "execution_count": 422
  },
  {
   "cell_type": "code",
   "outputs": [],
   "source": [
    "train_home_player_statistics_drop2_df = train_home_player_statistics_drop_df.drop(columns=['POSITION', 'LEAGUE', 'TEAM_NAME'])\n",
    "\n",
    "train_away_player_statistics_drop2_df = train_away_player_statistics_drop_df.drop(columns=['POSITION', 'LEAGUE', 'TEAM_NAME'])"
   ],
   "metadata": {
    "collapsed": false,
    "ExecuteTime": {
     "end_time": "2024-02-23T18:16:37.455631Z",
     "start_time": "2024-02-23T18:16:37.198243Z"
    }
   },
   "id": "3abfbb4d40101bbc",
   "execution_count": 423
  },
  {
   "cell_type": "markdown",
   "source": [
    "##### Mean of the statistics of the players of each team"
   ],
   "metadata": {
    "collapsed": false
   },
   "id": "76189a4e0df9b82d"
  },
  {
   "cell_type": "code",
   "outputs": [],
   "source": [
    "train_home_player_statistics_groupbyID_df = train_home_player_statistics_drop2_df.groupby([\"ID\"]).mean()\n",
    "\n",
    "train_away_player_statistics_groupbyID_df = train_away_player_statistics_drop2_df.groupby([\"ID\"]).mean()"
   ],
   "metadata": {
    "collapsed": false,
    "ExecuteTime": {
     "end_time": "2024-02-23T18:16:37.718199Z",
     "start_time": "2024-02-23T18:16:37.456601Z"
    }
   },
   "id": "a8ac85ddf5a341d1",
   "execution_count": 424
  },
  {
   "cell_type": "code",
   "outputs": [],
   "source": [
    "train_home_player_statistics_groupbyID_df.columns = \"HOME_\" + train_home_player_statistics_groupbyID_df.columns\n",
    "\n",
    "train_away_player_statistics_groupbyID_df.columns = \"AWAY_\" + train_away_player_statistics_groupbyID_df.columns"
   ],
   "metadata": {
    "collapsed": false,
    "ExecuteTime": {
     "end_time": "2024-02-23T18:16:37.724022Z",
     "start_time": "2024-02-23T18:16:37.718761Z"
    }
   },
   "id": "b2361f49b8e8366c",
   "execution_count": 425
  },
  {
   "cell_type": "markdown",
   "source": [
    "##### Join the information about the players and the team together"
   ],
   "metadata": {
    "collapsed": false
   },
   "id": "661b3bc1bf3cf2be"
  },
  {
   "cell_type": "code",
   "outputs": [],
   "source": [
    "X_train_home = train_home_player_statistics_groupbyID_df.join(train_home_team_statistics_drop_df, on=['ID'], how='outer')\n",
    "\n",
    "X_train_away = train_away_player_statistics_groupbyID_df.join(train_away_team_statistics_drop_df, on=['ID'], how='outer')"
   ],
   "metadata": {
    "collapsed": false,
    "ExecuteTime": {
     "end_time": "2024-02-23T18:16:37.751810Z",
     "start_time": "2024-02-23T18:16:37.721576Z"
    }
   },
   "id": "22a43dcffe15dc97",
   "execution_count": 426
  },
  {
   "cell_type": "markdown",
   "source": [
    "##### Join the information about the home and away team"
   ],
   "metadata": {
    "collapsed": false
   },
   "id": "de8c2903f7b0e08a"
  },
  {
   "cell_type": "code",
   "outputs": [],
   "source": [
    "X_train =  pd.concat([X_train_home,X_train_away],join='outer',axis=1)\n",
    "Y_train = Y_train.loc[X_train.index]\n",
    "\n",
    "X_train = X_train.replace({np.inf:np.nan,-np.inf:np.nan})"
   ],
   "metadata": {
    "collapsed": false,
    "ExecuteTime": {
     "end_time": "2024-02-23T18:16:37.878836Z",
     "start_time": "2024-02-23T18:16:37.749050Z"
    }
   },
   "id": "4161fa8b711163b8",
   "execution_count": 427
  },
  {
   "cell_type": "code",
   "outputs": [],
   "source": [
    "columns_name = X_train.columns"
   ],
   "metadata": {
    "collapsed": false,
    "ExecuteTime": {
     "end_time": "2024-02-23T18:16:37.879868Z",
     "start_time": "2024-02-23T18:16:37.870178Z"
    }
   },
   "id": "983595f3c07e5066",
   "execution_count": 428
  },
  {
   "cell_type": "code",
   "outputs": [
    {
     "data": {
      "text/plain": "    HOME_PLAYER_ACCURATE_CROSSES_season_sum  \\\nID                                            \n0                                 10.222222   \n1                                  9.222222   \n2                                  8.434783   \n3                                  8.888889   \n4                                  9.722222   \n\n    HOME_PLAYER_ACCURATE_PASSES_season_sum  \\\nID                                           \n0                                21.333333   \n1                                31.555556   \n2                                16.608696   \n3                                34.055556   \n4                                25.888889   \n\n    HOME_PLAYER_AERIALS_WON_season_sum  HOME_PLAYER_ASSISTS_season_sum  \\\nID                                                                       \n0                            15.277778                        7.777778   \n1                            14.555556                       16.666667   \n2                            15.347826                        2.826087   \n3                            15.833333                       12.000000   \n4                            15.111111                        8.166667   \n\n    HOME_PLAYER_BIG_CHANCES_CREATED_season_sum  \\\nID                                               \n0                                     7.222222   \n1                                    10.277778   \n2                                     3.652174   \n3                                    14.444444   \n4                                     9.500000   \n\n    HOME_PLAYER_BIG_CHANCES_MISSED_season_sum  \\\nID                                              \n0                                    6.166667   \n1                                    9.000000   \n2                                    3.869565   \n3                                    8.722222   \n4                                   10.666667   \n\n    HOME_PLAYER_BLOCKED_SHOTS_season_sum  HOME_PLAYER_CLEARANCES_season_sum  \\\nID                                                                            \n0                               9.222222                          16.722222   \n1                              11.888889                          17.166667   \n2                               8.826087                          12.826087   \n3                               7.444444                          19.333333   \n4                               9.611111                          17.555556   \n\n    HOME_PLAYER_CLEARANCE_OFFLINE_season_sum  \\\nID                                             \n0                                   2.777778   \n1                                   2.777778   \n2                                   0.000000   \n3                                   4.166667   \n4                                   0.000000   \n\n    HOME_PLAYER_DISPOSSESSED_season_sum  ...  \\\nID                                       ...   \n0                             17.611111  ...   \n1                             21.000000  ...   \n2                              9.869565  ...   \n3                              9.388889  ...   \n4                             11.277778  ...   \n\n    AWAY_TEAM_YELLOWCARDS_5_last_match_std  \\\nID                                           \n0                                      5.0   \n1                                      0.0   \n2                                      6.0   \n3                                      0.0   \n4                                      1.0   \n\n    AWAY_TEAM_REDCARDS_5_last_match_std  AWAY_TEAM_OFFSIDES_5_last_match_std  \\\nID                                                                             \n0                                   5.0                                  4.0   \n1                                   0.0                                  3.0   \n2                                  10.0                                  4.0   \n3                                   0.0                                  1.0   \n4                                   0.0                                  4.0   \n\n    AWAY_TEAM_ATTACKS_5_last_match_std  AWAY_TEAM_PENALTIES_5_last_match_std  \\\nID                                                                             \n0                                  0.0                                   6.0   \n1                                  1.0                                   8.0   \n2                                  4.0                                   0.0   \n3                                  2.0                                   0.0   \n4                                  4.0                                   9.0   \n\n    AWAY_TEAM_SUBSTITUTIONS_5_last_match_std  \\\nID                                             \n0                                        8.0   \n1                                        4.0   \n2                                        8.0   \n3                                        5.0   \n4                                        4.0   \n\n    AWAY_TEAM_BALL_SAFE_5_last_match_std  \\\nID                                         \n0                                    4.0   \n1                                   10.0   \n2                                    3.0   \n3                                    6.0   \n4                                    1.0   \n\n    AWAY_TEAM_DANGEROUS_ATTACKS_5_last_match_std  \\\nID                                                 \n0                                            3.0   \n1                                            0.0   \n2                                            0.0   \n3                                            3.0   \n4                                            4.0   \n\n    AWAY_TEAM_INJURIES_5_last_match_std  AWAY_TEAM_GOALS_5_last_match_std  \nID                                                                         \n0                                   2.0                               3.0  \n1                                   5.0                               3.0  \n2                                   9.0                               6.0  \n3                                   NaN                               2.0  \n4                                   6.0                               5.0  \n\n[5 rows x 826 columns]",
      "text/html": "<div>\n<style scoped>\n    .dataframe tbody tr th:only-of-type {\n        vertical-align: middle;\n    }\n\n    .dataframe tbody tr th {\n        vertical-align: top;\n    }\n\n    .dataframe thead th {\n        text-align: right;\n    }\n</style>\n<table border=\"1\" class=\"dataframe\">\n  <thead>\n    <tr style=\"text-align: right;\">\n      <th></th>\n      <th>HOME_PLAYER_ACCURATE_CROSSES_season_sum</th>\n      <th>HOME_PLAYER_ACCURATE_PASSES_season_sum</th>\n      <th>HOME_PLAYER_AERIALS_WON_season_sum</th>\n      <th>HOME_PLAYER_ASSISTS_season_sum</th>\n      <th>HOME_PLAYER_BIG_CHANCES_CREATED_season_sum</th>\n      <th>HOME_PLAYER_BIG_CHANCES_MISSED_season_sum</th>\n      <th>HOME_PLAYER_BLOCKED_SHOTS_season_sum</th>\n      <th>HOME_PLAYER_CLEARANCES_season_sum</th>\n      <th>HOME_PLAYER_CLEARANCE_OFFLINE_season_sum</th>\n      <th>HOME_PLAYER_DISPOSSESSED_season_sum</th>\n      <th>...</th>\n      <th>AWAY_TEAM_YELLOWCARDS_5_last_match_std</th>\n      <th>AWAY_TEAM_REDCARDS_5_last_match_std</th>\n      <th>AWAY_TEAM_OFFSIDES_5_last_match_std</th>\n      <th>AWAY_TEAM_ATTACKS_5_last_match_std</th>\n      <th>AWAY_TEAM_PENALTIES_5_last_match_std</th>\n      <th>AWAY_TEAM_SUBSTITUTIONS_5_last_match_std</th>\n      <th>AWAY_TEAM_BALL_SAFE_5_last_match_std</th>\n      <th>AWAY_TEAM_DANGEROUS_ATTACKS_5_last_match_std</th>\n      <th>AWAY_TEAM_INJURIES_5_last_match_std</th>\n      <th>AWAY_TEAM_GOALS_5_last_match_std</th>\n    </tr>\n    <tr>\n      <th>ID</th>\n      <th></th>\n      <th></th>\n      <th></th>\n      <th></th>\n      <th></th>\n      <th></th>\n      <th></th>\n      <th></th>\n      <th></th>\n      <th></th>\n      <th></th>\n      <th></th>\n      <th></th>\n      <th></th>\n      <th></th>\n      <th></th>\n      <th></th>\n      <th></th>\n      <th></th>\n      <th></th>\n      <th></th>\n    </tr>\n  </thead>\n  <tbody>\n    <tr>\n      <th>0</th>\n      <td>10.222222</td>\n      <td>21.333333</td>\n      <td>15.277778</td>\n      <td>7.777778</td>\n      <td>7.222222</td>\n      <td>6.166667</td>\n      <td>9.222222</td>\n      <td>16.722222</td>\n      <td>2.777778</td>\n      <td>17.611111</td>\n      <td>...</td>\n      <td>5.0</td>\n      <td>5.0</td>\n      <td>4.0</td>\n      <td>0.0</td>\n      <td>6.0</td>\n      <td>8.0</td>\n      <td>4.0</td>\n      <td>3.0</td>\n      <td>2.0</td>\n      <td>3.0</td>\n    </tr>\n    <tr>\n      <th>1</th>\n      <td>9.222222</td>\n      <td>31.555556</td>\n      <td>14.555556</td>\n      <td>16.666667</td>\n      <td>10.277778</td>\n      <td>9.000000</td>\n      <td>11.888889</td>\n      <td>17.166667</td>\n      <td>2.777778</td>\n      <td>21.000000</td>\n      <td>...</td>\n      <td>0.0</td>\n      <td>0.0</td>\n      <td>3.0</td>\n      <td>1.0</td>\n      <td>8.0</td>\n      <td>4.0</td>\n      <td>10.0</td>\n      <td>0.0</td>\n      <td>5.0</td>\n      <td>3.0</td>\n    </tr>\n    <tr>\n      <th>2</th>\n      <td>8.434783</td>\n      <td>16.608696</td>\n      <td>15.347826</td>\n      <td>2.826087</td>\n      <td>3.652174</td>\n      <td>3.869565</td>\n      <td>8.826087</td>\n      <td>12.826087</td>\n      <td>0.000000</td>\n      <td>9.869565</td>\n      <td>...</td>\n      <td>6.0</td>\n      <td>10.0</td>\n      <td>4.0</td>\n      <td>4.0</td>\n      <td>0.0</td>\n      <td>8.0</td>\n      <td>3.0</td>\n      <td>0.0</td>\n      <td>9.0</td>\n      <td>6.0</td>\n    </tr>\n    <tr>\n      <th>3</th>\n      <td>8.888889</td>\n      <td>34.055556</td>\n      <td>15.833333</td>\n      <td>12.000000</td>\n      <td>14.444444</td>\n      <td>8.722222</td>\n      <td>7.444444</td>\n      <td>19.333333</td>\n      <td>4.166667</td>\n      <td>9.388889</td>\n      <td>...</td>\n      <td>0.0</td>\n      <td>0.0</td>\n      <td>1.0</td>\n      <td>2.0</td>\n      <td>0.0</td>\n      <td>5.0</td>\n      <td>6.0</td>\n      <td>3.0</td>\n      <td>NaN</td>\n      <td>2.0</td>\n    </tr>\n    <tr>\n      <th>4</th>\n      <td>9.722222</td>\n      <td>25.888889</td>\n      <td>15.111111</td>\n      <td>8.166667</td>\n      <td>9.500000</td>\n      <td>10.666667</td>\n      <td>9.611111</td>\n      <td>17.555556</td>\n      <td>0.000000</td>\n      <td>11.277778</td>\n      <td>...</td>\n      <td>1.0</td>\n      <td>0.0</td>\n      <td>4.0</td>\n      <td>4.0</td>\n      <td>9.0</td>\n      <td>4.0</td>\n      <td>1.0</td>\n      <td>4.0</td>\n      <td>6.0</td>\n      <td>5.0</td>\n    </tr>\n  </tbody>\n</table>\n<p>5 rows × 826 columns</p>\n</div>"
     },
     "execution_count": 429,
     "metadata": {},
     "output_type": "execute_result"
    }
   ],
   "source": [
    "X_train.head()"
   ],
   "metadata": {
    "collapsed": false,
    "ExecuteTime": {
     "end_time": "2024-02-23T18:16:37.882956Z",
     "start_time": "2024-02-23T18:16:37.880339Z"
    }
   },
   "id": "3a9ef3eefd54c301",
   "execution_count": 429
  },
  {
   "cell_type": "code",
   "outputs": [
    {
     "data": {
      "text/plain": "    HOME_WINS  DRAW  AWAY_WINS\nID                            \n0           0     0          1\n1           0     1          0\n2           0     0          1\n3           1     0          0\n4           0     1          0",
      "text/html": "<div>\n<style scoped>\n    .dataframe tbody tr th:only-of-type {\n        vertical-align: middle;\n    }\n\n    .dataframe tbody tr th {\n        vertical-align: top;\n    }\n\n    .dataframe thead th {\n        text-align: right;\n    }\n</style>\n<table border=\"1\" class=\"dataframe\">\n  <thead>\n    <tr style=\"text-align: right;\">\n      <th></th>\n      <th>HOME_WINS</th>\n      <th>DRAW</th>\n      <th>AWAY_WINS</th>\n    </tr>\n    <tr>\n      <th>ID</th>\n      <th></th>\n      <th></th>\n      <th></th>\n    </tr>\n  </thead>\n  <tbody>\n    <tr>\n      <th>0</th>\n      <td>0</td>\n      <td>0</td>\n      <td>1</td>\n    </tr>\n    <tr>\n      <th>1</th>\n      <td>0</td>\n      <td>1</td>\n      <td>0</td>\n    </tr>\n    <tr>\n      <th>2</th>\n      <td>0</td>\n      <td>0</td>\n      <td>1</td>\n    </tr>\n    <tr>\n      <th>3</th>\n      <td>1</td>\n      <td>0</td>\n      <td>0</td>\n    </tr>\n    <tr>\n      <th>4</th>\n      <td>0</td>\n      <td>1</td>\n      <td>0</td>\n    </tr>\n  </tbody>\n</table>\n</div>"
     },
     "execution_count": 430,
     "metadata": {},
     "output_type": "execute_result"
    }
   ],
   "source": [
    "Y_train.head()"
   ],
   "metadata": {
    "collapsed": false,
    "ExecuteTime": {
     "end_time": "2024-02-23T18:16:37.889360Z",
     "start_time": "2024-02-23T18:16:37.883265Z"
    }
   },
   "id": "be18ec5d9ecf49bf",
   "execution_count": 430
  },
  {
   "cell_type": "markdown",
   "source": [
    "### Test Data processing"
   ],
   "metadata": {
    "collapsed": false
   },
   "id": "59ca468806d139fa"
  },
  {
   "cell_type": "markdown",
   "source": [
    "##### Remove some useless features"
   ],
   "metadata": {
    "collapsed": false
   },
   "id": "90507540d35fd669"
  },
  {
   "cell_type": "code",
   "outputs": [],
   "source": [
    "test_away_player_statistics_drop_df = test_away_player_statistics_df.drop(labels=['PLAYER_CAPTAIN_season_sum', 'PLAYER_LONG_BALLS_season_sum', 'PLAYER_LONG_BALLS_WON_season_sum', 'PLAYER_SHOTS_OFF_TARGET_season_sum', 'PLAYER_CAPTAIN_season_average', 'PLAYER_PUNCHES_season_average', 'PLAYER_LONG_BALLS_season_average', 'PLAYER_LONG_BALLS_WON_season_average', 'PLAYER_SHOTS_OFF_TARGET_season_average', 'PLAYER_CAPTAIN_season_std', 'PLAYER_PUNCHES_season_std', 'PLAYER_LONG_BALLS_season_std', 'PLAYER_LONG_BALLS_WON_season_std', 'PLAYER_SHOTS_OFF_TARGET_season_std', 'PLAYER_CAPTAIN_5_last_match_sum', 'PLAYER_PUNCHES_5_last_match_sum', 'PLAYER_LONG_BALLS_5_last_match_sum', 'PLAYER_LONG_BALLS_WON_5_last_match_sum', 'PLAYER_SHOTS_OFF_TARGET_5_last_match_sum', 'PLAYER_CAPTAIN_5_last_match_average', 'PLAYER_PUNCHES_5_last_match_average', 'PLAYER_LONG_BALLS_5_last_match_average', 'PLAYER_LONG_BALLS_WON_5_last_match_average', 'PLAYER_SHOTS_OFF_TARGET_5_last_match_average', 'PLAYER_CAPTAIN_5_last_match_std', 'PLAYER_PUNCHES_5_last_match_std', 'PLAYER_LONG_BALLS_5_last_match_std', 'PLAYER_LONG_BALLS_WON_5_last_match_std', 'PLAYER_SHOTS_OFF_TARGET_5_last_match_std'], axis=1)\n",
    "\n",
    "test_home_player_statistics_drop_df = test_home_player_statistics_df.drop(labels=['PLAYER_CAPTAIN_season_sum', 'PLAYER_LONG_BALLS_season_sum', 'PLAYER_LONG_BALLS_WON_season_sum', 'PLAYER_SHOTS_OFF_TARGET_season_sum', 'PLAYER_CAPTAIN_season_average', 'PLAYER_PUNCHES_season_average', 'PLAYER_LONG_BALLS_season_average', 'PLAYER_LONG_BALLS_WON_season_average', 'PLAYER_SHOTS_OFF_TARGET_season_average', 'PLAYER_CAPTAIN_season_std', 'PLAYER_PUNCHES_season_std', 'PLAYER_LONG_BALLS_season_std', 'PLAYER_LONG_BALLS_WON_season_std', 'PLAYER_SHOTS_OFF_TARGET_season_std', 'PLAYER_CAPTAIN_5_last_match_sum', 'PLAYER_PUNCHES_5_last_match_sum', 'PLAYER_LONG_BALLS_5_last_match_sum', 'PLAYER_LONG_BALLS_WON_5_last_match_sum', 'PLAYER_SHOTS_OFF_TARGET_5_last_match_sum', 'PLAYER_CAPTAIN_5_last_match_average', 'PLAYER_PUNCHES_5_last_match_average', 'PLAYER_LONG_BALLS_5_last_match_average', 'PLAYER_LONG_BALLS_WON_5_last_match_average', 'PLAYER_SHOTS_OFF_TARGET_5_last_match_average', 'PLAYER_CAPTAIN_5_last_match_std', 'PLAYER_PUNCHES_5_last_match_std', 'PLAYER_LONG_BALLS_5_last_match_std', 'PLAYER_LONG_BALLS_WON_5_last_match_std', 'PLAYER_SHOTS_OFF_TARGET_5_last_match_std'], axis=1)"
   ],
   "metadata": {
    "collapsed": false,
    "ExecuteTime": {
     "end_time": "2024-02-23T18:16:38.867952Z",
     "start_time": "2024-02-23T18:16:37.884756Z"
    }
   },
   "id": "9f29852bed203d4c",
   "execution_count": 431
  },
  {
   "cell_type": "code",
   "outputs": [],
   "source": [
    "test_home_player_statistics_drop2_df = test_home_player_statistics_drop_df.drop(columns=['POSITION'])\n",
    "\n",
    "test_away_player_statistics_drop2_df = test_away_player_statistics_drop_df.drop(columns=['POSITION'])"
   ],
   "metadata": {
    "collapsed": false,
    "ExecuteTime": {
     "end_time": "2024-02-23T18:16:39.763607Z",
     "start_time": "2024-02-23T18:16:38.868920Z"
    }
   },
   "id": "1f907bb8715ab026",
   "execution_count": 432
  },
  {
   "cell_type": "markdown",
   "source": [
    "##### Mean of the statistics of the players of each team"
   ],
   "metadata": {
    "collapsed": false
   },
   "id": "2ed13fc090bfac2e"
  },
  {
   "cell_type": "code",
   "outputs": [],
   "source": [
    "test_home_player_statistics_groupbyID_df = test_home_player_statistics_drop2_df.groupby([\"ID\"]).mean()\n",
    "\n",
    "test_away_player_statistics_groupbyID_df = test_away_player_statistics_drop2_df.groupby([\"ID\"]).mean()"
   ],
   "metadata": {
    "collapsed": false,
    "ExecuteTime": {
     "end_time": "2024-02-23T18:16:40.555357Z",
     "start_time": "2024-02-23T18:16:39.763320Z"
    }
   },
   "id": "e4d5cecdc2a33f55",
   "execution_count": 433
  },
  {
   "cell_type": "code",
   "outputs": [],
   "source": [
    "test_home_team_statistics_df.columns = 'HOME_' + test_home_team_statistics_df.columns\n",
    "test_away_team_statistics_df.columns = 'AWAY_' + test_away_team_statistics_df.columns"
   ],
   "metadata": {
    "collapsed": false,
    "ExecuteTime": {
     "end_time": "2024-02-23T18:16:40.557394Z",
     "start_time": "2024-02-23T18:16:40.555479Z"
    }
   },
   "id": "5091882ed36821e7",
   "execution_count": 434
  },
  {
   "cell_type": "code",
   "outputs": [],
   "source": [
    "test_home_player_statistics_groupbyID_df.columns = \"HOME_\" + test_home_player_statistics_groupbyID_df.columns\n",
    "\n",
    "test_away_player_statistics_groupbyID_df.columns = \"AWAY_\" + test_away_player_statistics_groupbyID_df.columns"
   ],
   "metadata": {
    "collapsed": false,
    "ExecuteTime": {
     "end_time": "2024-02-23T18:16:40.563783Z",
     "start_time": "2024-02-23T18:16:40.557575Z"
    }
   },
   "id": "721d33ec07a7eab8",
   "execution_count": 435
  },
  {
   "cell_type": "markdown",
   "source": [
    "##### Join the information about the players and the team together"
   ],
   "metadata": {
    "collapsed": false
   },
   "id": "db4680a64557ae95"
  },
  {
   "cell_type": "code",
   "outputs": [],
   "source": [
    "X_test_home = test_home_player_statistics_groupbyID_df.join(test_home_team_statistics_df, on=['ID'], how='outer')\n",
    "\n",
    "X_test_away = test_away_player_statistics_groupbyID_df.join(test_away_team_statistics_df, on=['ID'], how='outer')"
   ],
   "metadata": {
    "collapsed": false,
    "ExecuteTime": {
     "end_time": "2024-02-23T18:16:40.619770Z",
     "start_time": "2024-02-23T18:16:40.559839Z"
    }
   },
   "id": "c4c12d25efe92c15",
   "execution_count": 436
  },
  {
   "cell_type": "markdown",
   "source": [
    "##### Join the information about the home and away team"
   ],
   "metadata": {
    "collapsed": false
   },
   "id": "4bdad0cbf031f4ae"
  },
  {
   "cell_type": "code",
   "outputs": [],
   "source": [
    "X_test =  pd.concat([X_test_home,X_test_away],join='outer',axis=1)\n",
    "\n",
    "X_test = X_test.replace({np.inf:np.nan,-np.inf:np.nan})"
   ],
   "metadata": {
    "collapsed": false,
    "ExecuteTime": {
     "end_time": "2024-02-23T18:16:40.805793Z",
     "start_time": "2024-02-23T18:16:40.620518Z"
    }
   },
   "id": "6ff3f345e612988e",
   "execution_count": 437
  },
  {
   "cell_type": "code",
   "outputs": [
    {
     "data": {
      "text/plain": "       HOME_PLAYER_ACCURATE_CROSSES_season_sum  \\\nID                                               \n12303                                 8.818182   \n12304                                 6.444444   \n12305                                10.235294   \n12306                                 6.722222   \n12307                                 9.722222   \n\n       HOME_PLAYER_ACCURATE_PASSES_season_sum  \\\nID                                              \n12303                               20.272727   \n12304                               18.055556   \n12305                               27.529412   \n12306                               26.055556   \n12307                               15.833333   \n\n       HOME_PLAYER_AERIALS_WON_season_sum  HOME_PLAYER_ASSISTS_season_sum  \\\nID                                                                          \n12303                            8.136364                        8.181818   \n12304                           14.333333                        6.722222   \n12305                           11.882353                       19.647059   \n12306                           19.944444                       13.333333   \n12307                           15.277778                        6.222222   \n\n       HOME_PLAYER_BIG_CHANCES_CREATED_season_sum  \\\nID                                                  \n12303                                    6.363636   \n12304                                   10.833333   \n12305                                   17.882353   \n12306                                   13.944444   \n12307                                   12.388889   \n\n       HOME_PLAYER_BIG_CHANCES_MISSED_season_sum  \\\nID                                                 \n12303                                   2.000000   \n12304                                   5.222222   \n12305                                   8.823529   \n12306                                   9.222222   \n12307                                   8.222222   \n\n       HOME_PLAYER_BLOCKED_SHOTS_season_sum  \\\nID                                            \n12303                              8.727273   \n12304                             10.888889   \n12305                              8.882353   \n12306                              9.055556   \n12307                             11.777778   \n\n       HOME_PLAYER_CLEARANCES_season_sum  \\\nID                                         \n12303                           9.227273   \n12304                          11.166667   \n12305                          11.000000   \n12306                          12.000000   \n12307                          16.777778   \n\n       HOME_PLAYER_CLEARANCE_OFFLINE_season_sum  \\\nID                                                \n12303                                  0.000000   \n12304                                  1.833333   \n12305                                  2.941176   \n12306                                  1.833333   \n12307                                 13.888889   \n\n       HOME_PLAYER_DISPOSSESSED_season_sum  ...  \\\nID                                          ...   \n12303                            18.500000  ...   \n12304                            17.000000  ...   \n12305                            19.411765  ...   \n12306                            21.611111  ...   \n12307                            12.611111  ...   \n\n       AWAY_TEAM_YELLOWCARDS_5_last_match_std  \\\nID                                              \n12303                                     6.0   \n12304                                     0.0   \n12305                                    10.0   \n12306                                     1.0   \n12307                                     3.0   \n\n       AWAY_TEAM_REDCARDS_5_last_match_std  \\\nID                                           \n12303                                  0.0   \n12304                                  0.0   \n12305                                  0.0   \n12306                                  5.0   \n12307                                  0.0   \n\n       AWAY_TEAM_OFFSIDES_5_last_match_std  \\\nID                                           \n12303                                  1.0   \n12304                                  3.0   \n12305                                  0.0   \n12306                                  4.0   \n12307                                  6.0   \n\n       AWAY_TEAM_ATTACKS_5_last_match_std  \\\nID                                          \n12303                                 4.0   \n12304                                 6.0   \n12305                                 2.0   \n12306                                 5.0   \n12307                                 5.0   \n\n       AWAY_TEAM_PENALTIES_5_last_match_std  \\\nID                                            \n12303                                   0.0   \n12304                                   8.0   \n12305                                   0.0   \n12306                                  10.0   \n12307                                   0.0   \n\n       AWAY_TEAM_SUBSTITUTIONS_5_last_match_std  \\\nID                                                \n12303                                       8.0   \n12304                                       5.0   \n12305                                       4.0   \n12306                                       9.0   \n12307                                       4.0   \n\n       AWAY_TEAM_BALL_SAFE_5_last_match_std  \\\nID                                            \n12303                                   7.0   \n12304                                   1.0   \n12305                                   2.0   \n12306                                   6.0   \n12307                                   3.0   \n\n       AWAY_TEAM_DANGEROUS_ATTACKS_5_last_match_std  \\\nID                                                    \n12303                                           2.0   \n12304                                           1.0   \n12305                                           3.0   \n12306                                           9.0   \n12307                                          10.0   \n\n       AWAY_TEAM_INJURIES_5_last_match_std  AWAY_TEAM_GOALS_5_last_match_std  \nID                                                                            \n12303                                  7.0                               0.0  \n12304                                  7.0                               9.0  \n12305                                  NaN                               9.0  \n12306                                  7.0                               3.0  \n12307                                  3.0                               1.0  \n\n[5 rows x 826 columns]",
      "text/html": "<div>\n<style scoped>\n    .dataframe tbody tr th:only-of-type {\n        vertical-align: middle;\n    }\n\n    .dataframe tbody tr th {\n        vertical-align: top;\n    }\n\n    .dataframe thead th {\n        text-align: right;\n    }\n</style>\n<table border=\"1\" class=\"dataframe\">\n  <thead>\n    <tr style=\"text-align: right;\">\n      <th></th>\n      <th>HOME_PLAYER_ACCURATE_CROSSES_season_sum</th>\n      <th>HOME_PLAYER_ACCURATE_PASSES_season_sum</th>\n      <th>HOME_PLAYER_AERIALS_WON_season_sum</th>\n      <th>HOME_PLAYER_ASSISTS_season_sum</th>\n      <th>HOME_PLAYER_BIG_CHANCES_CREATED_season_sum</th>\n      <th>HOME_PLAYER_BIG_CHANCES_MISSED_season_sum</th>\n      <th>HOME_PLAYER_BLOCKED_SHOTS_season_sum</th>\n      <th>HOME_PLAYER_CLEARANCES_season_sum</th>\n      <th>HOME_PLAYER_CLEARANCE_OFFLINE_season_sum</th>\n      <th>HOME_PLAYER_DISPOSSESSED_season_sum</th>\n      <th>...</th>\n      <th>AWAY_TEAM_YELLOWCARDS_5_last_match_std</th>\n      <th>AWAY_TEAM_REDCARDS_5_last_match_std</th>\n      <th>AWAY_TEAM_OFFSIDES_5_last_match_std</th>\n      <th>AWAY_TEAM_ATTACKS_5_last_match_std</th>\n      <th>AWAY_TEAM_PENALTIES_5_last_match_std</th>\n      <th>AWAY_TEAM_SUBSTITUTIONS_5_last_match_std</th>\n      <th>AWAY_TEAM_BALL_SAFE_5_last_match_std</th>\n      <th>AWAY_TEAM_DANGEROUS_ATTACKS_5_last_match_std</th>\n      <th>AWAY_TEAM_INJURIES_5_last_match_std</th>\n      <th>AWAY_TEAM_GOALS_5_last_match_std</th>\n    </tr>\n    <tr>\n      <th>ID</th>\n      <th></th>\n      <th></th>\n      <th></th>\n      <th></th>\n      <th></th>\n      <th></th>\n      <th></th>\n      <th></th>\n      <th></th>\n      <th></th>\n      <th></th>\n      <th></th>\n      <th></th>\n      <th></th>\n      <th></th>\n      <th></th>\n      <th></th>\n      <th></th>\n      <th></th>\n      <th></th>\n      <th></th>\n    </tr>\n  </thead>\n  <tbody>\n    <tr>\n      <th>12303</th>\n      <td>8.818182</td>\n      <td>20.272727</td>\n      <td>8.136364</td>\n      <td>8.181818</td>\n      <td>6.363636</td>\n      <td>2.000000</td>\n      <td>8.727273</td>\n      <td>9.227273</td>\n      <td>0.000000</td>\n      <td>18.500000</td>\n      <td>...</td>\n      <td>6.0</td>\n      <td>0.0</td>\n      <td>1.0</td>\n      <td>4.0</td>\n      <td>0.0</td>\n      <td>8.0</td>\n      <td>7.0</td>\n      <td>2.0</td>\n      <td>7.0</td>\n      <td>0.0</td>\n    </tr>\n    <tr>\n      <th>12304</th>\n      <td>6.444444</td>\n      <td>18.055556</td>\n      <td>14.333333</td>\n      <td>6.722222</td>\n      <td>10.833333</td>\n      <td>5.222222</td>\n      <td>10.888889</td>\n      <td>11.166667</td>\n      <td>1.833333</td>\n      <td>17.000000</td>\n      <td>...</td>\n      <td>0.0</td>\n      <td>0.0</td>\n      <td>3.0</td>\n      <td>6.0</td>\n      <td>8.0</td>\n      <td>5.0</td>\n      <td>1.0</td>\n      <td>1.0</td>\n      <td>7.0</td>\n      <td>9.0</td>\n    </tr>\n    <tr>\n      <th>12305</th>\n      <td>10.235294</td>\n      <td>27.529412</td>\n      <td>11.882353</td>\n      <td>19.647059</td>\n      <td>17.882353</td>\n      <td>8.823529</td>\n      <td>8.882353</td>\n      <td>11.000000</td>\n      <td>2.941176</td>\n      <td>19.411765</td>\n      <td>...</td>\n      <td>10.0</td>\n      <td>0.0</td>\n      <td>0.0</td>\n      <td>2.0</td>\n      <td>0.0</td>\n      <td>4.0</td>\n      <td>2.0</td>\n      <td>3.0</td>\n      <td>NaN</td>\n      <td>9.0</td>\n    </tr>\n    <tr>\n      <th>12306</th>\n      <td>6.722222</td>\n      <td>26.055556</td>\n      <td>19.944444</td>\n      <td>13.333333</td>\n      <td>13.944444</td>\n      <td>9.222222</td>\n      <td>9.055556</td>\n      <td>12.000000</td>\n      <td>1.833333</td>\n      <td>21.611111</td>\n      <td>...</td>\n      <td>1.0</td>\n      <td>5.0</td>\n      <td>4.0</td>\n      <td>5.0</td>\n      <td>10.0</td>\n      <td>9.0</td>\n      <td>6.0</td>\n      <td>9.0</td>\n      <td>7.0</td>\n      <td>3.0</td>\n    </tr>\n    <tr>\n      <th>12307</th>\n      <td>9.722222</td>\n      <td>15.833333</td>\n      <td>15.277778</td>\n      <td>6.222222</td>\n      <td>12.388889</td>\n      <td>8.222222</td>\n      <td>11.777778</td>\n      <td>16.777778</td>\n      <td>13.888889</td>\n      <td>12.611111</td>\n      <td>...</td>\n      <td>3.0</td>\n      <td>0.0</td>\n      <td>6.0</td>\n      <td>5.0</td>\n      <td>0.0</td>\n      <td>4.0</td>\n      <td>3.0</td>\n      <td>10.0</td>\n      <td>3.0</td>\n      <td>1.0</td>\n    </tr>\n  </tbody>\n</table>\n<p>5 rows × 826 columns</p>\n</div>"
     },
     "execution_count": 438,
     "metadata": {},
     "output_type": "execute_result"
    }
   ],
   "source": [
    "X_test.head()"
   ],
   "metadata": {
    "collapsed": false,
    "ExecuteTime": {
     "end_time": "2024-02-23T18:16:40.816557Z",
     "start_time": "2024-02-23T18:16:40.807092Z"
    }
   },
   "id": "daf05d80a455f111",
   "execution_count": 438
  },
  {
   "cell_type": "markdown",
   "source": [
    "### Data normalisation "
   ],
   "metadata": {
    "collapsed": false
   },
   "id": "670f5e7fbe2f7523"
  },
  {
   "cell_type": "code",
   "outputs": [],
   "source": [
    "scaler = preprocessing.StandardScaler().fit(X_train)\n",
    "\n",
    "X_train_standard = scaler.transform(X_train)\n",
    "X_test_standard = scaler.transform(X_test)"
   ],
   "metadata": {
    "collapsed": false,
    "ExecuteTime": {
     "end_time": "2024-02-23T18:16:40.990740Z",
     "start_time": "2024-02-23T18:16:40.813934Z"
    }
   },
   "id": "df5de3df6f7acf2f",
   "execution_count": 439
  },
  {
   "cell_type": "code",
   "outputs": [],
   "source": [
    "imputer = KNNImputer(n_neighbors=50)\n",
    "\n",
    "X_train_standard_without_NaN = imputer.fit_transform(X_train_standard)\n",
    "X_test_standard_without_NaN = imputer.fit_transform(X_test_standard)"
   ],
   "metadata": {
    "collapsed": false,
    "ExecuteTime": {
     "end_time": "2024-02-23T18:29:54.255495Z",
     "start_time": "2024-02-23T18:16:40.994354Z"
    }
   },
   "id": "a98de35b99f1c1d",
   "execution_count": 440
  },
  {
   "cell_type": "code",
   "outputs": [],
   "source": [
    "pca = PCA(n_components=400, random_state=42)\n",
    "\n",
    "X_train_standard_without_NaN_PCA = pca.fit_transform(X_train_standard_without_NaN)\n",
    "X_test_standard_without_NaN_PCA = pca.transform(X_test_standard_without_NaN)"
   ],
   "metadata": {
    "collapsed": false,
    "ExecuteTime": {
     "end_time": "2024-02-23T18:32:20.322218Z",
     "start_time": "2024-02-23T18:32:14.575269Z"
    }
   },
   "id": "dce2b352b7f97ea4",
   "execution_count": 460
  },
  {
   "cell_type": "markdown",
   "source": [
    "### We try to model if AWAY wins"
   ],
   "metadata": {
    "collapsed": false
   },
   "id": "6c6f42c4b4fea89"
  },
  {
   "cell_type": "code",
   "outputs": [],
   "source": [
    "Y_train_new = Y_train['AWAY_WINS'] "
   ],
   "metadata": {
    "collapsed": false,
    "ExecuteTime": {
     "end_time": "2024-02-23T18:29:58.826337Z",
     "start_time": "2024-02-23T18:29:58.820754Z"
    }
   },
   "id": "59855f033499ae00",
   "execution_count": 442
  },
  {
   "cell_type": "markdown",
   "source": [
    "### train, valid test split\n"
   ],
   "metadata": {
    "collapsed": false
   },
   "id": "172bcdc46cbe237"
  },
  {
   "cell_type": "code",
   "outputs": [],
   "source": [
    "X_train, X_test, y_train, y_test = model_selection.train_test_split(X_train_standard_without_NaN_PCA, Y_train_new, test_size=0.2, random_state=42)\n",
    "X_test, X_valid, y_test, y_valid = model_selection.train_test_split(X_test, y_test, test_size=0.5, random_state=42)"
   ],
   "metadata": {
    "collapsed": false,
    "ExecuteTime": {
     "end_time": "2024-02-23T18:32:22.382690Z",
     "start_time": "2024-02-23T18:32:22.356760Z"
    }
   },
   "id": "88fba6ff70caf4eb",
   "execution_count": 461
  },
  {
   "cell_type": "code",
   "outputs": [],
   "source": [
    "X_train = pd.DataFrame(X_train)\n",
    "#X_train.columns = columns_name\n",
    "X_valid = pd.DataFrame(X_valid)\n",
    "#X_valid.columns = columns_name\n",
    "X_test = pd.DataFrame(X_test)\n",
    "#X_test.columns = columns_name"
   ],
   "metadata": {
    "collapsed": false,
    "ExecuteTime": {
     "end_time": "2024-02-23T18:32:24.392095Z",
     "start_time": "2024-02-23T18:32:24.385701Z"
    }
   },
   "id": "8a80bb2051b4ebca",
   "execution_count": 462
  },
  {
   "cell_type": "markdown",
   "source": [
    "### xgb model"
   ],
   "metadata": {
    "collapsed": false
   },
   "id": "d9e855d0f49dea13"
  },
  {
   "cell_type": "code",
   "outputs": [
    {
     "name": "stdout",
     "output_type": "stream",
     "text": [
      "[0]\ttrain-mlogloss:0.68346\teval-mlogloss:0.68799\n"
     ]
    },
    {
     "name": "stderr",
     "output_type": "stream",
     "text": [
      "/Users/mjolif/Documents/Data-Challenge-ENS/Football-matches-outcome-prediction/venv/lib/python3.11/site-packages/xgboost/core.py:727: FutureWarning: Pass `evals` as keyword args.\n",
      "  warnings.warn(msg, FutureWarning)\n"
     ]
    },
    {
     "name": "stdout",
     "output_type": "stream",
     "text": [
      "[1]\ttrain-mlogloss:0.67430\teval-mlogloss:0.68275\n",
      "[2]\ttrain-mlogloss:0.66579\teval-mlogloss:0.67789\n",
      "[3]\ttrain-mlogloss:0.65741\teval-mlogloss:0.67318\n",
      "[4]\ttrain-mlogloss:0.64954\teval-mlogloss:0.66838\n",
      "[5]\ttrain-mlogloss:0.64222\teval-mlogloss:0.66420\n",
      "[6]\ttrain-mlogloss:0.63456\teval-mlogloss:0.66059\n",
      "[7]\ttrain-mlogloss:0.62725\teval-mlogloss:0.65665\n",
      "[8]\ttrain-mlogloss:0.62025\teval-mlogloss:0.65247\n",
      "[9]\ttrain-mlogloss:0.61322\teval-mlogloss:0.64910\n",
      "[10]\ttrain-mlogloss:0.60690\teval-mlogloss:0.64578\n",
      "[11]\ttrain-mlogloss:0.60033\teval-mlogloss:0.64305\n",
      "[12]\ttrain-mlogloss:0.59433\teval-mlogloss:0.63955\n",
      "[13]\ttrain-mlogloss:0.58832\teval-mlogloss:0.63675\n",
      "[14]\ttrain-mlogloss:0.58278\teval-mlogloss:0.63433\n",
      "[15]\ttrain-mlogloss:0.57705\teval-mlogloss:0.63182\n",
      "[16]\ttrain-mlogloss:0.57157\teval-mlogloss:0.62912\n",
      "[17]\ttrain-mlogloss:0.56629\teval-mlogloss:0.62702\n",
      "[18]\ttrain-mlogloss:0.56113\teval-mlogloss:0.62452\n",
      "[19]\ttrain-mlogloss:0.55562\teval-mlogloss:0.62243\n",
      "[20]\ttrain-mlogloss:0.55041\teval-mlogloss:0.62053\n",
      "[21]\ttrain-mlogloss:0.54567\teval-mlogloss:0.61858\n",
      "[22]\ttrain-mlogloss:0.54094\teval-mlogloss:0.61644\n",
      "[23]\ttrain-mlogloss:0.53656\teval-mlogloss:0.61491\n",
      "[24]\ttrain-mlogloss:0.53204\teval-mlogloss:0.61275\n",
      "[25]\ttrain-mlogloss:0.52782\teval-mlogloss:0.61133\n",
      "[26]\ttrain-mlogloss:0.52322\teval-mlogloss:0.61019\n",
      "[27]\ttrain-mlogloss:0.51877\teval-mlogloss:0.60837\n",
      "[28]\ttrain-mlogloss:0.51446\teval-mlogloss:0.60661\n",
      "[29]\ttrain-mlogloss:0.51028\teval-mlogloss:0.60535\n",
      "[30]\ttrain-mlogloss:0.50643\teval-mlogloss:0.60385\n",
      "[31]\ttrain-mlogloss:0.50240\teval-mlogloss:0.60228\n",
      "[32]\ttrain-mlogloss:0.49857\teval-mlogloss:0.60095\n",
      "[33]\ttrain-mlogloss:0.49458\teval-mlogloss:0.59983\n",
      "[34]\ttrain-mlogloss:0.49093\teval-mlogloss:0.59910\n",
      "[35]\ttrain-mlogloss:0.48685\teval-mlogloss:0.59786\n",
      "[36]\ttrain-mlogloss:0.48269\teval-mlogloss:0.59688\n",
      "[37]\ttrain-mlogloss:0.47900\teval-mlogloss:0.59564\n",
      "[38]\ttrain-mlogloss:0.47484\teval-mlogloss:0.59469\n",
      "[39]\ttrain-mlogloss:0.47187\teval-mlogloss:0.59376\n",
      "[40]\ttrain-mlogloss:0.46822\teval-mlogloss:0.59309\n",
      "[41]\ttrain-mlogloss:0.46524\teval-mlogloss:0.59257\n",
      "[42]\ttrain-mlogloss:0.46239\teval-mlogloss:0.59175\n",
      "[43]\ttrain-mlogloss:0.45903\teval-mlogloss:0.59097\n",
      "[44]\ttrain-mlogloss:0.45634\teval-mlogloss:0.59043\n",
      "[45]\ttrain-mlogloss:0.45304\teval-mlogloss:0.58950\n",
      "[46]\ttrain-mlogloss:0.44956\teval-mlogloss:0.58876\n",
      "[47]\ttrain-mlogloss:0.44620\teval-mlogloss:0.58820\n",
      "[48]\ttrain-mlogloss:0.44247\teval-mlogloss:0.58753\n",
      "[49]\ttrain-mlogloss:0.43988\teval-mlogloss:0.58680\n",
      "[50]\ttrain-mlogloss:0.43678\teval-mlogloss:0.58638\n",
      "[51]\ttrain-mlogloss:0.43369\teval-mlogloss:0.58578\n",
      "[52]\ttrain-mlogloss:0.43034\teval-mlogloss:0.58535\n",
      "[53]\ttrain-mlogloss:0.42677\teval-mlogloss:0.58481\n",
      "[54]\ttrain-mlogloss:0.42395\teval-mlogloss:0.58415\n",
      "[55]\ttrain-mlogloss:0.42115\teval-mlogloss:0.58391\n",
      "[56]\ttrain-mlogloss:0.41814\teval-mlogloss:0.58330\n",
      "[57]\ttrain-mlogloss:0.41534\teval-mlogloss:0.58274\n",
      "[58]\ttrain-mlogloss:0.41257\teval-mlogloss:0.58247\n",
      "[59]\ttrain-mlogloss:0.40943\teval-mlogloss:0.58215\n",
      "[60]\ttrain-mlogloss:0.40711\teval-mlogloss:0.58182\n",
      "[61]\ttrain-mlogloss:0.40453\teval-mlogloss:0.58148\n",
      "[62]\ttrain-mlogloss:0.40216\teval-mlogloss:0.58155\n",
      "[63]\ttrain-mlogloss:0.39900\teval-mlogloss:0.58104\n",
      "[64]\ttrain-mlogloss:0.39605\teval-mlogloss:0.58041\n",
      "[65]\ttrain-mlogloss:0.39357\teval-mlogloss:0.57999\n",
      "[66]\ttrain-mlogloss:0.39064\teval-mlogloss:0.57983\n",
      "[67]\ttrain-mlogloss:0.38829\teval-mlogloss:0.57949\n",
      "[68]\ttrain-mlogloss:0.38562\teval-mlogloss:0.57975\n",
      "[69]\ttrain-mlogloss:0.38320\teval-mlogloss:0.57992\n",
      "[70]\ttrain-mlogloss:0.38105\teval-mlogloss:0.57998\n",
      "[71]\ttrain-mlogloss:0.37925\teval-mlogloss:0.57947\n",
      "[72]\ttrain-mlogloss:0.37682\teval-mlogloss:0.57940\n",
      "[73]\ttrain-mlogloss:0.37485\teval-mlogloss:0.57931\n",
      "[74]\ttrain-mlogloss:0.37196\teval-mlogloss:0.57968\n",
      "[75]\ttrain-mlogloss:0.36992\teval-mlogloss:0.57939\n",
      "[76]\ttrain-mlogloss:0.36780\teval-mlogloss:0.57902\n",
      "[77]\ttrain-mlogloss:0.36515\teval-mlogloss:0.57907\n",
      "[78]\ttrain-mlogloss:0.36251\teval-mlogloss:0.57929\n",
      "[79]\ttrain-mlogloss:0.36014\teval-mlogloss:0.57950\n",
      "[80]\ttrain-mlogloss:0.35770\teval-mlogloss:0.57944\n",
      "[81]\ttrain-mlogloss:0.35574\teval-mlogloss:0.57968\n",
      "[82]\ttrain-mlogloss:0.35351\teval-mlogloss:0.58006\n",
      "[83]\ttrain-mlogloss:0.35150\teval-mlogloss:0.58012\n",
      "[84]\ttrain-mlogloss:0.34927\teval-mlogloss:0.58007\n",
      "[85]\ttrain-mlogloss:0.34739\teval-mlogloss:0.58004\n",
      "[86]\ttrain-mlogloss:0.34558\teval-mlogloss:0.58028\n",
      "[87]\ttrain-mlogloss:0.34387\teval-mlogloss:0.58013\n",
      "[88]\ttrain-mlogloss:0.34175\teval-mlogloss:0.57981\n",
      "[89]\ttrain-mlogloss:0.33962\teval-mlogloss:0.57970\n",
      "[90]\ttrain-mlogloss:0.33773\teval-mlogloss:0.57961\n",
      "[91]\ttrain-mlogloss:0.33608\teval-mlogloss:0.57959\n",
      "[92]\ttrain-mlogloss:0.33442\teval-mlogloss:0.57969\n",
      "[93]\ttrain-mlogloss:0.33239\teval-mlogloss:0.57949\n",
      "[94]\ttrain-mlogloss:0.33080\teval-mlogloss:0.57934\n",
      "[95]\ttrain-mlogloss:0.32821\teval-mlogloss:0.57915\n",
      "[96]\ttrain-mlogloss:0.32686\teval-mlogloss:0.57881\n",
      "[97]\ttrain-mlogloss:0.32467\teval-mlogloss:0.57886\n",
      "[98]\ttrain-mlogloss:0.32323\teval-mlogloss:0.57843\n",
      "[99]\ttrain-mlogloss:0.32147\teval-mlogloss:0.57851\n",
      "[100]\ttrain-mlogloss:0.31987\teval-mlogloss:0.57835\n",
      "[101]\ttrain-mlogloss:0.31814\teval-mlogloss:0.57852\n",
      "[102]\ttrain-mlogloss:0.31656\teval-mlogloss:0.57889\n",
      "[103]\ttrain-mlogloss:0.31443\teval-mlogloss:0.57901\n",
      "[104]\ttrain-mlogloss:0.31299\teval-mlogloss:0.57903\n",
      "[105]\ttrain-mlogloss:0.31170\teval-mlogloss:0.57903\n",
      "[106]\ttrain-mlogloss:0.31029\teval-mlogloss:0.57910\n",
      "[107]\ttrain-mlogloss:0.30871\teval-mlogloss:0.57898\n",
      "[108]\ttrain-mlogloss:0.30733\teval-mlogloss:0.57897\n",
      "[109]\ttrain-mlogloss:0.30543\teval-mlogloss:0.57896\n",
      "[110]\ttrain-mlogloss:0.30383\teval-mlogloss:0.57901\n",
      "[111]\ttrain-mlogloss:0.30238\teval-mlogloss:0.57932\n",
      "[112]\ttrain-mlogloss:0.30094\teval-mlogloss:0.57918\n",
      "[113]\ttrain-mlogloss:0.29918\teval-mlogloss:0.57910\n",
      "[114]\ttrain-mlogloss:0.29768\teval-mlogloss:0.57949\n",
      "[115]\ttrain-mlogloss:0.29589\teval-mlogloss:0.57974\n",
      "[116]\ttrain-mlogloss:0.29408\teval-mlogloss:0.57986\n",
      "[117]\ttrain-mlogloss:0.29264\teval-mlogloss:0.57977\n",
      "[118]\ttrain-mlogloss:0.29119\teval-mlogloss:0.57975\n",
      "[119]\ttrain-mlogloss:0.28984\teval-mlogloss:0.57991\n",
      "[120]\ttrain-mlogloss:0.28837\teval-mlogloss:0.57992\n",
      "[121]\ttrain-mlogloss:0.28732\teval-mlogloss:0.57993\n",
      "[122]\ttrain-mlogloss:0.28565\teval-mlogloss:0.57973\n",
      "[123]\ttrain-mlogloss:0.28446\teval-mlogloss:0.57962\n",
      "[124]\ttrain-mlogloss:0.28317\teval-mlogloss:0.57964\n",
      "[125]\ttrain-mlogloss:0.28208\teval-mlogloss:0.57968\n",
      "[126]\ttrain-mlogloss:0.28092\teval-mlogloss:0.57965\n",
      "[127]\ttrain-mlogloss:0.27958\teval-mlogloss:0.57941\n",
      "[128]\ttrain-mlogloss:0.27801\teval-mlogloss:0.57937\n",
      "[129]\ttrain-mlogloss:0.27663\teval-mlogloss:0.57926\n",
      "[130]\ttrain-mlogloss:0.27551\teval-mlogloss:0.57917\n",
      "[131]\ttrain-mlogloss:0.27393\teval-mlogloss:0.57931\n",
      "[132]\ttrain-mlogloss:0.27259\teval-mlogloss:0.57928\n",
      "[133]\ttrain-mlogloss:0.27074\teval-mlogloss:0.57945\n",
      "[134]\ttrain-mlogloss:0.26923\teval-mlogloss:0.57947\n",
      "[135]\ttrain-mlogloss:0.26823\teval-mlogloss:0.57960\n",
      "[136]\ttrain-mlogloss:0.26713\teval-mlogloss:0.57963\n",
      "[137]\ttrain-mlogloss:0.26570\teval-mlogloss:0.57971\n",
      "[138]\ttrain-mlogloss:0.26451\teval-mlogloss:0.57982\n",
      "[139]\ttrain-mlogloss:0.26328\teval-mlogloss:0.57961\n",
      "[140]\ttrain-mlogloss:0.26185\teval-mlogloss:0.57965\n",
      "[141]\ttrain-mlogloss:0.26070\teval-mlogloss:0.57982\n",
      "[142]\ttrain-mlogloss:0.25949\teval-mlogloss:0.57981\n",
      "[143]\ttrain-mlogloss:0.25857\teval-mlogloss:0.57972\n",
      "[144]\ttrain-mlogloss:0.25786\teval-mlogloss:0.57963\n",
      "[145]\ttrain-mlogloss:0.25696\teval-mlogloss:0.57968\n",
      "[146]\ttrain-mlogloss:0.25582\teval-mlogloss:0.57974\n",
      "[147]\ttrain-mlogloss:0.25462\teval-mlogloss:0.57952\n",
      "[148]\ttrain-mlogloss:0.25318\teval-mlogloss:0.57973\n",
      "[149]\ttrain-mlogloss:0.25211\teval-mlogloss:0.57960\n",
      "[150]\ttrain-mlogloss:0.25094\teval-mlogloss:0.57954\n",
      "[151]\ttrain-mlogloss:0.24943\teval-mlogloss:0.57966\n",
      "[152]\ttrain-mlogloss:0.24827\teval-mlogloss:0.57971\n",
      "[153]\ttrain-mlogloss:0.24738\teval-mlogloss:0.57991\n",
      "[154]\ttrain-mlogloss:0.24633\teval-mlogloss:0.58006\n",
      "[155]\ttrain-mlogloss:0.24534\teval-mlogloss:0.57994\n",
      "[156]\ttrain-mlogloss:0.24432\teval-mlogloss:0.58008\n",
      "[157]\ttrain-mlogloss:0.24320\teval-mlogloss:0.58014\n",
      "[158]\ttrain-mlogloss:0.24223\teval-mlogloss:0.58034\n",
      "[159]\ttrain-mlogloss:0.24110\teval-mlogloss:0.58024\n",
      "[160]\ttrain-mlogloss:0.24008\teval-mlogloss:0.58009\n",
      "[161]\ttrain-mlogloss:0.23891\teval-mlogloss:0.58014\n",
      "[162]\ttrain-mlogloss:0.23814\teval-mlogloss:0.58010\n",
      "[163]\ttrain-mlogloss:0.23708\teval-mlogloss:0.58009\n",
      "[164]\ttrain-mlogloss:0.23590\teval-mlogloss:0.58023\n",
      "[165]\ttrain-mlogloss:0.23502\teval-mlogloss:0.58026\n",
      "[166]\ttrain-mlogloss:0.23415\teval-mlogloss:0.58035\n",
      "[167]\ttrain-mlogloss:0.23305\teval-mlogloss:0.58042\n",
      "[168]\ttrain-mlogloss:0.23259\teval-mlogloss:0.58022\n",
      "[169]\ttrain-mlogloss:0.23136\teval-mlogloss:0.58018\n",
      "[170]\ttrain-mlogloss:0.23034\teval-mlogloss:0.58034\n",
      "[171]\ttrain-mlogloss:0.22975\teval-mlogloss:0.58034\n",
      "[172]\ttrain-mlogloss:0.22890\teval-mlogloss:0.58036\n",
      "[173]\ttrain-mlogloss:0.22750\teval-mlogloss:0.58072\n",
      "[174]\ttrain-mlogloss:0.22622\teval-mlogloss:0.58076\n",
      "[175]\ttrain-mlogloss:0.22550\teval-mlogloss:0.58070\n",
      "[176]\ttrain-mlogloss:0.22458\teval-mlogloss:0.58059\n",
      "[177]\ttrain-mlogloss:0.22377\teval-mlogloss:0.58044\n",
      "[178]\ttrain-mlogloss:0.22318\teval-mlogloss:0.58046\n",
      "[179]\ttrain-mlogloss:0.22249\teval-mlogloss:0.58052\n",
      "[180]\ttrain-mlogloss:0.22141\teval-mlogloss:0.58064\n",
      "[181]\ttrain-mlogloss:0.21990\teval-mlogloss:0.58097\n",
      "[182]\ttrain-mlogloss:0.21852\teval-mlogloss:0.58121\n",
      "[183]\ttrain-mlogloss:0.21762\teval-mlogloss:0.58094\n",
      "[184]\ttrain-mlogloss:0.21708\teval-mlogloss:0.58094\n",
      "[185]\ttrain-mlogloss:0.21592\teval-mlogloss:0.58120\n",
      "[186]\ttrain-mlogloss:0.21537\teval-mlogloss:0.58107\n",
      "[187]\ttrain-mlogloss:0.21486\teval-mlogloss:0.58088\n",
      "[188]\ttrain-mlogloss:0.21413\teval-mlogloss:0.58088\n",
      "[189]\ttrain-mlogloss:0.21350\teval-mlogloss:0.58095\n",
      "[190]\ttrain-mlogloss:0.21233\teval-mlogloss:0.58107\n",
      "[191]\ttrain-mlogloss:0.21149\teval-mlogloss:0.58130\n",
      "[192]\ttrain-mlogloss:0.21038\teval-mlogloss:0.58163\n",
      "[193]\ttrain-mlogloss:0.20931\teval-mlogloss:0.58185\n",
      "[194]\ttrain-mlogloss:0.20796\teval-mlogloss:0.58205\n",
      "[195]\ttrain-mlogloss:0.20750\teval-mlogloss:0.58186\n",
      "[196]\ttrain-mlogloss:0.20610\teval-mlogloss:0.58218\n",
      "[197]\ttrain-mlogloss:0.20528\teval-mlogloss:0.58233\n",
      "[198]\ttrain-mlogloss:0.20472\teval-mlogloss:0.58246\n",
      "[199]\ttrain-mlogloss:0.20391\teval-mlogloss:0.58273\n"
     ]
    }
   ],
   "source": [
    "params_1 = {\n",
    "    'booster': 'gbtree',\n",
    "    'tree_method':'hist',\n",
    "    'max_depth': 8, \n",
    "    'learning_rate': 0.025,\n",
    "    'objective': 'multi:softprob',\n",
    "    'num_class': 2,\n",
    "    'eval_metric':'mlogloss'\n",
    "    }\n",
    "\n",
    "\n",
    "d_train = xgb.DMatrix(X_train.replace({0:np.nan}), y_train)\n",
    "d_valid = xgb.DMatrix(X_valid.replace({0:np.nan}), y_valid)\n",
    "\n",
    "num_round = 10000\n",
    "evallist = [(d_train, 'train'), (d_valid, 'eval')]\n",
    "\n",
    "bst = xgb.train(params_1, d_train, num_round, evallist, early_stopping_rounds=100)"
   ],
   "metadata": {
    "collapsed": false,
    "ExecuteTime": {
     "end_time": "2024-02-23T18:32:47.677988Z",
     "start_time": "2024-02-23T18:32:26.208497Z"
    }
   },
   "id": "459cbd85fe2601cc",
   "execution_count": 463
  },
  {
   "cell_type": "markdown",
   "source": [
    "### Score of the model "
   ],
   "metadata": {
    "collapsed": false
   },
   "id": "40b8c67e5ce6d0f7"
  },
  {
   "cell_type": "code",
   "outputs": [],
   "source": [
    "train_scores = pd.read_csv('Y_train_1rknArQ.csv', index_col=0)\n",
    "target = train_scores.loc[X_test.index].copy()"
   ],
   "metadata": {
    "collapsed": false,
    "ExecuteTime": {
     "end_time": "2024-02-23T18:33:44.978902Z",
     "start_time": "2024-02-23T18:33:44.957188Z"
    }
   },
   "id": "e9bcc593d245d74d",
   "execution_count": 470
  },
  {
   "cell_type": "code",
   "outputs": [
    {
     "data": {
      "text/plain": "0.4447"
     },
     "execution_count": 471,
     "metadata": {},
     "output_type": "execute_result"
    }
   ],
   "source": [
    "X_test_xgb = xgb.DMatrix(X_test)\n",
    "\n",
    "predictions = bst.predict(X_test_xgb, iteration_range=(0, bst.best_iteration))\n",
    "predictions = pd.DataFrame(predictions)\n",
    "\n",
    "predictions[2] = 0\n",
    "predictions.columns = [0,2,1]\n",
    "predictions = (predictions.reindex(columns=[0,1,2]).rank(1,ascending=False)==1).astype(int).values\n",
    "np.round(accuracy_score(predictions,target),4)"
   ],
   "metadata": {
    "collapsed": false,
    "ExecuteTime": {
     "end_time": "2024-02-23T18:33:46.098401Z",
     "start_time": "2024-02-23T18:33:46.065133Z"
    }
   },
   "id": "520ad947ece021a8",
   "execution_count": 471
  },
  {
   "cell_type": "markdown",
   "source": [
    "### Submission"
   ],
   "metadata": {
    "collapsed": false
   },
   "id": "215cbe67dab9320b"
  },
  {
   "cell_type": "code",
   "outputs": [],
   "source": [
    "X_submission = pd.DataFrame(X_test_standard_without_NaN_PCA)\n",
    "#X_submission.columns = columns_name"
   ],
   "metadata": {
    "collapsed": false,
    "ExecuteTime": {
     "end_time": "2024-02-23T18:33:48.021037Z",
     "start_time": "2024-02-23T18:33:48.014685Z"
    }
   },
   "id": "1c4e175448a3b2b9",
   "execution_count": 472
  },
  {
   "cell_type": "code",
   "outputs": [],
   "source": [
    "X_bench = xgb.DMatrix(X_submission)\n",
    "\n",
    "predictions = bst.predict(X_bench, iteration_range=(0, bst.best_iteration))\n",
    "predictions = pd.DataFrame(predictions)\n",
    "\n",
    "predictions[2] = 0\n",
    "predictions.columns = [0,2,1]\n",
    "predictions = (predictions.reindex(columns=[0,1,2]).rank(1,ascending=False)==1).astype(int)\n",
    "\n",
    "Y = pd.read_csv('Y_test_random_sEE2QeA.csv', index_col=0)\n",
    "\n",
    "predictions.columns = ['HOME_WINS', 'DRAW', 'AWAY_WINS']\n",
    "predictions.index = Y.index\n",
    "submission = predictions\n",
    "submission.to_csv('submission.csv', index=True)"
   ],
   "metadata": {
    "collapsed": false,
    "ExecuteTime": {
     "end_time": "2024-02-23T18:33:49.542286Z",
     "start_time": "2024-02-23T18:33:49.474380Z"
    }
   },
   "id": "566b499ce66c8f9a",
   "execution_count": 473
  },
  {
   "cell_type": "markdown",
   "source": [
    "### Gradient Boosting with sklearn"
   ],
   "metadata": {
    "collapsed": false
   },
   "id": "c49987794c1c9fcd"
  },
  {
   "cell_type": "code",
   "outputs": [
    {
     "name": "stdout",
     "output_type": "stream",
     "text": [
      "              precision    recall  f1-score   support\n",
      "\n",
      "           0       0.71      0.93      0.81       843\n",
      "           1       0.56      0.19      0.28       387\n",
      "\n",
      "    accuracy                           0.70      1230\n",
      "   macro avg       0.64      0.56      0.54      1230\n",
      "weighted avg       0.66      0.70      0.64      1230\n"
     ]
    }
   ],
   "source": [
    "GB = HistGradientBoostingClassifier()\n",
    "GB.fit(X_train, y_train)\n",
    "\n",
    "y_pred2 = GB.predict(X_test)\n",
    "print(classification_report(y_test, y_pred2))"
   ],
   "metadata": {
    "collapsed": false,
    "ExecuteTime": {
     "end_time": "2024-02-23T22:01:35.581016Z",
     "start_time": "2024-02-23T22:01:33.694607Z"
    }
   },
   "id": "e8c546df9b49815e",
   "execution_count": 474
  },
  {
   "cell_type": "markdown",
   "source": [
    "### AdaBoost Classifier"
   ],
   "metadata": {
    "collapsed": false
   },
   "id": "d9da18ea68599d19"
  },
  {
   "cell_type": "code",
   "outputs": [
    {
     "name": "stderr",
     "output_type": "stream",
     "text": [
      "/Users/mjolif/Documents/Data-Challenge-ENS/Football-matches-outcome-prediction/venv/lib/python3.11/site-packages/sklearn/ensemble/_weight_boosting.py:519: FutureWarning: The SAMME.R algorithm (the default) is deprecated and will be removed in 1.6. Use the SAMME algorithm to circumvent this warning.\n",
      "  warnings.warn(\n"
     ]
    },
    {
     "name": "stdout",
     "output_type": "stream",
     "text": [
      "              precision    recall  f1-score   support\n",
      "\n",
      "           0       0.71      0.89      0.79       843\n",
      "           1       0.48      0.22      0.30       387\n",
      "\n",
      "    accuracy                           0.68      1230\n",
      "   macro avg       0.59      0.55      0.55      1230\n",
      "weighted avg       0.64      0.68      0.64      1230\n"
     ]
    }
   ],
   "source": [
    "ABC = AdaBoostClassifier()\n",
    "ABC.fit(X_train, y_train)\n",
    "\n",
    "y_pred3 = ABC.predict(X_test)\n",
    "print(classification_report(y_test, y_pred3))"
   ],
   "metadata": {
    "collapsed": false,
    "ExecuteTime": {
     "end_time": "2024-02-23T22:01:50.859218Z",
     "start_time": "2024-02-23T22:01:35.583250Z"
    }
   },
   "id": "5fe70caa623d4489",
   "execution_count": 475
  },
  {
   "cell_type": "markdown",
   "source": [
    "### Bagging Classifier"
   ],
   "metadata": {
    "collapsed": false
   },
   "id": "5c5a9696ff6ded16"
  },
  {
   "cell_type": "code",
   "outputs": [
    {
     "name": "stdout",
     "output_type": "stream",
     "text": [
      "              precision    recall  f1-score   support\n",
      "\n",
      "           0       0.70      0.90      0.79       843\n",
      "           1       0.45      0.17      0.24       387\n",
      "\n",
      "    accuracy                           0.67      1230\n",
      "   macro avg       0.57      0.54      0.52      1230\n",
      "weighted avg       0.62      0.67      0.62      1230\n"
     ]
    }
   ],
   "source": [
    "Bg = BaggingClassifier()\n",
    "Bg.fit(X_train, y_train)\n",
    "\n",
    "y_pred3 = Bg.predict(X_test)\n",
    "print(classification_report(y_test, y_pred3))"
   ],
   "metadata": {
    "collapsed": false,
    "ExecuteTime": {
     "end_time": "2024-02-23T22:02:25.039005Z",
     "start_time": "2024-02-23T22:01:50.860752Z"
    }
   },
   "id": "beda989b641fae51",
   "execution_count": 476
  },
  {
   "cell_type": "markdown",
   "source": [
    "### RandomForest Classifier"
   ],
   "metadata": {
    "collapsed": false
   },
   "id": "8bff3432bdd41a12"
  },
  {
   "cell_type": "code",
   "outputs": [
    {
     "name": "stdout",
     "output_type": "stream",
     "text": [
      "              precision    recall  f1-score   support\n",
      "\n",
      "           0       0.69      1.00      0.82       843\n",
      "           1       0.75      0.02      0.05       387\n",
      "\n",
      "    accuracy                           0.69      1230\n",
      "   macro avg       0.72      0.51      0.43      1230\n",
      "weighted avg       0.71      0.69      0.57      1230\n"
     ]
    }
   ],
   "source": [
    "RF = RandomForestClassifier()\n",
    "RF.fit(X_train, y_train)\n",
    "\n",
    "y_pred3 = RF.predict(X_test)\n",
    "print(classification_report(y_test, y_pred3))"
   ],
   "metadata": {
    "collapsed": false,
    "ExecuteTime": {
     "end_time": "2024-02-23T22:02:39.683681Z",
     "start_time": "2024-02-23T22:02:25.042597Z"
    }
   },
   "id": "d35da0b67117fbff",
   "execution_count": 477
  }
 ],
 "metadata": {
  "kernelspec": {
   "display_name": "Python 3",
   "language": "python",
   "name": "python3"
  },
  "language_info": {
   "codemirror_mode": {
    "name": "ipython",
    "version": 2
   },
   "file_extension": ".py",
   "mimetype": "text/x-python",
   "name": "python",
   "nbconvert_exporter": "python",
   "pygments_lexer": "ipython2",
   "version": "2.7.6"
  }
 },
 "nbformat": 4,
 "nbformat_minor": 5
}
