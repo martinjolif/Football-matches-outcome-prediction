{
 "cells": [
  {
   "cell_type": "markdown",
   "source": [
    "### Import Data"
   ],
   "metadata": {
    "collapsed": false
   },
   "id": "51d4f6d55f369975"
  },
  {
   "cell_type": "code",
   "outputs": [],
   "source": [
    "import pandas as pd\n",
    "import numpy as np\n",
    "from sklearn import preprocessing"
   ],
   "metadata": {
    "collapsed": false,
    "ExecuteTime": {
     "end_time": "2024-01-24T18:18:20.976009Z",
     "start_time": "2024-01-24T18:18:20.972827Z"
    }
   },
   "id": "fa4fe5b26ff7c292",
   "execution_count": 8
  },
  {
   "cell_type": "code",
   "outputs": [],
   "source": [
    "train_away_player_statistics_df = pd.read_csv('Train_Data/train_away_player_statistics_df.csv')\n",
    "train_away_team_statistics_df = pd.read_csv('Train_Data/train_away_team_statistics_df.csv')\n",
    "train_home_player_statistics_df = pd.read_csv('Train_Data/train_home_player_statistics_df.csv')\n",
    "train_home_team_statistics_df = pd.read_csv('Train_Data/train_home_team_statistics_df.csv')\n",
    "\n",
    "y_train = pd.read_csv('Y_train_1rknArQ.csv')\n",
    "\n",
    "test_away_player_statistics_df = pd.read_csv('Test_Data/test_away_player_statistics_df.csv')\n",
    "test_away_team_statistics_df = pd.read_csv('Test_Data/test_away_team_statistics_df.csv')\n",
    "test_home_player_statistics_df = pd.read_csv('Test_Data/test_home_player_statistics_df.csv')\n",
    "test_home_team_statistics_df = pd.read_csv('Test_Data/test_home_team_statistics_df.csv')"
   ],
   "metadata": {
    "collapsed": false,
    "ExecuteTime": {
     "end_time": "2024-01-24T18:18:34.017598Z",
     "start_time": "2024-01-24T18:18:20.979730Z"
    }
   },
   "id": "90c338f6945ad840",
   "execution_count": 9
  },
  {
   "cell_type": "markdown",
   "source": [
    "### Data Preprocessing"
   ],
   "metadata": {
    "collapsed": false
   },
   "id": "4a37de918168fe40"
  },
  {
   "cell_type": "code",
   "outputs": [],
   "source": [
    "train_away_player_statistics_df = train_away_player_statistics_df.drop(labels=['PLAYER_NAME'], axis=1)\n",
    "\n",
    "train_home_player_statistics_df = train_home_player_statistics_df.drop(labels=['PLAYER_NAME'], axis=1)"
   ],
   "metadata": {
    "collapsed": false,
    "ExecuteTime": {
     "end_time": "2024-01-24T18:18:34.360171Z",
     "start_time": "2024-01-24T18:18:34.018305Z"
    }
   },
   "id": "a349d6480f4a1c9",
   "execution_count": 10
  },
  {
   "cell_type": "code",
   "outputs": [
    {
     "data": {
      "text/plain": "           ID   LEAGUE            TEAM_NAME    POSITION  \\\n0           0  Ligue 1  Olympique Marseille    defender   \n1           0  Ligue 1  Olympique Marseille  midfielder   \n2           0  Ligue 1  Olympique Marseille  goalkeeper   \n3           0  Ligue 1  Olympique Marseille    defender   \n4           0  Ligue 1  Olympique Marseille         NaN   \n...       ...      ...                  ...         ...   \n236127  12302  La Liga         FC Barcelona  goalkeeper   \n236128  12302  La Liga         FC Barcelona  midfielder   \n236129  12302  La Liga         FC Barcelona    attacker   \n236130  12302  La Liga         FC Barcelona    attacker   \n236131  12302  La Liga         FC Barcelona  midfielder   \n\n        PLAYER_ACCURATE_CROSSES_season_sum  PLAYER_ACCURATE_PASSES_season_sum  \\\n0                                      0.0                               19.0   \n1                                      2.0                               48.0   \n2                                      0.0                                0.0   \n3                                      0.0                                0.0   \n4                                      8.0                               11.0   \n...                                    ...                                ...   \n236127                                 0.0                               36.0   \n236128                                 NaN                                NaN   \n236129                                25.0                               53.0   \n236130                                 6.0                               45.0   \n236131                                12.0                               12.0   \n\n        PLAYER_AERIALS_WON_season_sum  PLAYER_ASSISTS_season_sum  \\\n0                                20.0                        0.0   \n1                                19.0                       28.0   \n2                                 0.0                        0.0   \n3                                 0.0                        0.0   \n4                                 4.0                        0.0   \n...                               ...                        ...   \n236127                            6.0                       33.0   \n236128                            NaN                        NaN   \n236129                            4.0                      100.0   \n236130                           12.0                       66.0   \n236131                            2.0                       16.0   \n\n        PLAYER_BIG_CHANCES_CREATED_season_sum  \\\n0                                         0.0   \n1                                         8.0   \n2                                         0.0   \n3                                         0.0   \n4                                         0.0   \n...                                       ...   \n236127                                   12.0   \n236128                                    NaN   \n236129                                  100.0   \n236130                                   18.0   \n236131                                   12.0   \n\n        PLAYER_BIG_CHANCES_MISSED_season_sum  ...  \\\n0                                       12.0  ...   \n1                                       12.0  ...   \n2                                        0.0  ...   \n3                                        0.0  ...   \n4                                       12.0  ...   \n...                                      ...  ...   \n236127                                   0.0  ...   \n236128                                   NaN  ...   \n236129                                  28.0  ...   \n236130                                  21.0  ...   \n236131                                  21.0  ...   \n\n        PLAYER_STARTING_LINEUP_5_last_match_std  \\\n0                                          70.0   \n1                                          77.0   \n2                                           0.0   \n3                                           NaN   \n4                                          77.0   \n...                                         ...   \n236127                                      0.0   \n236128                                      NaN   \n236129                                      0.0   \n236130                                      0.0   \n236131                                     63.0   \n\n        PLAYER_SUCCESSFUL_DRIBBLES_5_last_match_std  \\\n0                                              30.0   \n1                                               0.0   \n2                                               0.0   \n3                                               NaN   \n4                                              69.0   \n...                                             ...   \n236127                                          0.0   \n236128                                          NaN   \n236129                                         76.0   \n236130                                         26.0   \n236131                                          0.0   \n\n        PLAYER_TACKLES_5_last_match_std  \\\n0                                  46.0   \n1                                  40.0   \n2                                   0.0   \n3                                   NaN   \n4                                  21.0   \n...                                 ...   \n236127                              0.0   \n236128                              NaN   \n236129                             29.0   \n236130                             14.0   \n236131                             29.0   \n\n        PLAYER_TOTAL_CROSSES_5_last_match_std  \\\n0                                         0.0   \n1                                         6.0   \n2                                         0.0   \n3                                         NaN   \n4                                        13.0   \n...                                       ...   \n236127                                    0.0   \n236128                                    NaN   \n236129                                   30.0   \n236130                                   12.0   \n236131                                   16.0   \n\n        PLAYER_TOTAL_DUELS_5_last_match_std  \\\n0                                      79.0   \n1                                      46.0   \n2                                       0.0   \n3                                       NaN   \n4                                      66.0   \n...                                     ...   \n236127                                  8.0   \n236128                                  NaN   \n236129                                 36.0   \n236130                                 24.0   \n236131                                 28.0   \n\n        PLAYER_YELLOWCARDS_5_last_match_std  PLAYER_PUNCHES_5_last_match_std  \\\n0                                      99.0                              NaN   \n1                                      77.0                              NaN   \n2                                       0.0                              NaN   \n3                                       NaN                              NaN   \n4                                       0.0                              NaN   \n...                                     ...                              ...   \n236127                                  0.0                              NaN   \n236128                                  NaN                              NaN   \n236129                                  0.0                              NaN   \n236130                                  0.0                              NaN   \n236131                                  0.0                              NaN   \n\n        PLAYER_LONG_BALLS_5_last_match_std  \\\n0                                      NaN   \n1                                      NaN   \n2                                      NaN   \n3                                      NaN   \n4                                      NaN   \n...                                    ...   \n236127                                 NaN   \n236128                                 NaN   \n236129                                 NaN   \n236130                                 NaN   \n236131                                 NaN   \n\n        PLAYER_LONG_BALLS_WON_5_last_match_std  \\\n0                                          NaN   \n1                                          NaN   \n2                                          NaN   \n3                                          NaN   \n4                                          NaN   \n...                                        ...   \n236127                                     NaN   \n236128                                     NaN   \n236129                                     NaN   \n236130                                     NaN   \n236131                                     NaN   \n\n        PLAYER_SHOTS_OFF_TARGET_5_last_match_std  \n0                                            NaN  \n1                                            NaN  \n2                                            NaN  \n3                                            NaN  \n4                                            NaN  \n...                                          ...  \n236127                                       NaN  \n236128                                       NaN  \n236129                                       NaN  \n236130                                       NaN  \n236131                                       NaN  \n\n[236132 rows x 306 columns]",
      "text/html": "<div>\n<style scoped>\n    .dataframe tbody tr th:only-of-type {\n        vertical-align: middle;\n    }\n\n    .dataframe tbody tr th {\n        vertical-align: top;\n    }\n\n    .dataframe thead th {\n        text-align: right;\n    }\n</style>\n<table border=\"1\" class=\"dataframe\">\n  <thead>\n    <tr style=\"text-align: right;\">\n      <th></th>\n      <th>ID</th>\n      <th>LEAGUE</th>\n      <th>TEAM_NAME</th>\n      <th>POSITION</th>\n      <th>PLAYER_ACCURATE_CROSSES_season_sum</th>\n      <th>PLAYER_ACCURATE_PASSES_season_sum</th>\n      <th>PLAYER_AERIALS_WON_season_sum</th>\n      <th>PLAYER_ASSISTS_season_sum</th>\n      <th>PLAYER_BIG_CHANCES_CREATED_season_sum</th>\n      <th>PLAYER_BIG_CHANCES_MISSED_season_sum</th>\n      <th>...</th>\n      <th>PLAYER_STARTING_LINEUP_5_last_match_std</th>\n      <th>PLAYER_SUCCESSFUL_DRIBBLES_5_last_match_std</th>\n      <th>PLAYER_TACKLES_5_last_match_std</th>\n      <th>PLAYER_TOTAL_CROSSES_5_last_match_std</th>\n      <th>PLAYER_TOTAL_DUELS_5_last_match_std</th>\n      <th>PLAYER_YELLOWCARDS_5_last_match_std</th>\n      <th>PLAYER_PUNCHES_5_last_match_std</th>\n      <th>PLAYER_LONG_BALLS_5_last_match_std</th>\n      <th>PLAYER_LONG_BALLS_WON_5_last_match_std</th>\n      <th>PLAYER_SHOTS_OFF_TARGET_5_last_match_std</th>\n    </tr>\n  </thead>\n  <tbody>\n    <tr>\n      <th>0</th>\n      <td>0</td>\n      <td>Ligue 1</td>\n      <td>Olympique Marseille</td>\n      <td>defender</td>\n      <td>0.0</td>\n      <td>19.0</td>\n      <td>20.0</td>\n      <td>0.0</td>\n      <td>0.0</td>\n      <td>12.0</td>\n      <td>...</td>\n      <td>70.0</td>\n      <td>30.0</td>\n      <td>46.0</td>\n      <td>0.0</td>\n      <td>79.0</td>\n      <td>99.0</td>\n      <td>NaN</td>\n      <td>NaN</td>\n      <td>NaN</td>\n      <td>NaN</td>\n    </tr>\n    <tr>\n      <th>1</th>\n      <td>0</td>\n      <td>Ligue 1</td>\n      <td>Olympique Marseille</td>\n      <td>midfielder</td>\n      <td>2.0</td>\n      <td>48.0</td>\n      <td>19.0</td>\n      <td>28.0</td>\n      <td>8.0</td>\n      <td>12.0</td>\n      <td>...</td>\n      <td>77.0</td>\n      <td>0.0</td>\n      <td>40.0</td>\n      <td>6.0</td>\n      <td>46.0</td>\n      <td>77.0</td>\n      <td>NaN</td>\n      <td>NaN</td>\n      <td>NaN</td>\n      <td>NaN</td>\n    </tr>\n    <tr>\n      <th>2</th>\n      <td>0</td>\n      <td>Ligue 1</td>\n      <td>Olympique Marseille</td>\n      <td>goalkeeper</td>\n      <td>0.0</td>\n      <td>0.0</td>\n      <td>0.0</td>\n      <td>0.0</td>\n      <td>0.0</td>\n      <td>0.0</td>\n      <td>...</td>\n      <td>0.0</td>\n      <td>0.0</td>\n      <td>0.0</td>\n      <td>0.0</td>\n      <td>0.0</td>\n      <td>0.0</td>\n      <td>NaN</td>\n      <td>NaN</td>\n      <td>NaN</td>\n      <td>NaN</td>\n    </tr>\n    <tr>\n      <th>3</th>\n      <td>0</td>\n      <td>Ligue 1</td>\n      <td>Olympique Marseille</td>\n      <td>defender</td>\n      <td>0.0</td>\n      <td>0.0</td>\n      <td>0.0</td>\n      <td>0.0</td>\n      <td>0.0</td>\n      <td>0.0</td>\n      <td>...</td>\n      <td>NaN</td>\n      <td>NaN</td>\n      <td>NaN</td>\n      <td>NaN</td>\n      <td>NaN</td>\n      <td>NaN</td>\n      <td>NaN</td>\n      <td>NaN</td>\n      <td>NaN</td>\n      <td>NaN</td>\n    </tr>\n    <tr>\n      <th>4</th>\n      <td>0</td>\n      <td>Ligue 1</td>\n      <td>Olympique Marseille</td>\n      <td>NaN</td>\n      <td>8.0</td>\n      <td>11.0</td>\n      <td>4.0</td>\n      <td>0.0</td>\n      <td>0.0</td>\n      <td>12.0</td>\n      <td>...</td>\n      <td>77.0</td>\n      <td>69.0</td>\n      <td>21.0</td>\n      <td>13.0</td>\n      <td>66.0</td>\n      <td>0.0</td>\n      <td>NaN</td>\n      <td>NaN</td>\n      <td>NaN</td>\n      <td>NaN</td>\n    </tr>\n    <tr>\n      <th>...</th>\n      <td>...</td>\n      <td>...</td>\n      <td>...</td>\n      <td>...</td>\n      <td>...</td>\n      <td>...</td>\n      <td>...</td>\n      <td>...</td>\n      <td>...</td>\n      <td>...</td>\n      <td>...</td>\n      <td>...</td>\n      <td>...</td>\n      <td>...</td>\n      <td>...</td>\n      <td>...</td>\n      <td>...</td>\n      <td>...</td>\n      <td>...</td>\n      <td>...</td>\n      <td>...</td>\n    </tr>\n    <tr>\n      <th>236127</th>\n      <td>12302</td>\n      <td>La Liga</td>\n      <td>FC Barcelona</td>\n      <td>goalkeeper</td>\n      <td>0.0</td>\n      <td>36.0</td>\n      <td>6.0</td>\n      <td>33.0</td>\n      <td>12.0</td>\n      <td>0.0</td>\n      <td>...</td>\n      <td>0.0</td>\n      <td>0.0</td>\n      <td>0.0</td>\n      <td>0.0</td>\n      <td>8.0</td>\n      <td>0.0</td>\n      <td>NaN</td>\n      <td>NaN</td>\n      <td>NaN</td>\n      <td>NaN</td>\n    </tr>\n    <tr>\n      <th>236128</th>\n      <td>12302</td>\n      <td>La Liga</td>\n      <td>FC Barcelona</td>\n      <td>midfielder</td>\n      <td>NaN</td>\n      <td>NaN</td>\n      <td>NaN</td>\n      <td>NaN</td>\n      <td>NaN</td>\n      <td>NaN</td>\n      <td>...</td>\n      <td>NaN</td>\n      <td>NaN</td>\n      <td>NaN</td>\n      <td>NaN</td>\n      <td>NaN</td>\n      <td>NaN</td>\n      <td>NaN</td>\n      <td>NaN</td>\n      <td>NaN</td>\n      <td>NaN</td>\n    </tr>\n    <tr>\n      <th>236129</th>\n      <td>12302</td>\n      <td>La Liga</td>\n      <td>FC Barcelona</td>\n      <td>attacker</td>\n      <td>25.0</td>\n      <td>53.0</td>\n      <td>4.0</td>\n      <td>100.0</td>\n      <td>100.0</td>\n      <td>28.0</td>\n      <td>...</td>\n      <td>0.0</td>\n      <td>76.0</td>\n      <td>29.0</td>\n      <td>30.0</td>\n      <td>36.0</td>\n      <td>0.0</td>\n      <td>NaN</td>\n      <td>NaN</td>\n      <td>NaN</td>\n      <td>NaN</td>\n    </tr>\n    <tr>\n      <th>236130</th>\n      <td>12302</td>\n      <td>La Liga</td>\n      <td>FC Barcelona</td>\n      <td>attacker</td>\n      <td>6.0</td>\n      <td>45.0</td>\n      <td>12.0</td>\n      <td>66.0</td>\n      <td>18.0</td>\n      <td>21.0</td>\n      <td>...</td>\n      <td>0.0</td>\n      <td>26.0</td>\n      <td>14.0</td>\n      <td>12.0</td>\n      <td>24.0</td>\n      <td>0.0</td>\n      <td>NaN</td>\n      <td>NaN</td>\n      <td>NaN</td>\n      <td>NaN</td>\n    </tr>\n    <tr>\n      <th>236131</th>\n      <td>12302</td>\n      <td>La Liga</td>\n      <td>FC Barcelona</td>\n      <td>midfielder</td>\n      <td>12.0</td>\n      <td>12.0</td>\n      <td>2.0</td>\n      <td>16.0</td>\n      <td>12.0</td>\n      <td>21.0</td>\n      <td>...</td>\n      <td>63.0</td>\n      <td>0.0</td>\n      <td>29.0</td>\n      <td>16.0</td>\n      <td>28.0</td>\n      <td>0.0</td>\n      <td>NaN</td>\n      <td>NaN</td>\n      <td>NaN</td>\n      <td>NaN</td>\n    </tr>\n  </tbody>\n</table>\n<p>236132 rows × 306 columns</p>\n</div>"
     },
     "execution_count": 11,
     "metadata": {},
     "output_type": "execute_result"
    }
   ],
   "source": [
    "train_away_player_statistics_df"
   ],
   "metadata": {
    "collapsed": false,
    "ExecuteTime": {
     "end_time": "2024-01-24T18:18:34.400815Z",
     "start_time": "2024-01-24T18:18:34.361131Z"
    }
   },
   "id": "c5cd0ab43a62826c",
   "execution_count": 11
  },
  {
   "cell_type": "code",
   "outputs": [],
   "source": [
    "enc = preprocessing.OrdinalEncoder()\n",
    "\n",
    "POSITION_away_player_encoding = enc.fit_transform(train_away_player_statistics_df['POSITION'].to_numpy().reshape(-1, 1))\n",
    "LEAGUE_away_player_encoding = enc.fit_transform(train_away_player_statistics_df['LEAGUE'].to_numpy().reshape(-1, 1))\n",
    "TEAM_NAME_away_player_encoding = enc.fit_transform(train_away_player_statistics_df['TEAM_NAME'].to_numpy().reshape(-1, 1))\n",
    "\n",
    "LEAGUE_away_team_encoding = enc.fit_transform(train_away_team_statistics_df['LEAGUE'].to_numpy().reshape(-1, 1))\n",
    "TEAM_NAME_away_team_encoding = enc.fit_transform(train_away_team_statistics_df['TEAM_NAME'].to_numpy().reshape(-1, 1))\n",
    "\n",
    "\n",
    "POSITION_home_player_encoding = enc.fit_transform(train_home_player_statistics_df['POSITION'].to_numpy().reshape(-1, 1))\n",
    "LEAGUE_home_player_encoding = enc.fit_transform(train_home_player_statistics_df['LEAGUE'].to_numpy().reshape(-1, 1))\n",
    "TEAM_NAME_home_player_encoding = enc.fit_transform(train_home_player_statistics_df['TEAM_NAME'].to_numpy().reshape(-1, 1))\n",
    "\n",
    "LEAGUE_home_team_encoding = enc.fit_transform(train_home_team_statistics_df['LEAGUE'].to_numpy().reshape(-1, 1))\n",
    "TEAM_NAME_home_team_encoding = enc.fit_transform(train_home_team_statistics_df['TEAM_NAME'].to_numpy().reshape(-1, 1))"
   ],
   "metadata": {
    "collapsed": false,
    "ExecuteTime": {
     "end_time": "2024-01-24T18:18:34.524533Z",
     "start_time": "2024-01-24T18:18:34.405664Z"
    }
   },
   "id": "d4652dd5069246ef",
   "execution_count": 12
  },
  {
   "cell_type": "code",
   "outputs": [],
   "source": [
    "train_away_player_statistics_df['POSITION'] = POSITION_away_player_encoding\n",
    "train_away_player_statistics_df['LEAGUE'] = LEAGUE_away_player_encoding\n",
    "train_away_player_statistics_df['TEAM_NAME'] = TEAM_NAME_away_player_encoding\n",
    "\n",
    "train_away_team_statistics_df['LEAGUE'] = LEAGUE_away_team_encoding\n",
    "train_away_team_statistics_df['TEAM_NAME'] = TEAM_NAME_away_team_encoding\n",
    "\n",
    "\n",
    "train_home_player_statistics_df['POSITION'] = POSITION_home_player_encoding\n",
    "train_home_player_statistics_df['LEAGUE'] = LEAGUE_home_player_encoding\n",
    "train_home_player_statistics_df['TEAM_NAME'] = TEAM_NAME_home_player_encoding\n",
    "\n",
    "train_home_team_statistics_df['LEAGUE'] = LEAGUE_home_team_encoding\n",
    "train_home_team_statistics_df['TEAM_NAME'] = TEAM_NAME_home_team_encoding"
   ],
   "metadata": {
    "collapsed": false,
    "ExecuteTime": {
     "end_time": "2024-01-24T18:18:34.531125Z",
     "start_time": "2024-01-24T18:18:34.524129Z"
    }
   },
   "id": "6949b648ef16baa4",
   "execution_count": 13
  },
  {
   "cell_type": "code",
   "outputs": [],
   "source": [],
   "metadata": {
    "collapsed": false,
    "ExecuteTime": {
     "end_time": "2024-01-24T18:18:34.533346Z",
     "start_time": "2024-01-24T18:18:34.531304Z"
    }
   },
   "id": "138df7c3063e8e80",
   "execution_count": 13
  },
  {
   "cell_type": "code",
   "outputs": [],
   "source": [],
   "metadata": {
    "collapsed": false,
    "ExecuteTime": {
     "end_time": "2024-01-24T18:18:34.535947Z",
     "start_time": "2024-01-24T18:18:34.532836Z"
    }
   },
   "id": "e769775f803d5833",
   "execution_count": 13
  }
 ],
 "metadata": {
  "kernelspec": {
   "display_name": "Python 3",
   "language": "python",
   "name": "python3"
  },
  "language_info": {
   "codemirror_mode": {
    "name": "ipython",
    "version": 2
   },
   "file_extension": ".py",
   "mimetype": "text/x-python",
   "name": "python",
   "nbconvert_exporter": "python",
   "pygments_lexer": "ipython2",
   "version": "2.7.6"
  }
 },
 "nbformat": 4,
 "nbformat_minor": 5
}
