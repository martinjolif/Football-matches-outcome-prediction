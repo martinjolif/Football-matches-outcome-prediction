{
 "cells": [
  {
   "cell_type": "markdown",
   "source": [
    "### Libraries"
   ],
   "metadata": {
    "collapsed": false
   },
   "id": "217755627b10c351"
  },
  {
   "cell_type": "code",
   "outputs": [],
   "source": [
    "import pandas as pd\n",
    "import numpy as np\n",
    "from sklearn import preprocessing\n",
    "from sklearn import model_selection\n",
    "from sklearn.linear_model import LogisticRegression\n",
    "import xgboost as xgb\n",
    "import matplotlib.pyplot as plt\n",
    "from sklearn.metrics import accuracy_score\n"
   ],
   "metadata": {
    "collapsed": true,
    "ExecuteTime": {
     "end_time": "2024-02-18T22:17:14.254710Z",
     "start_time": "2024-02-18T22:17:14.186617Z"
    }
   },
   "id": "initial_id",
   "execution_count": 258
  },
  {
   "cell_type": "markdown",
   "source": [
    "### Import Data"
   ],
   "metadata": {
    "collapsed": false
   },
   "id": "39673bbad8e9559c"
  },
  {
   "cell_type": "code",
   "outputs": [],
   "source": [
    "train_away_player_statistics_df = pd.read_csv('Train_Data/train_away_player_statistics_df.csv', index_col=0)\n",
    "train_away_team_statistics_df = pd.read_csv('Train_Data/train_away_team_statistics_df.csv', index_col=0)\n",
    "train_home_player_statistics_df = pd.read_csv('Train_Data/train_home_player_statistics_df.csv', index_col=0)\n",
    "train_home_team_statistics_df = pd.read_csv('Train_Data/train_home_team_statistics_df.csv', index_col=0)\n",
    "\n",
    "Y_train = pd.read_csv('Y_train_1rknArQ.csv', index_col=0)\n",
    "\n",
    "test_away_player_statistics_df = pd.read_csv('Test_Data/test_away_player_statistics_df.csv', index_col=0)\n",
    "test_away_team_statistics_df = pd.read_csv('Test_Data/test_away_team_statistics_df.csv', index_col=0)\n",
    "test_home_player_statistics_df = pd.read_csv('Test_Data/test_home_player_statistics_df.csv', index_col=0)\n",
    "test_home_team_statistics_df = pd.read_csv('Test_Data/test_home_team_statistics_df.csv', index_col=0)"
   ],
   "metadata": {
    "collapsed": false,
    "ExecuteTime": {
     "end_time": "2024-02-18T22:17:29.407498Z",
     "start_time": "2024-02-18T22:17:14.258191Z"
    }
   },
   "id": "d7f002c37f3eddce",
   "execution_count": 259
  },
  {
   "cell_type": "markdown",
   "source": [
    "### Train Data processing"
   ],
   "metadata": {
    "collapsed": false
   },
   "id": "48685008ce16b4a1"
  },
  {
   "cell_type": "code",
   "outputs": [],
   "source": [
    "train_away_player_statistics_df = train_away_player_statistics_df.drop(labels=['PLAYER_NAME', 'PLAYER_CAPTAIN_season_sum', 'PLAYER_LONG_BALLS_season_sum', 'PLAYER_LONG_BALLS_WON_season_sum', 'PLAYER_SHOTS_OFF_TARGET_season_sum', 'PLAYER_CAPTAIN_season_average', 'PLAYER_PUNCHES_season_average', 'PLAYER_LONG_BALLS_season_average', 'PLAYER_LONG_BALLS_WON_season_average', 'PLAYER_SHOTS_OFF_TARGET_season_average', 'PLAYER_CAPTAIN_season_std', 'PLAYER_PUNCHES_season_std', 'PLAYER_LONG_BALLS_season_std', 'PLAYER_LONG_BALLS_WON_season_std', 'PLAYER_SHOTS_OFF_TARGET_season_std', 'PLAYER_CAPTAIN_5_last_match_sum', 'PLAYER_PUNCHES_5_last_match_sum', 'PLAYER_LONG_BALLS_5_last_match_sum', 'PLAYER_LONG_BALLS_WON_5_last_match_sum', 'PLAYER_SHOTS_OFF_TARGET_5_last_match_sum', 'PLAYER_CAPTAIN_5_last_match_average', 'PLAYER_PUNCHES_5_last_match_average', 'PLAYER_LONG_BALLS_5_last_match_average', 'PLAYER_LONG_BALLS_WON_5_last_match_average', 'PLAYER_SHOTS_OFF_TARGET_5_last_match_average', 'PLAYER_CAPTAIN_5_last_match_std', 'PLAYER_PUNCHES_5_last_match_std', 'PLAYER_LONG_BALLS_5_last_match_std', 'PLAYER_LONG_BALLS_WON_5_last_match_std', 'PLAYER_SHOTS_OFF_TARGET_5_last_match_std'], axis=1)\n",
    "\n",
    "train_home_player_statistics_df = train_home_player_statistics_df.drop(labels=['PLAYER_NAME', 'PLAYER_CAPTAIN_season_sum', 'PLAYER_LONG_BALLS_season_sum', 'PLAYER_LONG_BALLS_WON_season_sum', 'PLAYER_SHOTS_OFF_TARGET_season_sum', 'PLAYER_CAPTAIN_season_average', 'PLAYER_PUNCHES_season_average', 'PLAYER_LONG_BALLS_season_average', 'PLAYER_LONG_BALLS_WON_season_average', 'PLAYER_SHOTS_OFF_TARGET_season_average', 'PLAYER_CAPTAIN_season_std', 'PLAYER_PUNCHES_season_std', 'PLAYER_LONG_BALLS_season_std', 'PLAYER_LONG_BALLS_WON_season_std', 'PLAYER_SHOTS_OFF_TARGET_season_std', 'PLAYER_CAPTAIN_5_last_match_sum', 'PLAYER_PUNCHES_5_last_match_sum', 'PLAYER_LONG_BALLS_5_last_match_sum', 'PLAYER_LONG_BALLS_WON_5_last_match_sum', 'PLAYER_SHOTS_OFF_TARGET_5_last_match_sum', 'PLAYER_CAPTAIN_5_last_match_average', 'PLAYER_PUNCHES_5_last_match_average', 'PLAYER_LONG_BALLS_5_last_match_average', 'PLAYER_LONG_BALLS_WON_5_last_match_average', 'PLAYER_SHOTS_OFF_TARGET_5_last_match_average', 'PLAYER_CAPTAIN_5_last_match_std', 'PLAYER_PUNCHES_5_last_match_std', 'PLAYER_LONG_BALLS_5_last_match_std', 'PLAYER_LONG_BALLS_WON_5_last_match_std', 'PLAYER_SHOTS_OFF_TARGET_5_last_match_std'], axis=1)"
   ],
   "metadata": {
    "collapsed": false,
    "ExecuteTime": {
     "end_time": "2024-02-18T22:17:29.757264Z",
     "start_time": "2024-02-18T22:17:29.409387Z"
    }
   },
   "id": "abea3882c0b54541",
   "execution_count": 260
  },
  {
   "cell_type": "code",
   "outputs": [],
   "source": [
    "train_home_team_statistics_df = train_home_team_statistics_df.iloc[:,2:]\n",
    "train_away_team_statistics_df = train_away_team_statistics_df.iloc[:,2:]\n",
    "\n",
    "train_home_team_statistics_df.columns = 'HOME_' + train_home_team_statistics_df.columns\n",
    "train_away_team_statistics_df.columns = 'AWAY_' + train_away_team_statistics_df.columns"
   ],
   "metadata": {
    "collapsed": false,
    "ExecuteTime": {
     "end_time": "2024-02-18T22:17:29.767141Z",
     "start_time": "2024-02-18T22:17:29.757958Z"
    }
   },
   "id": "77b23164437d083c",
   "execution_count": 261
  },
  {
   "cell_type": "code",
   "outputs": [
    {
     "data": {
      "text/plain": "       HOME_TEAM_SHOTS_TOTAL_season_sum  HOME_TEAM_SHOTS_INSIDEBOX_season_sum  \\\nID                                                                              \n0                                   3.0                                   2.0   \n1                                   6.0                                   8.0   \n2                                   4.0                                   2.0   \n3                                   7.0                                   5.0   \n4                                   3.0                                   3.0   \n...                                 ...                                   ...   \n12298                               4.0                                   2.0   \n12299                               4.0                                   2.0   \n12300                               4.0                                   3.0   \n12301                               2.0                                   NaN   \n12302                               2.0                                   3.0   \n\n       HOME_TEAM_SHOTS_OFF_TARGET_season_sum  \\\nID                                             \n0                                        5.0   \n1                                        3.0   \n2                                        5.0   \n3                                        5.0   \n4                                        2.0   \n...                                      ...   \n12298                                    3.0   \n12299                                    3.0   \n12300                                    5.0   \n12301                                    1.0   \n12302                                    1.0   \n\n       HOME_TEAM_SHOTS_ON_TARGET_season_sum  \\\nID                                            \n0                                       2.0   \n1                                       6.0   \n2                                       2.0   \n3                                       6.0   \n4                                       3.0   \n...                                     ...   \n12298                                   4.0   \n12299                                   1.0   \n12300                                   3.0   \n12301                                   1.0   \n12302                                   2.0   \n\n       HOME_TEAM_SHOTS_OUTSIDEBOX_season_sum  HOME_TEAM_PASSES_season_sum  \\\nID                                                                          \n0                                        1.0                          2.0   \n1                                        5.0                          8.0   \n2                                        8.0                          1.0   \n3                                        6.0                          9.0   \n4                                        4.0                          4.0   \n...                                      ...                          ...   \n12298                                    7.0                          4.0   \n12299                                    5.0                          1.0   \n12300                                    5.0                          1.0   \n12301                                    NaN                          NaN   \n12302                                    2.0                          3.0   \n\n       HOME_TEAM_SUCCESSFUL_PASSES_season_sum  HOME_TEAM_SAVES_season_sum  \\\nID                                                                          \n0                                         2.0                         5.0   \n1                                         7.0                        10.0   \n2                                         1.0                         2.0   \n3                                         9.0                         2.0   \n4                                         3.0                         4.0   \n...                                       ...                         ...   \n12298                                     4.0                         3.0   \n12299                                     1.0                         9.0   \n12300                                     1.0                         6.0   \n12301                                     NaN                         0.0   \n12302                                     4.0                         7.0   \n\n       HOME_TEAM_CORNERS_season_sum  HOME_TEAM_FOULS_season_sum  ...  \\\nID                                                               ...   \n0                               3.0                         6.0  ...   \n1                               6.0                         8.0  ...   \n2                               2.0                         7.0  ...   \n3                               2.0                         0.0  ...   \n4                               4.0                         7.0  ...   \n...                             ...                         ...  ...   \n12298                           2.0                         2.0  ...   \n12299                           1.0                        10.0  ...   \n12300                           1.0                         8.0  ...   \n12301                           4.0                         2.0  ...   \n12302                           4.0                         0.0  ...   \n\n       HOME_TEAM_YELLOWCARDS_5_last_match_std  \\\nID                                              \n0                                         3.0   \n1                                         4.0   \n2                                         4.0   \n3                                         4.0   \n4                                         1.0   \n...                                       ...   \n12298                                     4.0   \n12299                                     6.0   \n12300                                     7.0   \n12301                                    10.0   \n12302                                     3.0   \n\n       HOME_TEAM_REDCARDS_5_last_match_std  \\\nID                                           \n0                                      0.0   \n1                                      0.0   \n2                                      5.0   \n3                                      0.0   \n4                                      0.0   \n...                                    ...   \n12298                                  0.0   \n12299                                 10.0   \n12300                                  8.0   \n12301                                 10.0   \n12302                                  5.0   \n\n       HOME_TEAM_OFFSIDES_5_last_match_std  \\\nID                                           \n0                                      6.0   \n1                                      4.0   \n2                                      6.0   \n3                                      1.0   \n4                                      2.0   \n...                                    ...   \n12298                                  2.0   \n12299                                  7.0   \n12300                                  0.0   \n12301                                  NaN   \n12302                                  2.0   \n\n       HOME_TEAM_ATTACKS_5_last_match_std  \\\nID                                          \n0                                     0.0   \n1                                     3.0   \n2                                     3.0   \n3                                     8.0   \n4                                     5.0   \n...                                   ...   \n12298                                 5.0   \n12299                                 2.0   \n12300                                 7.0   \n12301                                 6.0   \n12302                                 1.0   \n\n       HOME_TEAM_PENALTIES_5_last_match_std  \\\nID                                            \n0                                      10.0   \n1                                      10.0   \n2                                       6.0   \n3                                       8.0   \n4                                       8.0   \n...                                     ...   \n12298                                   0.0   \n12299                                   0.0   \n12300                                   0.0   \n12301                                   8.0   \n12302                                   0.0   \n\n       HOME_TEAM_SUBSTITUTIONS_5_last_match_std  \\\nID                                                \n0                                           8.0   \n1                                           0.0   \n2                                           7.0   \n3                                           5.0   \n4                                           7.0   \n...                                         ...   \n12298                                       5.0   \n12299                                       0.0   \n12300                                       0.0   \n12301                                       3.0   \n12302                                       8.0   \n\n       HOME_TEAM_BALL_SAFE_5_last_match_std  \\\nID                                            \n0                                       7.0   \n1                                       1.0   \n2                                       2.0   \n3                                       5.0   \n4                                       2.0   \n...                                     ...   \n12298                                   0.0   \n12299                                   3.0   \n12300                                   3.0   \n12301                                   0.0   \n12302                                   2.0   \n\n       HOME_TEAM_DANGEROUS_ATTACKS_5_last_match_std  \\\nID                                                    \n0                                               2.0   \n1                                               2.0   \n2                                               3.0   \n3                                               5.0   \n4                                               6.0   \n...                                             ...   \n12298                                           0.0   \n12299                                          10.0   \n12300                                           1.0   \n12301                                           3.0   \n12302                                           0.0   \n\n       HOME_TEAM_INJURIES_5_last_match_std  HOME_TEAM_GOALS_5_last_match_std  \nID                                                                            \n0                                      4.0                               3.0  \n1                                      8.0                               4.0  \n2                                      2.0                               4.0  \n3                                      NaN                               6.0  \n4                                      4.0                               4.0  \n...                                    ...                               ...  \n12298                                  NaN                               4.0  \n12299                                  6.0                               1.0  \n12300                                  3.0                               2.0  \n12301                                  NaN                               5.0  \n12302                                  6.0                               6.0  \n\n[12303 rows x 140 columns]",
      "text/html": "<div>\n<style scoped>\n    .dataframe tbody tr th:only-of-type {\n        vertical-align: middle;\n    }\n\n    .dataframe tbody tr th {\n        vertical-align: top;\n    }\n\n    .dataframe thead th {\n        text-align: right;\n    }\n</style>\n<table border=\"1\" class=\"dataframe\">\n  <thead>\n    <tr style=\"text-align: right;\">\n      <th></th>\n      <th>HOME_TEAM_SHOTS_TOTAL_season_sum</th>\n      <th>HOME_TEAM_SHOTS_INSIDEBOX_season_sum</th>\n      <th>HOME_TEAM_SHOTS_OFF_TARGET_season_sum</th>\n      <th>HOME_TEAM_SHOTS_ON_TARGET_season_sum</th>\n      <th>HOME_TEAM_SHOTS_OUTSIDEBOX_season_sum</th>\n      <th>HOME_TEAM_PASSES_season_sum</th>\n      <th>HOME_TEAM_SUCCESSFUL_PASSES_season_sum</th>\n      <th>HOME_TEAM_SAVES_season_sum</th>\n      <th>HOME_TEAM_CORNERS_season_sum</th>\n      <th>HOME_TEAM_FOULS_season_sum</th>\n      <th>...</th>\n      <th>HOME_TEAM_YELLOWCARDS_5_last_match_std</th>\n      <th>HOME_TEAM_REDCARDS_5_last_match_std</th>\n      <th>HOME_TEAM_OFFSIDES_5_last_match_std</th>\n      <th>HOME_TEAM_ATTACKS_5_last_match_std</th>\n      <th>HOME_TEAM_PENALTIES_5_last_match_std</th>\n      <th>HOME_TEAM_SUBSTITUTIONS_5_last_match_std</th>\n      <th>HOME_TEAM_BALL_SAFE_5_last_match_std</th>\n      <th>HOME_TEAM_DANGEROUS_ATTACKS_5_last_match_std</th>\n      <th>HOME_TEAM_INJURIES_5_last_match_std</th>\n      <th>HOME_TEAM_GOALS_5_last_match_std</th>\n    </tr>\n    <tr>\n      <th>ID</th>\n      <th></th>\n      <th></th>\n      <th></th>\n      <th></th>\n      <th></th>\n      <th></th>\n      <th></th>\n      <th></th>\n      <th></th>\n      <th></th>\n      <th></th>\n      <th></th>\n      <th></th>\n      <th></th>\n      <th></th>\n      <th></th>\n      <th></th>\n      <th></th>\n      <th></th>\n      <th></th>\n      <th></th>\n    </tr>\n  </thead>\n  <tbody>\n    <tr>\n      <th>0</th>\n      <td>3.0</td>\n      <td>2.0</td>\n      <td>5.0</td>\n      <td>2.0</td>\n      <td>1.0</td>\n      <td>2.0</td>\n      <td>2.0</td>\n      <td>5.0</td>\n      <td>3.0</td>\n      <td>6.0</td>\n      <td>...</td>\n      <td>3.0</td>\n      <td>0.0</td>\n      <td>6.0</td>\n      <td>0.0</td>\n      <td>10.0</td>\n      <td>8.0</td>\n      <td>7.0</td>\n      <td>2.0</td>\n      <td>4.0</td>\n      <td>3.0</td>\n    </tr>\n    <tr>\n      <th>1</th>\n      <td>6.0</td>\n      <td>8.0</td>\n      <td>3.0</td>\n      <td>6.0</td>\n      <td>5.0</td>\n      <td>8.0</td>\n      <td>7.0</td>\n      <td>10.0</td>\n      <td>6.0</td>\n      <td>8.0</td>\n      <td>...</td>\n      <td>4.0</td>\n      <td>0.0</td>\n      <td>4.0</td>\n      <td>3.0</td>\n      <td>10.0</td>\n      <td>0.0</td>\n      <td>1.0</td>\n      <td>2.0</td>\n      <td>8.0</td>\n      <td>4.0</td>\n    </tr>\n    <tr>\n      <th>2</th>\n      <td>4.0</td>\n      <td>2.0</td>\n      <td>5.0</td>\n      <td>2.0</td>\n      <td>8.0</td>\n      <td>1.0</td>\n      <td>1.0</td>\n      <td>2.0</td>\n      <td>2.0</td>\n      <td>7.0</td>\n      <td>...</td>\n      <td>4.0</td>\n      <td>5.0</td>\n      <td>6.0</td>\n      <td>3.0</td>\n      <td>6.0</td>\n      <td>7.0</td>\n      <td>2.0</td>\n      <td>3.0</td>\n      <td>2.0</td>\n      <td>4.0</td>\n    </tr>\n    <tr>\n      <th>3</th>\n      <td>7.0</td>\n      <td>5.0</td>\n      <td>5.0</td>\n      <td>6.0</td>\n      <td>6.0</td>\n      <td>9.0</td>\n      <td>9.0</td>\n      <td>2.0</td>\n      <td>2.0</td>\n      <td>0.0</td>\n      <td>...</td>\n      <td>4.0</td>\n      <td>0.0</td>\n      <td>1.0</td>\n      <td>8.0</td>\n      <td>8.0</td>\n      <td>5.0</td>\n      <td>5.0</td>\n      <td>5.0</td>\n      <td>NaN</td>\n      <td>6.0</td>\n    </tr>\n    <tr>\n      <th>4</th>\n      <td>3.0</td>\n      <td>3.0</td>\n      <td>2.0</td>\n      <td>3.0</td>\n      <td>4.0</td>\n      <td>4.0</td>\n      <td>3.0</td>\n      <td>4.0</td>\n      <td>4.0</td>\n      <td>7.0</td>\n      <td>...</td>\n      <td>1.0</td>\n      <td>0.0</td>\n      <td>2.0</td>\n      <td>5.0</td>\n      <td>8.0</td>\n      <td>7.0</td>\n      <td>2.0</td>\n      <td>6.0</td>\n      <td>4.0</td>\n      <td>4.0</td>\n    </tr>\n    <tr>\n      <th>...</th>\n      <td>...</td>\n      <td>...</td>\n      <td>...</td>\n      <td>...</td>\n      <td>...</td>\n      <td>...</td>\n      <td>...</td>\n      <td>...</td>\n      <td>...</td>\n      <td>...</td>\n      <td>...</td>\n      <td>...</td>\n      <td>...</td>\n      <td>...</td>\n      <td>...</td>\n      <td>...</td>\n      <td>...</td>\n      <td>...</td>\n      <td>...</td>\n      <td>...</td>\n      <td>...</td>\n    </tr>\n    <tr>\n      <th>12298</th>\n      <td>4.0</td>\n      <td>2.0</td>\n      <td>3.0</td>\n      <td>4.0</td>\n      <td>7.0</td>\n      <td>4.0</td>\n      <td>4.0</td>\n      <td>3.0</td>\n      <td>2.0</td>\n      <td>2.0</td>\n      <td>...</td>\n      <td>4.0</td>\n      <td>0.0</td>\n      <td>2.0</td>\n      <td>5.0</td>\n      <td>0.0</td>\n      <td>5.0</td>\n      <td>0.0</td>\n      <td>0.0</td>\n      <td>NaN</td>\n      <td>4.0</td>\n    </tr>\n    <tr>\n      <th>12299</th>\n      <td>4.0</td>\n      <td>2.0</td>\n      <td>3.0</td>\n      <td>1.0</td>\n      <td>5.0</td>\n      <td>1.0</td>\n      <td>1.0</td>\n      <td>9.0</td>\n      <td>1.0</td>\n      <td>10.0</td>\n      <td>...</td>\n      <td>6.0</td>\n      <td>10.0</td>\n      <td>7.0</td>\n      <td>2.0</td>\n      <td>0.0</td>\n      <td>0.0</td>\n      <td>3.0</td>\n      <td>10.0</td>\n      <td>6.0</td>\n      <td>1.0</td>\n    </tr>\n    <tr>\n      <th>12300</th>\n      <td>4.0</td>\n      <td>3.0</td>\n      <td>5.0</td>\n      <td>3.0</td>\n      <td>5.0</td>\n      <td>1.0</td>\n      <td>1.0</td>\n      <td>6.0</td>\n      <td>1.0</td>\n      <td>8.0</td>\n      <td>...</td>\n      <td>7.0</td>\n      <td>8.0</td>\n      <td>0.0</td>\n      <td>7.0</td>\n      <td>0.0</td>\n      <td>0.0</td>\n      <td>3.0</td>\n      <td>1.0</td>\n      <td>3.0</td>\n      <td>2.0</td>\n    </tr>\n    <tr>\n      <th>12301</th>\n      <td>2.0</td>\n      <td>NaN</td>\n      <td>1.0</td>\n      <td>1.0</td>\n      <td>NaN</td>\n      <td>NaN</td>\n      <td>NaN</td>\n      <td>0.0</td>\n      <td>4.0</td>\n      <td>2.0</td>\n      <td>...</td>\n      <td>10.0</td>\n      <td>10.0</td>\n      <td>NaN</td>\n      <td>6.0</td>\n      <td>8.0</td>\n      <td>3.0</td>\n      <td>0.0</td>\n      <td>3.0</td>\n      <td>NaN</td>\n      <td>5.0</td>\n    </tr>\n    <tr>\n      <th>12302</th>\n      <td>2.0</td>\n      <td>3.0</td>\n      <td>1.0</td>\n      <td>2.0</td>\n      <td>2.0</td>\n      <td>3.0</td>\n      <td>4.0</td>\n      <td>7.0</td>\n      <td>4.0</td>\n      <td>0.0</td>\n      <td>...</td>\n      <td>3.0</td>\n      <td>5.0</td>\n      <td>2.0</td>\n      <td>1.0</td>\n      <td>0.0</td>\n      <td>8.0</td>\n      <td>2.0</td>\n      <td>0.0</td>\n      <td>6.0</td>\n      <td>6.0</td>\n    </tr>\n  </tbody>\n</table>\n<p>12303 rows × 140 columns</p>\n</div>"
     },
     "execution_count": 262,
     "metadata": {},
     "output_type": "execute_result"
    }
   ],
   "source": [
    "train_home_team_statistics_df"
   ],
   "metadata": {
    "collapsed": false,
    "ExecuteTime": {
     "end_time": "2024-02-18T22:17:29.780147Z",
     "start_time": "2024-02-18T22:17:29.768991Z"
    }
   },
   "id": "9ab3859cc560b076",
   "execution_count": 262
  },
  {
   "cell_type": "code",
   "outputs": [],
   "source": [
    "train_home_player_statistics_df = train_home_player_statistics_df.drop(columns=['POSITION', 'LEAGUE', 'TEAM_NAME'])\n",
    "\n",
    "train_away_player_statistics_df = train_away_player_statistics_df.drop(columns=['POSITION', 'LEAGUE', 'TEAM_NAME'])"
   ],
   "metadata": {
    "collapsed": false,
    "ExecuteTime": {
     "end_time": "2024-02-18T22:17:30.033037Z",
     "start_time": "2024-02-18T22:17:29.781003Z"
    }
   },
   "id": "3abfbb4d40101bbc",
   "execution_count": 263
  },
  {
   "cell_type": "code",
   "outputs": [],
   "source": [
    "train_home_player_statistics_df = train_home_player_statistics_df.groupby([\"ID\"]).mean()\n",
    "\n",
    "train_away_player_statistics_df = train_away_player_statistics_df.groupby([\"ID\"]).mean()"
   ],
   "metadata": {
    "collapsed": false,
    "ExecuteTime": {
     "end_time": "2024-02-18T22:17:30.271488Z",
     "start_time": "2024-02-18T22:17:30.033912Z"
    }
   },
   "id": "a8ac85ddf5a341d1",
   "execution_count": 264
  },
  {
   "cell_type": "code",
   "outputs": [],
   "source": [
    "train_home_player_statistics_df.columns = \"HOME_\" + train_home_player_statistics_df.columns\n",
    "\n",
    "train_away_player_statistics_df.columns = \"AWAY_\" + train_away_player_statistics_df.columns"
   ],
   "metadata": {
    "collapsed": false,
    "ExecuteTime": {
     "end_time": "2024-02-18T22:17:30.275812Z",
     "start_time": "2024-02-18T22:17:30.272229Z"
    }
   },
   "id": "b2361f49b8e8366c",
   "execution_count": 265
  },
  {
   "cell_type": "code",
   "outputs": [],
   "source": [
    "#Attention inner\n",
    "X_train_home = train_home_player_statistics_df.join(train_home_team_statistics_df, on=['ID'], how='inner')\n",
    "\n",
    "X_train_away = train_away_player_statistics_df.join(train_away_team_statistics_df, on=['ID'], how='inner')"
   ],
   "metadata": {
    "collapsed": false,
    "ExecuteTime": {
     "end_time": "2024-02-18T22:17:30.298767Z",
     "start_time": "2024-02-18T22:17:30.273835Z"
    }
   },
   "id": "22a43dcffe15dc97",
   "execution_count": 266
  },
  {
   "cell_type": "code",
   "outputs": [],
   "source": [
    "X_train =  pd.concat([X_train_home,X_train_away],join='inner',axis=1)\n",
    "Y_train = Y_train.loc[X_train.index]\n",
    "\n",
    "X_train = X_train.replace({np.inf:np.nan,-np.inf:np.nan})"
   ],
   "metadata": {
    "collapsed": false,
    "ExecuteTime": {
     "end_time": "2024-02-18T22:17:30.364803Z",
     "start_time": "2024-02-18T22:17:30.297668Z"
    }
   },
   "id": "4161fa8b711163b8",
   "execution_count": 267
  },
  {
   "cell_type": "code",
   "outputs": [],
   "source": [
    "columns_name = X_train.columns"
   ],
   "metadata": {
    "collapsed": false,
    "ExecuteTime": {
     "end_time": "2024-02-18T22:17:30.368505Z",
     "start_time": "2024-02-18T22:17:30.366327Z"
    }
   },
   "id": "983595f3c07e5066",
   "execution_count": 268
  },
  {
   "cell_type": "code",
   "outputs": [
    {
     "data": {
      "text/plain": "       HOME_WINS  DRAW  AWAY_WINS\nID                               \n0              0     0          1\n1              0     1          0\n2              0     0          1\n3              1     0          0\n4              0     1          0\n...          ...   ...        ...\n12298          0     0          1\n12299          0     0          1\n12300          0     0          1\n12301          1     0          0\n12302          1     0          0\n\n[12303 rows x 3 columns]",
      "text/html": "<div>\n<style scoped>\n    .dataframe tbody tr th:only-of-type {\n        vertical-align: middle;\n    }\n\n    .dataframe tbody tr th {\n        vertical-align: top;\n    }\n\n    .dataframe thead th {\n        text-align: right;\n    }\n</style>\n<table border=\"1\" class=\"dataframe\">\n  <thead>\n    <tr style=\"text-align: right;\">\n      <th></th>\n      <th>HOME_WINS</th>\n      <th>DRAW</th>\n      <th>AWAY_WINS</th>\n    </tr>\n    <tr>\n      <th>ID</th>\n      <th></th>\n      <th></th>\n      <th></th>\n    </tr>\n  </thead>\n  <tbody>\n    <tr>\n      <th>0</th>\n      <td>0</td>\n      <td>0</td>\n      <td>1</td>\n    </tr>\n    <tr>\n      <th>1</th>\n      <td>0</td>\n      <td>1</td>\n      <td>0</td>\n    </tr>\n    <tr>\n      <th>2</th>\n      <td>0</td>\n      <td>0</td>\n      <td>1</td>\n    </tr>\n    <tr>\n      <th>3</th>\n      <td>1</td>\n      <td>0</td>\n      <td>0</td>\n    </tr>\n    <tr>\n      <th>4</th>\n      <td>0</td>\n      <td>1</td>\n      <td>0</td>\n    </tr>\n    <tr>\n      <th>...</th>\n      <td>...</td>\n      <td>...</td>\n      <td>...</td>\n    </tr>\n    <tr>\n      <th>12298</th>\n      <td>0</td>\n      <td>0</td>\n      <td>1</td>\n    </tr>\n    <tr>\n      <th>12299</th>\n      <td>0</td>\n      <td>0</td>\n      <td>1</td>\n    </tr>\n    <tr>\n      <th>12300</th>\n      <td>0</td>\n      <td>0</td>\n      <td>1</td>\n    </tr>\n    <tr>\n      <th>12301</th>\n      <td>1</td>\n      <td>0</td>\n      <td>0</td>\n    </tr>\n    <tr>\n      <th>12302</th>\n      <td>1</td>\n      <td>0</td>\n      <td>0</td>\n    </tr>\n  </tbody>\n</table>\n<p>12303 rows × 3 columns</p>\n</div>"
     },
     "execution_count": 269,
     "metadata": {},
     "output_type": "execute_result"
    }
   ],
   "source": [
    "Y_train"
   ],
   "metadata": {
    "collapsed": false,
    "ExecuteTime": {
     "end_time": "2024-02-18T22:17:30.372680Z",
     "start_time": "2024-02-18T22:17:30.369788Z"
    }
   },
   "id": "be18ec5d9ecf49bf",
   "execution_count": 269
  },
  {
   "cell_type": "markdown",
   "source": [
    "### Test Data processing"
   ],
   "metadata": {
    "collapsed": false
   },
   "id": "59ca468806d139fa"
  },
  {
   "cell_type": "code",
   "outputs": [],
   "source": [
    "test_away_player_statistics_df = test_away_player_statistics_df.drop(labels=['PLAYER_CAPTAIN_season_sum', 'PLAYER_LONG_BALLS_season_sum', 'PLAYER_LONG_BALLS_WON_season_sum', 'PLAYER_SHOTS_OFF_TARGET_season_sum', 'PLAYER_CAPTAIN_season_average', 'PLAYER_PUNCHES_season_average', 'PLAYER_LONG_BALLS_season_average', 'PLAYER_LONG_BALLS_WON_season_average', 'PLAYER_SHOTS_OFF_TARGET_season_average', 'PLAYER_CAPTAIN_season_std', 'PLAYER_PUNCHES_season_std', 'PLAYER_LONG_BALLS_season_std', 'PLAYER_LONG_BALLS_WON_season_std', 'PLAYER_SHOTS_OFF_TARGET_season_std', 'PLAYER_CAPTAIN_5_last_match_sum', 'PLAYER_PUNCHES_5_last_match_sum', 'PLAYER_LONG_BALLS_5_last_match_sum', 'PLAYER_LONG_BALLS_WON_5_last_match_sum', 'PLAYER_SHOTS_OFF_TARGET_5_last_match_sum', 'PLAYER_CAPTAIN_5_last_match_average', 'PLAYER_PUNCHES_5_last_match_average', 'PLAYER_LONG_BALLS_5_last_match_average', 'PLAYER_LONG_BALLS_WON_5_last_match_average', 'PLAYER_SHOTS_OFF_TARGET_5_last_match_average', 'PLAYER_CAPTAIN_5_last_match_std', 'PLAYER_PUNCHES_5_last_match_std', 'PLAYER_LONG_BALLS_5_last_match_std', 'PLAYER_LONG_BALLS_WON_5_last_match_std', 'PLAYER_SHOTS_OFF_TARGET_5_last_match_std'], axis=1)\n",
    "\n",
    "test_home_player_statistics_df = test_home_player_statistics_df.drop(labels=['PLAYER_CAPTAIN_season_sum', 'PLAYER_LONG_BALLS_season_sum', 'PLAYER_LONG_BALLS_WON_season_sum', 'PLAYER_SHOTS_OFF_TARGET_season_sum', 'PLAYER_CAPTAIN_season_average', 'PLAYER_PUNCHES_season_average', 'PLAYER_LONG_BALLS_season_average', 'PLAYER_LONG_BALLS_WON_season_average', 'PLAYER_SHOTS_OFF_TARGET_season_average', 'PLAYER_CAPTAIN_season_std', 'PLAYER_PUNCHES_season_std', 'PLAYER_LONG_BALLS_season_std', 'PLAYER_LONG_BALLS_WON_season_std', 'PLAYER_SHOTS_OFF_TARGET_season_std', 'PLAYER_CAPTAIN_5_last_match_sum', 'PLAYER_PUNCHES_5_last_match_sum', 'PLAYER_LONG_BALLS_5_last_match_sum', 'PLAYER_LONG_BALLS_WON_5_last_match_sum', 'PLAYER_SHOTS_OFF_TARGET_5_last_match_sum', 'PLAYER_CAPTAIN_5_last_match_average', 'PLAYER_PUNCHES_5_last_match_average', 'PLAYER_LONG_BALLS_5_last_match_average', 'PLAYER_LONG_BALLS_WON_5_last_match_average', 'PLAYER_SHOTS_OFF_TARGET_5_last_match_average', 'PLAYER_CAPTAIN_5_last_match_std', 'PLAYER_PUNCHES_5_last_match_std', 'PLAYER_LONG_BALLS_5_last_match_std', 'PLAYER_LONG_BALLS_WON_5_last_match_std', 'PLAYER_SHOTS_OFF_TARGET_5_last_match_std'], axis=1)"
   ],
   "metadata": {
    "collapsed": false,
    "ExecuteTime": {
     "end_time": "2024-02-18T22:17:31.169910Z",
     "start_time": "2024-02-18T22:17:30.373259Z"
    }
   },
   "id": "9f29852bed203d4c",
   "execution_count": 270
  },
  {
   "cell_type": "code",
   "outputs": [],
   "source": [
    "test_home_team_statistics_df.columns = 'HOME_' + test_home_team_statistics_df.columns\n",
    "test_away_team_statistics_df.columns = 'AWAY_' + test_away_team_statistics_df.columns"
   ],
   "metadata": {
    "collapsed": false,
    "ExecuteTime": {
     "end_time": "2024-02-18T22:17:31.171344Z",
     "start_time": "2024-02-18T22:17:31.169579Z"
    }
   },
   "id": "5091882ed36821e7",
   "execution_count": 271
  },
  {
   "cell_type": "code",
   "outputs": [],
   "source": [
    "test_home_player_statistics_df = test_home_player_statistics_df.drop(columns=['POSITION'])\n",
    "\n",
    "test_away_player_statistics_df = test_away_player_statistics_df.drop(columns=['POSITION'])"
   ],
   "metadata": {
    "collapsed": false,
    "ExecuteTime": {
     "end_time": "2024-02-18T22:17:31.750624Z",
     "start_time": "2024-02-18T22:17:31.171672Z"
    }
   },
   "id": "1f907bb8715ab026",
   "execution_count": 272
  },
  {
   "cell_type": "code",
   "outputs": [],
   "source": [
    "test_home_player_statistics_df = test_home_player_statistics_df.groupby([\"ID\"]).mean()\n",
    "\n",
    "test_away_player_statistics_df = test_away_player_statistics_df.groupby([\"ID\"]).mean()"
   ],
   "metadata": {
    "collapsed": false,
    "ExecuteTime": {
     "end_time": "2024-02-18T22:17:32.290073Z",
     "start_time": "2024-02-18T22:17:31.751677Z"
    }
   },
   "id": "e4d5cecdc2a33f55",
   "execution_count": 273
  },
  {
   "cell_type": "code",
   "outputs": [],
   "source": [
    "test_home_player_statistics_df.columns = \"HOME_\" + test_home_player_statistics_df.columns\n",
    "\n",
    "test_away_player_statistics_df.columns = \"AWAY_\" + test_away_player_statistics_df.columns"
   ],
   "metadata": {
    "collapsed": false,
    "ExecuteTime": {
     "end_time": "2024-02-18T22:17:32.294106Z",
     "start_time": "2024-02-18T22:17:32.290634Z"
    }
   },
   "id": "721d33ec07a7eab8",
   "execution_count": 274
  },
  {
   "cell_type": "code",
   "outputs": [],
   "source": [
    "#Attention inner\n",
    "X_test_home = test_home_player_statistics_df.join(test_home_team_statistics_df, on=['ID'], how='inner')\n",
    "\n",
    "X_test_away = test_away_player_statistics_df.join(test_away_team_statistics_df, on=['ID'], how='inner')"
   ],
   "metadata": {
    "collapsed": false,
    "ExecuteTime": {
     "end_time": "2024-02-18T22:17:32.342346Z",
     "start_time": "2024-02-18T22:17:32.292839Z"
    }
   },
   "id": "c4c12d25efe92c15",
   "execution_count": 275
  },
  {
   "cell_type": "code",
   "outputs": [],
   "source": [
    "X_test =  pd.concat([X_test_home,X_test_away],join='inner',axis=1)\n",
    "\n",
    "X_test = X_test.replace({np.inf:np.nan,-np.inf:np.nan})"
   ],
   "metadata": {
    "collapsed": false,
    "ExecuteTime": {
     "end_time": "2024-02-18T22:17:32.459271Z",
     "start_time": "2024-02-18T22:17:32.343038Z"
    }
   },
   "id": "6ff3f345e612988e",
   "execution_count": 276
  },
  {
   "cell_type": "code",
   "outputs": [
    {
     "data": {
      "text/plain": "       HOME_PLAYER_ACCURATE_CROSSES_season_sum  \\\nID                                               \n12303                                 8.818182   \n12304                                 6.444444   \n12305                                10.235294   \n12306                                 6.722222   \n12307                                 9.722222   \n...                                        ...   \n37666                                 5.500000   \n37667                                 9.545455   \n37668                                 8.611111   \n37669                                 4.500000   \n37670                                10.352941   \n\n       HOME_PLAYER_ACCURATE_PASSES_season_sum  \\\nID                                              \n12303                               20.272727   \n12304                               18.055556   \n12305                               27.529412   \n12306                               26.055556   \n12307                               15.833333   \n...                                       ...   \n37666                               21.611111   \n37667                               25.045455   \n37668                               23.722222   \n37669                               17.875000   \n37670                               18.176471   \n\n       HOME_PLAYER_AERIALS_WON_season_sum  HOME_PLAYER_ASSISTS_season_sum  \\\nID                                                                          \n12303                            8.136364                        8.181818   \n12304                           14.333333                        6.722222   \n12305                           11.882353                       19.647059   \n12306                           19.944444                       13.333333   \n12307                           15.277778                        6.222222   \n...                                   ...                             ...   \n37666                            8.944444                       12.500000   \n37667                           17.954545                       18.181818   \n37668                           12.222222                       17.277778   \n37669                            6.062500                       10.000000   \n37670                            7.470588                        7.000000   \n\n       HOME_PLAYER_BIG_CHANCES_CREATED_season_sum  \\\nID                                                  \n12303                                    6.363636   \n12304                                   10.833333   \n12305                                   17.882353   \n12306                                   13.944444   \n12307                                   12.388889   \n...                                           ...   \n37666                                    8.944444   \n37667                                   13.181818   \n37668                                   12.500000   \n37669                                    6.250000   \n37670                                   10.117647   \n\n       HOME_PLAYER_BIG_CHANCES_MISSED_season_sum  \\\nID                                                 \n12303                                   2.000000   \n12304                                   5.222222   \n12305                                   8.823529   \n12306                                   9.222222   \n12307                                   8.222222   \n...                                          ...   \n37666                                   5.555556   \n37667                                  11.363636   \n37668                                   9.222222   \n37669                                   2.687500   \n37670                                   9.647059   \n\n       HOME_PLAYER_BLOCKED_SHOTS_season_sum  \\\nID                                            \n12303                              8.727273   \n12304                             10.888889   \n12305                              8.882353   \n12306                              9.055556   \n12307                             11.777778   \n...                                     ...   \n37666                              9.166667   \n37667                             11.590909   \n37668                             11.277778   \n37669                              5.187500   \n37670                             12.117647   \n\n       HOME_PLAYER_CLEARANCES_season_sum  \\\nID                                         \n12303                           9.227273   \n12304                          11.166667   \n12305                          11.000000   \n12306                          12.000000   \n12307                          16.777778   \n...                                  ...   \n37666                          15.555556   \n37667                          15.363636   \n37668                          16.500000   \n37669                           7.187500   \n37670                          11.941176   \n\n       HOME_PLAYER_CLEARANCE_OFFLINE_season_sum  \\\nID                                                \n12303                                  0.000000   \n12304                                  1.833333   \n12305                                  2.941176   \n12306                                  1.833333   \n12307                                 13.888889   \n...                                         ...   \n37666                                  0.000000   \n37667                                  0.000000   \n37668                                  1.833333   \n37669                                  3.125000   \n37670                                  1.470588   \n\n       HOME_PLAYER_DISPOSSESSED_season_sum  ...  \\\nID                                          ...   \n12303                            18.500000  ...   \n12304                            17.000000  ...   \n12305                            19.411765  ...   \n12306                            21.611111  ...   \n12307                            12.611111  ...   \n...                                    ...  ...   \n37666                            16.444444  ...   \n37667                            15.363636  ...   \n37668                            13.722222  ...   \n37669                            14.250000  ...   \n37670                            15.117647  ...   \n\n       AWAY_TEAM_YELLOWCARDS_5_last_match_std  \\\nID                                              \n12303                                     6.0   \n12304                                     0.0   \n12305                                    10.0   \n12306                                     1.0   \n12307                                     3.0   \n...                                       ...   \n37666                                     5.0   \n37667                                     5.0   \n37668                                     4.0   \n37669                                     6.0   \n37670                                     5.0   \n\n       AWAY_TEAM_REDCARDS_5_last_match_std  \\\nID                                           \n12303                                  0.0   \n12304                                  0.0   \n12305                                  0.0   \n12306                                  5.0   \n12307                                  0.0   \n...                                    ...   \n37666                                  0.0   \n37667                                  5.0   \n37668                                  0.0   \n37669                                  0.0   \n37670                                 10.0   \n\n       AWAY_TEAM_OFFSIDES_5_last_match_std  \\\nID                                           \n12303                                  1.0   \n12304                                  3.0   \n12305                                  0.0   \n12306                                  4.0   \n12307                                  6.0   \n...                                    ...   \n37666                                  5.0   \n37667                                  6.0   \n37668                                  0.0   \n37669                                 10.0   \n37670                                  4.0   \n\n       AWAY_TEAM_ATTACKS_5_last_match_std  \\\nID                                          \n12303                                 4.0   \n12304                                 6.0   \n12305                                 2.0   \n12306                                 5.0   \n12307                                 5.0   \n...                                   ...   \n37666                                 4.0   \n37667                                 6.0   \n37668                                 5.0   \n37669                                 4.0   \n37670                                 7.0   \n\n       AWAY_TEAM_PENALTIES_5_last_match_std  \\\nID                                            \n12303                                   0.0   \n12304                                   8.0   \n12305                                   0.0   \n12306                                  10.0   \n12307                                   0.0   \n...                                     ...   \n37666                                   5.0   \n37667                                   8.0   \n37668                                   0.0   \n37669                                   8.0   \n37670                                   5.0   \n\n       AWAY_TEAM_SUBSTITUTIONS_5_last_match_std  \\\nID                                                \n12303                                       8.0   \n12304                                       5.0   \n12305                                       4.0   \n12306                                       9.0   \n12307                                       4.0   \n...                                         ...   \n37666                                       0.0   \n37667                                       0.0   \n37668                                       3.0   \n37669                                       6.0   \n37670                                       2.0   \n\n       AWAY_TEAM_BALL_SAFE_5_last_match_std  \\\nID                                            \n12303                                   7.0   \n12304                                   1.0   \n12305                                   2.0   \n12306                                   6.0   \n12307                                   3.0   \n...                                     ...   \n37666                                   3.0   \n37667                                   3.0   \n37668                                   NaN   \n37669                                   4.0   \n37670                                   NaN   \n\n       AWAY_TEAM_DANGEROUS_ATTACKS_5_last_match_std  \\\nID                                                    \n12303                                           2.0   \n12304                                           1.0   \n12305                                           3.0   \n12306                                           9.0   \n12307                                          10.0   \n...                                             ...   \n37666                                          10.0   \n37667                                           5.0   \n37668                                           3.0   \n37669                                           2.0   \n37670                                           7.0   \n\n       AWAY_TEAM_INJURIES_5_last_match_std  AWAY_TEAM_GOALS_5_last_match_std  \nID                                                                            \n12303                                  7.0                               0.0  \n12304                                  7.0                               9.0  \n12305                                  NaN                               9.0  \n12306                                  7.0                               3.0  \n12307                                  3.0                               1.0  \n...                                    ...                               ...  \n37666                                  5.0                              10.0  \n37667                                  1.0                               0.0  \n37668                                  NaN                               1.0  \n37669                                  0.0                               3.0  \n37670                                  NaN                               1.0  \n\n[25368 rows x 826 columns]",
      "text/html": "<div>\n<style scoped>\n    .dataframe tbody tr th:only-of-type {\n        vertical-align: middle;\n    }\n\n    .dataframe tbody tr th {\n        vertical-align: top;\n    }\n\n    .dataframe thead th {\n        text-align: right;\n    }\n</style>\n<table border=\"1\" class=\"dataframe\">\n  <thead>\n    <tr style=\"text-align: right;\">\n      <th></th>\n      <th>HOME_PLAYER_ACCURATE_CROSSES_season_sum</th>\n      <th>HOME_PLAYER_ACCURATE_PASSES_season_sum</th>\n      <th>HOME_PLAYER_AERIALS_WON_season_sum</th>\n      <th>HOME_PLAYER_ASSISTS_season_sum</th>\n      <th>HOME_PLAYER_BIG_CHANCES_CREATED_season_sum</th>\n      <th>HOME_PLAYER_BIG_CHANCES_MISSED_season_sum</th>\n      <th>HOME_PLAYER_BLOCKED_SHOTS_season_sum</th>\n      <th>HOME_PLAYER_CLEARANCES_season_sum</th>\n      <th>HOME_PLAYER_CLEARANCE_OFFLINE_season_sum</th>\n      <th>HOME_PLAYER_DISPOSSESSED_season_sum</th>\n      <th>...</th>\n      <th>AWAY_TEAM_YELLOWCARDS_5_last_match_std</th>\n      <th>AWAY_TEAM_REDCARDS_5_last_match_std</th>\n      <th>AWAY_TEAM_OFFSIDES_5_last_match_std</th>\n      <th>AWAY_TEAM_ATTACKS_5_last_match_std</th>\n      <th>AWAY_TEAM_PENALTIES_5_last_match_std</th>\n      <th>AWAY_TEAM_SUBSTITUTIONS_5_last_match_std</th>\n      <th>AWAY_TEAM_BALL_SAFE_5_last_match_std</th>\n      <th>AWAY_TEAM_DANGEROUS_ATTACKS_5_last_match_std</th>\n      <th>AWAY_TEAM_INJURIES_5_last_match_std</th>\n      <th>AWAY_TEAM_GOALS_5_last_match_std</th>\n    </tr>\n    <tr>\n      <th>ID</th>\n      <th></th>\n      <th></th>\n      <th></th>\n      <th></th>\n      <th></th>\n      <th></th>\n      <th></th>\n      <th></th>\n      <th></th>\n      <th></th>\n      <th></th>\n      <th></th>\n      <th></th>\n      <th></th>\n      <th></th>\n      <th></th>\n      <th></th>\n      <th></th>\n      <th></th>\n      <th></th>\n      <th></th>\n    </tr>\n  </thead>\n  <tbody>\n    <tr>\n      <th>12303</th>\n      <td>8.818182</td>\n      <td>20.272727</td>\n      <td>8.136364</td>\n      <td>8.181818</td>\n      <td>6.363636</td>\n      <td>2.000000</td>\n      <td>8.727273</td>\n      <td>9.227273</td>\n      <td>0.000000</td>\n      <td>18.500000</td>\n      <td>...</td>\n      <td>6.0</td>\n      <td>0.0</td>\n      <td>1.0</td>\n      <td>4.0</td>\n      <td>0.0</td>\n      <td>8.0</td>\n      <td>7.0</td>\n      <td>2.0</td>\n      <td>7.0</td>\n      <td>0.0</td>\n    </tr>\n    <tr>\n      <th>12304</th>\n      <td>6.444444</td>\n      <td>18.055556</td>\n      <td>14.333333</td>\n      <td>6.722222</td>\n      <td>10.833333</td>\n      <td>5.222222</td>\n      <td>10.888889</td>\n      <td>11.166667</td>\n      <td>1.833333</td>\n      <td>17.000000</td>\n      <td>...</td>\n      <td>0.0</td>\n      <td>0.0</td>\n      <td>3.0</td>\n      <td>6.0</td>\n      <td>8.0</td>\n      <td>5.0</td>\n      <td>1.0</td>\n      <td>1.0</td>\n      <td>7.0</td>\n      <td>9.0</td>\n    </tr>\n    <tr>\n      <th>12305</th>\n      <td>10.235294</td>\n      <td>27.529412</td>\n      <td>11.882353</td>\n      <td>19.647059</td>\n      <td>17.882353</td>\n      <td>8.823529</td>\n      <td>8.882353</td>\n      <td>11.000000</td>\n      <td>2.941176</td>\n      <td>19.411765</td>\n      <td>...</td>\n      <td>10.0</td>\n      <td>0.0</td>\n      <td>0.0</td>\n      <td>2.0</td>\n      <td>0.0</td>\n      <td>4.0</td>\n      <td>2.0</td>\n      <td>3.0</td>\n      <td>NaN</td>\n      <td>9.0</td>\n    </tr>\n    <tr>\n      <th>12306</th>\n      <td>6.722222</td>\n      <td>26.055556</td>\n      <td>19.944444</td>\n      <td>13.333333</td>\n      <td>13.944444</td>\n      <td>9.222222</td>\n      <td>9.055556</td>\n      <td>12.000000</td>\n      <td>1.833333</td>\n      <td>21.611111</td>\n      <td>...</td>\n      <td>1.0</td>\n      <td>5.0</td>\n      <td>4.0</td>\n      <td>5.0</td>\n      <td>10.0</td>\n      <td>9.0</td>\n      <td>6.0</td>\n      <td>9.0</td>\n      <td>7.0</td>\n      <td>3.0</td>\n    </tr>\n    <tr>\n      <th>12307</th>\n      <td>9.722222</td>\n      <td>15.833333</td>\n      <td>15.277778</td>\n      <td>6.222222</td>\n      <td>12.388889</td>\n      <td>8.222222</td>\n      <td>11.777778</td>\n      <td>16.777778</td>\n      <td>13.888889</td>\n      <td>12.611111</td>\n      <td>...</td>\n      <td>3.0</td>\n      <td>0.0</td>\n      <td>6.0</td>\n      <td>5.0</td>\n      <td>0.0</td>\n      <td>4.0</td>\n      <td>3.0</td>\n      <td>10.0</td>\n      <td>3.0</td>\n      <td>1.0</td>\n    </tr>\n    <tr>\n      <th>...</th>\n      <td>...</td>\n      <td>...</td>\n      <td>...</td>\n      <td>...</td>\n      <td>...</td>\n      <td>...</td>\n      <td>...</td>\n      <td>...</td>\n      <td>...</td>\n      <td>...</td>\n      <td>...</td>\n      <td>...</td>\n      <td>...</td>\n      <td>...</td>\n      <td>...</td>\n      <td>...</td>\n      <td>...</td>\n      <td>...</td>\n      <td>...</td>\n      <td>...</td>\n      <td>...</td>\n    </tr>\n    <tr>\n      <th>37666</th>\n      <td>5.500000</td>\n      <td>21.611111</td>\n      <td>8.944444</td>\n      <td>12.500000</td>\n      <td>8.944444</td>\n      <td>5.555556</td>\n      <td>9.166667</td>\n      <td>15.555556</td>\n      <td>0.000000</td>\n      <td>16.444444</td>\n      <td>...</td>\n      <td>5.0</td>\n      <td>0.0</td>\n      <td>5.0</td>\n      <td>4.0</td>\n      <td>5.0</td>\n      <td>0.0</td>\n      <td>3.0</td>\n      <td>10.0</td>\n      <td>5.0</td>\n      <td>10.0</td>\n    </tr>\n    <tr>\n      <th>37667</th>\n      <td>9.545455</td>\n      <td>25.045455</td>\n      <td>17.954545</td>\n      <td>18.181818</td>\n      <td>13.181818</td>\n      <td>11.363636</td>\n      <td>11.590909</td>\n      <td>15.363636</td>\n      <td>0.000000</td>\n      <td>15.363636</td>\n      <td>...</td>\n      <td>5.0</td>\n      <td>5.0</td>\n      <td>6.0</td>\n      <td>6.0</td>\n      <td>8.0</td>\n      <td>0.0</td>\n      <td>3.0</td>\n      <td>5.0</td>\n      <td>1.0</td>\n      <td>0.0</td>\n    </tr>\n    <tr>\n      <th>37668</th>\n      <td>8.611111</td>\n      <td>23.722222</td>\n      <td>12.222222</td>\n      <td>17.277778</td>\n      <td>12.500000</td>\n      <td>9.222222</td>\n      <td>11.277778</td>\n      <td>16.500000</td>\n      <td>1.833333</td>\n      <td>13.722222</td>\n      <td>...</td>\n      <td>4.0</td>\n      <td>0.0</td>\n      <td>0.0</td>\n      <td>5.0</td>\n      <td>0.0</td>\n      <td>3.0</td>\n      <td>NaN</td>\n      <td>3.0</td>\n      <td>NaN</td>\n      <td>1.0</td>\n    </tr>\n    <tr>\n      <th>37669</th>\n      <td>4.500000</td>\n      <td>17.875000</td>\n      <td>6.062500</td>\n      <td>10.000000</td>\n      <td>6.250000</td>\n      <td>2.687500</td>\n      <td>5.187500</td>\n      <td>7.187500</td>\n      <td>3.125000</td>\n      <td>14.250000</td>\n      <td>...</td>\n      <td>6.0</td>\n      <td>0.0</td>\n      <td>10.0</td>\n      <td>4.0</td>\n      <td>8.0</td>\n      <td>6.0</td>\n      <td>4.0</td>\n      <td>2.0</td>\n      <td>0.0</td>\n      <td>3.0</td>\n    </tr>\n    <tr>\n      <th>37670</th>\n      <td>10.352941</td>\n      <td>18.176471</td>\n      <td>7.470588</td>\n      <td>7.000000</td>\n      <td>10.117647</td>\n      <td>9.647059</td>\n      <td>12.117647</td>\n      <td>11.941176</td>\n      <td>1.470588</td>\n      <td>15.117647</td>\n      <td>...</td>\n      <td>5.0</td>\n      <td>10.0</td>\n      <td>4.0</td>\n      <td>7.0</td>\n      <td>5.0</td>\n      <td>2.0</td>\n      <td>NaN</td>\n      <td>7.0</td>\n      <td>NaN</td>\n      <td>1.0</td>\n    </tr>\n  </tbody>\n</table>\n<p>25368 rows × 826 columns</p>\n</div>"
     },
     "execution_count": 277,
     "metadata": {},
     "output_type": "execute_result"
    }
   ],
   "source": [
    "X_test"
   ],
   "metadata": {
    "collapsed": false,
    "ExecuteTime": {
     "end_time": "2024-02-18T22:17:32.469904Z",
     "start_time": "2024-02-18T22:17:32.460078Z"
    }
   },
   "id": "daf05d80a455f111",
   "execution_count": 277
  },
  {
   "cell_type": "markdown",
   "source": [
    "### Data normalisation "
   ],
   "metadata": {
    "collapsed": false
   },
   "id": "670f5e7fbe2f7523"
  },
  {
   "cell_type": "code",
   "outputs": [],
   "source": [
    "scaler = preprocessing.StandardScaler().fit(X_train)\n",
    "X_train_standard = scaler.transform(X_train)\n",
    "X_test_standard = scaler.transform(X_test)"
   ],
   "metadata": {
    "collapsed": false,
    "ExecuteTime": {
     "end_time": "2024-02-18T22:17:32.627710Z",
     "start_time": "2024-02-18T22:17:32.472453Z"
    }
   },
   "id": "df5de3df6f7acf2f",
   "execution_count": 278
  },
  {
   "cell_type": "code",
   "outputs": [
    {
     "data": {
      "text/plain": "array([[ 0.76964893, -0.21324899,  0.55874994, ..., -0.26932136,\n        -0.67465598, -0.24066913],\n       [ 0.4329084 ,  1.26203927,  0.39889823, ..., -1.33519978,\n         0.39838004, -0.24066913],\n       [ 0.16774557, -0.89511663,  0.57425395, ..., -1.33519978,\n         1.82909474,  0.80976408],\n       ...,\n       [-0.6521444 , -0.98296461, -0.65858231, ..., -0.26932136,\n         0.04070137,  0.10947528],\n       [        nan,         nan,         nan, ..., -0.62461417,\n                nan,  0.80976408],\n       [-1.21337861, -0.07694519, -0.69547117, ...,  0.08597144,\n        -1.39001333,  1.15990848]])"
     },
     "execution_count": 279,
     "metadata": {},
     "output_type": "execute_result"
    }
   ],
   "source": [
    "X_train_standard"
   ],
   "metadata": {
    "collapsed": false,
    "ExecuteTime": {
     "end_time": "2024-02-18T22:17:32.632285Z",
     "start_time": "2024-02-18T22:17:32.628461Z"
    }
   },
   "id": "1a8858452caa9efd",
   "execution_count": 279
  },
  {
   "cell_type": "markdown",
   "source": [
    "### We try to model if AWAY wins"
   ],
   "metadata": {
    "collapsed": false
   },
   "id": "6c6f42c4b4fea89"
  },
  {
   "cell_type": "code",
   "outputs": [],
   "source": [
    "Y_train_new = Y_train['AWAY_WINS'] "
   ],
   "metadata": {
    "collapsed": false,
    "ExecuteTime": {
     "end_time": "2024-02-18T22:17:32.632923Z",
     "start_time": "2024-02-18T22:17:32.630722Z"
    }
   },
   "id": "59855f033499ae00",
   "execution_count": 280
  },
  {
   "cell_type": "markdown",
   "source": [
    "### train, valid test split\n"
   ],
   "metadata": {
    "collapsed": false
   },
   "id": "172bcdc46cbe237"
  },
  {
   "cell_type": "code",
   "outputs": [],
   "source": [
    "X_train, X_test, y_train, y_test = model_selection.train_test_split(X_train_standard, Y_train_new, train_size=0.8, random_state=42)\n",
    "X_train, X_valid, y_train, y_valid = model_selection.train_test_split(X_train, y_train, train_size=0.8, random_state=42)"
   ],
   "metadata": {
    "collapsed": false,
    "ExecuteTime": {
     "end_time": "2024-02-18T22:17:32.687006Z",
     "start_time": "2024-02-18T22:17:32.633124Z"
    }
   },
   "id": "88fba6ff70caf4eb",
   "execution_count": 281
  },
  {
   "cell_type": "code",
   "outputs": [],
   "source": [
    "X_train = pd.DataFrame(X_train)\n",
    "X_train.columns = columns_name\n",
    "X_valid = pd.DataFrame(X_valid)\n",
    "X_valid.columns = columns_name\n",
    "X_test = pd.DataFrame(X_test)\n",
    "X_test.columns = columns_name"
   ],
   "metadata": {
    "collapsed": false,
    "ExecuteTime": {
     "end_time": "2024-02-18T22:17:32.688737Z",
     "start_time": "2024-02-18T22:17:32.687390Z"
    }
   },
   "id": "8a80bb2051b4ebca",
   "execution_count": 282
  },
  {
   "cell_type": "markdown",
   "source": [
    "### xgb model"
   ],
   "metadata": {
    "collapsed": false
   },
   "id": "d9e855d0f49dea13"
  },
  {
   "cell_type": "code",
   "outputs": [
    {
     "name": "stderr",
     "output_type": "stream",
     "text": [
      "/Users/mjolif/Documents/Data-Challenge-ENS/Football-matches-outcome-prediction/venv/lib/python3.11/site-packages/xgboost/core.py:727: FutureWarning: Pass `evals` as keyword args.\n",
      "  warnings.warn(msg, FutureWarning)\n"
     ]
    },
    {
     "name": "stdout",
     "output_type": "stream",
     "text": [
      "[0]\ttrain-mlogloss:0.68245\teval-mlogloss:0.68757\n",
      "[1]\ttrain-mlogloss:0.67286\teval-mlogloss:0.68216\n",
      "[2]\ttrain-mlogloss:0.66334\teval-mlogloss:0.67712\n",
      "[3]\ttrain-mlogloss:0.65432\teval-mlogloss:0.67247\n",
      "[4]\ttrain-mlogloss:0.64505\teval-mlogloss:0.66787\n",
      "[5]\ttrain-mlogloss:0.63644\teval-mlogloss:0.66329\n",
      "[6]\ttrain-mlogloss:0.62827\teval-mlogloss:0.65918\n",
      "[7]\ttrain-mlogloss:0.61953\teval-mlogloss:0.65493\n",
      "[8]\ttrain-mlogloss:0.61184\teval-mlogloss:0.65103\n",
      "[9]\ttrain-mlogloss:0.60416\teval-mlogloss:0.64726\n",
      "[10]\ttrain-mlogloss:0.59662\teval-mlogloss:0.64361\n",
      "[11]\ttrain-mlogloss:0.58935\teval-mlogloss:0.64029\n",
      "[12]\ttrain-mlogloss:0.58276\teval-mlogloss:0.63719\n",
      "[13]\ttrain-mlogloss:0.57552\teval-mlogloss:0.63426\n",
      "[14]\ttrain-mlogloss:0.56883\teval-mlogloss:0.63152\n",
      "[15]\ttrain-mlogloss:0.56196\teval-mlogloss:0.62834\n",
      "[16]\ttrain-mlogloss:0.55539\teval-mlogloss:0.62563\n",
      "[17]\ttrain-mlogloss:0.54888\teval-mlogloss:0.62303\n",
      "[18]\ttrain-mlogloss:0.54274\teval-mlogloss:0.62056\n",
      "[19]\ttrain-mlogloss:0.53692\teval-mlogloss:0.61796\n",
      "[20]\ttrain-mlogloss:0.53084\teval-mlogloss:0.61528\n",
      "[21]\ttrain-mlogloss:0.52502\teval-mlogloss:0.61320\n",
      "[22]\ttrain-mlogloss:0.51933\teval-mlogloss:0.61087\n",
      "[23]\ttrain-mlogloss:0.51409\teval-mlogloss:0.60885\n",
      "[24]\ttrain-mlogloss:0.50798\teval-mlogloss:0.60698\n",
      "[25]\ttrain-mlogloss:0.50237\teval-mlogloss:0.60543\n",
      "[26]\ttrain-mlogloss:0.49693\teval-mlogloss:0.60349\n",
      "[27]\ttrain-mlogloss:0.49216\teval-mlogloss:0.60185\n",
      "[28]\ttrain-mlogloss:0.48781\teval-mlogloss:0.60016\n",
      "[29]\ttrain-mlogloss:0.48299\teval-mlogloss:0.59856\n",
      "[30]\ttrain-mlogloss:0.47856\teval-mlogloss:0.59686\n",
      "[31]\ttrain-mlogloss:0.47369\teval-mlogloss:0.59560\n",
      "[32]\ttrain-mlogloss:0.46976\teval-mlogloss:0.59413\n",
      "[33]\ttrain-mlogloss:0.46479\teval-mlogloss:0.59276\n",
      "[34]\ttrain-mlogloss:0.46023\teval-mlogloss:0.59134\n",
      "[35]\ttrain-mlogloss:0.45605\teval-mlogloss:0.58994\n",
      "[36]\ttrain-mlogloss:0.45215\teval-mlogloss:0.58864\n",
      "[37]\ttrain-mlogloss:0.44808\teval-mlogloss:0.58768\n",
      "[38]\ttrain-mlogloss:0.44371\teval-mlogloss:0.58669\n",
      "[39]\ttrain-mlogloss:0.43983\teval-mlogloss:0.58573\n",
      "[40]\ttrain-mlogloss:0.43605\teval-mlogloss:0.58517\n",
      "[41]\ttrain-mlogloss:0.43217\teval-mlogloss:0.58424\n",
      "[42]\ttrain-mlogloss:0.42843\teval-mlogloss:0.58312\n",
      "[43]\ttrain-mlogloss:0.42427\teval-mlogloss:0.58231\n",
      "[44]\ttrain-mlogloss:0.42053\teval-mlogloss:0.58159\n",
      "[45]\ttrain-mlogloss:0.41703\teval-mlogloss:0.58081\n",
      "[46]\ttrain-mlogloss:0.41328\teval-mlogloss:0.58006\n",
      "[47]\ttrain-mlogloss:0.40950\teval-mlogloss:0.57932\n",
      "[48]\ttrain-mlogloss:0.40573\teval-mlogloss:0.57846\n",
      "[49]\ttrain-mlogloss:0.40211\teval-mlogloss:0.57798\n",
      "[50]\ttrain-mlogloss:0.39823\teval-mlogloss:0.57720\n",
      "[51]\ttrain-mlogloss:0.39487\teval-mlogloss:0.57649\n",
      "[52]\ttrain-mlogloss:0.39139\teval-mlogloss:0.57572\n",
      "[53]\ttrain-mlogloss:0.38822\teval-mlogloss:0.57480\n",
      "[54]\ttrain-mlogloss:0.38468\teval-mlogloss:0.57401\n",
      "[55]\ttrain-mlogloss:0.38159\teval-mlogloss:0.57371\n",
      "[56]\ttrain-mlogloss:0.37878\teval-mlogloss:0.57323\n",
      "[57]\ttrain-mlogloss:0.37532\teval-mlogloss:0.57265\n",
      "[58]\ttrain-mlogloss:0.37201\teval-mlogloss:0.57202\n",
      "[59]\ttrain-mlogloss:0.36926\teval-mlogloss:0.57137\n",
      "[60]\ttrain-mlogloss:0.36617\teval-mlogloss:0.57086\n",
      "[61]\ttrain-mlogloss:0.36354\teval-mlogloss:0.57035\n",
      "[62]\ttrain-mlogloss:0.36098\teval-mlogloss:0.56979\n",
      "[63]\ttrain-mlogloss:0.35827\teval-mlogloss:0.56913\n",
      "[64]\ttrain-mlogloss:0.35553\teval-mlogloss:0.56864\n",
      "[65]\ttrain-mlogloss:0.35315\teval-mlogloss:0.56811\n",
      "[66]\ttrain-mlogloss:0.35040\teval-mlogloss:0.56789\n",
      "[67]\ttrain-mlogloss:0.34791\teval-mlogloss:0.56741\n",
      "[68]\ttrain-mlogloss:0.34486\teval-mlogloss:0.56717\n",
      "[69]\ttrain-mlogloss:0.34233\teval-mlogloss:0.56671\n",
      "[70]\ttrain-mlogloss:0.33957\teval-mlogloss:0.56647\n",
      "[71]\ttrain-mlogloss:0.33694\teval-mlogloss:0.56631\n",
      "[72]\ttrain-mlogloss:0.33476\teval-mlogloss:0.56621\n",
      "[73]\ttrain-mlogloss:0.33253\teval-mlogloss:0.56569\n",
      "[74]\ttrain-mlogloss:0.33046\teval-mlogloss:0.56561\n",
      "[75]\ttrain-mlogloss:0.32833\teval-mlogloss:0.56548\n",
      "[76]\ttrain-mlogloss:0.32632\teval-mlogloss:0.56509\n",
      "[77]\ttrain-mlogloss:0.32345\teval-mlogloss:0.56447\n",
      "[78]\ttrain-mlogloss:0.32154\teval-mlogloss:0.56421\n",
      "[79]\ttrain-mlogloss:0.31910\teval-mlogloss:0.56415\n",
      "[80]\ttrain-mlogloss:0.31711\teval-mlogloss:0.56387\n",
      "[81]\ttrain-mlogloss:0.31517\teval-mlogloss:0.56372\n",
      "[82]\ttrain-mlogloss:0.31324\teval-mlogloss:0.56342\n",
      "[83]\ttrain-mlogloss:0.31076\teval-mlogloss:0.56309\n",
      "[84]\ttrain-mlogloss:0.30876\teval-mlogloss:0.56293\n",
      "[85]\ttrain-mlogloss:0.30689\teval-mlogloss:0.56277\n",
      "[86]\ttrain-mlogloss:0.30439\teval-mlogloss:0.56234\n",
      "[87]\ttrain-mlogloss:0.30254\teval-mlogloss:0.56220\n",
      "[88]\ttrain-mlogloss:0.30081\teval-mlogloss:0.56190\n",
      "[89]\ttrain-mlogloss:0.29901\teval-mlogloss:0.56177\n",
      "[90]\ttrain-mlogloss:0.29710\teval-mlogloss:0.56157\n",
      "[91]\ttrain-mlogloss:0.29529\teval-mlogloss:0.56143\n",
      "[92]\ttrain-mlogloss:0.29307\teval-mlogloss:0.56132\n",
      "[93]\ttrain-mlogloss:0.29140\teval-mlogloss:0.56116\n",
      "[94]\ttrain-mlogloss:0.28952\teval-mlogloss:0.56124\n",
      "[95]\ttrain-mlogloss:0.28762\teval-mlogloss:0.56127\n",
      "[96]\ttrain-mlogloss:0.28601\teval-mlogloss:0.56089\n",
      "[97]\ttrain-mlogloss:0.28423\teval-mlogloss:0.56087\n",
      "[98]\ttrain-mlogloss:0.28266\teval-mlogloss:0.56062\n",
      "[99]\ttrain-mlogloss:0.28106\teval-mlogloss:0.56051\n",
      "[100]\ttrain-mlogloss:0.27958\teval-mlogloss:0.56034\n",
      "[101]\ttrain-mlogloss:0.27798\teval-mlogloss:0.56021\n",
      "[102]\ttrain-mlogloss:0.27607\teval-mlogloss:0.56005\n",
      "[103]\ttrain-mlogloss:0.27431\teval-mlogloss:0.55991\n",
      "[104]\ttrain-mlogloss:0.27289\teval-mlogloss:0.55962\n",
      "[105]\ttrain-mlogloss:0.27116\teval-mlogloss:0.55956\n",
      "[106]\ttrain-mlogloss:0.26944\teval-mlogloss:0.55952\n",
      "[107]\ttrain-mlogloss:0.26776\teval-mlogloss:0.55946\n",
      "[108]\ttrain-mlogloss:0.26624\teval-mlogloss:0.55918\n",
      "[109]\ttrain-mlogloss:0.26456\teval-mlogloss:0.55933\n",
      "[110]\ttrain-mlogloss:0.26264\teval-mlogloss:0.55936\n",
      "[111]\ttrain-mlogloss:0.26092\teval-mlogloss:0.55917\n",
      "[112]\ttrain-mlogloss:0.25980\teval-mlogloss:0.55909\n",
      "[113]\ttrain-mlogloss:0.25817\teval-mlogloss:0.55914\n",
      "[114]\ttrain-mlogloss:0.25651\teval-mlogloss:0.55912\n",
      "[115]\ttrain-mlogloss:0.25501\teval-mlogloss:0.55922\n",
      "[116]\ttrain-mlogloss:0.25383\teval-mlogloss:0.55902\n",
      "[117]\ttrain-mlogloss:0.25219\teval-mlogloss:0.55911\n",
      "[118]\ttrain-mlogloss:0.25024\teval-mlogloss:0.55904\n",
      "[119]\ttrain-mlogloss:0.24868\teval-mlogloss:0.55887\n",
      "[120]\ttrain-mlogloss:0.24698\teval-mlogloss:0.55903\n",
      "[121]\ttrain-mlogloss:0.24532\teval-mlogloss:0.55903\n",
      "[122]\ttrain-mlogloss:0.24393\teval-mlogloss:0.55918\n",
      "[123]\ttrain-mlogloss:0.24238\teval-mlogloss:0.55925\n",
      "[124]\ttrain-mlogloss:0.24090\teval-mlogloss:0.55923\n",
      "[125]\ttrain-mlogloss:0.23929\teval-mlogloss:0.55928\n",
      "[126]\ttrain-mlogloss:0.23798\teval-mlogloss:0.55924\n",
      "[127]\ttrain-mlogloss:0.23639\teval-mlogloss:0.55944\n",
      "[128]\ttrain-mlogloss:0.23517\teval-mlogloss:0.55960\n",
      "[129]\ttrain-mlogloss:0.23359\teval-mlogloss:0.55977\n",
      "[130]\ttrain-mlogloss:0.23230\teval-mlogloss:0.55978\n",
      "[131]\ttrain-mlogloss:0.23153\teval-mlogloss:0.55955\n",
      "[132]\ttrain-mlogloss:0.23013\teval-mlogloss:0.55953\n",
      "[133]\ttrain-mlogloss:0.22898\teval-mlogloss:0.55970\n",
      "[134]\ttrain-mlogloss:0.22752\teval-mlogloss:0.55981\n",
      "[135]\ttrain-mlogloss:0.22630\teval-mlogloss:0.55980\n",
      "[136]\ttrain-mlogloss:0.22508\teval-mlogloss:0.56010\n",
      "[137]\ttrain-mlogloss:0.22451\teval-mlogloss:0.56002\n",
      "[138]\ttrain-mlogloss:0.22330\teval-mlogloss:0.55988\n",
      "[139]\ttrain-mlogloss:0.22208\teval-mlogloss:0.56001\n",
      "[140]\ttrain-mlogloss:0.22117\teval-mlogloss:0.56005\n",
      "[141]\ttrain-mlogloss:0.21988\teval-mlogloss:0.55992\n",
      "[142]\ttrain-mlogloss:0.21868\teval-mlogloss:0.55995\n",
      "[143]\ttrain-mlogloss:0.21824\teval-mlogloss:0.55985\n",
      "[144]\ttrain-mlogloss:0.21718\teval-mlogloss:0.55983\n",
      "[145]\ttrain-mlogloss:0.21619\teval-mlogloss:0.55985\n",
      "[146]\ttrain-mlogloss:0.21530\teval-mlogloss:0.55995\n",
      "[147]\ttrain-mlogloss:0.21470\teval-mlogloss:0.55995\n",
      "[148]\ttrain-mlogloss:0.21408\teval-mlogloss:0.55984\n",
      "[149]\ttrain-mlogloss:0.21340\teval-mlogloss:0.55995\n",
      "[150]\ttrain-mlogloss:0.21302\teval-mlogloss:0.55996\n",
      "[151]\ttrain-mlogloss:0.21197\teval-mlogloss:0.55993\n",
      "[152]\ttrain-mlogloss:0.21104\teval-mlogloss:0.55990\n",
      "[153]\ttrain-mlogloss:0.20975\teval-mlogloss:0.55988\n",
      "[154]\ttrain-mlogloss:0.20880\teval-mlogloss:0.55994\n",
      "[155]\ttrain-mlogloss:0.20852\teval-mlogloss:0.55989\n",
      "[156]\ttrain-mlogloss:0.20782\teval-mlogloss:0.55998\n",
      "[157]\ttrain-mlogloss:0.20688\teval-mlogloss:0.56015\n",
      "[158]\ttrain-mlogloss:0.20579\teval-mlogloss:0.56013\n",
      "[159]\ttrain-mlogloss:0.20554\teval-mlogloss:0.56007\n",
      "[160]\ttrain-mlogloss:0.20448\teval-mlogloss:0.56018\n",
      "[161]\ttrain-mlogloss:0.20359\teval-mlogloss:0.56035\n",
      "[162]\ttrain-mlogloss:0.20244\teval-mlogloss:0.56046\n",
      "[163]\ttrain-mlogloss:0.20199\teval-mlogloss:0.56064\n",
      "[164]\ttrain-mlogloss:0.20174\teval-mlogloss:0.56060\n",
      "[165]\ttrain-mlogloss:0.20054\teval-mlogloss:0.56059\n",
      "[166]\ttrain-mlogloss:0.19975\teval-mlogloss:0.56047\n",
      "[167]\ttrain-mlogloss:0.19874\teval-mlogloss:0.56061\n",
      "[168]\ttrain-mlogloss:0.19800\teval-mlogloss:0.56048\n",
      "[169]\ttrain-mlogloss:0.19741\teval-mlogloss:0.56051\n",
      "[170]\ttrain-mlogloss:0.19692\teval-mlogloss:0.56070\n",
      "[171]\ttrain-mlogloss:0.19580\teval-mlogloss:0.56077\n",
      "[172]\ttrain-mlogloss:0.19524\teval-mlogloss:0.56087\n",
      "[173]\ttrain-mlogloss:0.19478\teval-mlogloss:0.56105\n",
      "[174]\ttrain-mlogloss:0.19398\teval-mlogloss:0.56086\n",
      "[175]\ttrain-mlogloss:0.19323\teval-mlogloss:0.56092\n",
      "[176]\ttrain-mlogloss:0.19233\teval-mlogloss:0.56109\n",
      "[177]\ttrain-mlogloss:0.19187\teval-mlogloss:0.56131\n",
      "[178]\ttrain-mlogloss:0.19077\teval-mlogloss:0.56126\n",
      "[179]\ttrain-mlogloss:0.19032\teval-mlogloss:0.56131\n",
      "[180]\ttrain-mlogloss:0.18961\teval-mlogloss:0.56136\n",
      "[181]\ttrain-mlogloss:0.18884\teval-mlogloss:0.56141\n",
      "[182]\ttrain-mlogloss:0.18816\teval-mlogloss:0.56138\n",
      "[183]\ttrain-mlogloss:0.18747\teval-mlogloss:0.56135\n",
      "[184]\ttrain-mlogloss:0.18671\teval-mlogloss:0.56150\n",
      "[185]\ttrain-mlogloss:0.18598\teval-mlogloss:0.56169\n",
      "[186]\ttrain-mlogloss:0.18562\teval-mlogloss:0.56185\n",
      "[187]\ttrain-mlogloss:0.18454\teval-mlogloss:0.56157\n",
      "[188]\ttrain-mlogloss:0.18377\teval-mlogloss:0.56166\n",
      "[189]\ttrain-mlogloss:0.18300\teval-mlogloss:0.56177\n",
      "[190]\ttrain-mlogloss:0.18228\teval-mlogloss:0.56175\n",
      "[191]\ttrain-mlogloss:0.18180\teval-mlogloss:0.56197\n",
      "[192]\ttrain-mlogloss:0.18142\teval-mlogloss:0.56201\n",
      "[193]\ttrain-mlogloss:0.18061\teval-mlogloss:0.56212\n",
      "[194]\ttrain-mlogloss:0.18001\teval-mlogloss:0.56214\n",
      "[195]\ttrain-mlogloss:0.17949\teval-mlogloss:0.56223\n",
      "[196]\ttrain-mlogloss:0.17913\teval-mlogloss:0.56241\n",
      "[197]\ttrain-mlogloss:0.17842\teval-mlogloss:0.56252\n",
      "[198]\ttrain-mlogloss:0.17757\teval-mlogloss:0.56251\n",
      "[199]\ttrain-mlogloss:0.17668\teval-mlogloss:0.56268\n",
      "[200]\ttrain-mlogloss:0.17594\teval-mlogloss:0.56270\n",
      "[201]\ttrain-mlogloss:0.17547\teval-mlogloss:0.56277\n",
      "[202]\ttrain-mlogloss:0.17468\teval-mlogloss:0.56296\n",
      "[203]\ttrain-mlogloss:0.17437\teval-mlogloss:0.56310\n",
      "[204]\ttrain-mlogloss:0.17382\teval-mlogloss:0.56308\n",
      "[205]\ttrain-mlogloss:0.17311\teval-mlogloss:0.56312\n",
      "[206]\ttrain-mlogloss:0.17258\teval-mlogloss:0.56335\n",
      "[207]\ttrain-mlogloss:0.17189\teval-mlogloss:0.56329\n",
      "[208]\ttrain-mlogloss:0.17103\teval-mlogloss:0.56318\n",
      "[209]\ttrain-mlogloss:0.17042\teval-mlogloss:0.56309\n",
      "[210]\ttrain-mlogloss:0.16944\teval-mlogloss:0.56319\n",
      "[211]\ttrain-mlogloss:0.16877\teval-mlogloss:0.56328\n",
      "[212]\ttrain-mlogloss:0.16828\teval-mlogloss:0.56340\n",
      "[213]\ttrain-mlogloss:0.16762\teval-mlogloss:0.56360\n",
      "[214]\ttrain-mlogloss:0.16674\teval-mlogloss:0.56372\n",
      "[215]\ttrain-mlogloss:0.16600\teval-mlogloss:0.56386\n",
      "[216]\ttrain-mlogloss:0.16540\teval-mlogloss:0.56377\n",
      "[217]\ttrain-mlogloss:0.16512\teval-mlogloss:0.56384\n",
      "[218]\ttrain-mlogloss:0.16434\teval-mlogloss:0.56420\n"
     ]
    }
   ],
   "source": [
    "params_1 = {\n",
    "    'booster': 'gbtree',\n",
    "    'tree_method':'hist',\n",
    "    'max_depth': 8, \n",
    "    'learning_rate': 0.025,\n",
    "    'objective': 'multi:softprob',\n",
    "    'num_class': 2,\n",
    "    'eval_metric':'mlogloss'\n",
    "    }\n",
    "\n",
    "\n",
    "d_train = xgb.DMatrix(X_train.replace({0:np.nan}), y_train)\n",
    "d_valid = xgb.DMatrix(X_valid.replace({0:np.nan}), y_valid)\n",
    "\n",
    "num_round = 10000\n",
    "evallist = [(d_train, 'train'), (d_valid, 'eval')]\n",
    "\n",
    "bst = xgb.train(params_1, d_train, num_round, evallist, early_stopping_rounds=100)"
   ],
   "metadata": {
    "collapsed": false,
    "ExecuteTime": {
     "end_time": "2024-02-18T22:18:00.734365Z",
     "start_time": "2024-02-18T22:17:32.690064Z"
    }
   },
   "id": "459cbd85fe2601cc",
   "execution_count": 283
  },
  {
   "cell_type": "markdown",
   "source": [
    "### Analysis"
   ],
   "metadata": {
    "collapsed": false
   },
   "id": "fa2d66d692487709"
  },
  {
   "cell_type": "markdown",
   "source": [
    "### Score of the model "
   ],
   "metadata": {
    "collapsed": false
   },
   "id": "40b8c67e5ce6d0f7"
  },
  {
   "cell_type": "code",
   "outputs": [],
   "source": [
    "train_scores = pd.read_csv('Y_train_1rknArQ.csv', index_col=0)\n",
    "target = train_scores.loc[X_test.index].copy()"
   ],
   "metadata": {
    "collapsed": false,
    "ExecuteTime": {
     "end_time": "2024-02-18T22:18:00.742192Z",
     "start_time": "2024-02-18T22:18:00.735785Z"
    }
   },
   "id": "e9bcc593d245d74d",
   "execution_count": 284
  },
  {
   "cell_type": "code",
   "outputs": [
    {
     "data": {
      "text/plain": "       HOME_WINS  DRAW  AWAY_WINS\nID                               \n0              0     0          1\n1              0     1          0\n2              0     0          1\n3              1     0          0\n4              0     1          0\n...          ...   ...        ...\n12298          0     0          1\n12299          0     0          1\n12300          0     0          1\n12301          1     0          0\n12302          1     0          0\n\n[12303 rows x 3 columns]",
      "text/html": "<div>\n<style scoped>\n    .dataframe tbody tr th:only-of-type {\n        vertical-align: middle;\n    }\n\n    .dataframe tbody tr th {\n        vertical-align: top;\n    }\n\n    .dataframe thead th {\n        text-align: right;\n    }\n</style>\n<table border=\"1\" class=\"dataframe\">\n  <thead>\n    <tr style=\"text-align: right;\">\n      <th></th>\n      <th>HOME_WINS</th>\n      <th>DRAW</th>\n      <th>AWAY_WINS</th>\n    </tr>\n    <tr>\n      <th>ID</th>\n      <th></th>\n      <th></th>\n      <th></th>\n    </tr>\n  </thead>\n  <tbody>\n    <tr>\n      <th>0</th>\n      <td>0</td>\n      <td>0</td>\n      <td>1</td>\n    </tr>\n    <tr>\n      <th>1</th>\n      <td>0</td>\n      <td>1</td>\n      <td>0</td>\n    </tr>\n    <tr>\n      <th>2</th>\n      <td>0</td>\n      <td>0</td>\n      <td>1</td>\n    </tr>\n    <tr>\n      <th>3</th>\n      <td>1</td>\n      <td>0</td>\n      <td>0</td>\n    </tr>\n    <tr>\n      <th>4</th>\n      <td>0</td>\n      <td>1</td>\n      <td>0</td>\n    </tr>\n    <tr>\n      <th>...</th>\n      <td>...</td>\n      <td>...</td>\n      <td>...</td>\n    </tr>\n    <tr>\n      <th>12298</th>\n      <td>0</td>\n      <td>0</td>\n      <td>1</td>\n    </tr>\n    <tr>\n      <th>12299</th>\n      <td>0</td>\n      <td>0</td>\n      <td>1</td>\n    </tr>\n    <tr>\n      <th>12300</th>\n      <td>0</td>\n      <td>0</td>\n      <td>1</td>\n    </tr>\n    <tr>\n      <th>12301</th>\n      <td>1</td>\n      <td>0</td>\n      <td>0</td>\n    </tr>\n    <tr>\n      <th>12302</th>\n      <td>1</td>\n      <td>0</td>\n      <td>0</td>\n    </tr>\n  </tbody>\n</table>\n<p>12303 rows × 3 columns</p>\n</div>"
     },
     "execution_count": 285,
     "metadata": {},
     "output_type": "execute_result"
    }
   ],
   "source": [
    "train_scores"
   ],
   "metadata": {
    "collapsed": false,
    "ExecuteTime": {
     "end_time": "2024-02-18T22:18:00.747844Z",
     "start_time": "2024-02-18T22:18:00.744124Z"
    }
   },
   "id": "48fc9c8ad7ab8de0",
   "execution_count": 285
  },
  {
   "cell_type": "code",
   "outputs": [
    {
     "data": {
      "text/plain": "0.4283"
     },
     "execution_count": 286,
     "metadata": {},
     "output_type": "execute_result"
    }
   ],
   "source": [
    "X_test_xgb = xgb.DMatrix(X_test)\n",
    "\n",
    "predictions = bst.predict(X_test_xgb, iteration_range=(0, bst.best_iteration))\n",
    "predictions = pd.DataFrame(predictions)\n",
    "\n",
    "predictions[2] = 0\n",
    "predictions.columns = [0,2,1]\n",
    "predictions = (predictions.reindex(columns=[0,1,2]).rank(1,ascending=False)==1).astype(int).values\n",
    "np.round(accuracy_score(predictions,target),4)"
   ],
   "metadata": {
    "collapsed": false,
    "ExecuteTime": {
     "end_time": "2024-02-18T22:18:00.801216Z",
     "start_time": "2024-02-18T22:18:00.773036Z"
    }
   },
   "id": "520ad947ece021a8",
   "execution_count": 286
  },
  {
   "cell_type": "markdown",
   "source": [
    "### Submission"
   ],
   "metadata": {
    "collapsed": false
   },
   "id": "215cbe67dab9320b"
  },
  {
   "cell_type": "code",
   "outputs": [],
   "source": [
    "X_test_standard = pd.DataFrame(X_test_standard)\n",
    "X_test_standard.columns = columns_name"
   ],
   "metadata": {
    "collapsed": false,
    "ExecuteTime": {
     "end_time": "2024-02-18T22:18:00.818004Z",
     "start_time": "2024-02-18T22:18:00.792037Z"
    }
   },
   "id": "1c4e175448a3b2b9",
   "execution_count": 287
  },
  {
   "cell_type": "code",
   "outputs": [],
   "source": [
    "X_bench = xgb.DMatrix(X_test_standard)\n",
    "\n",
    "predictions = bst.predict(X_bench, iteration_range=(0, bst.best_iteration))\n",
    "predictions = pd.DataFrame(predictions)\n",
    "\n",
    "predictions[2] = 0\n",
    "predictions.columns = [0,2,1]\n",
    "predictions = (predictions.reindex(columns=[0,1,2]).rank(1,ascending=False)==1).astype(int)\n",
    "\n",
    "Y = pd.read_csv('Y_test_random_sEE2QeA.csv', index_col=0)\n",
    "\n",
    "predictions.columns = ['HOME_WINS', 'DRAW', 'AWAY_WINS']\n",
    "predictions.index = Y.index\n",
    "submission = predictions\n",
    "submission.to_csv('submission.csv', index=True)"
   ],
   "metadata": {
    "collapsed": false,
    "ExecuteTime": {
     "end_time": "2024-02-18T22:19:58.559531Z",
     "start_time": "2024-02-18T22:19:58.353391Z"
    }
   },
   "id": "566b499ce66c8f9a",
   "execution_count": 295
  },
  {
   "cell_type": "code",
   "outputs": [
    {
     "data": {
      "text/plain": "       HOME_WINS  DRAW  AWAY_WINS\nID                               \n12303          0     1          0\n12304          0     1          0\n12305          0     1          0\n12306          0     1          0\n12307          1     0          0\n...          ...   ...        ...\n37666          0     1          0\n37667          0     1          0\n37668          0     0          1\n37669          1     0          0\n37670          0     1          0\n\n[25368 rows x 3 columns]",
      "text/html": "<div>\n<style scoped>\n    .dataframe tbody tr th:only-of-type {\n        vertical-align: middle;\n    }\n\n    .dataframe tbody tr th {\n        vertical-align: top;\n    }\n\n    .dataframe thead th {\n        text-align: right;\n    }\n</style>\n<table border=\"1\" class=\"dataframe\">\n  <thead>\n    <tr style=\"text-align: right;\">\n      <th></th>\n      <th>HOME_WINS</th>\n      <th>DRAW</th>\n      <th>AWAY_WINS</th>\n    </tr>\n    <tr>\n      <th>ID</th>\n      <th></th>\n      <th></th>\n      <th></th>\n    </tr>\n  </thead>\n  <tbody>\n    <tr>\n      <th>12303</th>\n      <td>0</td>\n      <td>1</td>\n      <td>0</td>\n    </tr>\n    <tr>\n      <th>12304</th>\n      <td>0</td>\n      <td>1</td>\n      <td>0</td>\n    </tr>\n    <tr>\n      <th>12305</th>\n      <td>0</td>\n      <td>1</td>\n      <td>0</td>\n    </tr>\n    <tr>\n      <th>12306</th>\n      <td>0</td>\n      <td>1</td>\n      <td>0</td>\n    </tr>\n    <tr>\n      <th>12307</th>\n      <td>1</td>\n      <td>0</td>\n      <td>0</td>\n    </tr>\n    <tr>\n      <th>...</th>\n      <td>...</td>\n      <td>...</td>\n      <td>...</td>\n    </tr>\n    <tr>\n      <th>37666</th>\n      <td>0</td>\n      <td>1</td>\n      <td>0</td>\n    </tr>\n    <tr>\n      <th>37667</th>\n      <td>0</td>\n      <td>1</td>\n      <td>0</td>\n    </tr>\n    <tr>\n      <th>37668</th>\n      <td>0</td>\n      <td>0</td>\n      <td>1</td>\n    </tr>\n    <tr>\n      <th>37669</th>\n      <td>1</td>\n      <td>0</td>\n      <td>0</td>\n    </tr>\n    <tr>\n      <th>37670</th>\n      <td>0</td>\n      <td>1</td>\n      <td>0</td>\n    </tr>\n  </tbody>\n</table>\n<p>25368 rows × 3 columns</p>\n</div>"
     },
     "execution_count": 296,
     "metadata": {},
     "output_type": "execute_result"
    }
   ],
   "source": [
    "Y"
   ],
   "metadata": {
    "collapsed": false,
    "ExecuteTime": {
     "end_time": "2024-02-18T22:20:00.301984Z",
     "start_time": "2024-02-18T22:20:00.298459Z"
    }
   },
   "id": "bb24d36f27a4d932",
   "execution_count": 296
  }
 ],
 "metadata": {
  "kernelspec": {
   "display_name": "Python 3",
   "language": "python",
   "name": "python3"
  },
  "language_info": {
   "codemirror_mode": {
    "name": "ipython",
    "version": 2
   },
   "file_extension": ".py",
   "mimetype": "text/x-python",
   "name": "python",
   "nbconvert_exporter": "python",
   "pygments_lexer": "ipython2",
   "version": "2.7.6"
  }
 },
 "nbformat": 4,
 "nbformat_minor": 5
}
