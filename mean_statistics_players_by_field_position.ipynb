{
 "cells": [
  {
   "cell_type": "markdown",
   "source": [
    "### Libraries"
   ],
   "metadata": {
    "collapsed": false
   },
   "id": "217755627b10c351"
  },
  {
   "cell_type": "code",
   "outputs": [],
   "source": [
    "import pandas as pd\n",
    "import numpy as np\n",
    "from sklearn import preprocessing\n",
    "from sklearn import model_selection\n",
    "from sklearn.linear_model import LogisticRegression\n",
    "import xgboost as xgb\n",
    "import matplotlib.pyplot as plt\n",
    "from sklearn.metrics import accuracy_score, classification_report, confusion_matrix\n",
    "from sklearn.ensemble import RandomForestClassifier, HistGradientBoostingClassifier, AdaBoostClassifier, \\\n",
    "    BaggingClassifier, StackingClassifier\n",
    "from sklearn.decomposition import PCA\n",
    "from sklearn.impute import KNNImputer\n",
    "from sklearn.neural_network import MLPClassifier\n",
    "from sklearn.preprocessing import LabelEncoder, OrdinalEncoder"
   ],
   "metadata": {
    "collapsed": true,
    "ExecuteTime": {
     "end_time": "2024-03-22T18:30:57.128141Z",
     "start_time": "2024-03-22T18:30:57.125137Z"
    }
   },
   "id": "initial_id",
   "execution_count": 211
  },
  {
   "cell_type": "markdown",
   "source": [
    "### Import Data"
   ],
   "metadata": {
    "collapsed": false
   },
   "id": "39673bbad8e9559c"
  },
  {
   "cell_type": "code",
   "outputs": [],
   "source": [
    "train_away_player_statistics_df = pd.read_csv('Train_Data/train_away_player_statistics_df.csv', index_col=0)\n",
    "train_away_team_statistics_df = pd.read_csv('Train_Data/train_away_team_statistics_df.csv', index_col=0)\n",
    "train_home_player_statistics_df = pd.read_csv('Train_Data/train_home_player_statistics_df.csv', index_col=0)\n",
    "train_home_team_statistics_df = pd.read_csv('Train_Data/train_home_team_statistics_df.csv', index_col=0)\n",
    "\n",
    "Y_train = pd.read_csv('Y_train_1rknArQ.csv', index_col=0)\n",
    "\n",
    "test_away_player_statistics_df = pd.read_csv('Test_Data/test_away_player_statistics_df.csv', index_col=0)\n",
    "test_away_team_statistics_df = pd.read_csv('Test_Data/test_away_team_statistics_df.csv', index_col=0)\n",
    "test_home_player_statistics_df = pd.read_csv('Test_Data/test_home_player_statistics_df.csv', index_col=0)\n",
    "test_home_team_statistics_df = pd.read_csv('Test_Data/test_home_team_statistics_df.csv', index_col=0)"
   ],
   "metadata": {
    "collapsed": false,
    "ExecuteTime": {
     "end_time": "2024-03-22T18:31:15.140243Z",
     "start_time": "2024-03-22T18:30:58.317018Z"
    }
   },
   "id": "d7f002c37f3eddce",
   "execution_count": 212
  },
  {
   "cell_type": "markdown",
   "source": [
    "### Train Data processing"
   ],
   "metadata": {
    "collapsed": false
   },
   "id": "48685008ce16b4a1"
  },
  {
   "cell_type": "markdown",
   "source": [
    "##### Remove some useless features"
   ],
   "metadata": {
    "collapsed": false
   },
   "id": "f2879a01dd8a04ba"
  },
  {
   "cell_type": "code",
   "outputs": [],
   "source": [
    "train_away_player_statistics_drop_df = train_away_player_statistics_df.drop(labels=['PLAYER_NAME', 'PLAYER_CAPTAIN_season_sum', 'PLAYER_LONG_BALLS_season_sum', 'PLAYER_LONG_BALLS_WON_season_sum', 'PLAYER_SHOTS_OFF_TARGET_season_sum', 'PLAYER_CAPTAIN_season_average', 'PLAYER_PUNCHES_season_average', 'PLAYER_LONG_BALLS_season_average', 'PLAYER_LONG_BALLS_WON_season_average', 'PLAYER_SHOTS_OFF_TARGET_season_average', 'PLAYER_CAPTAIN_season_std', 'PLAYER_PUNCHES_season_std', 'PLAYER_LONG_BALLS_season_std', 'PLAYER_LONG_BALLS_WON_season_std', 'PLAYER_SHOTS_OFF_TARGET_season_std', 'PLAYER_CAPTAIN_5_last_match_sum', 'PLAYER_PUNCHES_5_last_match_sum', 'PLAYER_LONG_BALLS_5_last_match_sum', 'PLAYER_LONG_BALLS_WON_5_last_match_sum', 'PLAYER_SHOTS_OFF_TARGET_5_last_match_sum', 'PLAYER_CAPTAIN_5_last_match_average', 'PLAYER_PUNCHES_5_last_match_average', 'PLAYER_LONG_BALLS_5_last_match_average', 'PLAYER_LONG_BALLS_WON_5_last_match_average', 'PLAYER_SHOTS_OFF_TARGET_5_last_match_average', 'PLAYER_CAPTAIN_5_last_match_std', 'PLAYER_PUNCHES_5_last_match_std', 'PLAYER_LONG_BALLS_5_last_match_std', 'PLAYER_LONG_BALLS_WON_5_last_match_std', 'PLAYER_SHOTS_OFF_TARGET_5_last_match_std'], axis=1)\n",
    "\n",
    "train_home_player_statistics_drop_df= train_home_player_statistics_df.drop(labels=['PLAYER_NAME', 'PLAYER_CAPTAIN_season_sum', 'PLAYER_LONG_BALLS_season_sum', 'PLAYER_LONG_BALLS_WON_season_sum', 'PLAYER_SHOTS_OFF_TARGET_season_sum', 'PLAYER_CAPTAIN_season_average', 'PLAYER_PUNCHES_season_average', 'PLAYER_LONG_BALLS_season_average', 'PLAYER_LONG_BALLS_WON_season_average', 'PLAYER_SHOTS_OFF_TARGET_season_average', 'PLAYER_CAPTAIN_season_std', 'PLAYER_PUNCHES_season_std', 'PLAYER_LONG_BALLS_season_std', 'PLAYER_LONG_BALLS_WON_season_std', 'PLAYER_SHOTS_OFF_TARGET_season_std', 'PLAYER_CAPTAIN_5_last_match_sum', 'PLAYER_PUNCHES_5_last_match_sum', 'PLAYER_LONG_BALLS_5_last_match_sum', 'PLAYER_LONG_BALLS_WON_5_last_match_sum', 'PLAYER_SHOTS_OFF_TARGET_5_last_match_sum', 'PLAYER_CAPTAIN_5_last_match_average', 'PLAYER_PUNCHES_5_last_match_average', 'PLAYER_LONG_BALLS_5_last_match_average', 'PLAYER_LONG_BALLS_WON_5_last_match_average', 'PLAYER_SHOTS_OFF_TARGET_5_last_match_average', 'PLAYER_CAPTAIN_5_last_match_std', 'PLAYER_PUNCHES_5_last_match_std', 'PLAYER_LONG_BALLS_5_last_match_std', 'PLAYER_LONG_BALLS_WON_5_last_match_std', 'PLAYER_SHOTS_OFF_TARGET_5_last_match_std'], axis=1)"
   ],
   "metadata": {
    "collapsed": false,
    "ExecuteTime": {
     "end_time": "2024-03-22T18:31:15.660037Z",
     "start_time": "2024-03-22T18:31:15.137839Z"
    }
   },
   "id": "abea3882c0b54541",
   "execution_count": 213
  },
  {
   "cell_type": "code",
   "outputs": [],
   "source": [
    "train_home_team_statistics_drop_df = train_home_team_statistics_df.iloc[:,2:]\n",
    "train_away_team_statistics_drop_df = train_away_team_statistics_df.iloc[:,2:]\n",
    "\n",
    "train_home_team_statistics_drop_df.columns = 'HOME_' + train_home_team_statistics_drop_df.columns\n",
    "train_away_team_statistics_drop_df.columns = 'AWAY_' + train_away_team_statistics_drop_df.columns"
   ],
   "metadata": {
    "collapsed": false,
    "ExecuteTime": {
     "end_time": "2024-03-22T18:31:15.677916Z",
     "start_time": "2024-03-22T18:31:15.660664Z"
    }
   },
   "id": "77b23164437d083c",
   "execution_count": 214
  },
  {
   "cell_type": "markdown",
   "source": [
    "##### Encoding the position, league and team_name of each player"
   ],
   "metadata": {
    "collapsed": false
   },
   "id": "8895f3f0a8df207f"
  },
  {
   "cell_type": "code",
   "outputs": [],
   "source": [
    "train_home_player_statistics_drop_df.loc[train_home_player_statistics_drop_df['POSITION'].isna(), 'POSITION'] = 'NAN'\n",
    "\n",
    "enc_home_POSITION = LabelEncoder()\n",
    "enc_home_POSITION.fit(train_home_player_statistics_drop_df['POSITION'])\n",
    "encoded_home_POSITION = enc_home_POSITION.transform(train_home_player_statistics_drop_df['POSITION'])\n",
    "\n",
    "\n",
    "enc_home_LEAGUE = LabelEncoder()\n",
    "enc_home_LEAGUE.fit(train_home_player_statistics_drop_df['LEAGUE'])\n",
    "encoded_home_LEAGUE = enc_home_LEAGUE.transform(train_home_player_statistics_drop_df['LEAGUE'])\n",
    "\n",
    "enc_home_TEAM_NAME = LabelEncoder()\n",
    "enc_home_TEAM_NAME.fit(train_home_player_statistics_drop_df['TEAM_NAME'])\n",
    "encoded_home_TEAM_NAME = enc_home_TEAM_NAME.transform(train_home_player_statistics_drop_df['TEAM_NAME'])"
   ],
   "metadata": {
    "collapsed": false,
    "ExecuteTime": {
     "end_time": "2024-03-22T18:31:15.736076Z",
     "start_time": "2024-03-22T18:31:15.685389Z"
    }
   },
   "id": "4ccaf94a2748730e",
   "execution_count": 215
  },
  {
   "cell_type": "code",
   "outputs": [],
   "source": [
    "train_home_player_statistics_drop_df['LEAGUE'] = encoded_home_LEAGUE\n",
    "train_home_player_statistics_drop_df['TEAM_NAME'] = encoded_home_TEAM_NAME\n",
    "train_home_player_statistics_drop_df['POSITION'] = encoded_home_POSITION"
   ],
   "metadata": {
    "collapsed": false,
    "ExecuteTime": {
     "end_time": "2024-03-22T18:31:15.744045Z",
     "start_time": "2024-03-22T18:31:15.736335Z"
    }
   },
   "id": "233e22b5565fefbe",
   "execution_count": 216
  },
  {
   "cell_type": "code",
   "outputs": [],
   "source": [
    "train_away_player_statistics_drop_df.loc[train_away_player_statistics_drop_df['POSITION'].isna(), 'POSITION'] = 'NAN'\n",
    "\n",
    "enc_away_POSITION = LabelEncoder()\n",
    "enc_away_POSITION.fit(train_away_player_statistics_drop_df['POSITION'])\n",
    "encoded_away_POSITION = enc_away_POSITION.transform(train_away_player_statistics_drop_df['POSITION'])\n",
    "\n",
    "\n",
    "enc_away_LEAGUE = LabelEncoder()\n",
    "enc_away_LEAGUE.fit(train_away_player_statistics_drop_df['LEAGUE'])\n",
    "encoded_away_LEAGUE = enc_away_LEAGUE.transform(train_away_player_statistics_drop_df['LEAGUE'])\n",
    "\n",
    "enc_away_TEAM_NAME = LabelEncoder()\n",
    "enc_away_TEAM_NAME.fit(train_away_player_statistics_drop_df['TEAM_NAME'])\n",
    "encoded_away_TEAM_NAME = enc_away_TEAM_NAME.transform(train_away_player_statistics_drop_df['TEAM_NAME'])"
   ],
   "metadata": {
    "collapsed": false,
    "ExecuteTime": {
     "end_time": "2024-03-22T18:31:15.803562Z",
     "start_time": "2024-03-22T18:31:15.746802Z"
    }
   },
   "id": "7addef2a11cfe60b",
   "execution_count": 217
  },
  {
   "cell_type": "code",
   "outputs": [],
   "source": [
    "train_away_player_statistics_drop_df['LEAGUE'] = encoded_away_LEAGUE\n",
    "train_away_player_statistics_drop_df['TEAM_NAME'] = encoded_away_TEAM_NAME\n",
    "train_away_player_statistics_drop_df['POSITION'] = encoded_away_POSITION"
   ],
   "metadata": {
    "collapsed": false,
    "ExecuteTime": {
     "end_time": "2024-03-22T18:31:15.880693Z",
     "start_time": "2024-03-22T18:31:15.803912Z"
    }
   },
   "id": "875fe08322ae6360",
   "execution_count": 218
  },
  {
   "cell_type": "code",
   "outputs": [],
   "source": [
    "train_home_player_statistics_drop_df.loc[train_home_player_statistics_drop_df['POSITION']==0, 'POSITION'] = np.nan\n",
    "\n",
    "train_away_player_statistics_drop_df.loc[train_away_player_statistics_drop_df['POSITION']==0, 'POSITION'] = np.nan"
   ],
   "metadata": {
    "collapsed": false,
    "ExecuteTime": {
     "end_time": "2024-03-22T18:31:15.882082Z",
     "start_time": "2024-03-22T18:31:15.864672Z"
    }
   },
   "id": "175defb9b42a024",
   "execution_count": 219
  },
  {
   "cell_type": "markdown",
   "source": [
    "imputer = KNNImputer(n_neighbors=20)\n",
    "\n",
    "train_home_player_statistics_drop_impute_df = imputer.fit_transform(train_home_player_statistics_drop_df)\n",
    "train_away_player_statistics_drop_impute_df = imputer.fit_transform(train_away_player_statistics_drop_df)"
   ],
   "metadata": {
    "collapsed": false
   },
   "id": "4a33fffb903c0008"
  },
  {
   "cell_type": "code",
   "outputs": [],
   "source": [
    "train_home_player_statistics_drop2_df = train_home_player_statistics_drop_df.drop(columns=['LEAGUE', 'TEAM_NAME'])\n",
    "\n",
    "train_away_player_statistics_drop2_df = train_away_player_statistics_drop_df.drop(columns=['LEAGUE', 'TEAM_NAME'])"
   ],
   "metadata": {
    "collapsed": false,
    "ExecuteTime": {
     "end_time": "2024-03-22T18:31:16.312198Z",
     "start_time": "2024-03-22T18:31:15.864825Z"
    }
   },
   "id": "3abfbb4d40101bbc",
   "execution_count": 220
  },
  {
   "cell_type": "markdown",
   "source": [
    "##### Create a dataframe fill just with NaN"
   ],
   "metadata": {
    "collapsed": false
   },
   "id": "3194abab61cb848c"
  },
  {
   "cell_type": "code",
   "outputs": [],
   "source": [
    "NaN_df_columns = train_home_player_statistics_drop2_df.drop(columns=['POSITION'])\n",
    "NaN_df = pd.DataFrame(columns=NaN_df_columns.columns)\n",
    "for k in range(len(train_home_player_statistics_drop2_df.columns)):\n",
    "    NaN_df.loc[0] = np.nan"
   ],
   "metadata": {
    "collapsed": false,
    "ExecuteTime": {
     "end_time": "2024-03-22T18:35:49.559088Z",
     "start_time": "2024-03-22T18:35:49.319204Z"
    }
   },
   "id": "e7ec65b7f7be00ab",
   "execution_count": 230
  },
  {
   "cell_type": "markdown",
   "source": [
    "##### Mean of the statistics of the players of each team by position (goalkeeper, defender, miedfielder, attacker)"
   ],
   "metadata": {
    "collapsed": false
   },
   "id": "7593a9ce78012e7e"
  },
  {
   "cell_type": "code",
   "outputs": [
    {
     "data": {
      "text/plain": "      HOME_POSITION_1_PLAYER_ACCURATE_CROSSES_season_sum  \\\nID                                                         \n0                                                   3.25   \n1                                                    4.0   \n2                                                    5.0   \n3                                                    2.5   \n4                                                  18.75   \n...                                                  ...   \n12298                                                3.0   \n12299                                           0.333333   \n12300                                           3.333333   \n12301                                                NaN   \n12302                                                4.5   \n\n      HOME_POSITION_1_PLAYER_ACCURATE_PASSES_season_sum  \\\nID                                                        \n0                                                  12.0   \n1                                             12.333333   \n2                                                  5.25   \n3                                                 13.25   \n4                                                 20.25   \n...                                                 ...   \n12298                                         19.666667   \n12299                                         10.333333   \n12300                                               6.5   \n12301                                               NaN   \n12302                                              11.5   \n\n      HOME_POSITION_1_PLAYER_AERIALS_WON_season_sum  \\\nID                                                    \n0                                             21.25   \n1                                              13.0   \n2                                              6.75   \n3                                             13.25   \n4                                              14.5   \n...                                             ...   \n12298                                      7.333333   \n12299                                     36.666667   \n12300                                      5.166667   \n12301                                           NaN   \n12302                                         11.25   \n\n      HOME_POSITION_1_PLAYER_ASSISTS_season_sum  \\\nID                                                \n0                                          10.5   \n1                                          40.0   \n2                                          1.75   \n3                                         11.25   \n4                                          23.0   \n...                                         ...   \n12298                                  5.333333   \n12299                                  5.333333   \n12300                                       5.0   \n12301                                 31.333333   \n12302                                      33.0   \n\n      HOME_POSITION_1_PLAYER_BIG_CHANCES_CREATED_season_sum  \\\nID                                                            \n0                                                    6.0      \n1                                              20.666667      \n2                                                    4.5      \n3                                                    7.5      \n4                                                   29.5      \n...                                                  ...      \n12298                                                0.0      \n12299                                           3.666667      \n12300                                          11.166667      \n12301                                                NaN      \n12302                                              24.75      \n\n      HOME_POSITION_1_PLAYER_BIG_CHANCES_MISSED_season_sum  \\\nID                                                           \n0                                                   21.5     \n1                                              32.666667     \n2                                                   10.0     \n3                                                  32.25     \n4                                                  24.75     \n...                                                  ...     \n12298                                           4.666667     \n12299                                               28.0     \n12300                                               14.0     \n12301                                                NaN     \n12302                                               19.5     \n\n      HOME_POSITION_1_PLAYER_BLOCKED_SHOTS_season_sum  \\\nID                                                      \n0                                                 3.0   \n1                                            2.666667   \n2                                                 0.0   \n3                                                 1.5   \n4                                                 2.0   \n...                                               ...   \n12298                                             0.0   \n12299                                             6.0   \n12300                                        2.833333   \n12301                                             NaN   \n12302                                            1.25   \n\n      HOME_POSITION_1_PLAYER_CLEARANCES_season_sum  \\\nID                                                   \n0                                              6.5   \n1                                         9.666667   \n2                                             1.25   \n3                                              3.0   \n4                                              7.0   \n...                                            ...   \n12298                                     2.666667   \n12299                                     7.333333   \n12300                                     1.666667   \n12301                                          NaN   \n12302                                         5.25   \n\n      HOME_POSITION_1_PLAYER_CLEARANCE_OFFLINE_season_sum  \\\nID                                                          \n0                                                    0.0    \n1                                                    0.0    \n2                                                    0.0    \n3                                                    0.0    \n4                                                    0.0    \n...                                                  ...    \n12298                                                0.0    \n12299                                                0.0    \n12300                                                0.0    \n12301                                                NaN    \n12302                                                0.0    \n\n      HOME_POSITION_1_PLAYER_DISPOSSESSED_season_sum  ...  \\\nID                                                    ...   \n0                                              23.75  ...   \n1                                               35.0  ...   \n2                                               9.75  ...   \n3                                              17.75  ...   \n4                                              33.25  ...   \n...                                              ...  ...   \n12298                                           32.0  ...   \n12299                                      22.666667  ...   \n12300                                      22.333333  ...   \n12301                                            NaN  ...   \n12302                                           17.5  ...   \n\n      HOME_POSITION_4_PLAYER_SAVES_INSIDE_BOX_5_last_match_std  \\\nID                                                               \n0                                                    0.0         \n1                                                    0.0         \n2                                                    0.0         \n3                                                    0.0         \n4                                                    NaN         \n...                                                  ...         \n12298                                                0.0         \n12299                                                NaN         \n12300                                                0.0         \n12301                                                NaN         \n12302                                                0.0         \n\n      HOME_POSITION_4_PLAYER_SHOTS_BLOCKED_5_last_match_std  \\\nID                                                            \n0                                              22.833333      \n1                                                 20.375      \n2                                                   11.0      \n3                                                   20.5      \n4                                                    NaN      \n...                                                  ...      \n12298                                          19.285714      \n12299                                                NaN      \n12300                                              24.25      \n12301                                                NaN      \n12302                                          19.333333      \n\n      HOME_POSITION_4_PLAYER_SHOTS_ON_TARGET_5_last_match_std  \\\nID                                                              \n0                                                   13.0        \n1                                                  19.25        \n2                                                   15.4        \n3                                                   18.5        \n4                                                    NaN        \n...                                                  ...        \n12298                                          12.428571        \n12299                                                NaN        \n12300                                               16.0        \n12301                                                NaN        \n12302                                               11.0        \n\n      HOME_POSITION_4_PLAYER_SHOTS_TOTAL_5_last_match_std  \\\nID                                                          \n0                                              27.333333    \n1                                                 19.375    \n2                                                   17.2    \n3                                                 25.875    \n4                                                    NaN    \n...                                                  ...    \n12298                                          22.428571    \n12299                                                NaN    \n12300                                              23.75    \n12301                                                NaN    \n12302                                               12.5    \n\n      HOME_POSITION_4_PLAYER_STARTING_LINEUP_5_last_match_std  \\\nID                                                              \n0                                              33.833333        \n1                                                  7.875        \n2                                                   57.3        \n3                                                   35.0        \n4                                                    NaN        \n...                                                  ...        \n12298                                               31.0        \n12299                                                NaN        \n12300                                               38.5        \n12301                                          54.833333        \n12302                                               31.5        \n\n      HOME_POSITION_4_PLAYER_SUCCESSFUL_DRIBBLES_5_last_match_std  \\\nID                                                                  \n0                                              41.666667            \n1                                                  13.75            \n2                                                   16.9            \n3                                                 16.375            \n4                                                    NaN            \n...                                                  ...            \n12298                                          10.428571            \n12299                                                NaN            \n12300                                              19.25            \n12301                                                NaN            \n12302                                          24.833333            \n\n      HOME_POSITION_4_PLAYER_TACKLES_5_last_match_std  \\\nID                                                      \n0                                                40.0   \n1                                              22.875   \n2                                                33.2   \n3                                                29.5   \n4                                                 NaN   \n...                                               ...   \n12298                                       20.857143   \n12299                                             NaN   \n12300                                            53.0   \n12301                                             NaN   \n12302                                       26.333333   \n\n      HOME_POSITION_4_PLAYER_TOTAL_CROSSES_5_last_match_std  \\\nID                                                            \n0                                              24.333333      \n1                                                 12.875      \n2                                                   11.0      \n3                                                   34.5      \n4                                                    NaN      \n...                                                  ...      \n12298                                          15.571429      \n12299                                                NaN      \n12300                                               17.5      \n12301                                                NaN      \n12302                                          10.166667      \n\n      HOME_POSITION_4_PLAYER_TOTAL_DUELS_5_last_match_std  \\\nID                                                          \n0                                              48.166667    \n1                                                   27.5    \n2                                                   42.1    \n3                                                 25.125    \n4                                                    NaN    \n...                                                  ...    \n12298                                          25.142857    \n12299                                                NaN    \n12300                                              21.75    \n12301                                                NaN    \n12302                                          19.666667    \n\n      HOME_POSITION_4_PLAYER_YELLOWCARDS_5_last_match_std  \nID                                                         \n0                                              25.666667   \n1                                                 25.375   \n2                                                   51.1   \n3                                                  19.25   \n4                                                    NaN   \n...                                                  ...   \n12298                                               49.0   \n12299                                                NaN   \n12300                                              15.75   \n12301                                          61.833333   \n12302                                               38.5   \n\n[12303 rows x 1092 columns]",
      "text/html": "<div>\n<style scoped>\n    .dataframe tbody tr th:only-of-type {\n        vertical-align: middle;\n    }\n\n    .dataframe tbody tr th {\n        vertical-align: top;\n    }\n\n    .dataframe thead th {\n        text-align: right;\n    }\n</style>\n<table border=\"1\" class=\"dataframe\">\n  <thead>\n    <tr style=\"text-align: right;\">\n      <th></th>\n      <th>HOME_POSITION_1_PLAYER_ACCURATE_CROSSES_season_sum</th>\n      <th>HOME_POSITION_1_PLAYER_ACCURATE_PASSES_season_sum</th>\n      <th>HOME_POSITION_1_PLAYER_AERIALS_WON_season_sum</th>\n      <th>HOME_POSITION_1_PLAYER_ASSISTS_season_sum</th>\n      <th>HOME_POSITION_1_PLAYER_BIG_CHANCES_CREATED_season_sum</th>\n      <th>HOME_POSITION_1_PLAYER_BIG_CHANCES_MISSED_season_sum</th>\n      <th>HOME_POSITION_1_PLAYER_BLOCKED_SHOTS_season_sum</th>\n      <th>HOME_POSITION_1_PLAYER_CLEARANCES_season_sum</th>\n      <th>HOME_POSITION_1_PLAYER_CLEARANCE_OFFLINE_season_sum</th>\n      <th>HOME_POSITION_1_PLAYER_DISPOSSESSED_season_sum</th>\n      <th>...</th>\n      <th>HOME_POSITION_4_PLAYER_SAVES_INSIDE_BOX_5_last_match_std</th>\n      <th>HOME_POSITION_4_PLAYER_SHOTS_BLOCKED_5_last_match_std</th>\n      <th>HOME_POSITION_4_PLAYER_SHOTS_ON_TARGET_5_last_match_std</th>\n      <th>HOME_POSITION_4_PLAYER_SHOTS_TOTAL_5_last_match_std</th>\n      <th>HOME_POSITION_4_PLAYER_STARTING_LINEUP_5_last_match_std</th>\n      <th>HOME_POSITION_4_PLAYER_SUCCESSFUL_DRIBBLES_5_last_match_std</th>\n      <th>HOME_POSITION_4_PLAYER_TACKLES_5_last_match_std</th>\n      <th>HOME_POSITION_4_PLAYER_TOTAL_CROSSES_5_last_match_std</th>\n      <th>HOME_POSITION_4_PLAYER_TOTAL_DUELS_5_last_match_std</th>\n      <th>HOME_POSITION_4_PLAYER_YELLOWCARDS_5_last_match_std</th>\n    </tr>\n    <tr>\n      <th>ID</th>\n      <th></th>\n      <th></th>\n      <th></th>\n      <th></th>\n      <th></th>\n      <th></th>\n      <th></th>\n      <th></th>\n      <th></th>\n      <th></th>\n      <th></th>\n      <th></th>\n      <th></th>\n      <th></th>\n      <th></th>\n      <th></th>\n      <th></th>\n      <th></th>\n      <th></th>\n      <th></th>\n      <th></th>\n    </tr>\n  </thead>\n  <tbody>\n    <tr>\n      <th>0</th>\n      <td>3.25</td>\n      <td>12.0</td>\n      <td>21.25</td>\n      <td>10.5</td>\n      <td>6.0</td>\n      <td>21.5</td>\n      <td>3.0</td>\n      <td>6.5</td>\n      <td>0.0</td>\n      <td>23.75</td>\n      <td>...</td>\n      <td>0.0</td>\n      <td>22.833333</td>\n      <td>13.0</td>\n      <td>27.333333</td>\n      <td>33.833333</td>\n      <td>41.666667</td>\n      <td>40.0</td>\n      <td>24.333333</td>\n      <td>48.166667</td>\n      <td>25.666667</td>\n    </tr>\n    <tr>\n      <th>1</th>\n      <td>4.0</td>\n      <td>12.333333</td>\n      <td>13.0</td>\n      <td>40.0</td>\n      <td>20.666667</td>\n      <td>32.666667</td>\n      <td>2.666667</td>\n      <td>9.666667</td>\n      <td>0.0</td>\n      <td>35.0</td>\n      <td>...</td>\n      <td>0.0</td>\n      <td>20.375</td>\n      <td>19.25</td>\n      <td>19.375</td>\n      <td>7.875</td>\n      <td>13.75</td>\n      <td>22.875</td>\n      <td>12.875</td>\n      <td>27.5</td>\n      <td>25.375</td>\n    </tr>\n    <tr>\n      <th>2</th>\n      <td>5.0</td>\n      <td>5.25</td>\n      <td>6.75</td>\n      <td>1.75</td>\n      <td>4.5</td>\n      <td>10.0</td>\n      <td>0.0</td>\n      <td>1.25</td>\n      <td>0.0</td>\n      <td>9.75</td>\n      <td>...</td>\n      <td>0.0</td>\n      <td>11.0</td>\n      <td>15.4</td>\n      <td>17.2</td>\n      <td>57.3</td>\n      <td>16.9</td>\n      <td>33.2</td>\n      <td>11.0</td>\n      <td>42.1</td>\n      <td>51.1</td>\n    </tr>\n    <tr>\n      <th>3</th>\n      <td>2.5</td>\n      <td>13.25</td>\n      <td>13.25</td>\n      <td>11.25</td>\n      <td>7.5</td>\n      <td>32.25</td>\n      <td>1.5</td>\n      <td>3.0</td>\n      <td>0.0</td>\n      <td>17.75</td>\n      <td>...</td>\n      <td>0.0</td>\n      <td>20.5</td>\n      <td>18.5</td>\n      <td>25.875</td>\n      <td>35.0</td>\n      <td>16.375</td>\n      <td>29.5</td>\n      <td>34.5</td>\n      <td>25.125</td>\n      <td>19.25</td>\n    </tr>\n    <tr>\n      <th>4</th>\n      <td>18.75</td>\n      <td>20.25</td>\n      <td>14.5</td>\n      <td>23.0</td>\n      <td>29.5</td>\n      <td>24.75</td>\n      <td>2.0</td>\n      <td>7.0</td>\n      <td>0.0</td>\n      <td>33.25</td>\n      <td>...</td>\n      <td>NaN</td>\n      <td>NaN</td>\n      <td>NaN</td>\n      <td>NaN</td>\n      <td>NaN</td>\n      <td>NaN</td>\n      <td>NaN</td>\n      <td>NaN</td>\n      <td>NaN</td>\n      <td>NaN</td>\n    </tr>\n    <tr>\n      <th>...</th>\n      <td>...</td>\n      <td>...</td>\n      <td>...</td>\n      <td>...</td>\n      <td>...</td>\n      <td>...</td>\n      <td>...</td>\n      <td>...</td>\n      <td>...</td>\n      <td>...</td>\n      <td>...</td>\n      <td>...</td>\n      <td>...</td>\n      <td>...</td>\n      <td>...</td>\n      <td>...</td>\n      <td>...</td>\n      <td>...</td>\n      <td>...</td>\n      <td>...</td>\n      <td>...</td>\n    </tr>\n    <tr>\n      <th>12298</th>\n      <td>3.0</td>\n      <td>19.666667</td>\n      <td>7.333333</td>\n      <td>5.333333</td>\n      <td>0.0</td>\n      <td>4.666667</td>\n      <td>0.0</td>\n      <td>2.666667</td>\n      <td>0.0</td>\n      <td>32.0</td>\n      <td>...</td>\n      <td>0.0</td>\n      <td>19.285714</td>\n      <td>12.428571</td>\n      <td>22.428571</td>\n      <td>31.0</td>\n      <td>10.428571</td>\n      <td>20.857143</td>\n      <td>15.571429</td>\n      <td>25.142857</td>\n      <td>49.0</td>\n    </tr>\n    <tr>\n      <th>12299</th>\n      <td>0.333333</td>\n      <td>10.333333</td>\n      <td>36.666667</td>\n      <td>5.333333</td>\n      <td>3.666667</td>\n      <td>28.0</td>\n      <td>6.0</td>\n      <td>7.333333</td>\n      <td>0.0</td>\n      <td>22.666667</td>\n      <td>...</td>\n      <td>NaN</td>\n      <td>NaN</td>\n      <td>NaN</td>\n      <td>NaN</td>\n      <td>NaN</td>\n      <td>NaN</td>\n      <td>NaN</td>\n      <td>NaN</td>\n      <td>NaN</td>\n      <td>NaN</td>\n    </tr>\n    <tr>\n      <th>12300</th>\n      <td>3.333333</td>\n      <td>6.5</td>\n      <td>5.166667</td>\n      <td>5.0</td>\n      <td>11.166667</td>\n      <td>14.0</td>\n      <td>2.833333</td>\n      <td>1.666667</td>\n      <td>0.0</td>\n      <td>22.333333</td>\n      <td>...</td>\n      <td>0.0</td>\n      <td>24.25</td>\n      <td>16.0</td>\n      <td>23.75</td>\n      <td>38.5</td>\n      <td>19.25</td>\n      <td>53.0</td>\n      <td>17.5</td>\n      <td>21.75</td>\n      <td>15.75</td>\n    </tr>\n    <tr>\n      <th>12301</th>\n      <td>NaN</td>\n      <td>NaN</td>\n      <td>NaN</td>\n      <td>31.333333</td>\n      <td>NaN</td>\n      <td>NaN</td>\n      <td>NaN</td>\n      <td>NaN</td>\n      <td>NaN</td>\n      <td>NaN</td>\n      <td>...</td>\n      <td>NaN</td>\n      <td>NaN</td>\n      <td>NaN</td>\n      <td>NaN</td>\n      <td>54.833333</td>\n      <td>NaN</td>\n      <td>NaN</td>\n      <td>NaN</td>\n      <td>NaN</td>\n      <td>61.833333</td>\n    </tr>\n    <tr>\n      <th>12302</th>\n      <td>4.5</td>\n      <td>11.5</td>\n      <td>11.25</td>\n      <td>33.0</td>\n      <td>24.75</td>\n      <td>19.5</td>\n      <td>1.25</td>\n      <td>5.25</td>\n      <td>0.0</td>\n      <td>17.5</td>\n      <td>...</td>\n      <td>0.0</td>\n      <td>19.333333</td>\n      <td>11.0</td>\n      <td>12.5</td>\n      <td>31.5</td>\n      <td>24.833333</td>\n      <td>26.333333</td>\n      <td>10.166667</td>\n      <td>19.666667</td>\n      <td>38.5</td>\n    </tr>\n  </tbody>\n</table>\n<p>12303 rows × 1092 columns</p>\n</div>"
     },
     "execution_count": 231,
     "metadata": {},
     "output_type": "execute_result"
    }
   ],
   "source": [
    "L = train_home_player_statistics_drop2_df.index.drop_duplicates()\n",
    "\n",
    "for k in range(len(L)):\n",
    "    df = train_home_player_statistics_drop2_df[train_home_player_statistics_drop2_df.index == L[k]]\n",
    "\n",
    "    for i in range(1,5):\n",
    "        df_position = df[df['POSITION'] == i]\n",
    "        df_position = df_position.drop('POSITION', axis = 1)\n",
    "\n",
    "        df_position_mean = df_position.mean(axis=0, skipna = False)\n",
    "    \n",
    "        new_df = pd.DataFrame(columns = df_position_mean.index)\n",
    "\n",
    "        for index in df_position_mean.index:\n",
    "            new_df.loc[L[0], index] = df_position_mean[index]\n",
    "        #new_df = new_df.reset_index(drop=True)\n",
    "        df_position_mean = new_df\n",
    "        columns = df_position_mean.columns\n",
    "\n",
    "\n",
    "        if df_position_mean.empty:\n",
    "            NaN_df.index = [i]\n",
    "            df_position_mean = NaN_df\n",
    "        df_position_mean.columns = 'HOME_' + 'POSITION_' + str(i) + '_' + df_position_mean.columns\n",
    "        \n",
    "        if i == 1:\n",
    "            df_team_mean = df_position_mean\n",
    "        else:\n",
    "            df_team_mean = pd.concat([df_team_mean, df_position_mean], axis= 1)\n",
    "    \n",
    "    if k == 0:\n",
    "        final_df_home_player = df_team_mean\n",
    "    else:\n",
    "        final_df_home_player = pd.concat([final_df_home_player, df_team_mean], axis = 0)\n",
    "\n",
    "final_df_home_player.index = L\n",
    "final_df_home_player.head()"
   ],
   "metadata": {
    "collapsed": false,
    "ExecuteTime": {
     "end_time": "2024-03-22T18:51:17.132603Z",
     "start_time": "2024-03-22T18:35:52.017412Z"
    }
   },
   "id": "bf54cc4c7681c862",
   "execution_count": 231
  },
  {
   "cell_type": "code",
   "outputs": [
    {
     "data": {
      "text/plain": "      HOME_POSITION_1_PLAYER_ACCURATE_CROSSES_season_sum  \\\nID                                                         \n0                                                   12.0   \n1                                                    5.0   \n2                                                   34.4   \n3                                                    3.5   \n4                                                    3.0   \n...                                                  ...   \n12298                                                1.0   \n12299                                           3.333333   \n12300                                               5.25   \n12301                                                NaN   \n12302                                               15.5   \n\n      HOME_POSITION_1_PLAYER_ACCURATE_PASSES_season_sum  \\\nID                                                        \n0                                             24.333333   \n1                                                  14.0   \n2                                                  22.4   \n3                                                  8.75   \n4                                                   7.5   \n...                                                 ...   \n12298                                         11.666667   \n12299                                         15.666667   \n12300                                             13.75   \n12301                                               NaN   \n12302                                              49.0   \n\n      HOME_POSITION_1_PLAYER_AERIALS_WON_season_sum  \\\nID                                                    \n0                                         12.166667   \n1                                              11.0   \n2                                              17.4   \n3                                             22.75   \n4                                              10.0   \n...                                             ...   \n12298                                     19.333333   \n12299                                     19.333333   \n12300                                          19.0   \n12301                                           NaN   \n12302                                           8.0   \n\n      HOME_POSITION_1_PLAYER_ASSISTS_season_sum  \\\nID                                                \n0                                      9.333333   \n1                                      6.666667   \n2                                          19.8   \n3                                         11.25   \n4                                          21.5   \n...                                         ...   \n12298                                  5.333333   \n12299                                  5.333333   \n12300                                      10.0   \n12301                                      17.6   \n12302                                      83.0   \n\n      HOME_POSITION_1_PLAYER_BIG_CHANCES_CREATED_season_sum  \\\nID                                                            \n0                                                    4.0      \n1                                              16.333333      \n2                                                   37.4      \n3                                                   17.5      \n4                                                   23.5      \n...                                                  ...      \n12298                                          20.666667      \n12299                                          14.666667      \n12300                                              16.75      \n12301                                                NaN      \n12302                                               59.0      \n\n      HOME_POSITION_1_PLAYER_BIG_CHANCES_MISSED_season_sum  \\\nID                                                           \n0                                               6.166667     \n1                                              38.666667     \n2                                                   26.8     \n3                                                  11.25     \n4                                                   49.5     \n...                                                  ...     \n12298                                          18.666667     \n12299                                          47.333333     \n12300                                               28.0     \n12301                                                NaN     \n12302                                               24.5     \n\n      HOME_POSITION_1_PLAYER_BLOCKED_SHOTS_season_sum  \\\nID                                                      \n0                                                 5.0   \n1                                            2.666667   \n2                                                 1.8   \n3                                                 2.5   \n4                                                 5.5   \n...                                               ...   \n12298                                             0.0   \n12299                                             4.0   \n12300                                             5.5   \n12301                                             NaN   \n12302                                             2.5   \n\n      HOME_POSITION_1_PLAYER_CLEARANCES_season_sum  \\\nID                                                   \n0                                              9.5   \n1                                         0.666667   \n2                                              7.2   \n3                                             9.75   \n4                                              6.0   \n...                                            ...   \n12298                                     4.333333   \n12299                                          5.0   \n12300                                         4.25   \n12301                                          NaN   \n12302                                          8.0   \n\n      HOME_POSITION_1_PLAYER_CLEARANCE_OFFLINE_season_sum  \\\nID                                                          \n0                                                    0.0    \n1                                                    0.0    \n2                                                    0.0    \n3                                                   6.25    \n4                                                    0.0    \n...                                                  ...    \n12298                                                0.0    \n12299                                                0.0    \n12300                                                0.0    \n12301                                                NaN    \n12302                                                0.0    \n\n      HOME_POSITION_1_PLAYER_DISPOSSESSED_season_sum  ...  \\\nID                                                    ...   \n0                                          22.666667  ...   \n1                                          44.333333  ...   \n2                                               36.6  ...   \n3                                               14.0  ...   \n4                                                6.5  ...   \n...                                              ...  ...   \n12298                                      31.666667  ...   \n12299                                      33.666667  ...   \n12300                                          42.25  ...   \n12301                                            NaN  ...   \n12302                                           39.0  ...   \n\n      HOME_POSITION_4_PLAYER_SAVES_INSIDE_BOX_5_last_match_std  \\\nID                                                               \n0                                                    0.0         \n1                                                    0.0         \n2                                                    NaN         \n3                                                    NaN         \n4                                                    0.0         \n...                                                  ...         \n12298                                                0.0         \n12299                                                0.0         \n12300                                                NaN         \n12301                                                NaN         \n12302                                                NaN         \n\n      HOME_POSITION_4_PLAYER_SHOTS_BLOCKED_5_last_match_std  \\\nID                                                            \n0                                                   20.2      \n1                                              14.333333      \n2                                                    NaN      \n3                                                    NaN      \n4                                                  23.25      \n...                                                  ...      \n12298                                          22.571429      \n12299                                             22.375      \n12300                                                NaN      \n12301                                                NaN      \n12302                                                NaN      \n\n      HOME_POSITION_4_PLAYER_SHOTS_ON_TARGET_5_last_match_std  \\\nID                                                              \n0                                                   12.0        \n1                                                   25.0        \n2                                                    NaN        \n3                                                    NaN        \n4                                                 33.125        \n...                                                  ...        \n12298                                          16.285714        \n12299                                               13.5        \n12300                                                NaN        \n12301                                                NaN        \n12302                                                NaN        \n\n      HOME_POSITION_4_PLAYER_SHOTS_TOTAL_5_last_match_std  \\\nID                                                          \n0                                                   18.8    \n1                                              24.666667    \n2                                                    NaN    \n3                                                    NaN    \n4                                                 27.125    \n...                                                  ...    \n12298                                          23.142857    \n12299                                             15.875    \n12300                                                NaN    \n12301                                                NaN    \n12302                                                NaN    \n\n      HOME_POSITION_4_PLAYER_STARTING_LINEUP_5_last_match_std  \\\nID                                                              \n0                                                   28.0        \n1                                                   56.0        \n2                                                    NaN        \n3                                                    NaN        \n4                                                  36.75        \n...                                                  ...        \n12298                                               20.0        \n12299                                               31.5        \n12300                                                NaN        \n12301                                                NaN        \n12302                                                NaN        \n\n      HOME_POSITION_4_PLAYER_SUCCESSFUL_DRIBBLES_5_last_match_std  \\\nID                                                                  \n0                                                   17.8            \n1                                              18.333333            \n2                                                    NaN            \n3                                                    NaN            \n4                                                  9.875            \n...                                                  ...            \n12298                                          15.142857            \n12299                                                9.0            \n12300                                                NaN            \n12301                                                NaN            \n12302                                                NaN            \n\n      HOME_POSITION_4_PLAYER_TACKLES_5_last_match_std  \\\nID                                                      \n0                                                26.2   \n1                                           35.666667   \n2                                                 NaN   \n3                                                 NaN   \n4                                                26.0   \n...                                               ...   \n12298                                            17.0   \n12299                                           32.25   \n12300                                             NaN   \n12301                                             NaN   \n12302                                             NaN   \n\n      HOME_POSITION_4_PLAYER_TOTAL_CROSSES_5_last_match_std  \\\nID                                                            \n0                                                    9.0      \n1                                              23.333333      \n2                                                    NaN      \n3                                                    NaN      \n4                                                   16.0      \n...                                                  ...      \n12298                                               22.0      \n12299                                              12.25      \n12300                                                NaN      \n12301                                                NaN      \n12302                                                NaN      \n\n      HOME_POSITION_4_PLAYER_TOTAL_DUELS_5_last_match_std  \\\nID                                                          \n0                                                   33.4    \n1                                              40.333333    \n2                                                    NaN    \n3                                                    NaN    \n4                                                   24.5    \n...                                                  ...    \n12298                                          24.142857    \n12299                                              31.75    \n12300                                                NaN    \n12301                                                NaN    \n12302                                                NaN    \n\n      HOME_POSITION_4_PLAYER_YELLOWCARDS_5_last_match_std  \nID                                                         \n0                                                   34.2   \n1                                              43.166667   \n2                                                    NaN   \n3                                                    NaN   \n4                                                 28.875   \n...                                                  ...   \n12298                                               29.0   \n12299                                               17.5   \n12300                                                NaN   \n12301                                                NaN   \n12302                                                NaN   \n\n[12303 rows x 1092 columns]",
      "text/html": "<div>\n<style scoped>\n    .dataframe tbody tr th:only-of-type {\n        vertical-align: middle;\n    }\n\n    .dataframe tbody tr th {\n        vertical-align: top;\n    }\n\n    .dataframe thead th {\n        text-align: right;\n    }\n</style>\n<table border=\"1\" class=\"dataframe\">\n  <thead>\n    <tr style=\"text-align: right;\">\n      <th></th>\n      <th>HOME_POSITION_1_PLAYER_ACCURATE_CROSSES_season_sum</th>\n      <th>HOME_POSITION_1_PLAYER_ACCURATE_PASSES_season_sum</th>\n      <th>HOME_POSITION_1_PLAYER_AERIALS_WON_season_sum</th>\n      <th>HOME_POSITION_1_PLAYER_ASSISTS_season_sum</th>\n      <th>HOME_POSITION_1_PLAYER_BIG_CHANCES_CREATED_season_sum</th>\n      <th>HOME_POSITION_1_PLAYER_BIG_CHANCES_MISSED_season_sum</th>\n      <th>HOME_POSITION_1_PLAYER_BLOCKED_SHOTS_season_sum</th>\n      <th>HOME_POSITION_1_PLAYER_CLEARANCES_season_sum</th>\n      <th>HOME_POSITION_1_PLAYER_CLEARANCE_OFFLINE_season_sum</th>\n      <th>HOME_POSITION_1_PLAYER_DISPOSSESSED_season_sum</th>\n      <th>...</th>\n      <th>HOME_POSITION_4_PLAYER_SAVES_INSIDE_BOX_5_last_match_std</th>\n      <th>HOME_POSITION_4_PLAYER_SHOTS_BLOCKED_5_last_match_std</th>\n      <th>HOME_POSITION_4_PLAYER_SHOTS_ON_TARGET_5_last_match_std</th>\n      <th>HOME_POSITION_4_PLAYER_SHOTS_TOTAL_5_last_match_std</th>\n      <th>HOME_POSITION_4_PLAYER_STARTING_LINEUP_5_last_match_std</th>\n      <th>HOME_POSITION_4_PLAYER_SUCCESSFUL_DRIBBLES_5_last_match_std</th>\n      <th>HOME_POSITION_4_PLAYER_TACKLES_5_last_match_std</th>\n      <th>HOME_POSITION_4_PLAYER_TOTAL_CROSSES_5_last_match_std</th>\n      <th>HOME_POSITION_4_PLAYER_TOTAL_DUELS_5_last_match_std</th>\n      <th>HOME_POSITION_4_PLAYER_YELLOWCARDS_5_last_match_std</th>\n    </tr>\n    <tr>\n      <th>ID</th>\n      <th></th>\n      <th></th>\n      <th></th>\n      <th></th>\n      <th></th>\n      <th></th>\n      <th></th>\n      <th></th>\n      <th></th>\n      <th></th>\n      <th></th>\n      <th></th>\n      <th></th>\n      <th></th>\n      <th></th>\n      <th></th>\n      <th></th>\n      <th></th>\n      <th></th>\n      <th></th>\n      <th></th>\n    </tr>\n  </thead>\n  <tbody>\n    <tr>\n      <th>0</th>\n      <td>12.0</td>\n      <td>24.333333</td>\n      <td>12.166667</td>\n      <td>9.333333</td>\n      <td>4.0</td>\n      <td>6.166667</td>\n      <td>5.0</td>\n      <td>9.5</td>\n      <td>0.0</td>\n      <td>22.666667</td>\n      <td>...</td>\n      <td>0.0</td>\n      <td>20.2</td>\n      <td>12.0</td>\n      <td>18.8</td>\n      <td>28.0</td>\n      <td>17.8</td>\n      <td>26.2</td>\n      <td>9.0</td>\n      <td>33.4</td>\n      <td>34.2</td>\n    </tr>\n    <tr>\n      <th>1</th>\n      <td>5.0</td>\n      <td>14.0</td>\n      <td>11.0</td>\n      <td>6.666667</td>\n      <td>16.333333</td>\n      <td>38.666667</td>\n      <td>2.666667</td>\n      <td>0.666667</td>\n      <td>0.0</td>\n      <td>44.333333</td>\n      <td>...</td>\n      <td>0.0</td>\n      <td>14.333333</td>\n      <td>25.0</td>\n      <td>24.666667</td>\n      <td>56.0</td>\n      <td>18.333333</td>\n      <td>35.666667</td>\n      <td>23.333333</td>\n      <td>40.333333</td>\n      <td>43.166667</td>\n    </tr>\n    <tr>\n      <th>2</th>\n      <td>34.4</td>\n      <td>22.4</td>\n      <td>17.4</td>\n      <td>19.8</td>\n      <td>37.4</td>\n      <td>26.8</td>\n      <td>1.8</td>\n      <td>7.2</td>\n      <td>0.0</td>\n      <td>36.6</td>\n      <td>...</td>\n      <td>NaN</td>\n      <td>NaN</td>\n      <td>NaN</td>\n      <td>NaN</td>\n      <td>NaN</td>\n      <td>NaN</td>\n      <td>NaN</td>\n      <td>NaN</td>\n      <td>NaN</td>\n      <td>NaN</td>\n    </tr>\n    <tr>\n      <th>3</th>\n      <td>3.5</td>\n      <td>8.75</td>\n      <td>22.75</td>\n      <td>11.25</td>\n      <td>17.5</td>\n      <td>11.25</td>\n      <td>2.5</td>\n      <td>9.75</td>\n      <td>6.25</td>\n      <td>14.0</td>\n      <td>...</td>\n      <td>NaN</td>\n      <td>NaN</td>\n      <td>NaN</td>\n      <td>NaN</td>\n      <td>NaN</td>\n      <td>NaN</td>\n      <td>NaN</td>\n      <td>NaN</td>\n      <td>NaN</td>\n      <td>NaN</td>\n    </tr>\n    <tr>\n      <th>4</th>\n      <td>3.0</td>\n      <td>7.5</td>\n      <td>10.0</td>\n      <td>21.5</td>\n      <td>23.5</td>\n      <td>49.5</td>\n      <td>5.5</td>\n      <td>6.0</td>\n      <td>0.0</td>\n      <td>6.5</td>\n      <td>...</td>\n      <td>0.0</td>\n      <td>23.25</td>\n      <td>33.125</td>\n      <td>27.125</td>\n      <td>36.75</td>\n      <td>9.875</td>\n      <td>26.0</td>\n      <td>16.0</td>\n      <td>24.5</td>\n      <td>28.875</td>\n    </tr>\n    <tr>\n      <th>...</th>\n      <td>...</td>\n      <td>...</td>\n      <td>...</td>\n      <td>...</td>\n      <td>...</td>\n      <td>...</td>\n      <td>...</td>\n      <td>...</td>\n      <td>...</td>\n      <td>...</td>\n      <td>...</td>\n      <td>...</td>\n      <td>...</td>\n      <td>...</td>\n      <td>...</td>\n      <td>...</td>\n      <td>...</td>\n      <td>...</td>\n      <td>...</td>\n      <td>...</td>\n      <td>...</td>\n    </tr>\n    <tr>\n      <th>12298</th>\n      <td>1.0</td>\n      <td>11.666667</td>\n      <td>19.333333</td>\n      <td>5.333333</td>\n      <td>20.666667</td>\n      <td>18.666667</td>\n      <td>0.0</td>\n      <td>4.333333</td>\n      <td>0.0</td>\n      <td>31.666667</td>\n      <td>...</td>\n      <td>0.0</td>\n      <td>22.571429</td>\n      <td>16.285714</td>\n      <td>23.142857</td>\n      <td>20.0</td>\n      <td>15.142857</td>\n      <td>17.0</td>\n      <td>22.0</td>\n      <td>24.142857</td>\n      <td>29.0</td>\n    </tr>\n    <tr>\n      <th>12299</th>\n      <td>3.333333</td>\n      <td>15.666667</td>\n      <td>19.333333</td>\n      <td>5.333333</td>\n      <td>14.666667</td>\n      <td>47.333333</td>\n      <td>4.0</td>\n      <td>5.0</td>\n      <td>0.0</td>\n      <td>33.666667</td>\n      <td>...</td>\n      <td>0.0</td>\n      <td>22.375</td>\n      <td>13.5</td>\n      <td>15.875</td>\n      <td>31.5</td>\n      <td>9.0</td>\n      <td>32.25</td>\n      <td>12.25</td>\n      <td>31.75</td>\n      <td>17.5</td>\n    </tr>\n    <tr>\n      <th>12300</th>\n      <td>5.25</td>\n      <td>13.75</td>\n      <td>19.0</td>\n      <td>10.0</td>\n      <td>16.75</td>\n      <td>28.0</td>\n      <td>5.5</td>\n      <td>4.25</td>\n      <td>0.0</td>\n      <td>42.25</td>\n      <td>...</td>\n      <td>NaN</td>\n      <td>NaN</td>\n      <td>NaN</td>\n      <td>NaN</td>\n      <td>NaN</td>\n      <td>NaN</td>\n      <td>NaN</td>\n      <td>NaN</td>\n      <td>NaN</td>\n      <td>NaN</td>\n    </tr>\n    <tr>\n      <th>12301</th>\n      <td>NaN</td>\n      <td>NaN</td>\n      <td>NaN</td>\n      <td>17.6</td>\n      <td>NaN</td>\n      <td>NaN</td>\n      <td>NaN</td>\n      <td>NaN</td>\n      <td>NaN</td>\n      <td>NaN</td>\n      <td>...</td>\n      <td>NaN</td>\n      <td>NaN</td>\n      <td>NaN</td>\n      <td>NaN</td>\n      <td>NaN</td>\n      <td>NaN</td>\n      <td>NaN</td>\n      <td>NaN</td>\n      <td>NaN</td>\n      <td>NaN</td>\n    </tr>\n    <tr>\n      <th>12302</th>\n      <td>15.5</td>\n      <td>49.0</td>\n      <td>8.0</td>\n      <td>83.0</td>\n      <td>59.0</td>\n      <td>24.5</td>\n      <td>2.5</td>\n      <td>8.0</td>\n      <td>0.0</td>\n      <td>39.0</td>\n      <td>...</td>\n      <td>NaN</td>\n      <td>NaN</td>\n      <td>NaN</td>\n      <td>NaN</td>\n      <td>NaN</td>\n      <td>NaN</td>\n      <td>NaN</td>\n      <td>NaN</td>\n      <td>NaN</td>\n      <td>NaN</td>\n    </tr>\n  </tbody>\n</table>\n<p>12303 rows × 1092 columns</p>\n</div>"
     },
     "execution_count": 232,
     "metadata": {},
     "output_type": "execute_result"
    }
   ],
   "source": [
    "L = train_away_player_statistics_drop2_df.index.drop_duplicates()\n",
    "\n",
    "for k in range(len(L)):\n",
    "    df = train_away_player_statistics_drop2_df[train_away_player_statistics_drop2_df.index == L[k]]\n",
    "\n",
    "    for i in range(1,5):\n",
    "        df_position = df[df['POSITION'] == i]\n",
    "        df_position = df_position.drop('POSITION', axis = 1)\n",
    "\n",
    "\n",
    "        df_position_mean = df_position.mean(axis=0, skipna = False)\n",
    "    \n",
    "        new_df = pd.DataFrame(columns = df_position_mean.index)\n",
    "\n",
    "        for index in df_position_mean.index:\n",
    "            new_df.loc[L[0], index] = df_position_mean[index]\n",
    "        #new_df = new_df.reset_index(drop=True)\n",
    "        df_position_mean = new_df\n",
    "        columns = df_position_mean.columns\n",
    "\n",
    "\n",
    "        if df_position_mean.empty:\n",
    "            NaN_df.index = [i]\n",
    "            df_position_mean = NaN_df\n",
    "        df_position_mean.columns = 'HOME_' + 'POSITION_' + str(i) + '_' + df_position_mean.columns\n",
    "        \n",
    "        if i == 1:\n",
    "            df_team_mean = df_position_mean\n",
    "        else:\n",
    "            df_team_mean = pd.concat([df_team_mean, df_position_mean], axis= 1)\n",
    "    \n",
    "    if k == 0:\n",
    "        final_df_away_player = df_team_mean\n",
    "    else:\n",
    "        final_df_away_player = pd.concat([final_df_away_player, df_team_mean], axis = 0)\n",
    "\n",
    "final_df_away_player.index = L\n",
    "final_df_away_player.head()"
   ],
   "metadata": {
    "collapsed": false,
    "ExecuteTime": {
     "end_time": "2024-03-22T19:06:24.323902Z",
     "start_time": "2024-03-22T18:51:17.131813Z"
    }
   },
   "id": "c2a2a4498adeaf96",
   "execution_count": 232
  },
  {
   "cell_type": "markdown",
   "source": [
    "##### Join the information about the players and the team together"
   ],
   "metadata": {
    "collapsed": false
   },
   "id": "28d9860cec4451f2"
  },
  {
   "cell_type": "code",
   "outputs": [],
   "source": [
    "#Attention inner\n",
    "X_train_home = final_df_home_player.join(train_home_team_statistics_drop_df, on=['ID'], how='outer')\n",
    "\n",
    "X_train_away = final_df_away_player.join(train_away_team_statistics_drop_df, on=['ID'], how='outer')"
   ],
   "metadata": {
    "collapsed": false,
    "ExecuteTime": {
     "end_time": "2024-03-22T19:06:25.499834Z",
     "start_time": "2024-03-22T19:06:24.323894Z"
    }
   },
   "id": "22a43dcffe15dc97",
   "execution_count": 233
  },
  {
   "cell_type": "markdown",
   "source": [
    "##### Join the information about the home and away team"
   ],
   "metadata": {
    "collapsed": false
   },
   "id": "4988d6213090f339"
  },
  {
   "cell_type": "code",
   "outputs": [
    {
     "name": "stderr",
     "output_type": "stream",
     "text": [
      "/var/folders/m9/xmtphkx904b8hxdxrgm2jnz80000gn/T/ipykernel_974/2775612263.py:4: FutureWarning: Downcasting behavior in `replace` is deprecated and will be removed in a future version. To retain the old behavior, explicitly call `result.infer_objects(copy=False)`. To opt-in to the future behavior, set `pd.set_option('future.no_silent_downcasting', True)`\n",
      "  X_train = X_train.replace({np.inf:np.nan,-np.inf:np.nan})\n"
     ]
    }
   ],
   "source": [
    "X_train =  pd.concat([X_train_home,X_train_away],join='outer',axis=1)\n",
    "Y_train = Y_train.loc[X_train.index]\n",
    "\n",
    "X_train = X_train.replace({np.inf:np.nan,-np.inf:np.nan})"
   ],
   "metadata": {
    "collapsed": false,
    "ExecuteTime": {
     "end_time": "2024-03-22T19:06:30.439319Z",
     "start_time": "2024-03-22T19:06:25.498764Z"
    }
   },
   "id": "4161fa8b711163b8",
   "execution_count": 234
  },
  {
   "cell_type": "code",
   "outputs": [],
   "source": [
    "index_train = X_train.index"
   ],
   "metadata": {
    "collapsed": false,
    "ExecuteTime": {
     "end_time": "2024-03-22T19:06:30.439691Z",
     "start_time": "2024-03-22T19:06:30.437599Z"
    }
   },
   "id": "14f7b197d8dc98a1",
   "execution_count": 235
  },
  {
   "cell_type": "code",
   "outputs": [],
   "source": [
    "columns_name = X_train.columns"
   ],
   "metadata": {
    "collapsed": false,
    "ExecuteTime": {
     "end_time": "2024-03-22T19:06:30.442559Z",
     "start_time": "2024-03-22T19:06:30.439226Z"
    }
   },
   "id": "983595f3c07e5066",
   "execution_count": 236
  },
  {
   "cell_type": "code",
   "outputs": [],
   "source": [
    "X_train.to_csv('X_train_without_imputer_V2.csv', index = True)"
   ],
   "metadata": {
    "collapsed": false,
    "ExecuteTime": {
     "end_time": "2024-03-22T19:06:38.211891Z",
     "start_time": "2024-03-22T19:06:30.440544Z"
    }
   },
   "id": "be18ec5d9ecf49bf",
   "execution_count": 237
  },
  {
   "cell_type": "markdown",
   "source": [
    "### Test Data processing"
   ],
   "metadata": {
    "collapsed": false
   },
   "id": "59ca468806d139fa"
  },
  {
   "cell_type": "markdown",
   "source": [
    "##### Remove some useless features"
   ],
   "metadata": {
    "collapsed": false
   },
   "id": "ce2c157983ac77c0"
  },
  {
   "cell_type": "code",
   "outputs": [],
   "source": [
    "test_away_player_statistics_drop_df = test_away_player_statistics_df.drop(labels=['PLAYER_CAPTAIN_season_sum', 'PLAYER_LONG_BALLS_season_sum', 'PLAYER_LONG_BALLS_WON_season_sum', 'PLAYER_SHOTS_OFF_TARGET_season_sum', 'PLAYER_CAPTAIN_season_average', 'PLAYER_PUNCHES_season_average', 'PLAYER_LONG_BALLS_season_average', 'PLAYER_LONG_BALLS_WON_season_average', 'PLAYER_SHOTS_OFF_TARGET_season_average', 'PLAYER_CAPTAIN_season_std', 'PLAYER_PUNCHES_season_std', 'PLAYER_LONG_BALLS_season_std', 'PLAYER_LONG_BALLS_WON_season_std', 'PLAYER_SHOTS_OFF_TARGET_season_std', 'PLAYER_CAPTAIN_5_last_match_sum', 'PLAYER_PUNCHES_5_last_match_sum', 'PLAYER_LONG_BALLS_5_last_match_sum', 'PLAYER_LONG_BALLS_WON_5_last_match_sum', 'PLAYER_SHOTS_OFF_TARGET_5_last_match_sum', 'PLAYER_CAPTAIN_5_last_match_average', 'PLAYER_PUNCHES_5_last_match_average', 'PLAYER_LONG_BALLS_5_last_match_average', 'PLAYER_LONG_BALLS_WON_5_last_match_average', 'PLAYER_SHOTS_OFF_TARGET_5_last_match_average', 'PLAYER_CAPTAIN_5_last_match_std', 'PLAYER_PUNCHES_5_last_match_std', 'PLAYER_LONG_BALLS_5_last_match_std', 'PLAYER_LONG_BALLS_WON_5_last_match_std', 'PLAYER_SHOTS_OFF_TARGET_5_last_match_std'], axis=1)\n",
    "\n",
    "test_home_player_statistics_drop_df= test_home_player_statistics_df.drop(labels=['PLAYER_CAPTAIN_season_sum', 'PLAYER_LONG_BALLS_season_sum', 'PLAYER_LONG_BALLS_WON_season_sum', 'PLAYER_SHOTS_OFF_TARGET_season_sum', 'PLAYER_CAPTAIN_season_average', 'PLAYER_PUNCHES_season_average', 'PLAYER_LONG_BALLS_season_average', 'PLAYER_LONG_BALLS_WON_season_average', 'PLAYER_SHOTS_OFF_TARGET_season_average', 'PLAYER_CAPTAIN_season_std', 'PLAYER_PUNCHES_season_std', 'PLAYER_LONG_BALLS_season_std', 'PLAYER_LONG_BALLS_WON_season_std', 'PLAYER_SHOTS_OFF_TARGET_season_std', 'PLAYER_CAPTAIN_5_last_match_sum', 'PLAYER_PUNCHES_5_last_match_sum', 'PLAYER_LONG_BALLS_5_last_match_sum', 'PLAYER_LONG_BALLS_WON_5_last_match_sum', 'PLAYER_SHOTS_OFF_TARGET_5_last_match_sum', 'PLAYER_CAPTAIN_5_last_match_average', 'PLAYER_PUNCHES_5_last_match_average', 'PLAYER_LONG_BALLS_5_last_match_average', 'PLAYER_LONG_BALLS_WON_5_last_match_average', 'PLAYER_SHOTS_OFF_TARGET_5_last_match_average', 'PLAYER_CAPTAIN_5_last_match_std', 'PLAYER_PUNCHES_5_last_match_std', 'PLAYER_LONG_BALLS_5_last_match_std', 'PLAYER_LONG_BALLS_WON_5_last_match_std', 'PLAYER_SHOTS_OFF_TARGET_5_last_match_std'], axis=1)"
   ],
   "metadata": {
    "collapsed": false,
    "ExecuteTime": {
     "end_time": "2024-03-22T19:06:39.000609Z",
     "start_time": "2024-03-22T19:06:38.213Z"
    }
   },
   "id": "35af1ab1a15a2bd",
   "execution_count": 238
  },
  {
   "cell_type": "code",
   "outputs": [],
   "source": [
    "test_home_team_statistics_drop_df = test_home_team_statistics_df\n",
    "test_away_team_statistics_drop_df = test_away_team_statistics_df\n",
    "\n",
    "test_home_team_statistics_drop_df.columns = 'HOME_' + test_home_team_statistics_drop_df.columns\n",
    "test_away_team_statistics_drop_df.columns = 'AWAY_' + test_away_team_statistics_drop_df.columns"
   ],
   "metadata": {
    "collapsed": false,
    "ExecuteTime": {
     "end_time": "2024-03-22T19:06:39.010820Z",
     "start_time": "2024-03-22T19:06:39.002666Z"
    }
   },
   "id": "4091b39afe0989b2",
   "execution_count": 239
  },
  {
   "cell_type": "markdown",
   "source": [
    "##### Encoding the position, league and team_name of each player"
   ],
   "metadata": {
    "collapsed": false
   },
   "id": "1f77cb5eb0af429c"
  },
  {
   "cell_type": "code",
   "outputs": [],
   "source": [
    "test_home_player_statistics_drop_df.loc[test_home_player_statistics_drop_df['POSITION'].isna(), 'POSITION'] = 'NAN'\n",
    "\n",
    "enc_home_POSITION = LabelEncoder()\n",
    "enc_home_POSITION.fit(test_home_player_statistics_drop_df['POSITION'])\n",
    "encoded_home_POSITION = enc_home_POSITION.transform(test_home_player_statistics_drop_df['POSITION'])"
   ],
   "metadata": {
    "collapsed": false,
    "ExecuteTime": {
     "end_time": "2024-03-22T19:06:39.056749Z",
     "start_time": "2024-03-22T19:06:39.015782Z"
    }
   },
   "id": "9fd7f60c201fc64e",
   "execution_count": 240
  },
  {
   "cell_type": "code",
   "outputs": [],
   "source": [
    "test_home_player_statistics_drop_df['POSITION'] = encoded_home_POSITION"
   ],
   "metadata": {
    "collapsed": false,
    "ExecuteTime": {
     "end_time": "2024-03-22T19:06:39.064419Z",
     "start_time": "2024-03-22T19:06:39.057057Z"
    }
   },
   "id": "93af4585b01c86bb",
   "execution_count": 241
  },
  {
   "cell_type": "code",
   "outputs": [],
   "source": [
    "test_away_player_statistics_drop_df.loc[test_away_player_statistics_drop_df['POSITION'].isna(), 'POSITION'] = 'NAN'\n",
    "\n",
    "enc_away_POSITION = LabelEncoder()\n",
    "enc_away_POSITION.fit(test_away_player_statistics_drop_df['POSITION'])\n",
    "encoded_away_POSITION = enc_away_POSITION.transform(test_away_player_statistics_drop_df['POSITION'])"
   ],
   "metadata": {
    "collapsed": false,
    "ExecuteTime": {
     "end_time": "2024-03-22T19:06:39.110637Z",
     "start_time": "2024-03-22T19:06:39.068988Z"
    }
   },
   "id": "601922308644203",
   "execution_count": 242
  },
  {
   "cell_type": "code",
   "outputs": [],
   "source": [
    "test_away_player_statistics_drop_df['POSITION'] = encoded_away_POSITION"
   ],
   "metadata": {
    "collapsed": false,
    "ExecuteTime": {
     "end_time": "2024-03-22T19:06:39.118636Z",
     "start_time": "2024-03-22T19:06:39.111Z"
    }
   },
   "id": "df0a1fb7eefb19e4",
   "execution_count": 243
  },
  {
   "cell_type": "code",
   "outputs": [],
   "source": [
    "test_home_player_statistics_drop_df.loc[test_home_player_statistics_drop_df['POSITION']==0, 'POSITION'] = np.nan\n",
    "\n",
    "test_away_player_statistics_drop_df.loc[test_away_player_statistics_drop_df['POSITION']==0, 'POSITION'] = np.nan"
   ],
   "metadata": {
    "collapsed": false,
    "ExecuteTime": {
     "end_time": "2024-03-22T19:06:39.120264Z",
     "start_time": "2024-03-22T19:06:39.114096Z"
    }
   },
   "id": "f93aca7913afe173",
   "execution_count": 244
  },
  {
   "cell_type": "markdown",
   "source": [
    "imputer = KNNImputer(n_neighbors=20)\n",
    "\n",
    "test_home_player_statistics_drop_impute_df = imputer.fit_transform(test_home_player_statistics_drop_df)\n",
    "test_away_player_statistics_drop_impute_df = imputer.fit_transform(test_away_player_statistics_drop_df)"
   ],
   "metadata": {
    "collapsed": false
   },
   "id": "fe08001f3cccce79"
  },
  {
   "cell_type": "code",
   "outputs": [],
   "source": [
    "test_home_player_statistics_drop2_df = test_home_player_statistics_drop_df\n",
    "test_away_player_statistics_drop2_df = test_away_player_statistics_drop_df"
   ],
   "metadata": {
    "collapsed": false,
    "ExecuteTime": {
     "end_time": "2024-03-22T19:06:39.172416Z",
     "start_time": "2024-03-22T19:06:39.133522Z"
    }
   },
   "id": "e857ac98453ecc8e",
   "execution_count": 245
  },
  {
   "cell_type": "markdown",
   "source": [
    "##### Create a dataframe fill just with NaN"
   ],
   "metadata": {
    "collapsed": false
   },
   "id": "4b87749c8798853e"
  },
  {
   "cell_type": "code",
   "outputs": [],
   "source": [
    "NaN_df_columns = test_home_player_statistics_drop2_df.drop(columns=['POSITION'])\n",
    "NaN_df = pd.DataFrame(columns=NaN_df_columns.columns)\n",
    "for k in range(len(test_home_player_statistics_drop2_df.columns)):\n",
    "    NaN_df.loc[0] = np.nan"
   ],
   "metadata": {
    "collapsed": false,
    "ExecuteTime": {
     "end_time": "2024-03-22T19:06:39.587750Z",
     "start_time": "2024-03-22T19:06:39.140377Z"
    }
   },
   "id": "bcf4e87891e18b9f",
   "execution_count": 247
  },
  {
   "cell_type": "markdown",
   "source": [
    "##### Mean of the statistics of the players of each team by position (goalkeeper, defender, miedfielder, attacker)"
   ],
   "metadata": {
    "collapsed": false
   },
   "id": "1ac41db716985b6"
  },
  {
   "cell_type": "code",
   "outputs": [
    {
     "data": {
      "text/plain": "      HOME_POSITION_1_PLAYER_ACCURATE_CROSSES_season_sum  \\\nID                                                         \n12303                                                NaN   \n12304                                           5.666667   \n12305                                               0.25   \n12306                                               15.0   \n12307                                              10.25   \n...                                                  ...   \n37666                                                0.0   \n37667                                                2.0   \n37668                                           9.666667   \n37669                                                0.0   \n37670                                               15.0   \n\n      HOME_POSITION_1_PLAYER_ACCURATE_PASSES_season_sum  \\\nID                                                        \n12303                                               NaN   \n12304                                         13.333333   \n12305                                               9.5   \n12306                                         13.666667   \n12307                                              8.25   \n...                                                 ...   \n37666                                               2.0   \n37667                                               9.0   \n37668                                              11.0   \n37669                                               6.5   \n37670                                              11.0   \n\n      HOME_POSITION_1_PLAYER_AERIALS_WON_season_sum  \\\nID                                                    \n12303                                           NaN   \n12304                                     21.666667   \n12305                                          12.5   \n12306                                     19.333333   \n12307                                         18.25   \n...                                             ...   \n37666                                           6.5   \n37667                                     17.333333   \n37668                                      7.666667   \n37669                                           8.5   \n37670                                           8.2   \n\n      HOME_POSITION_1_PLAYER_ASSISTS_season_sum  \\\nID                                                \n12303                                       NaN   \n12304                                 20.333333   \n12305                                      22.5   \n12306                                 23.666667   \n12307                                      9.25   \n...                                         ...   \n37666                                       0.0   \n37667                                 33.333333   \n37668                                 28.333333   \n37669                                       0.0   \n37670                                       4.2   \n\n      HOME_POSITION_1_PLAYER_BIG_CHANCES_CREATED_season_sum  \\\nID                                                            \n12303                                                NaN      \n12304                                          21.333333      \n12305                                               16.0      \n12306                                               23.0      \n12307                                              21.75      \n...                                                  ...      \n37666                                                0.0      \n37667                                          23.333333      \n37668                                          12.333333      \n37669                                                5.0      \n37670                                                7.4      \n\n      HOME_POSITION_1_PLAYER_BIG_CHANCES_MISSED_season_sum  \\\nID                                                           \n12303                                                NaN     \n12304                                               23.0     \n12305                                               16.5     \n12306                                          21.666667     \n12307                                              21.75     \n...                                                  ...     \n37666                                                0.0     \n37667                                               30.0     \n37668                                          17.666667     \n37669                                                0.0     \n37670                                               20.6     \n\n      HOME_POSITION_1_PLAYER_BLOCKED_SHOTS_season_sum  \\\nID                                                      \n12303                                             NaN   \n12304                                        8.666667   \n12305                                             4.0   \n12306                                        1.333333   \n12307                                             1.0   \n...                                               ...   \n37666                                             0.0   \n37667                                        1.666667   \n37668                                        4.333333   \n37669                                             0.0   \n37670                                             2.0   \n\n      HOME_POSITION_1_PLAYER_CLEARANCES_season_sum  \\\nID                                                   \n12303                                          NaN   \n12304                                     4.333333   \n12305                                         7.75   \n12306                                          6.0   \n12307                                         2.75   \n...                                            ...   \n37666                                          2.5   \n37667                                          4.0   \n37668                                     3.333333   \n37669                                          0.5   \n37670                                          6.0   \n\n      HOME_POSITION_1_PLAYER_CLEARANCE_OFFLINE_season_sum  \\\nID                                                          \n12303                                                NaN    \n12304                                                0.0    \n12305                                                0.0    \n12306                                                0.0    \n12307                                                0.0    \n...                                                  ...    \n37666                                                0.0    \n37667                                                0.0    \n37668                                                0.0    \n37669                                                0.0    \n37670                                                0.0    \n\n      HOME_POSITION_1_PLAYER_DISPOSSESSED_season_sum  ...  \\\nID                                                    ...   \n12303                                            NaN  ...   \n12304                                      50.666667  ...   \n12305                                          20.25  ...   \n12306                                      37.333333  ...   \n12307                                           16.0  ...   \n...                                              ...  ...   \n37666                                            2.0  ...   \n37667                                           29.0  ...   \n37668                                           26.0  ...   \n37669                                           18.0  ...   \n37670                                           23.6  ...   \n\n      HOME_POSITION_4_PLAYER_SAVES_INSIDE_BOX_5_last_match_std  \\\nID                                                               \n12303                                                0.0         \n12304                                                NaN         \n12305                                                NaN         \n12306                                                0.0         \n12307                                                NaN         \n...                                                  ...         \n37666                                                NaN         \n37667                                                0.0         \n37668                                                0.0         \n37669                                                NaN         \n37670                                                0.0         \n\n      HOME_POSITION_4_PLAYER_SHOTS_BLOCKED_5_last_match_std  \\\nID                                                            \n12303                                          14.090909      \n12304                                                NaN      \n12305                                                NaN      \n12306                                               24.0      \n12307                                                NaN      \n...                                                  ...      \n37666                                                NaN      \n37667                                               20.1      \n37668                                          22.285714      \n37669                                                NaN      \n37670                                          19.166667      \n\n      HOME_POSITION_4_PLAYER_SHOTS_ON_TARGET_5_last_match_std  \\\nID                                                              \n12303                                          10.909091        \n12304                                                NaN        \n12305                                                NaN        \n12306                                          14.285714        \n12307                                                NaN        \n...                                                  ...        \n37666                                                NaN        \n37667                                               27.4        \n37668                                          22.428571        \n37669                                                NaN        \n37670                                          22.166667        \n\n      HOME_POSITION_4_PLAYER_SHOTS_TOTAL_5_last_match_std  \\\nID                                                          \n12303                                               17.0    \n12304                                                NaN    \n12305                                                NaN    \n12306                                          23.714286    \n12307                                                NaN    \n...                                                  ...    \n37666                                                NaN    \n37667                                               25.3    \n37668                                          31.857143    \n37669                                                NaN    \n37670                                               27.5    \n\n      HOME_POSITION_4_PLAYER_STARTING_LINEUP_5_last_match_std  \\\nID                                                              \n12303                                          11.454545        \n12304                                                NaN        \n12305                                                NaN        \n12306                                               56.0        \n12307                                                NaN        \n...                                                  ...        \n37666                                                NaN        \n37667                                               45.7        \n37668                                               47.0        \n37669                                                NaN        \n37670                                          36.166667        \n\n      HOME_POSITION_4_PLAYER_SUCCESSFUL_DRIBBLES_5_last_match_std  \\\nID                                                                  \n12303                                          14.363636            \n12304                                                NaN            \n12305                                                NaN            \n12306                                          21.714286            \n12307                                                NaN            \n...                                                  ...            \n37666                                                NaN            \n37667                                                NaN            \n37668                                               22.0            \n37669                                                NaN            \n37670                                          19.166667            \n\n      HOME_POSITION_4_PLAYER_TACKLES_5_last_match_std  \\\nID                                                      \n12303                                       18.454545   \n12304                                             NaN   \n12305                                             NaN   \n12306                                       17.571429   \n12307                                             NaN   \n...                                               ...   \n37666                                             NaN   \n37667                                            24.0   \n37668                                       31.142857   \n37669                                             NaN   \n37670                                       23.666667   \n\n      HOME_POSITION_4_PLAYER_TOTAL_CROSSES_5_last_match_std  \\\nID                                                            \n12303                                          17.818182      \n12304                                                NaN      \n12305                                                NaN      \n12306                                          12.142857      \n12307                                                NaN      \n...                                                  ...      \n37666                                                NaN      \n37667                                               15.6      \n37668                                          11.714286      \n37669                                                NaN      \n37670                                           8.833333      \n\n      HOME_POSITION_4_PLAYER_TOTAL_DUELS_5_last_match_std  \\\nID                                                          \n12303                                          27.636364    \n12304                                                NaN    \n12305                                                NaN    \n12306                                          36.571429    \n12307                                                NaN    \n...                                                  ...    \n37666                                                NaN    \n37667                                               25.7    \n37668                                          21.714286    \n37669                                                NaN    \n37670                                          18.666667    \n\n      HOME_POSITION_4_PLAYER_YELLOWCARDS_5_last_match_std  \nID                                                         \n12303                                          14.636364   \n12304                                                NaN   \n12305                                                NaN   \n12306                                          21.428571   \n12307                                                NaN   \n...                                                  ...   \n37666                                                NaN   \n37667                                               12.6   \n37668                                          16.571429   \n37669                                                NaN   \n37670                                          51.333333   \n\n[25368 rows x 1092 columns]",
      "text/html": "<div>\n<style scoped>\n    .dataframe tbody tr th:only-of-type {\n        vertical-align: middle;\n    }\n\n    .dataframe tbody tr th {\n        vertical-align: top;\n    }\n\n    .dataframe thead th {\n        text-align: right;\n    }\n</style>\n<table border=\"1\" class=\"dataframe\">\n  <thead>\n    <tr style=\"text-align: right;\">\n      <th></th>\n      <th>HOME_POSITION_1_PLAYER_ACCURATE_CROSSES_season_sum</th>\n      <th>HOME_POSITION_1_PLAYER_ACCURATE_PASSES_season_sum</th>\n      <th>HOME_POSITION_1_PLAYER_AERIALS_WON_season_sum</th>\n      <th>HOME_POSITION_1_PLAYER_ASSISTS_season_sum</th>\n      <th>HOME_POSITION_1_PLAYER_BIG_CHANCES_CREATED_season_sum</th>\n      <th>HOME_POSITION_1_PLAYER_BIG_CHANCES_MISSED_season_sum</th>\n      <th>HOME_POSITION_1_PLAYER_BLOCKED_SHOTS_season_sum</th>\n      <th>HOME_POSITION_1_PLAYER_CLEARANCES_season_sum</th>\n      <th>HOME_POSITION_1_PLAYER_CLEARANCE_OFFLINE_season_sum</th>\n      <th>HOME_POSITION_1_PLAYER_DISPOSSESSED_season_sum</th>\n      <th>...</th>\n      <th>HOME_POSITION_4_PLAYER_SAVES_INSIDE_BOX_5_last_match_std</th>\n      <th>HOME_POSITION_4_PLAYER_SHOTS_BLOCKED_5_last_match_std</th>\n      <th>HOME_POSITION_4_PLAYER_SHOTS_ON_TARGET_5_last_match_std</th>\n      <th>HOME_POSITION_4_PLAYER_SHOTS_TOTAL_5_last_match_std</th>\n      <th>HOME_POSITION_4_PLAYER_STARTING_LINEUP_5_last_match_std</th>\n      <th>HOME_POSITION_4_PLAYER_SUCCESSFUL_DRIBBLES_5_last_match_std</th>\n      <th>HOME_POSITION_4_PLAYER_TACKLES_5_last_match_std</th>\n      <th>HOME_POSITION_4_PLAYER_TOTAL_CROSSES_5_last_match_std</th>\n      <th>HOME_POSITION_4_PLAYER_TOTAL_DUELS_5_last_match_std</th>\n      <th>HOME_POSITION_4_PLAYER_YELLOWCARDS_5_last_match_std</th>\n    </tr>\n    <tr>\n      <th>ID</th>\n      <th></th>\n      <th></th>\n      <th></th>\n      <th></th>\n      <th></th>\n      <th></th>\n      <th></th>\n      <th></th>\n      <th></th>\n      <th></th>\n      <th></th>\n      <th></th>\n      <th></th>\n      <th></th>\n      <th></th>\n      <th></th>\n      <th></th>\n      <th></th>\n      <th></th>\n      <th></th>\n      <th></th>\n    </tr>\n  </thead>\n  <tbody>\n    <tr>\n      <th>12303</th>\n      <td>NaN</td>\n      <td>NaN</td>\n      <td>NaN</td>\n      <td>NaN</td>\n      <td>NaN</td>\n      <td>NaN</td>\n      <td>NaN</td>\n      <td>NaN</td>\n      <td>NaN</td>\n      <td>NaN</td>\n      <td>...</td>\n      <td>0.0</td>\n      <td>14.090909</td>\n      <td>10.909091</td>\n      <td>17.0</td>\n      <td>11.454545</td>\n      <td>14.363636</td>\n      <td>18.454545</td>\n      <td>17.818182</td>\n      <td>27.636364</td>\n      <td>14.636364</td>\n    </tr>\n    <tr>\n      <th>12304</th>\n      <td>5.666667</td>\n      <td>13.333333</td>\n      <td>21.666667</td>\n      <td>20.333333</td>\n      <td>21.333333</td>\n      <td>23.0</td>\n      <td>8.666667</td>\n      <td>4.333333</td>\n      <td>0.0</td>\n      <td>50.666667</td>\n      <td>...</td>\n      <td>NaN</td>\n      <td>NaN</td>\n      <td>NaN</td>\n      <td>NaN</td>\n      <td>NaN</td>\n      <td>NaN</td>\n      <td>NaN</td>\n      <td>NaN</td>\n      <td>NaN</td>\n      <td>NaN</td>\n    </tr>\n    <tr>\n      <th>12305</th>\n      <td>0.25</td>\n      <td>9.5</td>\n      <td>12.5</td>\n      <td>22.5</td>\n      <td>16.0</td>\n      <td>16.5</td>\n      <td>4.0</td>\n      <td>7.75</td>\n      <td>0.0</td>\n      <td>20.25</td>\n      <td>...</td>\n      <td>NaN</td>\n      <td>NaN</td>\n      <td>NaN</td>\n      <td>NaN</td>\n      <td>NaN</td>\n      <td>NaN</td>\n      <td>NaN</td>\n      <td>NaN</td>\n      <td>NaN</td>\n      <td>NaN</td>\n    </tr>\n    <tr>\n      <th>12306</th>\n      <td>15.0</td>\n      <td>13.666667</td>\n      <td>19.333333</td>\n      <td>23.666667</td>\n      <td>23.0</td>\n      <td>21.666667</td>\n      <td>1.333333</td>\n      <td>6.0</td>\n      <td>0.0</td>\n      <td>37.333333</td>\n      <td>...</td>\n      <td>0.0</td>\n      <td>24.0</td>\n      <td>14.285714</td>\n      <td>23.714286</td>\n      <td>56.0</td>\n      <td>21.714286</td>\n      <td>17.571429</td>\n      <td>12.142857</td>\n      <td>36.571429</td>\n      <td>21.428571</td>\n    </tr>\n    <tr>\n      <th>12307</th>\n      <td>10.25</td>\n      <td>8.25</td>\n      <td>18.25</td>\n      <td>9.25</td>\n      <td>21.75</td>\n      <td>21.75</td>\n      <td>1.0</td>\n      <td>2.75</td>\n      <td>0.0</td>\n      <td>16.0</td>\n      <td>...</td>\n      <td>NaN</td>\n      <td>NaN</td>\n      <td>NaN</td>\n      <td>NaN</td>\n      <td>NaN</td>\n      <td>NaN</td>\n      <td>NaN</td>\n      <td>NaN</td>\n      <td>NaN</td>\n      <td>NaN</td>\n    </tr>\n    <tr>\n      <th>...</th>\n      <td>...</td>\n      <td>...</td>\n      <td>...</td>\n      <td>...</td>\n      <td>...</td>\n      <td>...</td>\n      <td>...</td>\n      <td>...</td>\n      <td>...</td>\n      <td>...</td>\n      <td>...</td>\n      <td>...</td>\n      <td>...</td>\n      <td>...</td>\n      <td>...</td>\n      <td>...</td>\n      <td>...</td>\n      <td>...</td>\n      <td>...</td>\n      <td>...</td>\n      <td>...</td>\n    </tr>\n    <tr>\n      <th>37666</th>\n      <td>0.0</td>\n      <td>2.0</td>\n      <td>6.5</td>\n      <td>0.0</td>\n      <td>0.0</td>\n      <td>0.0</td>\n      <td>0.0</td>\n      <td>2.5</td>\n      <td>0.0</td>\n      <td>2.0</td>\n      <td>...</td>\n      <td>NaN</td>\n      <td>NaN</td>\n      <td>NaN</td>\n      <td>NaN</td>\n      <td>NaN</td>\n      <td>NaN</td>\n      <td>NaN</td>\n      <td>NaN</td>\n      <td>NaN</td>\n      <td>NaN</td>\n    </tr>\n    <tr>\n      <th>37667</th>\n      <td>2.0</td>\n      <td>9.0</td>\n      <td>17.333333</td>\n      <td>33.333333</td>\n      <td>23.333333</td>\n      <td>30.0</td>\n      <td>1.666667</td>\n      <td>4.0</td>\n      <td>0.0</td>\n      <td>29.0</td>\n      <td>...</td>\n      <td>0.0</td>\n      <td>20.1</td>\n      <td>27.4</td>\n      <td>25.3</td>\n      <td>45.7</td>\n      <td>NaN</td>\n      <td>24.0</td>\n      <td>15.6</td>\n      <td>25.7</td>\n      <td>12.6</td>\n    </tr>\n    <tr>\n      <th>37668</th>\n      <td>9.666667</td>\n      <td>11.0</td>\n      <td>7.666667</td>\n      <td>28.333333</td>\n      <td>12.333333</td>\n      <td>17.666667</td>\n      <td>4.333333</td>\n      <td>3.333333</td>\n      <td>0.0</td>\n      <td>26.0</td>\n      <td>...</td>\n      <td>0.0</td>\n      <td>22.285714</td>\n      <td>22.428571</td>\n      <td>31.857143</td>\n      <td>47.0</td>\n      <td>22.0</td>\n      <td>31.142857</td>\n      <td>11.714286</td>\n      <td>21.714286</td>\n      <td>16.571429</td>\n    </tr>\n    <tr>\n      <th>37669</th>\n      <td>0.0</td>\n      <td>6.5</td>\n      <td>8.5</td>\n      <td>0.0</td>\n      <td>5.0</td>\n      <td>0.0</td>\n      <td>0.0</td>\n      <td>0.5</td>\n      <td>0.0</td>\n      <td>18.0</td>\n      <td>...</td>\n      <td>NaN</td>\n      <td>NaN</td>\n      <td>NaN</td>\n      <td>NaN</td>\n      <td>NaN</td>\n      <td>NaN</td>\n      <td>NaN</td>\n      <td>NaN</td>\n      <td>NaN</td>\n      <td>NaN</td>\n    </tr>\n    <tr>\n      <th>37670</th>\n      <td>15.0</td>\n      <td>11.0</td>\n      <td>8.2</td>\n      <td>4.2</td>\n      <td>7.4</td>\n      <td>20.6</td>\n      <td>2.0</td>\n      <td>6.0</td>\n      <td>0.0</td>\n      <td>23.6</td>\n      <td>...</td>\n      <td>0.0</td>\n      <td>19.166667</td>\n      <td>22.166667</td>\n      <td>27.5</td>\n      <td>36.166667</td>\n      <td>19.166667</td>\n      <td>23.666667</td>\n      <td>8.833333</td>\n      <td>18.666667</td>\n      <td>51.333333</td>\n    </tr>\n  </tbody>\n</table>\n<p>25368 rows × 1092 columns</p>\n</div>"
     },
     "execution_count": 248,
     "metadata": {},
     "output_type": "execute_result"
    }
   ],
   "source": [
    "L = test_home_player_statistics_drop2_df.index.drop_duplicates()\n",
    "\n",
    "for k in range(len(L)):\n",
    "    df = test_home_player_statistics_drop2_df[test_home_player_statistics_drop2_df.index == L[k]]\n",
    "\n",
    "    for i in range(1,5):\n",
    "        df_position = df[df['POSITION'] == i]\n",
    "        df_position = df_position.drop('POSITION', axis = 1)\n",
    "\n",
    "        df_position_mean = df_position.mean(axis=0, skipna = False)\n",
    "    \n",
    "        new_df = pd.DataFrame(columns = df_position_mean.index)\n",
    "\n",
    "        for index in df_position_mean.index:\n",
    "            new_df.loc[L[0], index] = df_position_mean[index]\n",
    "        #new_df = new_df.reset_index(drop=True)\n",
    "        df_position_mean = new_df\n",
    "        columns = df_position_mean.columns\n",
    "\n",
    "\n",
    "        if df_position_mean.empty:\n",
    "            NaN_df.index = [i]\n",
    "            df_position_mean = NaN_df\n",
    "        df_position_mean.columns = 'HOME_' + 'POSITION_' + str(i) + '_' + df_position_mean.columns\n",
    "        \n",
    "        if i == 1:\n",
    "            df_team_mean = df_position_mean\n",
    "        else:\n",
    "            df_team_mean = pd.concat([df_team_mean, df_position_mean], axis= 1)\n",
    "    \n",
    "    if k == 0:\n",
    "        final_df_home_player = df_team_mean\n",
    "    else:\n",
    "        final_df_home_player = pd.concat([final_df_home_player, df_team_mean], axis = 0)\n",
    "\n",
    "final_df_home_player.index = L\n",
    "final_df_home_player"
   ],
   "metadata": {
    "collapsed": false,
    "ExecuteTime": {
     "end_time": "2024-03-22T20:07:19.495453Z",
     "start_time": "2024-03-22T19:06:39.589679Z"
    }
   },
   "id": "d1cfcfcc493568b5",
   "execution_count": 248
  },
  {
   "cell_type": "code",
   "outputs": [
    {
     "data": {
      "text/plain": "      HOME_POSITION_1_PLAYER_ACCURATE_CROSSES_season_sum  \\\nID                                                         \n12303                                                3.0   \n12304                                                3.5   \n12305                                           0.333333   \n12306                                                9.5   \n12307                                                3.0   \n...                                                  ...   \n37666                                           4.666667   \n37667                                                0.5   \n37668                                                4.5   \n37669                                               3.25   \n37670                                                3.6   \n\n      HOME_POSITION_1_PLAYER_ACCURATE_PASSES_season_sum  \\\nID                                                        \n12303                                              9.25   \n12304                                              19.5   \n12305                                          6.333333   \n12306                                               7.5   \n12307                                              8.75   \n...                                                 ...   \n37666                                         17.833333   \n37667                                              6.75   \n37668                                              8.75   \n37669                                               4.5   \n37670                                               7.2   \n\n      HOME_POSITION_1_PLAYER_AERIALS_WON_season_sum  \\\nID                                                    \n12303                                         19.75   \n12304                                          16.5   \n12305                                      4.666667   \n12306                                           4.5   \n12307                                         37.25   \n...                                             ...   \n37666                                      9.166667   \n37667                                          22.0   \n37668                                          23.0   \n37669                                          12.5   \n37670                                           6.4   \n\n      HOME_POSITION_1_PLAYER_ASSISTS_season_sum  \\\nID                                                \n12303                                       0.0   \n12304                                      27.5   \n12305                                  7.333333   \n12306                                       3.5   \n12307                                       3.0   \n...                                         ...   \n37666                                 16.666667   \n37667                                       5.0   \n37668                                      21.0   \n37669                                      15.5   \n37670                                       5.6   \n\n      HOME_POSITION_1_PLAYER_BIG_CHANCES_CREATED_season_sum  \\\nID                                                            \n12303                                                3.5      \n12304                                               38.0      \n12305                                           4.666667      \n12306                                                5.0      \n12307                                               15.5      \n...                                                  ...      \n37666                                               11.0      \n37667                                                2.5      \n37668                                               13.0      \n37669                                               15.0      \n37670                                                7.4      \n\n      HOME_POSITION_1_PLAYER_BIG_CHANCES_MISSED_season_sum  \\\nID                                                           \n12303                                                5.5     \n12304                                               14.5     \n12305                                           6.333333     \n12306                                                6.5     \n12307                                               28.0     \n...                                                  ...     \n37666                                          16.666667     \n37667                                               15.0     \n37668                                               17.0     \n37669                                                5.5     \n37670                                               16.6     \n\n      HOME_POSITION_1_PLAYER_BLOCKED_SHOTS_season_sum  \\\nID                                                      \n12303                                             2.5   \n12304                                             2.5   \n12305                                             0.0   \n12306                                             1.0   \n12307                                            5.25   \n...                                               ...   \n37666                                             5.5   \n37667                                            3.75   \n37668                                             1.5   \n37669                                             1.0   \n37670                                             0.8   \n\n      HOME_POSITION_1_PLAYER_CLEARANCES_season_sum  \\\nID                                                   \n12303                                          1.0   \n12304                                         10.0   \n12305                                     1.333333   \n12306                                          0.5   \n12307                                          5.5   \n...                                            ...   \n37666                                     3.166667   \n37667                                         4.25   \n37668                                          4.5   \n37669                                          1.5   \n37670                                          3.2   \n\n      HOME_POSITION_1_PLAYER_CLEARANCE_OFFLINE_season_sum  \\\nID                                                          \n12303                                                0.0    \n12304                                                0.0    \n12305                                                0.0    \n12306                                                0.0    \n12307                                                0.0    \n...                                                  ...    \n37666                                                0.0    \n37667                                                0.0    \n37668                                                0.0    \n37669                                                0.0    \n37670                                                0.0    \n\n      HOME_POSITION_1_PLAYER_DISPOSSESSED_season_sum  ...  \\\nID                                                    ...   \n12303                                           12.5  ...   \n12304                                           35.5  ...   \n12305                                      18.333333  ...   \n12306                                           13.0  ...   \n12307                                           22.5  ...   \n...                                              ...  ...   \n37666                                      23.333333  ...   \n37667                                           15.5  ...   \n37668                                          19.75  ...   \n37669                                          19.75  ...   \n37670                                           12.6  ...   \n\n      HOME_POSITION_4_PLAYER_SAVES_INSIDE_BOX_5_last_match_std  \\\nID                                                               \n12303                                                NaN         \n12304                                                0.0         \n12305                                                0.0         \n12306                                                0.0         \n12307                                                0.0         \n...                                                  ...         \n37666                                                0.0         \n37667                                                0.0         \n37668                                                NaN         \n37669                                                NaN         \n37670                                                NaN         \n\n      HOME_POSITION_4_PLAYER_SHOTS_BLOCKED_5_last_match_std  \\\nID                                                            \n12303                                                NaN      \n12304                                               15.4      \n12305                                          24.285714      \n12306                                             14.125      \n12307                                          19.428571      \n...                                                  ...      \n37666                                           8.333333      \n37667                                          28.888889      \n37668                                                NaN      \n37669                                                NaN      \n37670                                                NaN      \n\n      HOME_POSITION_4_PLAYER_SHOTS_ON_TARGET_5_last_match_std  \\\nID                                                              \n12303                                                NaN        \n12304                                               22.0        \n12305                                           8.714286        \n12306                                             18.375        \n12307                                          20.428571        \n...                                                  ...        \n37666                                               29.5        \n37667                                          21.333333        \n37668                                                NaN        \n37669                                                NaN        \n37670                                                NaN        \n\n      HOME_POSITION_4_PLAYER_SHOTS_TOTAL_5_last_match_std  \\\nID                                                          \n12303                                                NaN    \n12304                                               23.2    \n12305                                               23.0    \n12306                                               27.0    \n12307                                          24.285714    \n...                                                  ...    \n37666                                          34.666667    \n37667                                          32.555556    \n37668                                                NaN    \n37669                                                NaN    \n37670                                                NaN    \n\n      HOME_POSITION_4_PLAYER_STARTING_LINEUP_5_last_match_std  \\\nID                                                              \n12303                                                NaN        \n12304                                               43.4        \n12305                                               55.0        \n12306                                               35.0        \n12307                                               22.0        \n...                                                  ...        \n37666                                          22.166667        \n37667                                          33.666667        \n37668                                                NaN        \n37669                                                NaN        \n37670                                                NaN        \n\n      HOME_POSITION_4_PLAYER_SUCCESSFUL_DRIBBLES_5_last_match_std  \\\nID                                                                  \n12303                                                NaN            \n12304                                               17.3            \n12305                                          17.571429            \n12306                                             13.375            \n12307                                               23.0            \n...                                                  ...            \n37666                                                0.0            \n37667                                                NaN            \n37668                                                NaN            \n37669                                                NaN            \n37670                                                NaN            \n\n      HOME_POSITION_4_PLAYER_TACKLES_5_last_match_std  \\\nID                                                      \n12303                                             NaN   \n12304                                            30.3   \n12305                                       31.285714   \n12306                                            24.5   \n12307                                       25.428571   \n...                                               ...   \n37666                                            15.0   \n37667                                       20.333333   \n37668                                             NaN   \n37669                                             NaN   \n37670                                             NaN   \n\n      HOME_POSITION_4_PLAYER_TOTAL_CROSSES_5_last_match_std  \\\nID                                                            \n12303                                                NaN      \n12304                                               14.6      \n12305                                           9.857143      \n12306                                              16.75      \n12307                                          22.714286      \n...                                                  ...      \n37666                                               26.5      \n37667                                          17.888889      \n37668                                                NaN      \n37669                                                NaN      \n37670                                                NaN      \n\n      HOME_POSITION_4_PLAYER_TOTAL_DUELS_5_last_match_std  \\\nID                                                          \n12303                                                NaN    \n12304                                               39.5    \n12305                                               30.0    \n12306                                             27.375    \n12307                                          33.714286    \n...                                                  ...    \n37666                                               29.0    \n37667                                          18.111111    \n37668                                                NaN    \n37669                                                NaN    \n37670                                                NaN    \n\n      HOME_POSITION_4_PLAYER_YELLOWCARDS_5_last_match_std  \nID                                                         \n12303                                                NaN   \n12304                                               21.1   \n12305                                           7.142857   \n12306                                               34.0   \n12307                                               20.0   \n...                                                  ...   \n37666                                               21.0   \n37667                                          38.111111   \n37668                                                NaN   \n37669                                                NaN   \n37670                                                NaN   \n\n[25368 rows x 1092 columns]",
      "text/html": "<div>\n<style scoped>\n    .dataframe tbody tr th:only-of-type {\n        vertical-align: middle;\n    }\n\n    .dataframe tbody tr th {\n        vertical-align: top;\n    }\n\n    .dataframe thead th {\n        text-align: right;\n    }\n</style>\n<table border=\"1\" class=\"dataframe\">\n  <thead>\n    <tr style=\"text-align: right;\">\n      <th></th>\n      <th>HOME_POSITION_1_PLAYER_ACCURATE_CROSSES_season_sum</th>\n      <th>HOME_POSITION_1_PLAYER_ACCURATE_PASSES_season_sum</th>\n      <th>HOME_POSITION_1_PLAYER_AERIALS_WON_season_sum</th>\n      <th>HOME_POSITION_1_PLAYER_ASSISTS_season_sum</th>\n      <th>HOME_POSITION_1_PLAYER_BIG_CHANCES_CREATED_season_sum</th>\n      <th>HOME_POSITION_1_PLAYER_BIG_CHANCES_MISSED_season_sum</th>\n      <th>HOME_POSITION_1_PLAYER_BLOCKED_SHOTS_season_sum</th>\n      <th>HOME_POSITION_1_PLAYER_CLEARANCES_season_sum</th>\n      <th>HOME_POSITION_1_PLAYER_CLEARANCE_OFFLINE_season_sum</th>\n      <th>HOME_POSITION_1_PLAYER_DISPOSSESSED_season_sum</th>\n      <th>...</th>\n      <th>HOME_POSITION_4_PLAYER_SAVES_INSIDE_BOX_5_last_match_std</th>\n      <th>HOME_POSITION_4_PLAYER_SHOTS_BLOCKED_5_last_match_std</th>\n      <th>HOME_POSITION_4_PLAYER_SHOTS_ON_TARGET_5_last_match_std</th>\n      <th>HOME_POSITION_4_PLAYER_SHOTS_TOTAL_5_last_match_std</th>\n      <th>HOME_POSITION_4_PLAYER_STARTING_LINEUP_5_last_match_std</th>\n      <th>HOME_POSITION_4_PLAYER_SUCCESSFUL_DRIBBLES_5_last_match_std</th>\n      <th>HOME_POSITION_4_PLAYER_TACKLES_5_last_match_std</th>\n      <th>HOME_POSITION_4_PLAYER_TOTAL_CROSSES_5_last_match_std</th>\n      <th>HOME_POSITION_4_PLAYER_TOTAL_DUELS_5_last_match_std</th>\n      <th>HOME_POSITION_4_PLAYER_YELLOWCARDS_5_last_match_std</th>\n    </tr>\n    <tr>\n      <th>ID</th>\n      <th></th>\n      <th></th>\n      <th></th>\n      <th></th>\n      <th></th>\n      <th></th>\n      <th></th>\n      <th></th>\n      <th></th>\n      <th></th>\n      <th></th>\n      <th></th>\n      <th></th>\n      <th></th>\n      <th></th>\n      <th></th>\n      <th></th>\n      <th></th>\n      <th></th>\n      <th></th>\n      <th></th>\n    </tr>\n  </thead>\n  <tbody>\n    <tr>\n      <th>12303</th>\n      <td>3.0</td>\n      <td>9.25</td>\n      <td>19.75</td>\n      <td>0.0</td>\n      <td>3.5</td>\n      <td>5.5</td>\n      <td>2.5</td>\n      <td>1.0</td>\n      <td>0.0</td>\n      <td>12.5</td>\n      <td>...</td>\n      <td>NaN</td>\n      <td>NaN</td>\n      <td>NaN</td>\n      <td>NaN</td>\n      <td>NaN</td>\n      <td>NaN</td>\n      <td>NaN</td>\n      <td>NaN</td>\n      <td>NaN</td>\n      <td>NaN</td>\n    </tr>\n    <tr>\n      <th>12304</th>\n      <td>3.5</td>\n      <td>19.5</td>\n      <td>16.5</td>\n      <td>27.5</td>\n      <td>38.0</td>\n      <td>14.5</td>\n      <td>2.5</td>\n      <td>10.0</td>\n      <td>0.0</td>\n      <td>35.5</td>\n      <td>...</td>\n      <td>0.0</td>\n      <td>15.4</td>\n      <td>22.0</td>\n      <td>23.2</td>\n      <td>43.4</td>\n      <td>17.3</td>\n      <td>30.3</td>\n      <td>14.6</td>\n      <td>39.5</td>\n      <td>21.1</td>\n    </tr>\n    <tr>\n      <th>12305</th>\n      <td>0.333333</td>\n      <td>6.333333</td>\n      <td>4.666667</td>\n      <td>7.333333</td>\n      <td>4.666667</td>\n      <td>6.333333</td>\n      <td>0.0</td>\n      <td>1.333333</td>\n      <td>0.0</td>\n      <td>18.333333</td>\n      <td>...</td>\n      <td>0.0</td>\n      <td>24.285714</td>\n      <td>8.714286</td>\n      <td>23.0</td>\n      <td>55.0</td>\n      <td>17.571429</td>\n      <td>31.285714</td>\n      <td>9.857143</td>\n      <td>30.0</td>\n      <td>7.142857</td>\n    </tr>\n    <tr>\n      <th>12306</th>\n      <td>9.5</td>\n      <td>7.5</td>\n      <td>4.5</td>\n      <td>3.5</td>\n      <td>5.0</td>\n      <td>6.5</td>\n      <td>1.0</td>\n      <td>0.5</td>\n      <td>0.0</td>\n      <td>13.0</td>\n      <td>...</td>\n      <td>0.0</td>\n      <td>14.125</td>\n      <td>18.375</td>\n      <td>27.0</td>\n      <td>35.0</td>\n      <td>13.375</td>\n      <td>24.5</td>\n      <td>16.75</td>\n      <td>27.375</td>\n      <td>34.0</td>\n    </tr>\n    <tr>\n      <th>12307</th>\n      <td>3.0</td>\n      <td>8.75</td>\n      <td>37.25</td>\n      <td>3.0</td>\n      <td>15.5</td>\n      <td>28.0</td>\n      <td>5.25</td>\n      <td>5.5</td>\n      <td>0.0</td>\n      <td>22.5</td>\n      <td>...</td>\n      <td>0.0</td>\n      <td>19.428571</td>\n      <td>20.428571</td>\n      <td>24.285714</td>\n      <td>22.0</td>\n      <td>23.0</td>\n      <td>25.428571</td>\n      <td>22.714286</td>\n      <td>33.714286</td>\n      <td>20.0</td>\n    </tr>\n    <tr>\n      <th>...</th>\n      <td>...</td>\n      <td>...</td>\n      <td>...</td>\n      <td>...</td>\n      <td>...</td>\n      <td>...</td>\n      <td>...</td>\n      <td>...</td>\n      <td>...</td>\n      <td>...</td>\n      <td>...</td>\n      <td>...</td>\n      <td>...</td>\n      <td>...</td>\n      <td>...</td>\n      <td>...</td>\n      <td>...</td>\n      <td>...</td>\n      <td>...</td>\n      <td>...</td>\n      <td>...</td>\n    </tr>\n    <tr>\n      <th>37666</th>\n      <td>4.666667</td>\n      <td>17.833333</td>\n      <td>9.166667</td>\n      <td>16.666667</td>\n      <td>11.0</td>\n      <td>16.666667</td>\n      <td>5.5</td>\n      <td>3.166667</td>\n      <td>0.0</td>\n      <td>23.333333</td>\n      <td>...</td>\n      <td>0.0</td>\n      <td>8.333333</td>\n      <td>29.5</td>\n      <td>34.666667</td>\n      <td>22.166667</td>\n      <td>0.0</td>\n      <td>15.0</td>\n      <td>26.5</td>\n      <td>29.0</td>\n      <td>21.0</td>\n    </tr>\n    <tr>\n      <th>37667</th>\n      <td>0.5</td>\n      <td>6.75</td>\n      <td>22.0</td>\n      <td>5.0</td>\n      <td>2.5</td>\n      <td>15.0</td>\n      <td>3.75</td>\n      <td>4.25</td>\n      <td>0.0</td>\n      <td>15.5</td>\n      <td>...</td>\n      <td>0.0</td>\n      <td>28.888889</td>\n      <td>21.333333</td>\n      <td>32.555556</td>\n      <td>33.666667</td>\n      <td>NaN</td>\n      <td>20.333333</td>\n      <td>17.888889</td>\n      <td>18.111111</td>\n      <td>38.111111</td>\n    </tr>\n    <tr>\n      <th>37668</th>\n      <td>4.5</td>\n      <td>8.75</td>\n      <td>23.0</td>\n      <td>21.0</td>\n      <td>13.0</td>\n      <td>17.0</td>\n      <td>1.5</td>\n      <td>4.5</td>\n      <td>0.0</td>\n      <td>19.75</td>\n      <td>...</td>\n      <td>NaN</td>\n      <td>NaN</td>\n      <td>NaN</td>\n      <td>NaN</td>\n      <td>NaN</td>\n      <td>NaN</td>\n      <td>NaN</td>\n      <td>NaN</td>\n      <td>NaN</td>\n      <td>NaN</td>\n    </tr>\n    <tr>\n      <th>37669</th>\n      <td>3.25</td>\n      <td>4.5</td>\n      <td>12.5</td>\n      <td>15.5</td>\n      <td>15.0</td>\n      <td>5.5</td>\n      <td>1.0</td>\n      <td>1.5</td>\n      <td>0.0</td>\n      <td>19.75</td>\n      <td>...</td>\n      <td>NaN</td>\n      <td>NaN</td>\n      <td>NaN</td>\n      <td>NaN</td>\n      <td>NaN</td>\n      <td>NaN</td>\n      <td>NaN</td>\n      <td>NaN</td>\n      <td>NaN</td>\n      <td>NaN</td>\n    </tr>\n    <tr>\n      <th>37670</th>\n      <td>3.6</td>\n      <td>7.2</td>\n      <td>6.4</td>\n      <td>5.6</td>\n      <td>7.4</td>\n      <td>16.6</td>\n      <td>0.8</td>\n      <td>3.2</td>\n      <td>0.0</td>\n      <td>12.6</td>\n      <td>...</td>\n      <td>NaN</td>\n      <td>NaN</td>\n      <td>NaN</td>\n      <td>NaN</td>\n      <td>NaN</td>\n      <td>NaN</td>\n      <td>NaN</td>\n      <td>NaN</td>\n      <td>NaN</td>\n      <td>NaN</td>\n    </tr>\n  </tbody>\n</table>\n<p>25368 rows × 1092 columns</p>\n</div>"
     },
     "execution_count": 249,
     "metadata": {},
     "output_type": "execute_result"
    }
   ],
   "source": [
    "L = test_away_player_statistics_drop2_df.index.drop_duplicates()\n",
    "\n",
    "for k in range(len(L)):\n",
    "    df = test_away_player_statistics_drop2_df[test_away_player_statistics_drop2_df.index == L[k]]\n",
    "\n",
    "    for i in range(1,5):\n",
    "        df_position = df[df['POSITION'] == i]\n",
    "        df_position = df_position.drop('POSITION', axis = 1)\n",
    "\n",
    "\n",
    "        df_position_mean = df_position.mean(axis=0, skipna = False)\n",
    "    \n",
    "        new_df = pd.DataFrame(columns = df_position_mean.index)\n",
    "\n",
    "        for index in df_position_mean.index:\n",
    "            new_df.loc[L[0], index] = df_position_mean[index]\n",
    "        #new_df = new_df.reset_index(drop=True)\n",
    "        df_position_mean = new_df\n",
    "        columns = df_position_mean.columns\n",
    "\n",
    "\n",
    "        if df_position_mean.empty:\n",
    "            NaN_df.index = [i]\n",
    "            df_position_mean = NaN_df\n",
    "        df_position_mean.columns = 'HOME_' + 'POSITION_' + str(i) + '_' + df_position_mean.columns\n",
    "        \n",
    "        if i == 1:\n",
    "            df_team_mean = df_position_mean\n",
    "        else:\n",
    "            df_team_mean = pd.concat([df_team_mean, df_position_mean], axis= 1)\n",
    "    \n",
    "    if k == 0:\n",
    "        final_df_away_player = df_team_mean\n",
    "    else:\n",
    "        final_df_away_player = pd.concat([final_df_away_player, df_team_mean], axis = 0)\n",
    "\n",
    "final_df_away_player.index = L\n",
    "final_df_away_player"
   ],
   "metadata": {
    "collapsed": false,
    "ExecuteTime": {
     "end_time": "2024-03-22T21:04:20.463838Z",
     "start_time": "2024-03-22T20:07:19.491222Z"
    }
   },
   "id": "5a532538d3d2eed8",
   "execution_count": 249
  },
  {
   "cell_type": "markdown",
   "source": [
    "##### Join the information about the players and the team together"
   ],
   "metadata": {
    "collapsed": false
   },
   "id": "c3b0e7867eb2fbf9"
  },
  {
   "cell_type": "code",
   "outputs": [],
   "source": [
    "#Attention inner\n",
    "X_test_home = final_df_home_player.join(test_home_team_statistics_drop_df, on=['ID'], how='outer')\n",
    "\n",
    "X_test_away = final_df_away_player.join(test_away_team_statistics_drop_df, on=['ID'], how='outer')"
   ],
   "metadata": {
    "collapsed": false,
    "ExecuteTime": {
     "end_time": "2024-03-22T21:57:48.706863Z",
     "start_time": "2024-03-22T21:57:46.000858Z"
    }
   },
   "id": "bbaad8d519fff47a",
   "execution_count": 261
  },
  {
   "cell_type": "code",
   "outputs": [
    {
     "data": {
      "text/plain": "      HOME_POSITION_1_PLAYER_ACCURATE_CROSSES_season_sum  \\\nID                                                         \n12303                                                NaN   \n12304                                           5.666667   \n12305                                               0.25   \n12306                                               15.0   \n12307                                              10.25   \n...                                                  ...   \n37666                                                0.0   \n37667                                                2.0   \n37668                                           9.666667   \n37669                                                0.0   \n37670                                               15.0   \n\n      HOME_POSITION_1_PLAYER_ACCURATE_PASSES_season_sum  \\\nID                                                        \n12303                                               NaN   \n12304                                         13.333333   \n12305                                               9.5   \n12306                                         13.666667   \n12307                                              8.25   \n...                                                 ...   \n37666                                               2.0   \n37667                                               9.0   \n37668                                              11.0   \n37669                                               6.5   \n37670                                              11.0   \n\n      HOME_POSITION_1_PLAYER_AERIALS_WON_season_sum  \\\nID                                                    \n12303                                           NaN   \n12304                                     21.666667   \n12305                                          12.5   \n12306                                     19.333333   \n12307                                         18.25   \n...                                             ...   \n37666                                           6.5   \n37667                                     17.333333   \n37668                                      7.666667   \n37669                                           8.5   \n37670                                           8.2   \n\n      HOME_POSITION_1_PLAYER_ASSISTS_season_sum  \\\nID                                                \n12303                                       NaN   \n12304                                 20.333333   \n12305                                      22.5   \n12306                                 23.666667   \n12307                                      9.25   \n...                                         ...   \n37666                                       0.0   \n37667                                 33.333333   \n37668                                 28.333333   \n37669                                       0.0   \n37670                                       4.2   \n\n      HOME_POSITION_1_PLAYER_BIG_CHANCES_CREATED_season_sum  \\\nID                                                            \n12303                                                NaN      \n12304                                          21.333333      \n12305                                               16.0      \n12306                                               23.0      \n12307                                              21.75      \n...                                                  ...      \n37666                                                0.0      \n37667                                          23.333333      \n37668                                          12.333333      \n37669                                                5.0      \n37670                                                7.4      \n\n      HOME_POSITION_1_PLAYER_BIG_CHANCES_MISSED_season_sum  \\\nID                                                           \n12303                                                NaN     \n12304                                               23.0     \n12305                                               16.5     \n12306                                          21.666667     \n12307                                              21.75     \n...                                                  ...     \n37666                                                0.0     \n37667                                               30.0     \n37668                                          17.666667     \n37669                                                0.0     \n37670                                               20.6     \n\n      HOME_POSITION_1_PLAYER_BLOCKED_SHOTS_season_sum  \\\nID                                                      \n12303                                             NaN   \n12304                                        8.666667   \n12305                                             4.0   \n12306                                        1.333333   \n12307                                             1.0   \n...                                               ...   \n37666                                             0.0   \n37667                                        1.666667   \n37668                                        4.333333   \n37669                                             0.0   \n37670                                             2.0   \n\n      HOME_POSITION_1_PLAYER_CLEARANCES_season_sum  \\\nID                                                   \n12303                                          NaN   \n12304                                     4.333333   \n12305                                         7.75   \n12306                                          6.0   \n12307                                         2.75   \n...                                            ...   \n37666                                          2.5   \n37667                                          4.0   \n37668                                     3.333333   \n37669                                          0.5   \n37670                                          6.0   \n\n      HOME_POSITION_1_PLAYER_CLEARANCE_OFFLINE_season_sum  \\\nID                                                          \n12303                                                NaN    \n12304                                                0.0    \n12305                                                0.0    \n12306                                                0.0    \n12307                                                0.0    \n...                                                  ...    \n37666                                                0.0    \n37667                                                0.0    \n37668                                                0.0    \n37669                                                0.0    \n37670                                                0.0    \n\n      HOME_POSITION_1_PLAYER_DISPOSSESSED_season_sum  ...  \\\nID                                                    ...   \n12303                                            NaN  ...   \n12304                                      50.666667  ...   \n12305                                          20.25  ...   \n12306                                      37.333333  ...   \n12307                                           16.0  ...   \n...                                              ...  ...   \n37666                                            2.0  ...   \n37667                                           29.0  ...   \n37668                                           26.0  ...   \n37669                                           18.0  ...   \n37670                                           23.6  ...   \n\n      HOME_TEAM_YELLOWCARDS_5_last_match_std  \\\nID                                             \n12303                                    2.0   \n12304                                    9.0   \n12305                                    6.0   \n12306                                    4.0   \n12307                                    5.0   \n...                                      ...   \n37666                                    2.0   \n37667                                    3.0   \n37668                                    7.0   \n37669                                    5.0   \n37670                                    3.0   \n\n      HOME_TEAM_REDCARDS_5_last_match_std HOME_TEAM_OFFSIDES_5_last_match_std  \\\nID                                                                              \n12303                                 9.0                                 0.0   \n12304                                10.0                                 3.0   \n12305                                 8.0                                 2.0   \n12306                                 5.0                                 2.0   \n12307                                 0.0                                 0.0   \n...                                   ...                                 ...   \n37666                                 6.0                                 2.0   \n37667                                 0.0                                 2.0   \n37668                                 0.0                                 8.0   \n37669                                 0.0                                 4.0   \n37670                                 0.0                                 9.0   \n\n      HOME_TEAM_ATTACKS_5_last_match_std HOME_TEAM_PENALTIES_5_last_match_std  \\\nID                                                                              \n12303                               10.0                                  0.0   \n12304                                1.0                                  8.0   \n12305                                9.0                                  0.0   \n12306                                3.0                                  8.0   \n12307                                7.0                                  5.0   \n...                                  ...                                  ...   \n37666                                1.0                                  5.0   \n37667                                8.0                                  0.0   \n37668                                4.0                                  0.0   \n37669                                7.0                                  8.0   \n37670                                1.0                                  0.0   \n\n      HOME_TEAM_SUBSTITUTIONS_5_last_match_std  \\\nID                                               \n12303                                      4.0   \n12304                                      3.0   \n12305                                      6.0   \n12306                                      0.0   \n12307                                      0.0   \n...                                        ...   \n37666                                      6.0   \n37667                                      0.0   \n37668                                      7.0   \n37669                                      5.0   \n37670                                      2.0   \n\n      HOME_TEAM_BALL_SAFE_5_last_match_std  \\\nID                                           \n12303                                  4.0   \n12304                                  8.0   \n12305                                  0.0   \n12306                                  2.0   \n12307                                  1.0   \n...                                    ...   \n37666                                  6.0   \n37667                                  4.0   \n37668                                  NaN   \n37669                                  6.0   \n37670                                  7.0   \n\n      HOME_TEAM_DANGEROUS_ATTACKS_5_last_match_std  \\\nID                                                   \n12303                                          6.0   \n12304                                          1.0   \n12305                                          9.0   \n12306                                          2.0   \n12307                                          6.0   \n...                                            ...   \n37666                                          5.0   \n37667                                          8.0   \n37668                                          2.0   \n37669                                          4.0   \n37670                                          1.0   \n\n      HOME_TEAM_INJURIES_5_last_match_std HOME_TEAM_GOALS_5_last_match_std  \nID                                                                          \n12303                                 2.0                              3.0  \n12304                                 0.0                              2.0  \n12305                                 NaN                              0.0  \n12306                                 2.0                              3.0  \n12307                                 7.0                              1.0  \n...                                   ...                              ...  \n37666                                 2.0                              0.0  \n37667                                10.0                             10.0  \n37668                                 NaN                              3.0  \n37669                                 5.0                              4.0  \n37670                                 0.0                              1.0  \n\n[25368 rows x 1232 columns]",
      "text/html": "<div>\n<style scoped>\n    .dataframe tbody tr th:only-of-type {\n        vertical-align: middle;\n    }\n\n    .dataframe tbody tr th {\n        vertical-align: top;\n    }\n\n    .dataframe thead th {\n        text-align: right;\n    }\n</style>\n<table border=\"1\" class=\"dataframe\">\n  <thead>\n    <tr style=\"text-align: right;\">\n      <th></th>\n      <th>HOME_POSITION_1_PLAYER_ACCURATE_CROSSES_season_sum</th>\n      <th>HOME_POSITION_1_PLAYER_ACCURATE_PASSES_season_sum</th>\n      <th>HOME_POSITION_1_PLAYER_AERIALS_WON_season_sum</th>\n      <th>HOME_POSITION_1_PLAYER_ASSISTS_season_sum</th>\n      <th>HOME_POSITION_1_PLAYER_BIG_CHANCES_CREATED_season_sum</th>\n      <th>HOME_POSITION_1_PLAYER_BIG_CHANCES_MISSED_season_sum</th>\n      <th>HOME_POSITION_1_PLAYER_BLOCKED_SHOTS_season_sum</th>\n      <th>HOME_POSITION_1_PLAYER_CLEARANCES_season_sum</th>\n      <th>HOME_POSITION_1_PLAYER_CLEARANCE_OFFLINE_season_sum</th>\n      <th>HOME_POSITION_1_PLAYER_DISPOSSESSED_season_sum</th>\n      <th>...</th>\n      <th>HOME_TEAM_YELLOWCARDS_5_last_match_std</th>\n      <th>HOME_TEAM_REDCARDS_5_last_match_std</th>\n      <th>HOME_TEAM_OFFSIDES_5_last_match_std</th>\n      <th>HOME_TEAM_ATTACKS_5_last_match_std</th>\n      <th>HOME_TEAM_PENALTIES_5_last_match_std</th>\n      <th>HOME_TEAM_SUBSTITUTIONS_5_last_match_std</th>\n      <th>HOME_TEAM_BALL_SAFE_5_last_match_std</th>\n      <th>HOME_TEAM_DANGEROUS_ATTACKS_5_last_match_std</th>\n      <th>HOME_TEAM_INJURIES_5_last_match_std</th>\n      <th>HOME_TEAM_GOALS_5_last_match_std</th>\n    </tr>\n    <tr>\n      <th>ID</th>\n      <th></th>\n      <th></th>\n      <th></th>\n      <th></th>\n      <th></th>\n      <th></th>\n      <th></th>\n      <th></th>\n      <th></th>\n      <th></th>\n      <th></th>\n      <th></th>\n      <th></th>\n      <th></th>\n      <th></th>\n      <th></th>\n      <th></th>\n      <th></th>\n      <th></th>\n      <th></th>\n      <th></th>\n    </tr>\n  </thead>\n  <tbody>\n    <tr>\n      <th>12303</th>\n      <td>NaN</td>\n      <td>NaN</td>\n      <td>NaN</td>\n      <td>NaN</td>\n      <td>NaN</td>\n      <td>NaN</td>\n      <td>NaN</td>\n      <td>NaN</td>\n      <td>NaN</td>\n      <td>NaN</td>\n      <td>...</td>\n      <td>2.0</td>\n      <td>9.0</td>\n      <td>0.0</td>\n      <td>10.0</td>\n      <td>0.0</td>\n      <td>4.0</td>\n      <td>4.0</td>\n      <td>6.0</td>\n      <td>2.0</td>\n      <td>3.0</td>\n    </tr>\n    <tr>\n      <th>12304</th>\n      <td>5.666667</td>\n      <td>13.333333</td>\n      <td>21.666667</td>\n      <td>20.333333</td>\n      <td>21.333333</td>\n      <td>23.0</td>\n      <td>8.666667</td>\n      <td>4.333333</td>\n      <td>0.0</td>\n      <td>50.666667</td>\n      <td>...</td>\n      <td>9.0</td>\n      <td>10.0</td>\n      <td>3.0</td>\n      <td>1.0</td>\n      <td>8.0</td>\n      <td>3.0</td>\n      <td>8.0</td>\n      <td>1.0</td>\n      <td>0.0</td>\n      <td>2.0</td>\n    </tr>\n    <tr>\n      <th>12305</th>\n      <td>0.25</td>\n      <td>9.5</td>\n      <td>12.5</td>\n      <td>22.5</td>\n      <td>16.0</td>\n      <td>16.5</td>\n      <td>4.0</td>\n      <td>7.75</td>\n      <td>0.0</td>\n      <td>20.25</td>\n      <td>...</td>\n      <td>6.0</td>\n      <td>8.0</td>\n      <td>2.0</td>\n      <td>9.0</td>\n      <td>0.0</td>\n      <td>6.0</td>\n      <td>0.0</td>\n      <td>9.0</td>\n      <td>NaN</td>\n      <td>0.0</td>\n    </tr>\n    <tr>\n      <th>12306</th>\n      <td>15.0</td>\n      <td>13.666667</td>\n      <td>19.333333</td>\n      <td>23.666667</td>\n      <td>23.0</td>\n      <td>21.666667</td>\n      <td>1.333333</td>\n      <td>6.0</td>\n      <td>0.0</td>\n      <td>37.333333</td>\n      <td>...</td>\n      <td>4.0</td>\n      <td>5.0</td>\n      <td>2.0</td>\n      <td>3.0</td>\n      <td>8.0</td>\n      <td>0.0</td>\n      <td>2.0</td>\n      <td>2.0</td>\n      <td>2.0</td>\n      <td>3.0</td>\n    </tr>\n    <tr>\n      <th>12307</th>\n      <td>10.25</td>\n      <td>8.25</td>\n      <td>18.25</td>\n      <td>9.25</td>\n      <td>21.75</td>\n      <td>21.75</td>\n      <td>1.0</td>\n      <td>2.75</td>\n      <td>0.0</td>\n      <td>16.0</td>\n      <td>...</td>\n      <td>5.0</td>\n      <td>0.0</td>\n      <td>0.0</td>\n      <td>7.0</td>\n      <td>5.0</td>\n      <td>0.0</td>\n      <td>1.0</td>\n      <td>6.0</td>\n      <td>7.0</td>\n      <td>1.0</td>\n    </tr>\n    <tr>\n      <th>...</th>\n      <td>...</td>\n      <td>...</td>\n      <td>...</td>\n      <td>...</td>\n      <td>...</td>\n      <td>...</td>\n      <td>...</td>\n      <td>...</td>\n      <td>...</td>\n      <td>...</td>\n      <td>...</td>\n      <td>...</td>\n      <td>...</td>\n      <td>...</td>\n      <td>...</td>\n      <td>...</td>\n      <td>...</td>\n      <td>...</td>\n      <td>...</td>\n      <td>...</td>\n      <td>...</td>\n    </tr>\n    <tr>\n      <th>37666</th>\n      <td>0.0</td>\n      <td>2.0</td>\n      <td>6.5</td>\n      <td>0.0</td>\n      <td>0.0</td>\n      <td>0.0</td>\n      <td>0.0</td>\n      <td>2.5</td>\n      <td>0.0</td>\n      <td>2.0</td>\n      <td>...</td>\n      <td>2.0</td>\n      <td>6.0</td>\n      <td>2.0</td>\n      <td>1.0</td>\n      <td>5.0</td>\n      <td>6.0</td>\n      <td>6.0</td>\n      <td>5.0</td>\n      <td>2.0</td>\n      <td>0.0</td>\n    </tr>\n    <tr>\n      <th>37667</th>\n      <td>2.0</td>\n      <td>9.0</td>\n      <td>17.333333</td>\n      <td>33.333333</td>\n      <td>23.333333</td>\n      <td>30.0</td>\n      <td>1.666667</td>\n      <td>4.0</td>\n      <td>0.0</td>\n      <td>29.0</td>\n      <td>...</td>\n      <td>3.0</td>\n      <td>0.0</td>\n      <td>2.0</td>\n      <td>8.0</td>\n      <td>0.0</td>\n      <td>0.0</td>\n      <td>4.0</td>\n      <td>8.0</td>\n      <td>10.0</td>\n      <td>10.0</td>\n    </tr>\n    <tr>\n      <th>37668</th>\n      <td>9.666667</td>\n      <td>11.0</td>\n      <td>7.666667</td>\n      <td>28.333333</td>\n      <td>12.333333</td>\n      <td>17.666667</td>\n      <td>4.333333</td>\n      <td>3.333333</td>\n      <td>0.0</td>\n      <td>26.0</td>\n      <td>...</td>\n      <td>7.0</td>\n      <td>0.0</td>\n      <td>8.0</td>\n      <td>4.0</td>\n      <td>0.0</td>\n      <td>7.0</td>\n      <td>NaN</td>\n      <td>2.0</td>\n      <td>NaN</td>\n      <td>3.0</td>\n    </tr>\n    <tr>\n      <th>37669</th>\n      <td>0.0</td>\n      <td>6.5</td>\n      <td>8.5</td>\n      <td>0.0</td>\n      <td>5.0</td>\n      <td>0.0</td>\n      <td>0.0</td>\n      <td>0.5</td>\n      <td>0.0</td>\n      <td>18.0</td>\n      <td>...</td>\n      <td>5.0</td>\n      <td>0.0</td>\n      <td>4.0</td>\n      <td>7.0</td>\n      <td>8.0</td>\n      <td>5.0</td>\n      <td>6.0</td>\n      <td>4.0</td>\n      <td>5.0</td>\n      <td>4.0</td>\n    </tr>\n    <tr>\n      <th>37670</th>\n      <td>15.0</td>\n      <td>11.0</td>\n      <td>8.2</td>\n      <td>4.2</td>\n      <td>7.4</td>\n      <td>20.6</td>\n      <td>2.0</td>\n      <td>6.0</td>\n      <td>0.0</td>\n      <td>23.6</td>\n      <td>...</td>\n      <td>3.0</td>\n      <td>0.0</td>\n      <td>9.0</td>\n      <td>1.0</td>\n      <td>0.0</td>\n      <td>2.0</td>\n      <td>7.0</td>\n      <td>1.0</td>\n      <td>0.0</td>\n      <td>1.0</td>\n    </tr>\n  </tbody>\n</table>\n<p>25368 rows × 1232 columns</p>\n</div>"
     },
     "execution_count": 262,
     "metadata": {},
     "output_type": "execute_result"
    }
   ],
   "source": [
    "X_test_home"
   ],
   "metadata": {
    "collapsed": false,
    "ExecuteTime": {
     "end_time": "2024-03-22T21:57:48.936237Z",
     "start_time": "2024-03-22T21:57:48.708671Z"
    }
   },
   "id": "b4cb5626262ec738",
   "execution_count": 262
  },
  {
   "cell_type": "markdown",
   "source": [
    "##### Join the information about the home and away team"
   ],
   "metadata": {
    "collapsed": false
   },
   "id": "737a340161713eac"
  },
  {
   "cell_type": "code",
   "outputs": [
    {
     "name": "stderr",
     "output_type": "stream",
     "text": [
      "/var/folders/m9/xmtphkx904b8hxdxrgm2jnz80000gn/T/ipykernel_974/3499538380.py:3: FutureWarning: Downcasting behavior in `replace` is deprecated and will be removed in a future version. To retain the old behavior, explicitly call `result.infer_objects(copy=False)`. To opt-in to the future behavior, set `pd.set_option('future.no_silent_downcasting', True)`\n",
      "  X_test = X_test.replace({np.inf:np.nan,-np.inf:np.nan})\n"
     ]
    }
   ],
   "source": [
    "X_test =  pd.concat([X_test_home,X_test_away],join='outer',axis=1)\n",
    "\n",
    "X_test = X_test.replace({np.inf:np.nan,-np.inf:np.nan})"
   ],
   "metadata": {
    "collapsed": false,
    "ExecuteTime": {
     "end_time": "2024-03-22T21:58:17.818932Z",
     "start_time": "2024-03-22T21:58:06.842846Z"
    }
   },
   "id": "eef0b1ca8a6045b2",
   "execution_count": 263
  },
  {
   "cell_type": "code",
   "outputs": [],
   "source": [
    "columns_name = X_train.columns"
   ],
   "metadata": {
    "collapsed": false,
    "ExecuteTime": {
     "end_time": "2024-03-22T21:04:35.633105Z",
     "start_time": "2024-03-22T21:04:35.622320Z"
    }
   },
   "id": "523169ef4b5f7394",
   "execution_count": 252
  },
  {
   "cell_type": "code",
   "outputs": [],
   "source": [
    "X_test.to_csv('X_test_without_imputer_no_position_1.csv', index=True)"
   ],
   "metadata": {
    "collapsed": false,
    "ExecuteTime": {
     "end_time": "2024-03-22T21:04:50.742527Z",
     "start_time": "2024-03-22T21:04:35.626913Z"
    }
   },
   "id": "77287482ff17a63f",
   "execution_count": 253
  },
  {
   "cell_type": "code",
   "outputs": [
    {
     "data": {
      "text/plain": "Index([12303, 12304, 12305, 12306, 12307, 12308, 12309, 12310, 12311, 12312,\n       ...\n       37661, 37662, 37663, 37664, 37665, 37666, 37667, 37668, 37669, 37670],\n      dtype='int64', name='ID', length=25368)"
     },
     "execution_count": 254,
     "metadata": {},
     "output_type": "execute_result"
    }
   ],
   "source": [
    "index_test = X_test.index\n",
    "index_test"
   ],
   "metadata": {
    "collapsed": false,
    "ExecuteTime": {
     "end_time": "2024-03-22T21:04:50.755464Z",
     "start_time": "2024-03-22T21:04:50.743106Z"
    }
   },
   "id": "792b289860b62c13",
   "execution_count": 254
  },
  {
   "cell_type": "markdown",
   "source": [
    "### Data normalisation "
   ],
   "metadata": {
    "collapsed": false
   },
   "id": "670f5e7fbe2f7523"
  },
  {
   "cell_type": "code",
   "outputs": [],
   "source": [
    "X_train = pd.read_csv('X_train_without_imputer.csv', index_col = 0)\n",
    "X_test = pd.read_csv('X_test_without_imputer.csv', index_col = 0)"
   ],
   "metadata": {
    "collapsed": false,
    "ExecuteTime": {
     "end_time": "2024-03-22T21:04:54.688434Z",
     "start_time": "2024-03-22T21:04:50.745471Z"
    }
   },
   "id": "e75b533278d7e5d3",
   "execution_count": 255
  },
  {
   "cell_type": "code",
   "outputs": [],
   "source": [
    "scaler = preprocessing.StandardScaler().fit(X_train)\n",
    "\n",
    "X_train_standard = scaler.transform(X_train)\n",
    "X_test_standard = scaler.transform(X_test)"
   ],
   "metadata": {
    "collapsed": false,
    "ExecuteTime": {
     "end_time": "2024-03-22T21:04:55.272948Z",
     "start_time": "2024-03-22T21:04:54.690648Z"
    }
   },
   "id": "df5de3df6f7acf2f",
   "execution_count": 256
  },
  {
   "cell_type": "code",
   "outputs": [],
   "source": [
    "imputer = KNNImputer(n_neighbors=50)\n",
    "\n",
    "X_train_standard_without_NaN = imputer.fit_transform(X_train_standard)\n",
    "X_test_standard_without_NaN = imputer.fit_transform(X_test_standard)"
   ],
   "metadata": {
    "collapsed": false,
    "ExecuteTime": {
     "end_time": "2024-03-23T00:03:59.102802Z",
     "start_time": "2024-03-22T21:58:30.631364Z"
    }
   },
   "id": "e8dc84c48fd913e",
   "execution_count": 264
  },
  {
   "cell_type": "code",
   "outputs": [],
   "source": [
    "X_train_standard_without_NaN_df = pd.DataFrame(X_train_standard_without_NaN, index = index_train)\n",
    "X_test_standard_without_NaN_df = pd.DataFrame(X_test_standard_without_NaN, index = index_test)"
   ],
   "metadata": {
    "collapsed": false,
    "ExecuteTime": {
     "end_time": "2024-03-23T00:03:59.112617Z",
     "start_time": "2024-03-23T00:03:59.104883Z"
    }
   },
   "id": "8d49e70f564dcd58",
   "execution_count": 265
  },
  {
   "cell_type": "code",
   "outputs": [],
   "source": [
    "X_train_standard_without_NaN_df.to_csv('X_train_standard_without_NaN_without_impute_at_beginning_V2.csv', index = True)\n",
    "X_test_standard_without_NaN_df.to_csv('X_test_standard_without_NaN_without_impute_at_beginning_V2.csv', index = True)"
   ],
   "metadata": {
    "collapsed": false,
    "ExecuteTime": {
     "end_time": "2024-03-23T00:04:44.744758Z",
     "start_time": "2024-03-23T00:03:59.112997Z"
    }
   },
   "id": "3c549f96dead2f04",
   "execution_count": 266
  },
  {
   "cell_type": "markdown",
   "source": [
    "pca = PCA(n_components=1000, random_state=42)\n",
    "\n",
    "X_train_standard_without_NaN_PCA = pca.fit_transform()\n",
    "X_test_standard_without_NaN_PCA = pca.transform()"
   ],
   "metadata": {
    "collapsed": false
   },
   "id": "8741e2fdbd0c5cc9"
  },
  {
   "cell_type": "markdown",
   "source": [
    "### Model with the 3 outcome "
   ],
   "metadata": {
    "collapsed": false
   },
   "id": "6c6f42c4b4fea89"
  },
  {
   "cell_type": "code",
   "outputs": [],
   "source": [
    "Y_train_new = pd.DataFrame(index=Y_train.index)"
   ],
   "metadata": {
    "collapsed": false,
    "ExecuteTime": {
     "end_time": "2024-03-23T11:35:40.194379Z",
     "start_time": "2024-03-23T11:35:40.184026Z"
    }
   },
   "id": "f74a7e2a253cfa4c",
   "execution_count": 313
  },
  {
   "cell_type": "code",
   "outputs": [
    {
     "data": {
      "text/plain": "       RESULT\nID           \n0         2.0\n1         1.0\n2         2.0\n3         0.0\n4         1.0\n...       ...\n12298     2.0\n12299     2.0\n12300     2.0\n12301     0.0\n12302     0.0\n\n[12303 rows x 1 columns]",
      "text/html": "<div>\n<style scoped>\n    .dataframe tbody tr th:only-of-type {\n        vertical-align: middle;\n    }\n\n    .dataframe tbody tr th {\n        vertical-align: top;\n    }\n\n    .dataframe thead th {\n        text-align: right;\n    }\n</style>\n<table border=\"1\" class=\"dataframe\">\n  <thead>\n    <tr style=\"text-align: right;\">\n      <th></th>\n      <th>RESULT</th>\n    </tr>\n    <tr>\n      <th>ID</th>\n      <th></th>\n    </tr>\n  </thead>\n  <tbody>\n    <tr>\n      <th>0</th>\n      <td>2.0</td>\n    </tr>\n    <tr>\n      <th>1</th>\n      <td>1.0</td>\n    </tr>\n    <tr>\n      <th>2</th>\n      <td>2.0</td>\n    </tr>\n    <tr>\n      <th>3</th>\n      <td>0.0</td>\n    </tr>\n    <tr>\n      <th>4</th>\n      <td>1.0</td>\n    </tr>\n    <tr>\n      <th>...</th>\n      <td>...</td>\n    </tr>\n    <tr>\n      <th>12298</th>\n      <td>2.0</td>\n    </tr>\n    <tr>\n      <th>12299</th>\n      <td>2.0</td>\n    </tr>\n    <tr>\n      <th>12300</th>\n      <td>2.0</td>\n    </tr>\n    <tr>\n      <th>12301</th>\n      <td>0.0</td>\n    </tr>\n    <tr>\n      <th>12302</th>\n      <td>0.0</td>\n    </tr>\n  </tbody>\n</table>\n<p>12303 rows × 1 columns</p>\n</div>"
     },
     "execution_count": 314,
     "metadata": {},
     "output_type": "execute_result"
    }
   ],
   "source": [
    "Y_train_new.loc[Y_train['HOME_WINS']==1, 'RESULT'] = 0\n",
    "Y_train_new.loc[Y_train['DRAW']==1, 'RESULT'] = 1\n",
    "Y_train_new.loc[Y_train['AWAY_WINS'] ==1, 'RESULT'] = 2\n",
    "Y_train_new"
   ],
   "metadata": {
    "collapsed": false,
    "ExecuteTime": {
     "end_time": "2024-03-23T11:35:41.717445Z",
     "start_time": "2024-03-23T11:35:41.710677Z"
    }
   },
   "id": "59855f033499ae00",
   "execution_count": 314
  },
  {
   "cell_type": "markdown",
   "source": [
    "### train, valid test split\n"
   ],
   "metadata": {
    "collapsed": false
   },
   "id": "172bcdc46cbe237"
  },
  {
   "cell_type": "code",
   "outputs": [],
   "source": [
    "X_train, X_test, y_train, y_test = model_selection.train_test_split(X_train_standard_without_NaN, Y_train_new, test_size=0.2, random_state=42)"
   ],
   "metadata": {
    "collapsed": false,
    "ExecuteTime": {
     "end_time": "2024-03-23T11:36:51.583141Z",
     "start_time": "2024-03-23T11:36:51.333947Z"
    }
   },
   "id": "88fba6ff70caf4eb",
   "execution_count": 316
  },
  {
   "cell_type": "code",
   "outputs": [],
   "source": [
    "X_train = pd.DataFrame(X_train)\n",
    "#X_train.columns = columns_name\n",
    "#X_valid.columns = columns_name\n",
    "X_test = pd.DataFrame(X_test)\n",
    "#X_test.columns = columns_name"
   ],
   "metadata": {
    "collapsed": false,
    "ExecuteTime": {
     "end_time": "2024-03-23T11:36:53.492432Z",
     "start_time": "2024-03-23T11:36:53.449209Z"
    }
   },
   "id": "8a80bb2051b4ebca",
   "execution_count": 317
  },
  {
   "cell_type": "code",
   "outputs": [
    {
     "data": {
      "text/plain": "array([1., 1., 0., ..., 0., 0., 1.])"
     },
     "execution_count": 318,
     "metadata": {},
     "output_type": "execute_result"
    }
   ],
   "source": [
    "y_train = y_train.to_numpy()\n",
    "y_train = y_train.ravel()\n",
    "y_train"
   ],
   "metadata": {
    "collapsed": false,
    "ExecuteTime": {
     "end_time": "2024-03-23T11:36:57.087891Z",
     "start_time": "2024-03-23T11:36:57.075530Z"
    }
   },
   "id": "31ba199e052a80f8",
   "execution_count": 318
  },
  {
   "cell_type": "markdown",
   "source": [
    "### Gradient Boosting with sklearn"
   ],
   "metadata": {
    "collapsed": false
   },
   "id": "c49987794c1c9fcd"
  },
  {
   "cell_type": "code",
   "outputs": [
    {
     "name": "stdout",
     "output_type": "stream",
     "text": [
      "              precision    recall  f1-score   support\n",
      "\n",
      "         0.0    0.50842   0.83657   0.63246      1083\n",
      "         1.0    0.32000   0.02581   0.04776       620\n",
      "         2.0    0.47854   0.39710   0.43403       758\n",
      "\n",
      "    accuracy                        0.49695      2461\n",
      "   macro avg    0.43565   0.41982   0.37142      2461\n",
      "weighted avg    0.45175   0.49695   0.42404      2461\n"
     ]
    }
   ],
   "source": [
    "GB = HistGradientBoostingClassifier(learning_rate=0.025, max_depth=8, early_stopping=True)\n",
    "GB.fit(X_train, y_train)\n",
    "\n",
    "y_pred2 = GB.predict(X_test)\n",
    "print(classification_report(y_test, y_pred2, digits=5))"
   ],
   "metadata": {
    "collapsed": false,
    "ExecuteTime": {
     "end_time": "2024-03-23T11:38:00.730485Z",
     "start_time": "2024-03-23T11:37:46.359442Z"
    }
   },
   "id": "e8c546df9b49815e",
   "execution_count": 320
  },
  {
   "cell_type": "markdown",
   "source": [
    "### Submission"
   ],
   "metadata": {
    "collapsed": false
   },
   "id": "94242535fb9b0385"
  },
  {
   "cell_type": "code",
   "outputs": [
    {
     "data": {
      "text/plain": "         0\n0      0.0\n1      2.0\n2      0.0\n3      0.0\n4      0.0\n...    ...\n25363  0.0\n25364  0.0\n25365  0.0\n25366  0.0\n25367  0.0\n\n[25368 rows x 1 columns]",
      "text/html": "<div>\n<style scoped>\n    .dataframe tbody tr th:only-of-type {\n        vertical-align: middle;\n    }\n\n    .dataframe tbody tr th {\n        vertical-align: top;\n    }\n\n    .dataframe thead th {\n        text-align: right;\n    }\n</style>\n<table border=\"1\" class=\"dataframe\">\n  <thead>\n    <tr style=\"text-align: right;\">\n      <th></th>\n      <th>0</th>\n    </tr>\n  </thead>\n  <tbody>\n    <tr>\n      <th>0</th>\n      <td>0.0</td>\n    </tr>\n    <tr>\n      <th>1</th>\n      <td>2.0</td>\n    </tr>\n    <tr>\n      <th>2</th>\n      <td>0.0</td>\n    </tr>\n    <tr>\n      <th>3</th>\n      <td>0.0</td>\n    </tr>\n    <tr>\n      <th>4</th>\n      <td>0.0</td>\n    </tr>\n    <tr>\n      <th>...</th>\n      <td>...</td>\n    </tr>\n    <tr>\n      <th>25363</th>\n      <td>0.0</td>\n    </tr>\n    <tr>\n      <th>25364</th>\n      <td>0.0</td>\n    </tr>\n    <tr>\n      <th>25365</th>\n      <td>0.0</td>\n    </tr>\n    <tr>\n      <th>25366</th>\n      <td>0.0</td>\n    </tr>\n    <tr>\n      <th>25367</th>\n      <td>0.0</td>\n    </tr>\n  </tbody>\n</table>\n<p>25368 rows × 1 columns</p>\n</div>"
     },
     "execution_count": 321,
     "metadata": {},
     "output_type": "execute_result"
    }
   ],
   "source": [
    "predictions = GB.predict(X_test_standard_without_NaN)\n",
    "predictions = pd.DataFrame(predictions)\n",
    "predictions"
   ],
   "metadata": {
    "collapsed": false,
    "ExecuteTime": {
     "end_time": "2024-03-23T11:39:06.231584Z",
     "start_time": "2024-03-23T11:39:06.104926Z"
    }
   },
   "id": "9180ecd820b4cb99",
   "execution_count": 321
  },
  {
   "cell_type": "code",
   "outputs": [],
   "source": [
    "submission = pd.DataFrame(index=predictions.index)\n",
    "submission['HOME_WINS'] = 0\n",
    "submission['DRAW'] = 0\n",
    "submission['AWAY_WINS'] = 0\n",
    "\n",
    "submission = submission.join(predictions)\n",
    "submission.columns = [\"HOME_WINS\", \"DRAW\", \"AWAY_WINS\", 'INDEX']\n",
    "submission.loc[submission['INDEX']==0, 'HOME_WINS'] = 1\n",
    "submission.loc[submission['INDEX']==1, 'DRAW'] = 1\n",
    "submission.loc[submission['INDEX']==2, 'AWAY_WINS'] = 1\n",
    "\n",
    "submission = submission.drop(columns=['INDEX'])\n",
    "\n",
    "Y = pd.read_csv('Y_test_random_sEE2QeA.csv', index_col=0)\n",
    "\n",
    "submission.index = Y.index\n",
    "submission.to_csv('submission.csv', index=True)"
   ],
   "metadata": {
    "collapsed": false,
    "ExecuteTime": {
     "end_time": "2024-03-23T11:39:24.498082Z",
     "start_time": "2024-03-23T11:39:24.455403Z"
    }
   },
   "id": "8aa8d4f0fcd88eea",
   "execution_count": 322
  },
  {
   "cell_type": "markdown",
   "source": [
    "### AdaBoost Classifier"
   ],
   "metadata": {
    "collapsed": false
   },
   "id": "d9da18ea68599d19"
  },
  {
   "cell_type": "code",
   "outputs": [
    {
     "name": "stderr",
     "output_type": "stream",
     "text": [
      "/Users/mjolif/Documents/Data-Challenge-ENS/Football-matches-outcome-prediction/venv/lib/python3.11/site-packages/sklearn/ensemble/_weight_boosting.py:519: FutureWarning: The SAMME.R algorithm (the default) is deprecated and will be removed in 1.6. Use the SAMME algorithm to circumvent this warning.\n",
      "  warnings.warn(\n"
     ]
    },
    {
     "name": "stdout",
     "output_type": "stream",
     "text": [
      "              precision    recall  f1-score   support\n",
      "\n",
      "         0.0       0.52      0.73      0.61      1083\n",
      "         1.0       0.20      0.09      0.12       620\n",
      "         2.0       0.46      0.41      0.43       758\n",
      "\n",
      "    accuracy                           0.47      2461\n",
      "   macro avg       0.39      0.41      0.39      2461\n",
      "weighted avg       0.42      0.47      0.43      2461\n"
     ]
    }
   ],
   "source": [
    "ABC = AdaBoostClassifier()\n",
    "ABC.fit(X_train, y_train)\n",
    "\n",
    "y_pred3 = ABC.predict(X_test)\n",
    "print(classification_report(y_test, y_pred3))"
   ],
   "metadata": {
    "collapsed": false,
    "ExecuteTime": {
     "end_time": "2024-03-22T18:12:31.469143Z",
     "start_time": "2024-03-22T18:11:49.839540Z"
    }
   },
   "id": "5fe70caa623d4489",
   "execution_count": 206
  },
  {
   "cell_type": "markdown",
   "source": [
    "### Bagging Classifier"
   ],
   "metadata": {
    "collapsed": false
   },
   "id": "5c5a9696ff6ded16"
  },
  {
   "cell_type": "code",
   "outputs": [
    {
     "name": "stdout",
     "output_type": "stream",
     "text": [
      "              precision    recall  f1-score   support\n",
      "\n",
      "         0.0       0.49      0.66      0.56      1083\n",
      "         1.0       0.24      0.17      0.20       620\n",
      "         2.0       0.43      0.32      0.37       758\n",
      "\n",
      "    accuracy                           0.43      2461\n",
      "   macro avg       0.39      0.38      0.37      2461\n",
      "weighted avg       0.41      0.43      0.41      2461\n"
     ]
    }
   ],
   "source": [
    "Bg = BaggingClassifier()\n",
    "Bg.fit(X_train, y_train)\n",
    "\n",
    "y_pred3 = Bg.predict(X_test)\n",
    "print(classification_report(y_test, y_pred3))"
   ],
   "metadata": {
    "collapsed": false,
    "ExecuteTime": {
     "end_time": "2024-03-22T18:13:26.133989Z",
     "start_time": "2024-03-22T18:12:31.471345Z"
    }
   },
   "id": "beda989b641fae51",
   "execution_count": 207
  },
  {
   "cell_type": "markdown",
   "source": [
    "### RandomForest Classifier"
   ],
   "metadata": {
    "collapsed": false
   },
   "id": "8bff3432bdd41a12"
  },
  {
   "cell_type": "code",
   "outputs": [
    {
     "name": "stdout",
     "output_type": "stream",
     "text": [
      "              precision    recall  f1-score   support\n",
      "\n",
      "         0.0       0.46      0.88      0.60      1083\n",
      "         1.0       0.31      0.04      0.07       620\n",
      "         2.0       0.44      0.19      0.26       758\n",
      "\n",
      "    accuracy                           0.45      2461\n",
      "   macro avg       0.40      0.37      0.31      2461\n",
      "weighted avg       0.42      0.45      0.37      2461\n"
     ]
    }
   ],
   "source": [
    "RF = RandomForestClassifier()\n",
    "RF.fit(X_train, y_train)\n",
    "\n",
    "y_pred3 = RF.predict(X_test)\n",
    "print(classification_report(y_test, y_pred3))"
   ],
   "metadata": {
    "collapsed": false,
    "ExecuteTime": {
     "end_time": "2024-03-22T18:13:46.093154Z",
     "start_time": "2024-03-22T18:13:26.133994Z"
    }
   },
   "id": "d35da0b67117fbff",
   "execution_count": 208
  },
  {
   "cell_type": "markdown",
   "source": [
    "### MLP"
   ],
   "metadata": {
    "collapsed": false
   },
   "id": "8efcf4d1109eb419"
  },
  {
   "cell_type": "code",
   "outputs": [
    {
     "name": "stdout",
     "output_type": "stream",
     "text": [
      "              precision    recall  f1-score   support\n",
      "\n",
      "         0.0       0.51      0.54      0.52      1083\n",
      "         1.0       0.28      0.25      0.26       620\n",
      "         2.0       0.39      0.39      0.39       758\n",
      "\n",
      "    accuracy                           0.42      2461\n",
      "   macro avg       0.39      0.39      0.39      2461\n",
      "weighted avg       0.41      0.42      0.42      2461\n"
     ]
    }
   ],
   "source": [
    "MLP = MLPClassifier(hidden_layer_sizes=(200,100,20,), activation='logistic', solver='adam')\n",
    "MLP.fit(X_train, y_train)\n",
    "\n",
    "y_pred = MLP.predict(X_test)\n",
    "print(classification_report(y_test, y_pred))"
   ],
   "metadata": {
    "collapsed": false,
    "ExecuteTime": {
     "end_time": "2024-03-22T18:14:08.842055Z",
     "start_time": "2024-03-22T18:13:46.096136Z"
    }
   },
   "id": "1f8646c66be9c89f",
   "execution_count": 209
  }
 ],
 "metadata": {
  "kernelspec": {
   "display_name": "Python 3",
   "language": "python",
   "name": "python3"
  },
  "language_info": {
   "codemirror_mode": {
    "name": "ipython",
    "version": 2
   },
   "file_extension": ".py",
   "mimetype": "text/x-python",
   "name": "python",
   "nbconvert_exporter": "python",
   "pygments_lexer": "ipython2",
   "version": "2.7.6"
  }
 },
 "nbformat": 4,
 "nbformat_minor": 5
}
