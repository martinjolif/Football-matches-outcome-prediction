{
 "cells": [
  {
   "cell_type": "markdown",
   "source": [
    "### Libraries"
   ],
   "metadata": {
    "collapsed": false
   },
   "id": "217755627b10c351"
  },
  {
   "cell_type": "code",
   "outputs": [],
   "source": [
    "import pandas as pd\n",
    "import numpy as np\n",
    "from sklearn import preprocessing\n",
    "from sklearn import model_selection\n",
    "from sklearn.linear_model import LogisticRegression\n",
    "import xgboost as xgb\n",
    "import matplotlib.pyplot as plt\n",
    "from sklearn.metrics import accuracy_score, classification_report, confusion_matrix\n",
    "from sklearn.ensemble import RandomForestClassifier, HistGradientBoostingClassifier, AdaBoostClassifier, \\\n",
    "    BaggingClassifier, StackingClassifier\n",
    "from sklearn.decomposition import PCA\n",
    "from sklearn.impute import KNNImputer\n",
    "from sklearn.neural_network import MLPClassifier"
   ],
   "metadata": {
    "collapsed": true,
    "ExecuteTime": {
     "end_time": "2024-03-23T11:56:17.092259Z",
     "start_time": "2024-03-23T11:56:15.695426Z"
    }
   },
   "id": "initial_id",
   "execution_count": 1
  },
  {
   "cell_type": "markdown",
   "source": [
    "### Import Data"
   ],
   "metadata": {
    "collapsed": false
   },
   "id": "39673bbad8e9559c"
  },
  {
   "cell_type": "code",
   "outputs": [],
   "source": [
    "train_away_player_statistics_df = pd.read_csv('Train_Data/train_away_player_statistics_df.csv', index_col=0)\n",
    "train_away_team_statistics_df = pd.read_csv('Train_Data/train_away_team_statistics_df.csv', index_col=0)\n",
    "train_home_player_statistics_df = pd.read_csv('Train_Data/train_home_player_statistics_df.csv', index_col=0)\n",
    "train_home_team_statistics_df = pd.read_csv('Train_Data/train_home_team_statistics_df.csv', index_col=0)\n",
    "\n",
    "Y_train = pd.read_csv('Y_train_1rknArQ.csv', index_col=0)\n",
    "\n",
    "test_away_player_statistics_df = pd.read_csv('Test_Data/test_away_player_statistics_df.csv', index_col=0)\n",
    "test_away_team_statistics_df = pd.read_csv('Test_Data/test_away_team_statistics_df.csv', index_col=0)\n",
    "test_home_player_statistics_df = pd.read_csv('Test_Data/test_home_player_statistics_df.csv', index_col=0)\n",
    "test_home_team_statistics_df = pd.read_csv('Test_Data/test_home_team_statistics_df.csv', index_col=0)"
   ],
   "metadata": {
    "collapsed": false,
    "ExecuteTime": {
     "end_time": "2024-03-23T11:56:31.629269Z",
     "start_time": "2024-03-23T11:56:17.093281Z"
    }
   },
   "id": "d7f002c37f3eddce",
   "execution_count": 2
  },
  {
   "cell_type": "markdown",
   "source": [
    "### Train Data processing"
   ],
   "metadata": {
    "collapsed": false
   },
   "id": "48685008ce16b4a1"
  },
  {
   "cell_type": "markdown",
   "source": [
    "##### Remove some useless features"
   ],
   "metadata": {
    "collapsed": false
   },
   "id": "ca564119d49039ac"
  },
  {
   "cell_type": "code",
   "outputs": [],
   "source": [
    "train_away_player_statistics_drop_df = train_away_player_statistics_df.drop(labels=['PLAYER_NAME', 'PLAYER_CAPTAIN_season_sum', 'PLAYER_LONG_BALLS_season_sum', 'PLAYER_LONG_BALLS_WON_season_sum', 'PLAYER_SHOTS_OFF_TARGET_season_sum', 'PLAYER_CAPTAIN_season_average', 'PLAYER_PUNCHES_season_average', 'PLAYER_LONG_BALLS_season_average', 'PLAYER_LONG_BALLS_WON_season_average', 'PLAYER_SHOTS_OFF_TARGET_season_average', 'PLAYER_CAPTAIN_season_std', 'PLAYER_PUNCHES_season_std', 'PLAYER_LONG_BALLS_season_std', 'PLAYER_LONG_BALLS_WON_season_std', 'PLAYER_SHOTS_OFF_TARGET_season_std', 'PLAYER_CAPTAIN_5_last_match_sum', 'PLAYER_PUNCHES_5_last_match_sum', 'PLAYER_LONG_BALLS_5_last_match_sum', 'PLAYER_LONG_BALLS_WON_5_last_match_sum', 'PLAYER_SHOTS_OFF_TARGET_5_last_match_sum', 'PLAYER_CAPTAIN_5_last_match_average', 'PLAYER_PUNCHES_5_last_match_average', 'PLAYER_LONG_BALLS_5_last_match_average', 'PLAYER_LONG_BALLS_WON_5_last_match_average', 'PLAYER_SHOTS_OFF_TARGET_5_last_match_average', 'PLAYER_CAPTAIN_5_last_match_std', 'PLAYER_PUNCHES_5_last_match_std', 'PLAYER_LONG_BALLS_5_last_match_std', 'PLAYER_LONG_BALLS_WON_5_last_match_std', 'PLAYER_SHOTS_OFF_TARGET_5_last_match_std'], axis=1)\n",
    "\n",
    "train_home_player_statistics_drop_df= train_home_player_statistics_df.drop(labels=['PLAYER_NAME', 'PLAYER_CAPTAIN_season_sum', 'PLAYER_LONG_BALLS_season_sum', 'PLAYER_LONG_BALLS_WON_season_sum', 'PLAYER_SHOTS_OFF_TARGET_season_sum', 'PLAYER_CAPTAIN_season_average', 'PLAYER_PUNCHES_season_average', 'PLAYER_LONG_BALLS_season_average', 'PLAYER_LONG_BALLS_WON_season_average', 'PLAYER_SHOTS_OFF_TARGET_season_average', 'PLAYER_CAPTAIN_season_std', 'PLAYER_PUNCHES_season_std', 'PLAYER_LONG_BALLS_season_std', 'PLAYER_LONG_BALLS_WON_season_std', 'PLAYER_SHOTS_OFF_TARGET_season_std', 'PLAYER_CAPTAIN_5_last_match_sum', 'PLAYER_PUNCHES_5_last_match_sum', 'PLAYER_LONG_BALLS_5_last_match_sum', 'PLAYER_LONG_BALLS_WON_5_last_match_sum', 'PLAYER_SHOTS_OFF_TARGET_5_last_match_sum', 'PLAYER_CAPTAIN_5_last_match_average', 'PLAYER_PUNCHES_5_last_match_average', 'PLAYER_LONG_BALLS_5_last_match_average', 'PLAYER_LONG_BALLS_WON_5_last_match_average', 'PLAYER_SHOTS_OFF_TARGET_5_last_match_average', 'PLAYER_CAPTAIN_5_last_match_std', 'PLAYER_PUNCHES_5_last_match_std', 'PLAYER_LONG_BALLS_5_last_match_std', 'PLAYER_LONG_BALLS_WON_5_last_match_std', 'PLAYER_SHOTS_OFF_TARGET_5_last_match_std'], axis=1)"
   ],
   "metadata": {
    "collapsed": false,
    "ExecuteTime": {
     "end_time": "2024-03-23T11:56:32.044888Z",
     "start_time": "2024-03-23T11:56:31.629220Z"
    }
   },
   "id": "abea3882c0b54541",
   "execution_count": 3
  },
  {
   "cell_type": "code",
   "outputs": [],
   "source": [
    "train_home_team_statistics_drop_df = train_home_team_statistics_df.iloc[:,2:]\n",
    "train_away_team_statistics_drop_df = train_away_team_statistics_df.iloc[:,2:]\n",
    "\n",
    "train_home_team_statistics_drop_df.columns = 'HOME_' + train_home_team_statistics_drop_df.columns\n",
    "train_away_team_statistics_drop_df.columns = 'AWAY_' + train_away_team_statistics_drop_df.columns"
   ],
   "metadata": {
    "collapsed": false,
    "ExecuteTime": {
     "end_time": "2024-03-23T11:56:32.060130Z",
     "start_time": "2024-03-23T11:56:32.041229Z"
    }
   },
   "id": "77b23164437d083c",
   "execution_count": 4
  },
  {
   "cell_type": "code",
   "outputs": [],
   "source": [
    "train_home_player_statistics_drop2_df = train_home_player_statistics_drop_df.drop(columns=['POSITION', 'LEAGUE', 'TEAM_NAME'])\n",
    "\n",
    "train_away_player_statistics_drop2_df = train_away_player_statistics_drop_df.drop(columns=['POSITION', 'LEAGUE', 'TEAM_NAME'])"
   ],
   "metadata": {
    "collapsed": false,
    "ExecuteTime": {
     "end_time": "2024-03-23T11:56:32.431450Z",
     "start_time": "2024-03-23T11:56:32.054809Z"
    }
   },
   "id": "3abfbb4d40101bbc",
   "execution_count": 5
  },
  {
   "cell_type": "markdown",
   "source": [
    "##### Mean of the statistics of the players of each team"
   ],
   "metadata": {
    "collapsed": false
   },
   "id": "76822c11152c5ff"
  },
  {
   "cell_type": "code",
   "outputs": [],
   "source": [
    "train_home_player_statistics_groupbyID_df = train_home_player_statistics_drop2_df.groupby([\"ID\"]).mean()\n",
    "\n",
    "train_away_player_statistics_groupbyID_df = train_away_player_statistics_drop2_df.groupby([\"ID\"]).mean()"
   ],
   "metadata": {
    "collapsed": false,
    "ExecuteTime": {
     "end_time": "2024-03-23T11:56:32.813578Z",
     "start_time": "2024-03-23T11:56:32.433047Z"
    }
   },
   "id": "a8ac85ddf5a341d1",
   "execution_count": 6
  },
  {
   "cell_type": "code",
   "outputs": [],
   "source": [
    "train_home_player_statistics_groupbyID_df.columns = \"HOME_\" + train_home_player_statistics_groupbyID_df.columns\n",
    "\n",
    "train_away_player_statistics_groupbyID_df.columns = \"AWAY_\" + train_away_player_statistics_groupbyID_df.columns"
   ],
   "metadata": {
    "collapsed": false,
    "ExecuteTime": {
     "end_time": "2024-03-23T11:56:32.815486Z",
     "start_time": "2024-03-23T11:56:32.813199Z"
    }
   },
   "id": "b2361f49b8e8366c",
   "execution_count": 7
  },
  {
   "cell_type": "markdown",
   "source": [
    "##### Join the information about the players and the team together"
   ],
   "metadata": {
    "collapsed": false
   },
   "id": "3e06eb43eb89b4ef"
  },
  {
   "cell_type": "code",
   "outputs": [],
   "source": [
    "X_train_home = train_home_player_statistics_groupbyID_df.join(train_home_team_statistics_drop_df, on=['ID'], how='outer')\n",
    "\n",
    "X_train_away = train_away_player_statistics_groupbyID_df.join(train_away_team_statistics_drop_df, on=['ID'], how='outer')"
   ],
   "metadata": {
    "collapsed": false,
    "ExecuteTime": {
     "end_time": "2024-03-23T11:56:32.838072Z",
     "start_time": "2024-03-23T11:56:32.814705Z"
    }
   },
   "id": "22a43dcffe15dc97",
   "execution_count": 8
  },
  {
   "cell_type": "code",
   "outputs": [
    {
     "data": {
      "text/plain": "    HOME_PLAYER_ACCURATE_CROSSES_season_sum  \\\nID                                            \n0                                 10.222222   \n1                                  9.222222   \n2                                  8.434783   \n3                                  8.888889   \n4                                  9.722222   \n\n    HOME_PLAYER_ACCURATE_PASSES_season_sum  \\\nID                                           \n0                                21.333333   \n1                                31.555556   \n2                                16.608696   \n3                                34.055556   \n4                                25.888889   \n\n    HOME_PLAYER_AERIALS_WON_season_sum  HOME_PLAYER_ASSISTS_season_sum  \\\nID                                                                       \n0                            15.277778                        7.777778   \n1                            14.555556                       16.666667   \n2                            15.347826                        2.826087   \n3                            15.833333                       12.000000   \n4                            15.111111                        8.166667   \n\n    HOME_PLAYER_BIG_CHANCES_CREATED_season_sum  \\\nID                                               \n0                                     7.222222   \n1                                    10.277778   \n2                                     3.652174   \n3                                    14.444444   \n4                                     9.500000   \n\n    HOME_PLAYER_BIG_CHANCES_MISSED_season_sum  \\\nID                                              \n0                                    6.166667   \n1                                    9.000000   \n2                                    3.869565   \n3                                    8.722222   \n4                                   10.666667   \n\n    HOME_PLAYER_BLOCKED_SHOTS_season_sum  HOME_PLAYER_CLEARANCES_season_sum  \\\nID                                                                            \n0                               9.222222                          16.722222   \n1                              11.888889                          17.166667   \n2                               8.826087                          12.826087   \n3                               7.444444                          19.333333   \n4                               9.611111                          17.555556   \n\n    HOME_PLAYER_CLEARANCE_OFFLINE_season_sum  \\\nID                                             \n0                                   2.777778   \n1                                   2.777778   \n2                                   0.000000   \n3                                   4.166667   \n4                                   0.000000   \n\n    HOME_PLAYER_DISPOSSESSED_season_sum  ...  \\\nID                                       ...   \n0                             17.611111  ...   \n1                             21.000000  ...   \n2                              9.869565  ...   \n3                              9.388889  ...   \n4                             11.277778  ...   \n\n    HOME_TEAM_YELLOWCARDS_5_last_match_std  \\\nID                                           \n0                                      3.0   \n1                                      4.0   \n2                                      4.0   \n3                                      4.0   \n4                                      1.0   \n\n    HOME_TEAM_REDCARDS_5_last_match_std  HOME_TEAM_OFFSIDES_5_last_match_std  \\\nID                                                                             \n0                                   0.0                                  6.0   \n1                                   0.0                                  4.0   \n2                                   5.0                                  6.0   \n3                                   0.0                                  1.0   \n4                                   0.0                                  2.0   \n\n    HOME_TEAM_ATTACKS_5_last_match_std  HOME_TEAM_PENALTIES_5_last_match_std  \\\nID                                                                             \n0                                  0.0                                  10.0   \n1                                  3.0                                  10.0   \n2                                  3.0                                   6.0   \n3                                  8.0                                   8.0   \n4                                  5.0                                   8.0   \n\n    HOME_TEAM_SUBSTITUTIONS_5_last_match_std  \\\nID                                             \n0                                        8.0   \n1                                        0.0   \n2                                        7.0   \n3                                        5.0   \n4                                        7.0   \n\n    HOME_TEAM_BALL_SAFE_5_last_match_std  \\\nID                                         \n0                                    7.0   \n1                                    1.0   \n2                                    2.0   \n3                                    5.0   \n4                                    2.0   \n\n    HOME_TEAM_DANGEROUS_ATTACKS_5_last_match_std  \\\nID                                                 \n0                                            2.0   \n1                                            2.0   \n2                                            3.0   \n3                                            5.0   \n4                                            6.0   \n\n    HOME_TEAM_INJURIES_5_last_match_std  HOME_TEAM_GOALS_5_last_match_std  \nID                                                                         \n0                                   4.0                               3.0  \n1                                   8.0                               4.0  \n2                                   2.0                               4.0  \n3                                   NaN                               6.0  \n4                                   4.0                               4.0  \n\n[5 rows x 413 columns]",
      "text/html": "<div>\n<style scoped>\n    .dataframe tbody tr th:only-of-type {\n        vertical-align: middle;\n    }\n\n    .dataframe tbody tr th {\n        vertical-align: top;\n    }\n\n    .dataframe thead th {\n        text-align: right;\n    }\n</style>\n<table border=\"1\" class=\"dataframe\">\n  <thead>\n    <tr style=\"text-align: right;\">\n      <th></th>\n      <th>HOME_PLAYER_ACCURATE_CROSSES_season_sum</th>\n      <th>HOME_PLAYER_ACCURATE_PASSES_season_sum</th>\n      <th>HOME_PLAYER_AERIALS_WON_season_sum</th>\n      <th>HOME_PLAYER_ASSISTS_season_sum</th>\n      <th>HOME_PLAYER_BIG_CHANCES_CREATED_season_sum</th>\n      <th>HOME_PLAYER_BIG_CHANCES_MISSED_season_sum</th>\n      <th>HOME_PLAYER_BLOCKED_SHOTS_season_sum</th>\n      <th>HOME_PLAYER_CLEARANCES_season_sum</th>\n      <th>HOME_PLAYER_CLEARANCE_OFFLINE_season_sum</th>\n      <th>HOME_PLAYER_DISPOSSESSED_season_sum</th>\n      <th>...</th>\n      <th>HOME_TEAM_YELLOWCARDS_5_last_match_std</th>\n      <th>HOME_TEAM_REDCARDS_5_last_match_std</th>\n      <th>HOME_TEAM_OFFSIDES_5_last_match_std</th>\n      <th>HOME_TEAM_ATTACKS_5_last_match_std</th>\n      <th>HOME_TEAM_PENALTIES_5_last_match_std</th>\n      <th>HOME_TEAM_SUBSTITUTIONS_5_last_match_std</th>\n      <th>HOME_TEAM_BALL_SAFE_5_last_match_std</th>\n      <th>HOME_TEAM_DANGEROUS_ATTACKS_5_last_match_std</th>\n      <th>HOME_TEAM_INJURIES_5_last_match_std</th>\n      <th>HOME_TEAM_GOALS_5_last_match_std</th>\n    </tr>\n    <tr>\n      <th>ID</th>\n      <th></th>\n      <th></th>\n      <th></th>\n      <th></th>\n      <th></th>\n      <th></th>\n      <th></th>\n      <th></th>\n      <th></th>\n      <th></th>\n      <th></th>\n      <th></th>\n      <th></th>\n      <th></th>\n      <th></th>\n      <th></th>\n      <th></th>\n      <th></th>\n      <th></th>\n      <th></th>\n      <th></th>\n    </tr>\n  </thead>\n  <tbody>\n    <tr>\n      <th>0</th>\n      <td>10.222222</td>\n      <td>21.333333</td>\n      <td>15.277778</td>\n      <td>7.777778</td>\n      <td>7.222222</td>\n      <td>6.166667</td>\n      <td>9.222222</td>\n      <td>16.722222</td>\n      <td>2.777778</td>\n      <td>17.611111</td>\n      <td>...</td>\n      <td>3.0</td>\n      <td>0.0</td>\n      <td>6.0</td>\n      <td>0.0</td>\n      <td>10.0</td>\n      <td>8.0</td>\n      <td>7.0</td>\n      <td>2.0</td>\n      <td>4.0</td>\n      <td>3.0</td>\n    </tr>\n    <tr>\n      <th>1</th>\n      <td>9.222222</td>\n      <td>31.555556</td>\n      <td>14.555556</td>\n      <td>16.666667</td>\n      <td>10.277778</td>\n      <td>9.000000</td>\n      <td>11.888889</td>\n      <td>17.166667</td>\n      <td>2.777778</td>\n      <td>21.000000</td>\n      <td>...</td>\n      <td>4.0</td>\n      <td>0.0</td>\n      <td>4.0</td>\n      <td>3.0</td>\n      <td>10.0</td>\n      <td>0.0</td>\n      <td>1.0</td>\n      <td>2.0</td>\n      <td>8.0</td>\n      <td>4.0</td>\n    </tr>\n    <tr>\n      <th>2</th>\n      <td>8.434783</td>\n      <td>16.608696</td>\n      <td>15.347826</td>\n      <td>2.826087</td>\n      <td>3.652174</td>\n      <td>3.869565</td>\n      <td>8.826087</td>\n      <td>12.826087</td>\n      <td>0.000000</td>\n      <td>9.869565</td>\n      <td>...</td>\n      <td>4.0</td>\n      <td>5.0</td>\n      <td>6.0</td>\n      <td>3.0</td>\n      <td>6.0</td>\n      <td>7.0</td>\n      <td>2.0</td>\n      <td>3.0</td>\n      <td>2.0</td>\n      <td>4.0</td>\n    </tr>\n    <tr>\n      <th>3</th>\n      <td>8.888889</td>\n      <td>34.055556</td>\n      <td>15.833333</td>\n      <td>12.000000</td>\n      <td>14.444444</td>\n      <td>8.722222</td>\n      <td>7.444444</td>\n      <td>19.333333</td>\n      <td>4.166667</td>\n      <td>9.388889</td>\n      <td>...</td>\n      <td>4.0</td>\n      <td>0.0</td>\n      <td>1.0</td>\n      <td>8.0</td>\n      <td>8.0</td>\n      <td>5.0</td>\n      <td>5.0</td>\n      <td>5.0</td>\n      <td>NaN</td>\n      <td>6.0</td>\n    </tr>\n    <tr>\n      <th>4</th>\n      <td>9.722222</td>\n      <td>25.888889</td>\n      <td>15.111111</td>\n      <td>8.166667</td>\n      <td>9.500000</td>\n      <td>10.666667</td>\n      <td>9.611111</td>\n      <td>17.555556</td>\n      <td>0.000000</td>\n      <td>11.277778</td>\n      <td>...</td>\n      <td>1.0</td>\n      <td>0.0</td>\n      <td>2.0</td>\n      <td>5.0</td>\n      <td>8.0</td>\n      <td>7.0</td>\n      <td>2.0</td>\n      <td>6.0</td>\n      <td>4.0</td>\n      <td>4.0</td>\n    </tr>\n  </tbody>\n</table>\n<p>5 rows × 413 columns</p>\n</div>"
     },
     "execution_count": 9,
     "metadata": {},
     "output_type": "execute_result"
    }
   ],
   "source": [
    "X_train_home.head()"
   ],
   "metadata": {
    "collapsed": false,
    "ExecuteTime": {
     "end_time": "2024-03-23T11:56:32.858736Z",
     "start_time": "2024-03-23T11:56:32.841800Z"
    }
   },
   "id": "afe04dce695fc4c",
   "execution_count": 9
  },
  {
   "cell_type": "markdown",
   "source": [
    "##### Join the information about home and away team"
   ],
   "metadata": {
    "collapsed": false
   },
   "id": "6fe8ac49916a1f4b"
  },
  {
   "cell_type": "code",
   "outputs": [],
   "source": [
    "X_train =  pd.concat([X_train_home,X_train_away],join='outer',axis=1)\n",
    "Y_train = Y_train.loc[X_train.index]\n",
    "\n",
    "X_train = X_train.replace({np.inf:np.nan,-np.inf:np.nan})"
   ],
   "metadata": {
    "collapsed": false,
    "ExecuteTime": {
     "end_time": "2024-02-25T14:04:27.559230Z",
     "start_time": "2024-02-25T14:04:27.464597Z"
    }
   },
   "id": "4161fa8b711163b8",
   "execution_count": 29
  },
  {
   "cell_type": "code",
   "outputs": [],
   "source": [
    "columns_name = X_train.columns"
   ],
   "metadata": {
    "collapsed": false,
    "ExecuteTime": {
     "end_time": "2024-02-25T14:04:27.564763Z",
     "start_time": "2024-02-25T14:04:27.559370Z"
    }
   },
   "id": "983595f3c07e5066",
   "execution_count": 30
  },
  {
   "cell_type": "code",
   "outputs": [
    {
     "data": {
      "text/plain": "    HOME_PLAYER_ACCURATE_CROSSES_season_sum  \\\nID                                            \n0                                 10.222222   \n1                                  9.222222   \n2                                  8.434783   \n3                                  8.888889   \n4                                  9.722222   \n\n    HOME_PLAYER_ACCURATE_PASSES_season_sum  \\\nID                                           \n0                                21.333333   \n1                                31.555556   \n2                                16.608696   \n3                                34.055556   \n4                                25.888889   \n\n    HOME_PLAYER_AERIALS_WON_season_sum  HOME_PLAYER_ASSISTS_season_sum  \\\nID                                                                       \n0                            15.277778                        7.777778   \n1                            14.555556                       16.666667   \n2                            15.347826                        2.826087   \n3                            15.833333                       12.000000   \n4                            15.111111                        8.166667   \n\n    HOME_PLAYER_BIG_CHANCES_CREATED_season_sum  \\\nID                                               \n0                                     7.222222   \n1                                    10.277778   \n2                                     3.652174   \n3                                    14.444444   \n4                                     9.500000   \n\n    HOME_PLAYER_BIG_CHANCES_MISSED_season_sum  \\\nID                                              \n0                                    6.166667   \n1                                    9.000000   \n2                                    3.869565   \n3                                    8.722222   \n4                                   10.666667   \n\n    HOME_PLAYER_BLOCKED_SHOTS_season_sum  HOME_PLAYER_CLEARANCES_season_sum  \\\nID                                                                            \n0                               9.222222                          16.722222   \n1                              11.888889                          17.166667   \n2                               8.826087                          12.826087   \n3                               7.444444                          19.333333   \n4                               9.611111                          17.555556   \n\n    HOME_PLAYER_CLEARANCE_OFFLINE_season_sum  \\\nID                                             \n0                                   2.777778   \n1                                   2.777778   \n2                                   0.000000   \n3                                   4.166667   \n4                                   0.000000   \n\n    HOME_PLAYER_DISPOSSESSED_season_sum  ...  \\\nID                                       ...   \n0                             17.611111  ...   \n1                             21.000000  ...   \n2                              9.869565  ...   \n3                              9.388889  ...   \n4                             11.277778  ...   \n\n    AWAY_TEAM_YELLOWCARDS_5_last_match_std  \\\nID                                           \n0                                      5.0   \n1                                      0.0   \n2                                      6.0   \n3                                      0.0   \n4                                      1.0   \n\n    AWAY_TEAM_REDCARDS_5_last_match_std  AWAY_TEAM_OFFSIDES_5_last_match_std  \\\nID                                                                             \n0                                   5.0                                  4.0   \n1                                   0.0                                  3.0   \n2                                  10.0                                  4.0   \n3                                   0.0                                  1.0   \n4                                   0.0                                  4.0   \n\n    AWAY_TEAM_ATTACKS_5_last_match_std  AWAY_TEAM_PENALTIES_5_last_match_std  \\\nID                                                                             \n0                                  0.0                                   6.0   \n1                                  1.0                                   8.0   \n2                                  4.0                                   0.0   \n3                                  2.0                                   0.0   \n4                                  4.0                                   9.0   \n\n    AWAY_TEAM_SUBSTITUTIONS_5_last_match_std  \\\nID                                             \n0                                        8.0   \n1                                        4.0   \n2                                        8.0   \n3                                        5.0   \n4                                        4.0   \n\n    AWAY_TEAM_BALL_SAFE_5_last_match_std  \\\nID                                         \n0                                    4.0   \n1                                   10.0   \n2                                    3.0   \n3                                    6.0   \n4                                    1.0   \n\n    AWAY_TEAM_DANGEROUS_ATTACKS_5_last_match_std  \\\nID                                                 \n0                                            3.0   \n1                                            0.0   \n2                                            0.0   \n3                                            3.0   \n4                                            4.0   \n\n    AWAY_TEAM_INJURIES_5_last_match_std  AWAY_TEAM_GOALS_5_last_match_std  \nID                                                                         \n0                                   2.0                               3.0  \n1                                   5.0                               3.0  \n2                                   9.0                               6.0  \n3                                   NaN                               2.0  \n4                                   6.0                               5.0  \n\n[5 rows x 826 columns]",
      "text/html": "<div>\n<style scoped>\n    .dataframe tbody tr th:only-of-type {\n        vertical-align: middle;\n    }\n\n    .dataframe tbody tr th {\n        vertical-align: top;\n    }\n\n    .dataframe thead th {\n        text-align: right;\n    }\n</style>\n<table border=\"1\" class=\"dataframe\">\n  <thead>\n    <tr style=\"text-align: right;\">\n      <th></th>\n      <th>HOME_PLAYER_ACCURATE_CROSSES_season_sum</th>\n      <th>HOME_PLAYER_ACCURATE_PASSES_season_sum</th>\n      <th>HOME_PLAYER_AERIALS_WON_season_sum</th>\n      <th>HOME_PLAYER_ASSISTS_season_sum</th>\n      <th>HOME_PLAYER_BIG_CHANCES_CREATED_season_sum</th>\n      <th>HOME_PLAYER_BIG_CHANCES_MISSED_season_sum</th>\n      <th>HOME_PLAYER_BLOCKED_SHOTS_season_sum</th>\n      <th>HOME_PLAYER_CLEARANCES_season_sum</th>\n      <th>HOME_PLAYER_CLEARANCE_OFFLINE_season_sum</th>\n      <th>HOME_PLAYER_DISPOSSESSED_season_sum</th>\n      <th>...</th>\n      <th>AWAY_TEAM_YELLOWCARDS_5_last_match_std</th>\n      <th>AWAY_TEAM_REDCARDS_5_last_match_std</th>\n      <th>AWAY_TEAM_OFFSIDES_5_last_match_std</th>\n      <th>AWAY_TEAM_ATTACKS_5_last_match_std</th>\n      <th>AWAY_TEAM_PENALTIES_5_last_match_std</th>\n      <th>AWAY_TEAM_SUBSTITUTIONS_5_last_match_std</th>\n      <th>AWAY_TEAM_BALL_SAFE_5_last_match_std</th>\n      <th>AWAY_TEAM_DANGEROUS_ATTACKS_5_last_match_std</th>\n      <th>AWAY_TEAM_INJURIES_5_last_match_std</th>\n      <th>AWAY_TEAM_GOALS_5_last_match_std</th>\n    </tr>\n    <tr>\n      <th>ID</th>\n      <th></th>\n      <th></th>\n      <th></th>\n      <th></th>\n      <th></th>\n      <th></th>\n      <th></th>\n      <th></th>\n      <th></th>\n      <th></th>\n      <th></th>\n      <th></th>\n      <th></th>\n      <th></th>\n      <th></th>\n      <th></th>\n      <th></th>\n      <th></th>\n      <th></th>\n      <th></th>\n      <th></th>\n    </tr>\n  </thead>\n  <tbody>\n    <tr>\n      <th>0</th>\n      <td>10.222222</td>\n      <td>21.333333</td>\n      <td>15.277778</td>\n      <td>7.777778</td>\n      <td>7.222222</td>\n      <td>6.166667</td>\n      <td>9.222222</td>\n      <td>16.722222</td>\n      <td>2.777778</td>\n      <td>17.611111</td>\n      <td>...</td>\n      <td>5.0</td>\n      <td>5.0</td>\n      <td>4.0</td>\n      <td>0.0</td>\n      <td>6.0</td>\n      <td>8.0</td>\n      <td>4.0</td>\n      <td>3.0</td>\n      <td>2.0</td>\n      <td>3.0</td>\n    </tr>\n    <tr>\n      <th>1</th>\n      <td>9.222222</td>\n      <td>31.555556</td>\n      <td>14.555556</td>\n      <td>16.666667</td>\n      <td>10.277778</td>\n      <td>9.000000</td>\n      <td>11.888889</td>\n      <td>17.166667</td>\n      <td>2.777778</td>\n      <td>21.000000</td>\n      <td>...</td>\n      <td>0.0</td>\n      <td>0.0</td>\n      <td>3.0</td>\n      <td>1.0</td>\n      <td>8.0</td>\n      <td>4.0</td>\n      <td>10.0</td>\n      <td>0.0</td>\n      <td>5.0</td>\n      <td>3.0</td>\n    </tr>\n    <tr>\n      <th>2</th>\n      <td>8.434783</td>\n      <td>16.608696</td>\n      <td>15.347826</td>\n      <td>2.826087</td>\n      <td>3.652174</td>\n      <td>3.869565</td>\n      <td>8.826087</td>\n      <td>12.826087</td>\n      <td>0.000000</td>\n      <td>9.869565</td>\n      <td>...</td>\n      <td>6.0</td>\n      <td>10.0</td>\n      <td>4.0</td>\n      <td>4.0</td>\n      <td>0.0</td>\n      <td>8.0</td>\n      <td>3.0</td>\n      <td>0.0</td>\n      <td>9.0</td>\n      <td>6.0</td>\n    </tr>\n    <tr>\n      <th>3</th>\n      <td>8.888889</td>\n      <td>34.055556</td>\n      <td>15.833333</td>\n      <td>12.000000</td>\n      <td>14.444444</td>\n      <td>8.722222</td>\n      <td>7.444444</td>\n      <td>19.333333</td>\n      <td>4.166667</td>\n      <td>9.388889</td>\n      <td>...</td>\n      <td>0.0</td>\n      <td>0.0</td>\n      <td>1.0</td>\n      <td>2.0</td>\n      <td>0.0</td>\n      <td>5.0</td>\n      <td>6.0</td>\n      <td>3.0</td>\n      <td>NaN</td>\n      <td>2.0</td>\n    </tr>\n    <tr>\n      <th>4</th>\n      <td>9.722222</td>\n      <td>25.888889</td>\n      <td>15.111111</td>\n      <td>8.166667</td>\n      <td>9.500000</td>\n      <td>10.666667</td>\n      <td>9.611111</td>\n      <td>17.555556</td>\n      <td>0.000000</td>\n      <td>11.277778</td>\n      <td>...</td>\n      <td>1.0</td>\n      <td>0.0</td>\n      <td>4.0</td>\n      <td>4.0</td>\n      <td>9.0</td>\n      <td>4.0</td>\n      <td>1.0</td>\n      <td>4.0</td>\n      <td>6.0</td>\n      <td>5.0</td>\n    </tr>\n  </tbody>\n</table>\n<p>5 rows × 826 columns</p>\n</div>"
     },
     "execution_count": 31,
     "metadata": {},
     "output_type": "execute_result"
    }
   ],
   "source": [
    "X_train.head()"
   ],
   "metadata": {
    "collapsed": false,
    "ExecuteTime": {
     "end_time": "2024-02-25T14:04:27.572010Z",
     "start_time": "2024-02-25T14:04:27.568522Z"
    }
   },
   "id": "3a9ef3eefd54c301",
   "execution_count": 31
  },
  {
   "cell_type": "code",
   "outputs": [
    {
     "data": {
      "text/plain": "    HOME_WINS  DRAW  AWAY_WINS\nID                            \n0           0     0          1\n1           0     1          0\n2           0     0          1\n3           1     0          0\n4           0     1          0",
      "text/html": "<div>\n<style scoped>\n    .dataframe tbody tr th:only-of-type {\n        vertical-align: middle;\n    }\n\n    .dataframe tbody tr th {\n        vertical-align: top;\n    }\n\n    .dataframe thead th {\n        text-align: right;\n    }\n</style>\n<table border=\"1\" class=\"dataframe\">\n  <thead>\n    <tr style=\"text-align: right;\">\n      <th></th>\n      <th>HOME_WINS</th>\n      <th>DRAW</th>\n      <th>AWAY_WINS</th>\n    </tr>\n    <tr>\n      <th>ID</th>\n      <th></th>\n      <th></th>\n      <th></th>\n    </tr>\n  </thead>\n  <tbody>\n    <tr>\n      <th>0</th>\n      <td>0</td>\n      <td>0</td>\n      <td>1</td>\n    </tr>\n    <tr>\n      <th>1</th>\n      <td>0</td>\n      <td>1</td>\n      <td>0</td>\n    </tr>\n    <tr>\n      <th>2</th>\n      <td>0</td>\n      <td>0</td>\n      <td>1</td>\n    </tr>\n    <tr>\n      <th>3</th>\n      <td>1</td>\n      <td>0</td>\n      <td>0</td>\n    </tr>\n    <tr>\n      <th>4</th>\n      <td>0</td>\n      <td>1</td>\n      <td>0</td>\n    </tr>\n  </tbody>\n</table>\n</div>"
     },
     "execution_count": 32,
     "metadata": {},
     "output_type": "execute_result"
    }
   ],
   "source": [
    "Y_train.head()"
   ],
   "metadata": {
    "collapsed": false,
    "ExecuteTime": {
     "end_time": "2024-02-25T14:04:27.574515Z",
     "start_time": "2024-02-25T14:04:27.572036Z"
    }
   },
   "id": "be18ec5d9ecf49bf",
   "execution_count": 32
  },
  {
   "cell_type": "markdown",
   "source": [
    "### Test Data processing"
   ],
   "metadata": {
    "collapsed": false
   },
   "id": "59ca468806d139fa"
  },
  {
   "cell_type": "markdown",
   "source": [
    "##### Remove some useless features"
   ],
   "metadata": {
    "collapsed": false
   },
   "id": "faf9960ca641f0a8"
  },
  {
   "cell_type": "code",
   "outputs": [],
   "source": [
    "test_away_player_statistics_drop_df = test_away_player_statistics_df.drop(labels=['PLAYER_CAPTAIN_season_sum', 'PLAYER_LONG_BALLS_season_sum', 'PLAYER_LONG_BALLS_WON_season_sum', 'PLAYER_SHOTS_OFF_TARGET_season_sum', 'PLAYER_CAPTAIN_season_average', 'PLAYER_PUNCHES_season_average', 'PLAYER_LONG_BALLS_season_average', 'PLAYER_LONG_BALLS_WON_season_average', 'PLAYER_SHOTS_OFF_TARGET_season_average', 'PLAYER_CAPTAIN_season_std', 'PLAYER_PUNCHES_season_std', 'PLAYER_LONG_BALLS_season_std', 'PLAYER_LONG_BALLS_WON_season_std', 'PLAYER_SHOTS_OFF_TARGET_season_std', 'PLAYER_CAPTAIN_5_last_match_sum', 'PLAYER_PUNCHES_5_last_match_sum', 'PLAYER_LONG_BALLS_5_last_match_sum', 'PLAYER_LONG_BALLS_WON_5_last_match_sum', 'PLAYER_SHOTS_OFF_TARGET_5_last_match_sum', 'PLAYER_CAPTAIN_5_last_match_average', 'PLAYER_PUNCHES_5_last_match_average', 'PLAYER_LONG_BALLS_5_last_match_average', 'PLAYER_LONG_BALLS_WON_5_last_match_average', 'PLAYER_SHOTS_OFF_TARGET_5_last_match_average', 'PLAYER_CAPTAIN_5_last_match_std', 'PLAYER_PUNCHES_5_last_match_std', 'PLAYER_LONG_BALLS_5_last_match_std', 'PLAYER_LONG_BALLS_WON_5_last_match_std', 'PLAYER_SHOTS_OFF_TARGET_5_last_match_std'], axis=1)\n",
    "\n",
    "test_home_player_statistics_drop_df = test_home_player_statistics_df.drop(labels=['PLAYER_CAPTAIN_season_sum', 'PLAYER_LONG_BALLS_season_sum', 'PLAYER_LONG_BALLS_WON_season_sum', 'PLAYER_SHOTS_OFF_TARGET_season_sum', 'PLAYER_CAPTAIN_season_average', 'PLAYER_PUNCHES_season_average', 'PLAYER_LONG_BALLS_season_average', 'PLAYER_LONG_BALLS_WON_season_average', 'PLAYER_SHOTS_OFF_TARGET_season_average', 'PLAYER_CAPTAIN_season_std', 'PLAYER_PUNCHES_season_std', 'PLAYER_LONG_BALLS_season_std', 'PLAYER_LONG_BALLS_WON_season_std', 'PLAYER_SHOTS_OFF_TARGET_season_std', 'PLAYER_CAPTAIN_5_last_match_sum', 'PLAYER_PUNCHES_5_last_match_sum', 'PLAYER_LONG_BALLS_5_last_match_sum', 'PLAYER_LONG_BALLS_WON_5_last_match_sum', 'PLAYER_SHOTS_OFF_TARGET_5_last_match_sum', 'PLAYER_CAPTAIN_5_last_match_average', 'PLAYER_PUNCHES_5_last_match_average', 'PLAYER_LONG_BALLS_5_last_match_average', 'PLAYER_LONG_BALLS_WON_5_last_match_average', 'PLAYER_SHOTS_OFF_TARGET_5_last_match_average', 'PLAYER_CAPTAIN_5_last_match_std', 'PLAYER_PUNCHES_5_last_match_std', 'PLAYER_LONG_BALLS_5_last_match_std', 'PLAYER_LONG_BALLS_WON_5_last_match_std', 'PLAYER_SHOTS_OFF_TARGET_5_last_match_std'], axis=1)"
   ],
   "metadata": {
    "collapsed": false,
    "ExecuteTime": {
     "end_time": "2024-02-25T14:04:28.518147Z",
     "start_time": "2024-02-25T14:04:27.575668Z"
    }
   },
   "id": "9f29852bed203d4c",
   "execution_count": 33
  },
  {
   "cell_type": "code",
   "outputs": [],
   "source": [
    "test_home_player_statistics_drop2_df = test_home_player_statistics_drop_df.drop(columns=['POSITION'])\n",
    "\n",
    "test_away_player_statistics_drop2_df = test_away_player_statistics_drop_df.drop(columns=['POSITION'])"
   ],
   "metadata": {
    "collapsed": false,
    "ExecuteTime": {
     "end_time": "2024-02-25T14:04:29.378075Z",
     "start_time": "2024-02-25T14:04:28.518307Z"
    }
   },
   "id": "1f907bb8715ab026",
   "execution_count": 34
  },
  {
   "cell_type": "markdown",
   "source": [
    "##### Mean of the statistics of the players of each team"
   ],
   "metadata": {
    "collapsed": false
   },
   "id": "69574ea2c6ecebc"
  },
  {
   "cell_type": "code",
   "outputs": [],
   "source": [
    "test_home_player_statistics_groupbyID_df = test_home_player_statistics_drop2_df.groupby([\"ID\"]).mean()\n",
    "\n",
    "test_away_player_statistics_groupbyID_df = test_away_player_statistics_drop2_df.groupby([\"ID\"]).mean()"
   ],
   "metadata": {
    "collapsed": false,
    "ExecuteTime": {
     "end_time": "2024-02-25T14:04:30.187255Z",
     "start_time": "2024-02-25T14:04:29.378075Z"
    }
   },
   "id": "e4d5cecdc2a33f55",
   "execution_count": 35
  },
  {
   "cell_type": "code",
   "outputs": [],
   "source": [
    "test_home_team_statistics_df.columns = 'HOME_' + test_home_team_statistics_df.columns\n",
    "test_away_team_statistics_df.columns = 'AWAY_' + test_away_team_statistics_df.columns"
   ],
   "metadata": {
    "collapsed": false,
    "ExecuteTime": {
     "end_time": "2024-02-25T14:04:30.188083Z",
     "start_time": "2024-02-25T14:04:30.183618Z"
    }
   },
   "id": "5091882ed36821e7",
   "execution_count": 36
  },
  {
   "cell_type": "code",
   "outputs": [],
   "source": [
    "test_home_player_statistics_groupbyID_df.columns = \"HOME_\" + test_home_player_statistics_groupbyID_df.columns\n",
    "\n",
    "test_away_player_statistics_groupbyID_df.columns = \"AWAY_\" + test_away_player_statistics_groupbyID_df.columns"
   ],
   "metadata": {
    "collapsed": false,
    "ExecuteTime": {
     "end_time": "2024-02-25T14:04:30.190097Z",
     "start_time": "2024-02-25T14:04:30.186464Z"
    }
   },
   "id": "721d33ec07a7eab8",
   "execution_count": 37
  },
  {
   "cell_type": "markdown",
   "source": [
    "##### Join the information about the players and the team together"
   ],
   "metadata": {
    "collapsed": false
   },
   "id": "78d1f0afa37abcfd"
  },
  {
   "cell_type": "code",
   "outputs": [],
   "source": [
    "X_test_home = test_home_player_statistics_groupbyID_df.join(test_home_team_statistics_df, on=['ID'], how='outer')\n",
    "\n",
    "X_test_away = test_away_player_statistics_groupbyID_df.join(test_away_team_statistics_df, on=['ID'], how='outer')"
   ],
   "metadata": {
    "collapsed": false,
    "ExecuteTime": {
     "end_time": "2024-02-25T14:04:30.238789Z",
     "start_time": "2024-02-25T14:04:30.192204Z"
    }
   },
   "id": "c4c12d25efe92c15",
   "execution_count": 38
  },
  {
   "cell_type": "markdown",
   "source": [
    "##### Join the information about the home and away team"
   ],
   "metadata": {
    "collapsed": false
   },
   "id": "4d2437ff473b2922"
  },
  {
   "cell_type": "code",
   "outputs": [],
   "source": [
    "X_test =  pd.concat([X_test_home,X_test_away],join='outer',axis=1)\n",
    "\n",
    "X_test = X_test.replace({np.inf:np.nan,-np.inf:np.nan})"
   ],
   "metadata": {
    "collapsed": false,
    "ExecuteTime": {
     "end_time": "2024-02-25T14:04:30.444411Z",
     "start_time": "2024-02-25T14:04:30.239137Z"
    }
   },
   "id": "6ff3f345e612988e",
   "execution_count": 39
  },
  {
   "cell_type": "code",
   "outputs": [
    {
     "data": {
      "text/plain": "       HOME_PLAYER_ACCURATE_CROSSES_season_sum  \\\nID                                               \n12303                                 8.818182   \n12304                                 6.444444   \n12305                                10.235294   \n12306                                 6.722222   \n12307                                 9.722222   \n\n       HOME_PLAYER_ACCURATE_PASSES_season_sum  \\\nID                                              \n12303                               20.272727   \n12304                               18.055556   \n12305                               27.529412   \n12306                               26.055556   \n12307                               15.833333   \n\n       HOME_PLAYER_AERIALS_WON_season_sum  HOME_PLAYER_ASSISTS_season_sum  \\\nID                                                                          \n12303                            8.136364                        8.181818   \n12304                           14.333333                        6.722222   \n12305                           11.882353                       19.647059   \n12306                           19.944444                       13.333333   \n12307                           15.277778                        6.222222   \n\n       HOME_PLAYER_BIG_CHANCES_CREATED_season_sum  \\\nID                                                  \n12303                                    6.363636   \n12304                                   10.833333   \n12305                                   17.882353   \n12306                                   13.944444   \n12307                                   12.388889   \n\n       HOME_PLAYER_BIG_CHANCES_MISSED_season_sum  \\\nID                                                 \n12303                                   2.000000   \n12304                                   5.222222   \n12305                                   8.823529   \n12306                                   9.222222   \n12307                                   8.222222   \n\n       HOME_PLAYER_BLOCKED_SHOTS_season_sum  \\\nID                                            \n12303                              8.727273   \n12304                             10.888889   \n12305                              8.882353   \n12306                              9.055556   \n12307                             11.777778   \n\n       HOME_PLAYER_CLEARANCES_season_sum  \\\nID                                         \n12303                           9.227273   \n12304                          11.166667   \n12305                          11.000000   \n12306                          12.000000   \n12307                          16.777778   \n\n       HOME_PLAYER_CLEARANCE_OFFLINE_season_sum  \\\nID                                                \n12303                                  0.000000   \n12304                                  1.833333   \n12305                                  2.941176   \n12306                                  1.833333   \n12307                                 13.888889   \n\n       HOME_PLAYER_DISPOSSESSED_season_sum  ...  \\\nID                                          ...   \n12303                            18.500000  ...   \n12304                            17.000000  ...   \n12305                            19.411765  ...   \n12306                            21.611111  ...   \n12307                            12.611111  ...   \n\n       AWAY_TEAM_YELLOWCARDS_5_last_match_std  \\\nID                                              \n12303                                     6.0   \n12304                                     0.0   \n12305                                    10.0   \n12306                                     1.0   \n12307                                     3.0   \n\n       AWAY_TEAM_REDCARDS_5_last_match_std  \\\nID                                           \n12303                                  0.0   \n12304                                  0.0   \n12305                                  0.0   \n12306                                  5.0   \n12307                                  0.0   \n\n       AWAY_TEAM_OFFSIDES_5_last_match_std  \\\nID                                           \n12303                                  1.0   \n12304                                  3.0   \n12305                                  0.0   \n12306                                  4.0   \n12307                                  6.0   \n\n       AWAY_TEAM_ATTACKS_5_last_match_std  \\\nID                                          \n12303                                 4.0   \n12304                                 6.0   \n12305                                 2.0   \n12306                                 5.0   \n12307                                 5.0   \n\n       AWAY_TEAM_PENALTIES_5_last_match_std  \\\nID                                            \n12303                                   0.0   \n12304                                   8.0   \n12305                                   0.0   \n12306                                  10.0   \n12307                                   0.0   \n\n       AWAY_TEAM_SUBSTITUTIONS_5_last_match_std  \\\nID                                                \n12303                                       8.0   \n12304                                       5.0   \n12305                                       4.0   \n12306                                       9.0   \n12307                                       4.0   \n\n       AWAY_TEAM_BALL_SAFE_5_last_match_std  \\\nID                                            \n12303                                   7.0   \n12304                                   1.0   \n12305                                   2.0   \n12306                                   6.0   \n12307                                   3.0   \n\n       AWAY_TEAM_DANGEROUS_ATTACKS_5_last_match_std  \\\nID                                                    \n12303                                           2.0   \n12304                                           1.0   \n12305                                           3.0   \n12306                                           9.0   \n12307                                          10.0   \n\n       AWAY_TEAM_INJURIES_5_last_match_std  AWAY_TEAM_GOALS_5_last_match_std  \nID                                                                            \n12303                                  7.0                               0.0  \n12304                                  7.0                               9.0  \n12305                                  NaN                               9.0  \n12306                                  7.0                               3.0  \n12307                                  3.0                               1.0  \n\n[5 rows x 826 columns]",
      "text/html": "<div>\n<style scoped>\n    .dataframe tbody tr th:only-of-type {\n        vertical-align: middle;\n    }\n\n    .dataframe tbody tr th {\n        vertical-align: top;\n    }\n\n    .dataframe thead th {\n        text-align: right;\n    }\n</style>\n<table border=\"1\" class=\"dataframe\">\n  <thead>\n    <tr style=\"text-align: right;\">\n      <th></th>\n      <th>HOME_PLAYER_ACCURATE_CROSSES_season_sum</th>\n      <th>HOME_PLAYER_ACCURATE_PASSES_season_sum</th>\n      <th>HOME_PLAYER_AERIALS_WON_season_sum</th>\n      <th>HOME_PLAYER_ASSISTS_season_sum</th>\n      <th>HOME_PLAYER_BIG_CHANCES_CREATED_season_sum</th>\n      <th>HOME_PLAYER_BIG_CHANCES_MISSED_season_sum</th>\n      <th>HOME_PLAYER_BLOCKED_SHOTS_season_sum</th>\n      <th>HOME_PLAYER_CLEARANCES_season_sum</th>\n      <th>HOME_PLAYER_CLEARANCE_OFFLINE_season_sum</th>\n      <th>HOME_PLAYER_DISPOSSESSED_season_sum</th>\n      <th>...</th>\n      <th>AWAY_TEAM_YELLOWCARDS_5_last_match_std</th>\n      <th>AWAY_TEAM_REDCARDS_5_last_match_std</th>\n      <th>AWAY_TEAM_OFFSIDES_5_last_match_std</th>\n      <th>AWAY_TEAM_ATTACKS_5_last_match_std</th>\n      <th>AWAY_TEAM_PENALTIES_5_last_match_std</th>\n      <th>AWAY_TEAM_SUBSTITUTIONS_5_last_match_std</th>\n      <th>AWAY_TEAM_BALL_SAFE_5_last_match_std</th>\n      <th>AWAY_TEAM_DANGEROUS_ATTACKS_5_last_match_std</th>\n      <th>AWAY_TEAM_INJURIES_5_last_match_std</th>\n      <th>AWAY_TEAM_GOALS_5_last_match_std</th>\n    </tr>\n    <tr>\n      <th>ID</th>\n      <th></th>\n      <th></th>\n      <th></th>\n      <th></th>\n      <th></th>\n      <th></th>\n      <th></th>\n      <th></th>\n      <th></th>\n      <th></th>\n      <th></th>\n      <th></th>\n      <th></th>\n      <th></th>\n      <th></th>\n      <th></th>\n      <th></th>\n      <th></th>\n      <th></th>\n      <th></th>\n      <th></th>\n    </tr>\n  </thead>\n  <tbody>\n    <tr>\n      <th>12303</th>\n      <td>8.818182</td>\n      <td>20.272727</td>\n      <td>8.136364</td>\n      <td>8.181818</td>\n      <td>6.363636</td>\n      <td>2.000000</td>\n      <td>8.727273</td>\n      <td>9.227273</td>\n      <td>0.000000</td>\n      <td>18.500000</td>\n      <td>...</td>\n      <td>6.0</td>\n      <td>0.0</td>\n      <td>1.0</td>\n      <td>4.0</td>\n      <td>0.0</td>\n      <td>8.0</td>\n      <td>7.0</td>\n      <td>2.0</td>\n      <td>7.0</td>\n      <td>0.0</td>\n    </tr>\n    <tr>\n      <th>12304</th>\n      <td>6.444444</td>\n      <td>18.055556</td>\n      <td>14.333333</td>\n      <td>6.722222</td>\n      <td>10.833333</td>\n      <td>5.222222</td>\n      <td>10.888889</td>\n      <td>11.166667</td>\n      <td>1.833333</td>\n      <td>17.000000</td>\n      <td>...</td>\n      <td>0.0</td>\n      <td>0.0</td>\n      <td>3.0</td>\n      <td>6.0</td>\n      <td>8.0</td>\n      <td>5.0</td>\n      <td>1.0</td>\n      <td>1.0</td>\n      <td>7.0</td>\n      <td>9.0</td>\n    </tr>\n    <tr>\n      <th>12305</th>\n      <td>10.235294</td>\n      <td>27.529412</td>\n      <td>11.882353</td>\n      <td>19.647059</td>\n      <td>17.882353</td>\n      <td>8.823529</td>\n      <td>8.882353</td>\n      <td>11.000000</td>\n      <td>2.941176</td>\n      <td>19.411765</td>\n      <td>...</td>\n      <td>10.0</td>\n      <td>0.0</td>\n      <td>0.0</td>\n      <td>2.0</td>\n      <td>0.0</td>\n      <td>4.0</td>\n      <td>2.0</td>\n      <td>3.0</td>\n      <td>NaN</td>\n      <td>9.0</td>\n    </tr>\n    <tr>\n      <th>12306</th>\n      <td>6.722222</td>\n      <td>26.055556</td>\n      <td>19.944444</td>\n      <td>13.333333</td>\n      <td>13.944444</td>\n      <td>9.222222</td>\n      <td>9.055556</td>\n      <td>12.000000</td>\n      <td>1.833333</td>\n      <td>21.611111</td>\n      <td>...</td>\n      <td>1.0</td>\n      <td>5.0</td>\n      <td>4.0</td>\n      <td>5.0</td>\n      <td>10.0</td>\n      <td>9.0</td>\n      <td>6.0</td>\n      <td>9.0</td>\n      <td>7.0</td>\n      <td>3.0</td>\n    </tr>\n    <tr>\n      <th>12307</th>\n      <td>9.722222</td>\n      <td>15.833333</td>\n      <td>15.277778</td>\n      <td>6.222222</td>\n      <td>12.388889</td>\n      <td>8.222222</td>\n      <td>11.777778</td>\n      <td>16.777778</td>\n      <td>13.888889</td>\n      <td>12.611111</td>\n      <td>...</td>\n      <td>3.0</td>\n      <td>0.0</td>\n      <td>6.0</td>\n      <td>5.0</td>\n      <td>0.0</td>\n      <td>4.0</td>\n      <td>3.0</td>\n      <td>10.0</td>\n      <td>3.0</td>\n      <td>1.0</td>\n    </tr>\n  </tbody>\n</table>\n<p>5 rows × 826 columns</p>\n</div>"
     },
     "execution_count": 40,
     "metadata": {},
     "output_type": "execute_result"
    }
   ],
   "source": [
    "X_test.head()"
   ],
   "metadata": {
    "collapsed": false,
    "ExecuteTime": {
     "end_time": "2024-02-25T14:04:30.452828Z",
     "start_time": "2024-02-25T14:04:30.445173Z"
    }
   },
   "id": "daf05d80a455f111",
   "execution_count": 40
  },
  {
   "cell_type": "markdown",
   "source": [
    "### Data normalisation "
   ],
   "metadata": {
    "collapsed": false
   },
   "id": "670f5e7fbe2f7523"
  },
  {
   "cell_type": "code",
   "outputs": [],
   "source": [
    "scaler = preprocessing.StandardScaler().fit(X_train)\n",
    "\n",
    "X_train_standard = scaler.transform(X_train)\n",
    "X_test_standard = scaler.transform(X_test)"
   ],
   "metadata": {
    "collapsed": false,
    "ExecuteTime": {
     "end_time": "2024-02-25T14:04:30.648224Z",
     "start_time": "2024-02-25T14:04:30.454941Z"
    }
   },
   "id": "df5de3df6f7acf2f",
   "execution_count": 41
  },
  {
   "cell_type": "code",
   "outputs": [],
   "source": [
    "imputer = KNNImputer(n_neighbors=50)\n",
    "\n",
    "X_train_standard_without_NaN = imputer.fit_transform(X_train_standard)\n",
    "X_test_standard_without_NaN = imputer.fit_transform(X_test_standard)"
   ],
   "metadata": {
    "collapsed": false,
    "ExecuteTime": {
     "end_time": "2024-02-25T14:21:48.222942Z",
     "start_time": "2024-02-25T14:04:30.622309Z"
    }
   },
   "id": "a98de35b99f1c1d",
   "execution_count": 42
  },
  {
   "cell_type": "code",
   "outputs": [],
   "source": [
    "pca = PCA(n_components=400, random_state=42)\n",
    "\n",
    "X_train_standard_without_NaN_PCA = pca.fit_transform(X_train_standard_without_NaN)\n",
    "X_test_standard_without_NaN_PCA = pca.transform(X_test_standard_without_NaN)"
   ],
   "metadata": {
    "collapsed": false,
    "ExecuteTime": {
     "end_time": "2024-02-25T14:21:54.002760Z",
     "start_time": "2024-02-25T14:21:48.223302Z"
    }
   },
   "id": "dce2b352b7f97ea4",
   "execution_count": 43
  },
  {
   "cell_type": "markdown",
   "source": [
    "### Model with the 3 outcome "
   ],
   "metadata": {
    "collapsed": false
   },
   "id": "6c6f42c4b4fea89"
  },
  {
   "cell_type": "code",
   "outputs": [],
   "source": [
    "Y_train_new = pd.DataFrame(index=Y_train.index)"
   ],
   "metadata": {
    "collapsed": false,
    "ExecuteTime": {
     "end_time": "2024-02-25T14:21:54.015533Z",
     "start_time": "2024-02-25T14:21:54.005760Z"
    }
   },
   "id": "f74a7e2a253cfa4c",
   "execution_count": 44
  },
  {
   "cell_type": "code",
   "outputs": [
    {
     "data": {
      "text/plain": "       RESULT\nID           \n0         2.0\n1         1.0\n2         2.0\n3         0.0\n4         1.0\n...       ...\n12298     2.0\n12299     2.0\n12300     2.0\n12301     0.0\n12302     0.0\n\n[12303 rows x 1 columns]",
      "text/html": "<div>\n<style scoped>\n    .dataframe tbody tr th:only-of-type {\n        vertical-align: middle;\n    }\n\n    .dataframe tbody tr th {\n        vertical-align: top;\n    }\n\n    .dataframe thead th {\n        text-align: right;\n    }\n</style>\n<table border=\"1\" class=\"dataframe\">\n  <thead>\n    <tr style=\"text-align: right;\">\n      <th></th>\n      <th>RESULT</th>\n    </tr>\n    <tr>\n      <th>ID</th>\n      <th></th>\n    </tr>\n  </thead>\n  <tbody>\n    <tr>\n      <th>0</th>\n      <td>2.0</td>\n    </tr>\n    <tr>\n      <th>1</th>\n      <td>1.0</td>\n    </tr>\n    <tr>\n      <th>2</th>\n      <td>2.0</td>\n    </tr>\n    <tr>\n      <th>3</th>\n      <td>0.0</td>\n    </tr>\n    <tr>\n      <th>4</th>\n      <td>1.0</td>\n    </tr>\n    <tr>\n      <th>...</th>\n      <td>...</td>\n    </tr>\n    <tr>\n      <th>12298</th>\n      <td>2.0</td>\n    </tr>\n    <tr>\n      <th>12299</th>\n      <td>2.0</td>\n    </tr>\n    <tr>\n      <th>12300</th>\n      <td>2.0</td>\n    </tr>\n    <tr>\n      <th>12301</th>\n      <td>0.0</td>\n    </tr>\n    <tr>\n      <th>12302</th>\n      <td>0.0</td>\n    </tr>\n  </tbody>\n</table>\n<p>12303 rows × 1 columns</p>\n</div>"
     },
     "execution_count": 45,
     "metadata": {},
     "output_type": "execute_result"
    }
   ],
   "source": [
    "Y_train_new.loc[Y_train['HOME_WINS']==1, 'RESULT'] = 0\n",
    "Y_train_new.loc[Y_train['DRAW']==1, 'RESULT'] = 1\n",
    "Y_train_new.loc[Y_train['AWAY_WINS'] ==1, 'RESULT'] = 2\n",
    "Y_train_new"
   ],
   "metadata": {
    "collapsed": false,
    "ExecuteTime": {
     "end_time": "2024-02-25T14:21:54.047760Z",
     "start_time": "2024-02-25T14:21:54.021078Z"
    }
   },
   "id": "59855f033499ae00",
   "execution_count": 45
  },
  {
   "cell_type": "markdown",
   "source": [
    "### train, valid test split\n"
   ],
   "metadata": {
    "collapsed": false
   },
   "id": "172bcdc46cbe237"
  },
  {
   "cell_type": "code",
   "outputs": [],
   "source": [
    "X_train, X_test, y_train, y_test = model_selection.train_test_split(X_train_standard_without_NaN_PCA, Y_train_new, test_size=0.2, random_state=42)"
   ],
   "metadata": {
    "collapsed": false,
    "ExecuteTime": {
     "end_time": "2024-02-25T14:21:54.072933Z",
     "start_time": "2024-02-25T14:21:54.036794Z"
    }
   },
   "id": "88fba6ff70caf4eb",
   "execution_count": 46
  },
  {
   "cell_type": "code",
   "outputs": [],
   "source": [
    "X_train = pd.DataFrame(X_train)\n",
    "#X_train.columns = columns_name\n",
    "#X_valid.columns = columns_name\n",
    "X_test = pd.DataFrame(X_test)\n",
    "#X_test.columns = columns_name"
   ],
   "metadata": {
    "collapsed": false,
    "ExecuteTime": {
     "end_time": "2024-02-25T14:21:54.074013Z",
     "start_time": "2024-02-25T14:21:54.047767Z"
    }
   },
   "id": "8a80bb2051b4ebca",
   "execution_count": 47
  },
  {
   "cell_type": "code",
   "outputs": [
    {
     "data": {
      "text/plain": "array([1., 1., 0., ..., 0., 0., 1.])"
     },
     "execution_count": 66,
     "metadata": {},
     "output_type": "execute_result"
    }
   ],
   "source": [
    "y_train = y_train.ravel()\n",
    "y_train"
   ],
   "metadata": {
    "collapsed": false,
    "ExecuteTime": {
     "end_time": "2024-02-25T14:28:47.770157Z",
     "start_time": "2024-02-25T14:28:47.741022Z"
    }
   },
   "id": "12ba02c12c5976a7",
   "execution_count": 66
  },
  {
   "cell_type": "markdown",
   "source": [
    "### Gradient Boosting with sklearn"
   ],
   "metadata": {
    "collapsed": false
   },
   "id": "c49987794c1c9fcd"
  },
  {
   "cell_type": "code",
   "outputs": [
    {
     "name": "stdout",
     "output_type": "stream",
     "text": [
      "              precision    recall  f1-score   support\n",
      "\n",
      "         0.0       0.51      0.83      0.63      1083\n",
      "         1.0       0.26      0.02      0.03       620\n",
      "         2.0       0.49      0.42      0.45       758\n",
      "\n",
      "    accuracy                           0.50      2461\n",
      "   macro avg       0.42      0.42      0.37      2461\n",
      "weighted avg       0.44      0.50      0.42      2461\n"
     ]
    }
   ],
   "source": [
    "GB = HistGradientBoostingClassifier(learning_rate=0.025, max_depth=8, early_stopping=True)\n",
    "GB.fit(X_train, y_train)\n",
    "\n",
    "y_pred2 = GB.predict(X_test)\n",
    "print(classification_report(y_test, y_pred2, digits=5))"
   ],
   "metadata": {
    "collapsed": false,
    "ExecuteTime": {
     "end_time": "2024-02-25T14:38:03.652114Z",
     "start_time": "2024-02-25T14:38:01.131235Z"
    }
   },
   "id": "e8c546df9b49815e",
   "execution_count": 79
  },
  {
   "cell_type": "markdown",
   "source": [
    "### Submission"
   ],
   "metadata": {
    "collapsed": false
   },
   "id": "94242535fb9b0385"
  },
  {
   "cell_type": "code",
   "outputs": [
    {
     "data": {
      "text/plain": "         0\n0      2.0\n1      2.0\n2      0.0\n3      0.0\n4      0.0\n...    ...\n25363  2.0\n25364  2.0\n25365  0.0\n25366  0.0\n25367  0.0\n\n[25368 rows x 1 columns]",
      "text/html": "<div>\n<style scoped>\n    .dataframe tbody tr th:only-of-type {\n        vertical-align: middle;\n    }\n\n    .dataframe tbody tr th {\n        vertical-align: top;\n    }\n\n    .dataframe thead th {\n        text-align: right;\n    }\n</style>\n<table border=\"1\" class=\"dataframe\">\n  <thead>\n    <tr style=\"text-align: right;\">\n      <th></th>\n      <th>0</th>\n    </tr>\n  </thead>\n  <tbody>\n    <tr>\n      <th>0</th>\n      <td>2.0</td>\n    </tr>\n    <tr>\n      <th>1</th>\n      <td>2.0</td>\n    </tr>\n    <tr>\n      <th>2</th>\n      <td>0.0</td>\n    </tr>\n    <tr>\n      <th>3</th>\n      <td>0.0</td>\n    </tr>\n    <tr>\n      <th>4</th>\n      <td>0.0</td>\n    </tr>\n    <tr>\n      <th>...</th>\n      <td>...</td>\n    </tr>\n    <tr>\n      <th>25363</th>\n      <td>2.0</td>\n    </tr>\n    <tr>\n      <th>25364</th>\n      <td>2.0</td>\n    </tr>\n    <tr>\n      <th>25365</th>\n      <td>0.0</td>\n    </tr>\n    <tr>\n      <th>25366</th>\n      <td>0.0</td>\n    </tr>\n    <tr>\n      <th>25367</th>\n      <td>0.0</td>\n    </tr>\n  </tbody>\n</table>\n<p>25368 rows × 1 columns</p>\n</div>"
     },
     "execution_count": 80,
     "metadata": {},
     "output_type": "execute_result"
    }
   ],
   "source": [
    "predictions = GB.predict(X_test_standard_without_NaN_PCA)\n",
    "predictions = pd.DataFrame(predictions)\n",
    "predictions.head()"
   ],
   "metadata": {
    "collapsed": false,
    "ExecuteTime": {
     "end_time": "2024-02-25T14:38:06.948199Z",
     "start_time": "2024-02-25T14:38:06.662790Z"
    }
   },
   "id": "9180ecd820b4cb99",
   "execution_count": 80
  },
  {
   "cell_type": "code",
   "outputs": [],
   "source": [
    "submission = pd.DataFrame(index=predictions.index)\n",
    "submission['HOME_WINS'] = 0\n",
    "submission['DRAW'] = 0\n",
    "submission['AWAY_WINS'] = 0\n",
    "\n",
    "submission = submission.join(predictions)\n",
    "submission.columns = [\"HOME_WINS\", \"DRAW\", \"AWAY_WINS\", 'INDEX']\n",
    "submission.loc[submission['INDEX']==0, 'HOME_WINS'] = 1\n",
    "submission.loc[submission['INDEX']==1, 'DRAW'] = 1\n",
    "submission.loc[submission['INDEX']==2, 'AWAY_WINS'] = 1\n",
    "\n",
    "submission = submission.drop(columns=['INDEX'])\n",
    "\n",
    "Y = pd.read_csv('Y_test_random_sEE2QeA.csv', index_col=0)\n",
    "\n",
    "submission.index = Y.index\n",
    "submission.to_csv('submission.csv', index=True)"
   ],
   "metadata": {
    "collapsed": false,
    "ExecuteTime": {
     "end_time": "2024-02-25T14:38:09.603990Z",
     "start_time": "2024-02-25T14:38:09.573044Z"
    }
   },
   "id": "8aa8d4f0fcd88eea",
   "execution_count": 81
  },
  {
   "cell_type": "markdown",
   "source": [
    "### AdaBoost Classifier"
   ],
   "metadata": {
    "collapsed": false
   },
   "id": "d9da18ea68599d19"
  },
  {
   "cell_type": "code",
   "outputs": [
    {
     "name": "stderr",
     "output_type": "stream",
     "text": [
      "/Users/mjolif/Documents/Data-Challenge-ENS/Football-matches-outcome-prediction/venv/lib/python3.11/site-packages/sklearn/ensemble/_weight_boosting.py:519: FutureWarning: The SAMME.R algorithm (the default) is deprecated and will be removed in 1.6. Use the SAMME algorithm to circumvent this warning.\n",
      "  warnings.warn(\n"
     ]
    },
    {
     "name": "stdout",
     "output_type": "stream",
     "text": [
      "              precision    recall  f1-score   support\n",
      "\n",
      "         0.0       0.51      0.71      0.59      1083\n",
      "         1.0       0.32      0.10      0.15       620\n",
      "         2.0       0.44      0.44      0.44       758\n",
      "\n",
      "    accuracy                           0.47      2461\n",
      "   macro avg       0.42      0.42      0.39      2461\n",
      "weighted avg       0.44      0.47      0.43      2461\n"
     ]
    }
   ],
   "source": [
    "ABC = AdaBoostClassifier()\n",
    "ABC.fit(X_train, y_train)\n",
    "\n",
    "y_pred3 = ABC.predict(X_test)\n",
    "print(classification_report(y_test, y_pred3))"
   ],
   "metadata": {
    "collapsed": false,
    "ExecuteTime": {
     "end_time": "2024-02-25T14:29:08.480122Z",
     "start_time": "2024-02-25T14:28:52.470983Z"
    }
   },
   "id": "5fe70caa623d4489",
   "execution_count": 68
  },
  {
   "cell_type": "markdown",
   "source": [
    "### Bagging Classifier"
   ],
   "metadata": {
    "collapsed": false
   },
   "id": "5c5a9696ff6ded16"
  },
  {
   "cell_type": "code",
   "outputs": [
    {
     "name": "stdout",
     "output_type": "stream",
     "text": [
      "              precision    recall  f1-score   support\n",
      "\n",
      "         0.0       0.50      0.67      0.57      1083\n",
      "         1.0       0.27      0.19      0.22       620\n",
      "         2.0       0.41      0.31      0.35       758\n",
      "\n",
      "    accuracy                           0.44      2461\n",
      "   macro avg       0.39      0.39      0.38      2461\n",
      "weighted avg       0.41      0.44      0.41      2461\n"
     ]
    }
   ],
   "source": [
    "Bg = BaggingClassifier()\n",
    "Bg.fit(X_train, y_train)\n",
    "\n",
    "y_pred3 = Bg.predict(X_test)\n",
    "print(classification_report(y_test, y_pred3))"
   ],
   "metadata": {
    "collapsed": false,
    "ExecuteTime": {
     "end_time": "2024-02-25T14:29:32.018768Z",
     "start_time": "2024-02-25T14:29:08.479224Z"
    }
   },
   "id": "beda989b641fae51",
   "execution_count": 69
  },
  {
   "cell_type": "markdown",
   "source": [
    "### RandomForest Classifier"
   ],
   "metadata": {
    "collapsed": false
   },
   "id": "8bff3432bdd41a12"
  },
  {
   "cell_type": "code",
   "outputs": [
    {
     "name": "stdout",
     "output_type": "stream",
     "text": [
      "              precision    recall  f1-score   support\n",
      "\n",
      "         0.0       0.48      0.88      0.62      1083\n",
      "         1.0       0.27      0.04      0.06       620\n",
      "         2.0       0.47      0.23      0.31       758\n",
      "\n",
      "    accuracy                           0.47      2461\n",
      "   macro avg       0.40      0.38      0.33      2461\n",
      "weighted avg       0.42      0.47      0.38      2461\n"
     ]
    }
   ],
   "source": [
    "RF = RandomForestClassifier()\n",
    "RF.fit(X_train, y_train)\n",
    "\n",
    "y_pred3 = RF.predict(X_test)\n",
    "print(classification_report(y_test, y_pred3))"
   ],
   "metadata": {
    "collapsed": false,
    "ExecuteTime": {
     "end_time": "2024-02-25T14:29:45.213984Z",
     "start_time": "2024-02-25T14:29:32.021124Z"
    }
   },
   "id": "d35da0b67117fbff",
   "execution_count": 70
  },
  {
   "cell_type": "markdown",
   "source": [
    "### MLP"
   ],
   "metadata": {
    "collapsed": false
   },
   "id": "8efcf4d1109eb419"
  },
  {
   "cell_type": "code",
   "outputs": [
    {
     "name": "stdout",
     "output_type": "stream",
     "text": [
      "              precision    recall  f1-score   support\n",
      "\n",
      "         0.0       0.51      0.55      0.53      1083\n",
      "         1.0       0.26      0.25      0.25       620\n",
      "         2.0       0.41      0.38      0.40       758\n",
      "\n",
      "    accuracy                           0.42      2461\n",
      "   macro avg       0.39      0.39      0.39      2461\n",
      "weighted avg       0.42      0.42      0.42      2461\n"
     ]
    }
   ],
   "source": [
    "MLP = MLPClassifier(hidden_layer_sizes=(200,100,20,), activation='logistic', solver='adam')\n",
    "MLP.fit(X_train, y_train)\n",
    "\n",
    "y_pred = MLP.predict(X_test)\n",
    "print(classification_report(y_test, y_pred))"
   ],
   "metadata": {
    "collapsed": false,
    "ExecuteTime": {
     "end_time": "2024-02-25T14:41:03.389358Z",
     "start_time": "2024-02-25T14:40:51.376086Z"
    }
   },
   "id": "1f8646c66be9c89f",
   "execution_count": 85
  }
 ],
 "metadata": {
  "kernelspec": {
   "display_name": "Python 3",
   "language": "python",
   "name": "python3"
  },
  "language_info": {
   "codemirror_mode": {
    "name": "ipython",
    "version": 2
   },
   "file_extension": ".py",
   "mimetype": "text/x-python",
   "name": "python",
   "nbconvert_exporter": "python",
   "pygments_lexer": "ipython2",
   "version": "2.7.6"
  }
 },
 "nbformat": 4,
 "nbformat_minor": 5
}
